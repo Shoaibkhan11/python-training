{
 "cells": [
  {
   "cell_type": "markdown",
   "id": "2ec770f5",
   "metadata": {},
   "source": [
    "# Unit - 6"
   ]
  },
  {
   "cell_type": "markdown",
   "id": "2fdb4515",
   "metadata": {},
   "source": [
    "# User Defined Functions"
   ]
  },
  {
   "cell_type": "code",
   "execution_count": 1,
   "id": "cf5dbcf5",
   "metadata": {},
   "outputs": [],
   "source": [
    "def vivek():\n",
    "    print(\" python is a high level programming language\")\n",
    "    print(\"python is important to learn\")\n",
    "    print(\"python is dynamically typed\")\n",
    "  \n",
    "\n",
    "    "
   ]
  },
  {
   "cell_type": "code",
   "execution_count": 2,
   "id": "85a40376",
   "metadata": {},
   "outputs": [
    {
     "name": "stdout",
     "output_type": "stream",
     "text": [
      "7\n",
      " python is a high level programming language\n",
      "python is important to learn\n",
      "python is dynamically typed\n",
      "611\n",
      " python is a high level programming language\n",
      "python is important to learn\n",
      "python is dynamically typed\n"
     ]
    }
   ],
   "source": [
    "a = 5\n",
    "b = 2\n",
    "print(a+b)\n",
    "vivek()\n",
    "m = 15\n",
    "n= 16\n",
    "o=12\n",
    "print((m*n)+(o*m)+(m-n)+(o*n))\n",
    "vivek()"
   ]
  },
  {
   "cell_type": "code",
   "execution_count": null,
   "id": "5d8ea3d0",
   "metadata": {},
   "outputs": [],
   "source": []
  },
  {
   "cell_type": "code",
   "execution_count": 12,
   "id": "092d256f",
   "metadata": {},
   "outputs": [
    {
     "data": {
      "text/plain": [
       "' write a program to make a report of a patient caluclate the BMI, and take input from patient like weight, height, HB  AND DO THS FOR 5 Patients '"
      ]
     },
     "execution_count": 12,
     "metadata": {},
     "output_type": "execute_result"
    }
   ],
   "source": [
    "\"\"\" write a program to make a report of a patient caluclate the BMI, and take input from patient like weight, height, HB  AND DO THS FOR 5 Patients \"\"\"\n"
   ]
  },
  {
   "cell_type": "code",
   "execution_count": null,
   "id": "258e5edc",
   "metadata": {},
   "outputs": [],
   "source": []
  },
  {
   "cell_type": "code",
   "execution_count": null,
   "id": "8ff9d916",
   "metadata": {},
   "outputs": [],
   "source": []
  },
  {
   "cell_type": "code",
   "execution_count": 2,
   "id": "fc483f15",
   "metadata": {},
   "outputs": [],
   "source": [
    "  def dietplan():\n",
    "        print('THIS IS YOUR DEIT PLAN')\n",
    "        print(\"In the breakfast take milk\")\n",
    "        print(\"In the lunch eat some protiens\")\n",
    "        print(\"In the dinner please take some cereals\")\n",
    "        print(\"do regular exercise\")\n",
    "        print(\"morning walks are most recommended\")"
   ]
  },
  {
   "cell_type": "code",
   "execution_count": 3,
   "id": "d9b923a8",
   "metadata": {},
   "outputs": [
    {
     "name": "stdout",
     "output_type": "stream",
     "text": [
      "Enter your weight50\n",
      "Enter your height5\n",
      "Enter your HB12\n",
      "Patient's BMI is 10.0\n",
      "THIS IS YOUR DEIT PLAN\n",
      "In the breakfast take milk\n",
      "In the lunch eat some protiens\n",
      "In the dinner please take some cereals\n",
      "do regular exercise\n",
      "morning walks are most recommended\n",
      "Enter your weight85\n",
      "Enter your height6\n",
      "Enter your HB14\n",
      "Patient's BMI is 14.166666666666666\n",
      "THIS IS YOUR DEIT PLAN\n",
      "In the breakfast take milk\n",
      "In the lunch eat some protiens\n",
      "In the dinner please take some cereals\n",
      "do regular exercise\n",
      "morning walks are most recommended\n",
      "Enter your weight78\n",
      "Enter your height7\n",
      "Enter your HB14\n",
      "Patient's BMI is 11.142857142857142\n",
      "THIS IS YOUR DEIT PLAN\n",
      "In the breakfast take milk\n",
      "In the lunch eat some protiens\n",
      "In the dinner please take some cereals\n",
      "do regular exercise\n",
      "morning walks are most recommended\n",
      "Enter your weight98\n",
      "Enter your height5\n",
      "Enter your HB14\n",
      "Patient's BMI is 19.6\n",
      "THIS IS YOUR DEIT PLAN\n",
      "In the breakfast take milk\n",
      "In the lunch eat some protiens\n",
      "In the dinner please take some cereals\n",
      "do regular exercise\n",
      "morning walks are most recommended\n",
      "Enter your weight78\n",
      "Enter your height25\n",
      "Enter your HB14\n",
      "Patient's BMI is 3.12\n",
      "THIS IS YOUR DEIT PLAN\n",
      "In the breakfast take milk\n",
      "In the lunch eat some protiens\n",
      "In the dinner please take some cereals\n",
      "do regular exercise\n",
      "morning walks are most recommended\n"
     ]
    }
   ],
   "source": [
    "n = 1\n",
    "while n<=5:\n",
    "    \n",
    "    a = int(input(\"Enter your weight\"))\n",
    "    b = int(input(\"Enter your height\"))\n",
    "    c = int(input(\"Enter your HB\"))\n",
    "    BMI = a/b\n",
    "    print(\"Patient's BMI is\", BMI)\n",
    "    dietplan()\n",
    "    n=n+1"
   ]
  },
  {
   "cell_type": "markdown",
   "id": "88217074",
   "metadata": {},
   "source": [
    "# Doc string"
   ]
  },
  {
   "cell_type": "code",
   "execution_count": 6,
   "id": "39cfb324",
   "metadata": {},
   "outputs": [],
   "source": [
    "def learn():\n",
    "    \"\"\" This function does nothing except printing\"\"\"\n",
    "    print(\"Hello i am a student\")\n",
    "    print(\"python is so easy\")"
   ]
  },
  {
   "cell_type": "code",
   "execution_count": 7,
   "id": "f5e949f1",
   "metadata": {},
   "outputs": [
    {
     "name": "stdout",
     "output_type": "stream",
     "text": [
      "Hello i am a student\n",
      "python is so easy\n"
     ]
    }
   ],
   "source": [
    "learn()"
   ]
  },
  {
   "cell_type": "code",
   "execution_count": 8,
   "id": "d4f3edf6",
   "metadata": {},
   "outputs": [],
   "source": [
    "learn?\n"
   ]
  },
  {
   "cell_type": "markdown",
   "id": "26b6796d",
   "metadata": {},
   "source": [
    "# Functions input arguments"
   ]
  },
  {
   "cell_type": "code",
   "execution_count": 4,
   "id": "d153df95",
   "metadata": {},
   "outputs": [],
   "source": [
    "def happy(a):\n",
    "    print(a)\n",
    "    print(type(a))\n",
    "    print(\"We are learning about arguments\")"
   ]
  },
  {
   "cell_type": "code",
   "execution_count": 5,
   "id": "63448d23",
   "metadata": {},
   "outputs": [
    {
     "ename": "TypeError",
     "evalue": "happy() missing 1 required positional argument: 'a'",
     "output_type": "error",
     "traceback": [
      "\u001b[1;31m---------------------------------------------------------------------------\u001b[0m",
      "\u001b[1;31mTypeError\u001b[0m                                 Traceback (most recent call last)",
      "Cell \u001b[1;32mIn[5], line 1\u001b[0m\n\u001b[1;32m----> 1\u001b[0m \u001b[43mhappy\u001b[49m\u001b[43m(\u001b[49m\u001b[43m)\u001b[49m\n",
      "\u001b[1;31mTypeError\u001b[0m: happy() missing 1 required positional argument: 'a'"
     ]
    }
   ],
   "source": [
    "happy()"
   ]
  },
  {
   "cell_type": "code",
   "execution_count": 6,
   "id": "5b5bd90a",
   "metadata": {},
   "outputs": [
    {
     "name": "stdout",
     "output_type": "stream",
     "text": [
      "6\n",
      "<class 'int'>\n",
      "We are learning about arguments\n"
     ]
    }
   ],
   "source": [
    "happy(6)"
   ]
  },
  {
   "cell_type": "code",
   "execution_count": 7,
   "id": "3ccb9749",
   "metadata": {},
   "outputs": [
    {
     "name": "stdout",
     "output_type": "stream",
     "text": [
      "8\n",
      "<class 'int'>\n",
      "We are learning about arguments\n"
     ]
    }
   ],
   "source": [
    "happy(8)"
   ]
  },
  {
   "cell_type": "code",
   "execution_count": 8,
   "id": "531996b7",
   "metadata": {},
   "outputs": [
    {
     "name": "stdout",
     "output_type": "stream",
     "text": [
      "riya\n",
      "<class 'str'>\n",
      "We are learning about arguments\n"
     ]
    }
   ],
   "source": [
    "happy(\"riya\")"
   ]
  },
  {
   "cell_type": "code",
   "execution_count": null,
   "id": "3dcc5d7b",
   "metadata": {},
   "outputs": [],
   "source": []
  },
  {
   "cell_type": "code",
   "execution_count": null,
   "id": "a6460494",
   "metadata": {},
   "outputs": [],
   "source": []
  },
  {
   "cell_type": "code",
   "execution_count": null,
   "id": "3d1554a4",
   "metadata": {},
   "outputs": [],
   "source": []
  },
  {
   "cell_type": "code",
   "execution_count": 9,
   "id": "48e56d3f",
   "metadata": {},
   "outputs": [
    {
     "name": "stdout",
     "output_type": "stream",
     "text": [
      "3.5\n",
      "<class 'float'>\n",
      "We are learning about arguments\n"
     ]
    }
   ],
   "source": [
    "happy(3.5)"
   ]
  },
  {
   "cell_type": "code",
   "execution_count": null,
   "id": "bd837e6a",
   "metadata": {},
   "outputs": [],
   "source": []
  },
  {
   "cell_type": "code",
   "execution_count": 10,
   "id": "75707c98",
   "metadata": {},
   "outputs": [],
   "source": [
    "def happy(a):\n",
    "    print(a)\n",
    "    print(type(a))\n",
    "    print(\"We are learning about arguments\")"
   ]
  },
  {
   "cell_type": "code",
   "execution_count": 11,
   "id": "24a3fa06",
   "metadata": {},
   "outputs": [
    {
     "name": "stdout",
     "output_type": "stream",
     "text": [
      "2.56\n",
      "<class 'float'>\n",
      "We are learning about arguments\n"
     ]
    }
   ],
   "source": [
    "happy(2.56)"
   ]
  },
  {
   "cell_type": "code",
   "execution_count": 12,
   "id": "c22c562e",
   "metadata": {},
   "outputs": [],
   "source": [
    "def happy(a):\n",
    "    print(a)\n",
    "    print(type(a))\n",
    "    print(\"We are learning about arguments\")"
   ]
  },
  {
   "cell_type": "code",
   "execution_count": 13,
   "id": "565345a1",
   "metadata": {},
   "outputs": [
    {
     "name": "stdout",
     "output_type": "stream",
     "text": [
      "(2+3j)\n",
      "<class 'complex'>\n",
      "We are learning about arguments\n"
     ]
    }
   ],
   "source": [
    "happy(2+3j)"
   ]
  },
  {
   "cell_type": "code",
   "execution_count": 14,
   "id": "d4836aca",
   "metadata": {},
   "outputs": [],
   "source": [
    "def happy(a):\n",
    "    print(a)\n",
    "    print(type(a))\n",
    "    print(\"We are learning about arguments\")"
   ]
  },
  {
   "cell_type": "code",
   "execution_count": 15,
   "id": "0be3df93",
   "metadata": {},
   "outputs": [
    {
     "name": "stdout",
     "output_type": "stream",
     "text": [
      "This is a bad day\n",
      "<class 'str'>\n",
      "We are learning about arguments\n"
     ]
    }
   ],
   "source": [
    "happy(\"This is a bad day\")"
   ]
  },
  {
   "cell_type": "code",
   "execution_count": 16,
   "id": "b20d374c",
   "metadata": {},
   "outputs": [],
   "source": [
    "\"\"\" take a string as an input argument and print it \"\"\"\n",
    "def printmessage(msg):\n",
    "    if isinstance(msg,str):\n",
    "        print(msg)\n",
    "    else:\n",
    "        print(\" the input you have given is not string type\")\n",
    "        print(\"the input you have supplied is of the type\", type(msg))"
   ]
  },
  {
   "cell_type": "code",
   "execution_count": 17,
   "id": "7fc3fda9",
   "metadata": {},
   "outputs": [
    {
     "name": "stdout",
     "output_type": "stream",
     "text": [
      " Dear students are you enjoying python?\n"
     ]
    }
   ],
   "source": [
    "printmessage(\" Dear students are you enjoying python?\")"
   ]
  },
  {
   "cell_type": "code",
   "execution_count": 18,
   "id": "9de2e7f0",
   "metadata": {},
   "outputs": [],
   "source": [
    "\"\"\" take a string as an input argument and print it \"\"\"\n",
    "def printmessage(msg):\n",
    "    if isinstance(msg,str):\n",
    "        print(msg)\n",
    "    else:\n",
    "        print(\" the input you have given is not string type\")\n",
    "        print(\"the input you have supplied is of the type\", type(msg))"
   ]
  },
  {
   "cell_type": "code",
   "execution_count": 19,
   "id": "9aceb62a",
   "metadata": {},
   "outputs": [
    {
     "name": "stdout",
     "output_type": "stream",
     "text": [
      " the input you have given is not string type\n",
      "the input you have supplied is of the type <class 'int'>\n"
     ]
    }
   ],
   "source": [
    "printmessage(56)"
   ]
  },
  {
   "cell_type": "code",
   "execution_count": 20,
   "id": "c2b4457e",
   "metadata": {},
   "outputs": [],
   "source": [
    "def mypower(a,b):\n",
    "    c=a**b\n",
    "    print(c)\n",
    "    print(\"2 argumemnts passed in the function\")"
   ]
  },
  {
   "cell_type": "code",
   "execution_count": 21,
   "id": "2fa19f98",
   "metadata": {},
   "outputs": [
    {
     "name": "stdout",
     "output_type": "stream",
     "text": [
      "39.0625\n",
      "2 argumemnts passed in the function\n"
     ]
    }
   ],
   "source": [
    "mypower(2.5,4)"
   ]
  },
  {
   "cell_type": "code",
   "execution_count": 22,
   "id": "b5fe9965",
   "metadata": {},
   "outputs": [
    {
     "name": "stdout",
     "output_type": "stream",
     "text": [
      "16\n",
      "2 argumemnts passed in the function\n"
     ]
    }
   ],
   "source": [
    "mypower(4,2)"
   ]
  },
  {
   "cell_type": "code",
   "execution_count": null,
   "id": "e2cf5866",
   "metadata": {},
   "outputs": [],
   "source": []
  },
  {
   "cell_type": "code",
   "execution_count": 23,
   "id": "b08c99f9",
   "metadata": {},
   "outputs": [
    {
     "name": "stdout",
     "output_type": "stream",
     "text": [
      "43046721\n",
      "2 argumemnts passed in the function\n"
     ]
    }
   ],
   "source": [
    "mypower(9,8)"
   ]
  },
  {
   "cell_type": "code",
   "execution_count": 24,
   "id": "52cfd047",
   "metadata": {},
   "outputs": [],
   "source": [
    "def add(a,b,c,d):\n",
    "    print(a+b+c+d)"
   ]
  },
  {
   "cell_type": "code",
   "execution_count": 25,
   "id": "6f48ac88",
   "metadata": {},
   "outputs": [
    {
     "name": "stdout",
     "output_type": "stream",
     "text": [
      "13\n"
     ]
    }
   ],
   "source": [
    "add(1,2,5,5)"
   ]
  },
  {
   "cell_type": "code",
   "execution_count": 17,
   "id": "8aee342a",
   "metadata": {},
   "outputs": [],
   "source": [
    "def testing(a,b,c):\n",
    "    if isinstance(a,(int,float)) and isinstance(b,(int,float)) and isinstance(c,(int,float)):\n",
    "        #print((a+b+c)**2)\n",
    "        return (a+b+c)**2\n",
    "    "
   ]
  },
  {
   "cell_type": "code",
   "execution_count": 18,
   "id": "2bd8c8bd",
   "metadata": {},
   "outputs": [
    {
     "name": "stdout",
     "output_type": "stream",
     "text": [
      "None\n"
     ]
    }
   ],
   "source": [
    "ans=testing(1,2,3)\n",
    "print(ans)"
   ]
  },
  {
   "cell_type": "code",
   "execution_count": 28,
   "id": "5cd8d7d8",
   "metadata": {},
   "outputs": [],
   "source": [
    "def testing(a,b,c):\n",
    "    if isinstance(a,(int,float)) and isinstance(b,(int,float)) and isinstance(c,(int,float)):\n",
    "        print((a+b+c)**2)\n",
    "    else:\n",
    "        print(\"Not valid\")"
   ]
  },
  {
   "cell_type": "code",
   "execution_count": 29,
   "id": "49a3269b",
   "metadata": {},
   "outputs": [
    {
     "name": "stdout",
     "output_type": "stream",
     "text": [
      "116.64000000000001\n"
     ]
    }
   ],
   "source": [
    "testing(2,3.6,5.2)"
   ]
  },
  {
   "cell_type": "code",
   "execution_count": 30,
   "id": "c56e14ad",
   "metadata": {},
   "outputs": [],
   "source": [
    "def testing(a,b,c):\n",
    "    if isinstance(a,(int,float)) and isinstance(b,(int,float)) and isinstance(c,(int,float)):\n",
    "        print((a+b+c)**2)\n",
    "    else:\n",
    "        print(\"Not valid\")"
   ]
  },
  {
   "cell_type": "code",
   "execution_count": 31,
   "id": "f43a59a7",
   "metadata": {},
   "outputs": [
    {
     "name": "stdout",
     "output_type": "stream",
     "text": [
      "Not valid\n"
     ]
    }
   ],
   "source": [
    "testing(\"hello\",2,3.6)"
   ]
  },
  {
   "cell_type": "code",
   "execution_count": 32,
   "id": "a328738c",
   "metadata": {},
   "outputs": [],
   "source": [
    "def practical(age1,age2,age3,age4):\n",
    "    print(age1+age3)\n",
    "    print(age1+age2)\n",
    "    print(age4)\n",
    "    "
   ]
  },
  {
   "cell_type": "code",
   "execution_count": 33,
   "id": "b63ad9d7",
   "metadata": {},
   "outputs": [
    {
     "name": "stdout",
     "output_type": "stream",
     "text": [
      "27\n",
      "26\n",
      "16\n"
     ]
    }
   ],
   "source": [
    "practical(12,14,15,16)"
   ]
  },
  {
   "cell_type": "code",
   "execution_count": 34,
   "id": "636beb7e",
   "metadata": {},
   "outputs": [
    {
     "name": "stdout",
     "output_type": "stream",
     "text": [
      "7\n",
      "5\n",
      "students\n"
     ]
    }
   ],
   "source": [
    "practical(2,3,5,\"students\")"
   ]
  },
  {
   "cell_type": "markdown",
   "id": "73e5e18c",
   "metadata": {},
   "source": [
    "# order of input arguments"
   ]
  },
  {
   "cell_type": "code",
   "execution_count": 35,
   "id": "d48383fc",
   "metadata": {},
   "outputs": [],
   "source": [
    "def fun(b,a,c):\n",
    "    print(\"A is\", a)\n",
    "    print(\"B is\", b)\n",
    "    print(\"C is\", c)"
   ]
  },
  {
   "cell_type": "code",
   "execution_count": 36,
   "id": "8febae33",
   "metadata": {},
   "outputs": [
    {
     "name": "stdout",
     "output_type": "stream",
     "text": [
      "A is 5\n",
      "B is 4\n",
      "C is 6\n"
     ]
    }
   ],
   "source": [
    "fun(4,5,6)"
   ]
  },
  {
   "cell_type": "markdown",
   "id": "640e0649",
   "metadata": {},
   "source": [
    "# Global and local variables"
   ]
  },
  {
   "cell_type": "code",
   "execution_count": 37,
   "id": "5299b4c3",
   "metadata": {},
   "outputs": [
    {
     "name": "stdout",
     "output_type": "stream",
     "text": [
      "12\n"
     ]
    }
   ],
   "source": [
    "t = 12\n",
    "def myfunc():\n",
    "    g = 5\n",
    "    print(g)\n",
    "    print(\"variables\")\n",
    "print(t)"
   ]
  },
  {
   "cell_type": "code",
   "execution_count": 38,
   "id": "58716c99",
   "metadata": {},
   "outputs": [
    {
     "name": "stdout",
     "output_type": "stream",
     "text": [
      "5\n",
      "variables\n"
     ]
    }
   ],
   "source": [
    "myfunc()"
   ]
  },
  {
   "cell_type": "code",
   "execution_count": 39,
   "id": "19373629",
   "metadata": {},
   "outputs": [
    {
     "name": "stdout",
     "output_type": "stream",
     "text": [
      "12\n"
     ]
    }
   ],
   "source": [
    "print(t)"
   ]
  },
  {
   "cell_type": "code",
   "execution_count": 40,
   "id": "42377191",
   "metadata": {},
   "outputs": [
    {
     "ename": "NameError",
     "evalue": "name 'g' is not defined",
     "output_type": "error",
     "traceback": [
      "\u001b[1;31m---------------------------------------------------------------------------\u001b[0m",
      "\u001b[1;31mNameError\u001b[0m                                 Traceback (most recent call last)",
      "Cell \u001b[1;32mIn[40], line 1\u001b[0m\n\u001b[1;32m----> 1\u001b[0m \u001b[38;5;28mprint\u001b[39m(\u001b[43mg\u001b[49m)\n",
      "\u001b[1;31mNameError\u001b[0m: name 'g' is not defined"
     ]
    }
   ],
   "source": [
    "print(g)"
   ]
  },
  {
   "cell_type": "markdown",
   "id": "41350d51",
   "metadata": {},
   "source": [
    "# Return Statement"
   ]
  },
  {
   "cell_type": "code",
   "execution_count": 41,
   "id": "5d518adf",
   "metadata": {},
   "outputs": [],
   "source": [
    "def demo():\n",
    "    x = (2+3)**2\n",
    "    return x\n",
    "\n"
   ]
  },
  {
   "cell_type": "code",
   "execution_count": 42,
   "id": "519ef307",
   "metadata": {},
   "outputs": [
    {
     "data": {
      "text/plain": [
       "25"
      ]
     },
     "execution_count": 42,
     "metadata": {},
     "output_type": "execute_result"
    }
   ],
   "source": [
    "demo()"
   ]
  },
  {
   "cell_type": "code",
   "execution_count": 1,
   "id": "e785c1c6",
   "metadata": {},
   "outputs": [],
   "source": [
    "def demo1(a):\n",
    "    a = a+2\n",
    "    print(\" we are learning about return statement in python\")\n",
    "    return a"
   ]
  },
  {
   "cell_type": "code",
   "execution_count": 3,
   "id": "782a3606",
   "metadata": {},
   "outputs": [
    {
     "name": "stdout",
     "output_type": "stream",
     "text": [
      " we are learning about return statement in python\n",
      "12\n"
     ]
    }
   ],
   "source": [
    "ans=demo1(10)\n",
    "print(ans)"
   ]
  },
  {
   "cell_type": "code",
   "execution_count": 44,
   "id": "12fed093",
   "metadata": {},
   "outputs": [
    {
     "name": "stdout",
     "output_type": "stream",
     "text": [
      " we are learning about return statement in python\n"
     ]
    },
    {
     "data": {
      "text/plain": [
       "7"
      ]
     },
     "execution_count": 44,
     "metadata": {},
     "output_type": "execute_result"
    }
   ],
   "source": [
    "demo1(5)"
   ]
  },
  {
   "cell_type": "code",
   "execution_count": 45,
   "id": "45380d2f",
   "metadata": {},
   "outputs": [],
   "source": [
    "\"\"\"wrie a program to find out the simple interest\"\"\"\n",
    "def simpleinterest(p,n,r):\n",
    "    si = (p*n*r)/100\n",
    "    print(\"simple interest is Rs\")\n",
    "    return si\n",
    "   "
   ]
  },
  {
   "cell_type": "code",
   "execution_count": 46,
   "id": "3fe89a96",
   "metadata": {},
   "outputs": [
    {
     "name": "stdout",
     "output_type": "stream",
     "text": [
      "simple interest is Rs\n"
     ]
    },
    {
     "data": {
      "text/plain": [
       "1400.0"
      ]
     },
     "execution_count": 46,
     "metadata": {},
     "output_type": "execute_result"
    }
   ],
   "source": [
    "simpleinterest(10000,2,7)"
   ]
  },
  {
   "cell_type": "markdown",
   "id": "a89df6cc",
   "metadata": {},
   "source": [
    "# Variable number of input arguments"
   ]
  },
  {
   "cell_type": "code",
   "execution_count": 47,
   "id": "b6229c17",
   "metadata": {},
   "outputs": [],
   "source": [
    "def argfunc(*args):\n",
    "    s = 0\n",
    "    for i in range(len(args)):\n",
    "        s = s+args[i]\n",
    "    print(s)"
   ]
  },
  {
   "cell_type": "code",
   "execution_count": 48,
   "id": "1fabe966",
   "metadata": {},
   "outputs": [
    {
     "name": "stdout",
     "output_type": "stream",
     "text": [
      "10\n"
     ]
    }
   ],
   "source": [
    "argfunc(2,5,3)"
   ]
  },
  {
   "cell_type": "code",
   "execution_count": 49,
   "id": "4eb59988",
   "metadata": {},
   "outputs": [
    {
     "name": "stdout",
     "output_type": "stream",
     "text": [
      "85.6\n"
     ]
    }
   ],
   "source": [
    "argfunc(1,2,3,5.6,74)"
   ]
  },
  {
   "cell_type": "code",
   "execution_count": 50,
   "id": "711b206a",
   "metadata": {},
   "outputs": [
    {
     "name": "stdout",
     "output_type": "stream",
     "text": [
      "55\n"
     ]
    }
   ],
   "source": [
    "argfunc(1,2,3,4,5,6,7,8,9,10)"
   ]
  },
  {
   "cell_type": "code",
   "execution_count": 51,
   "id": "8895cf02",
   "metadata": {},
   "outputs": [],
   "source": [
    "def argfunc(*args):\n",
    "    s = 0\n",
    "    for i in range(len(args)):\n",
    "        s = s+args[i]\n",
    "    print(s)"
   ]
  },
  {
   "cell_type": "code",
   "execution_count": 52,
   "id": "8c5dade8",
   "metadata": {},
   "outputs": [
    {
     "name": "stdout",
     "output_type": "stream",
     "text": [
      "262\n"
     ]
    }
   ],
   "source": [
    "argfunc(12,14,12,48,76,2,3,-9,-25,96,3,7,-9,32)"
   ]
  },
  {
   "cell_type": "code",
   "execution_count": 53,
   "id": "be2a0c7e",
   "metadata": {},
   "outputs": [],
   "source": [
    "def argfunc(*args):\n",
    "    s = 0\n",
    "    for i in range(len(args)):\n",
    "        s = s+args[i]\n",
    "    print(s)"
   ]
  },
  {
   "cell_type": "code",
   "execution_count": 3,
   "id": "b8f3e42d",
   "metadata": {},
   "outputs": [],
   "source": [
    "def argfunc(*args):\n",
    "    s = 0\n",
    "    for i in args:\n",
    "        s = s+i#s+=i#s=i+s\n",
    "    print(s)"
   ]
  },
  {
   "cell_type": "code",
   "execution_count": 4,
   "id": "90c060c8",
   "metadata": {},
   "outputs": [
    {
     "name": "stdout",
     "output_type": "stream",
     "text": [
      "230.814\n"
     ]
    }
   ],
   "source": [
    "argfunc(14,5.69,78,12.36,8.45,2.314,78,32)"
   ]
  },
  {
   "cell_type": "code",
   "execution_count": 6,
   "id": "870f8a6d",
   "metadata": {},
   "outputs": [],
   "source": [
    "def practical(**kwargs):\n",
    "    for x in kwargs:\n",
    "        print(x, kwargs[x])\n",
    "        print(type(x))\n",
    "        print(type(kwargs[x]))"
   ]
  },
  {
   "cell_type": "code",
   "execution_count": 7,
   "id": "83be16d9",
   "metadata": {},
   "outputs": [
    {
     "name": "stdout",
     "output_type": "stream",
     "text": [
      "a lion\n",
      "<class 'str'>\n",
      "<class 'str'>\n",
      "b 2.3\n",
      "<class 'str'>\n",
      "<class 'float'>\n",
      "c 24\n",
      "<class 'str'>\n",
      "<class 'int'>\n",
      "d hii\n",
      "<class 'str'>\n",
      "<class 'str'>\n",
      "e yes\n",
      "<class 'str'>\n",
      "<class 'str'>\n"
     ]
    }
   ],
   "source": [
    "practical(a = \"lion\", b= 2.3, c =24,d='hii',e=\"yes\")"
   ]
  },
  {
   "cell_type": "markdown",
   "id": "59dcb1dc",
   "metadata": {},
   "source": [
    "# Generator Function"
   ]
  },
  {
   "cell_type": "code",
   "execution_count": 1,
   "id": "965b5eb2",
   "metadata": {},
   "outputs": [],
   "source": [
    "def test_fib(n):\n",
    "    a =0\n",
    "    b=1\n",
    "    for i in range(n):\n",
    "        yield a\n",
    "        a, b = b, a+b"
   ]
  },
  {
   "cell_type": "code",
   "execution_count": null,
   "id": "dbd427f1",
   "metadata": {},
   "outputs": [],
   "source": [
    "0 1 1 2 3 5 8 13\n",
    "temp=b\n",
    "b=a+b\n",
    "a=temp"
   ]
  },
  {
   "cell_type": "code",
   "execution_count": 3,
   "id": "04f838c8",
   "metadata": {},
   "outputs": [],
   "source": [
    "a=test_fib(10)"
   ]
  },
  {
   "cell_type": "code",
   "execution_count": 4,
   "id": "be885064",
   "metadata": {},
   "outputs": [
    {
     "name": "stdout",
     "output_type": "stream",
     "text": [
      "0\n",
      "1\n",
      "1\n",
      "2\n",
      "3\n",
      "5\n",
      "8\n",
      "13\n",
      "21\n",
      "34\n"
     ]
    }
   ],
   "source": [
    "for i in a:\n",
    "    print(i)"
   ]
  },
  {
   "cell_type": "code",
   "execution_count": null,
   "id": "4d1b72b3",
   "metadata": {},
   "outputs": [],
   "source": [
    "n=5\n",
    "0\n",
    "1\n",
    "1\n",
    "2\n",
    "3"
   ]
  },
  {
   "cell_type": "code",
   "execution_count": 2,
   "id": "f5230d2f",
   "metadata": {},
   "outputs": [
    {
     "data": {
      "text/plain": [
       "<generator object test_fib at 0x0000019F5D24F5A0>"
      ]
     },
     "execution_count": 2,
     "metadata": {},
     "output_type": "execute_result"
    }
   ],
   "source": [
    "test_fib(100)"
   ]
  },
  {
   "cell_type": "code",
   "execution_count": 5,
   "id": "f0e3392f",
   "metadata": {},
   "outputs": [
    {
     "name": "stdout",
     "output_type": "stream",
     "text": [
      "0\n",
      "1\n",
      "1\n",
      "2\n",
      "3\n",
      "5\n",
      "8\n",
      "13\n",
      "21\n",
      "34\n",
      "55\n",
      "89\n",
      "144\n",
      "233\n",
      "377\n",
      "610\n",
      "987\n"
     ]
    }
   ],
   "source": [
    "for i in test_fib(1000):\n",
    "    if i >=1000:\n",
    "        break\n",
    "    print(i)"
   ]
  },
  {
   "cell_type": "code",
   "execution_count": null,
   "id": "924d9628",
   "metadata": {},
   "outputs": [],
   "source": [
    "w"
   ]
  },
  {
   "cell_type": "code",
   "execution_count": null,
   "id": "183a4eb4",
   "metadata": {},
   "outputs": [],
   "source": []
  },
  {
   "cell_type": "code",
   "execution_count": null,
   "id": "04d85b31",
   "metadata": {},
   "outputs": [],
   "source": []
  },
  {
   "cell_type": "code",
   "execution_count": 5,
   "id": "308a189a",
   "metadata": {},
   "outputs": [
    {
     "ename": "TypeError",
     "evalue": "'generator' object is not subscriptable",
     "output_type": "error",
     "traceback": [
      "\u001b[1;31m---------------------------------------------------------------------------\u001b[0m",
      "\u001b[1;31mTypeError\u001b[0m                                 Traceback (most recent call last)",
      "Cell \u001b[1;32mIn[5], line 4\u001b[0m\n\u001b[0;32m      2\u001b[0m \u001b[38;5;28;01mwhile\u001b[39;00m i \u001b[38;5;241m<\u001b[39m\u001b[38;5;241m5\u001b[39m:\n\u001b[0;32m      3\u001b[0m     i\u001b[38;5;241m+\u001b[39m\u001b[38;5;241m=\u001b[39m\u001b[38;5;241m1\u001b[39m\n\u001b[1;32m----> 4\u001b[0m     \u001b[43mtest_fib\u001b[49m\u001b[43m(\u001b[49m\u001b[38;5;241;43m100\u001b[39;49m\u001b[43m)\u001b[49m\u001b[43m[\u001b[49m\u001b[43mi\u001b[49m\u001b[43m]\u001b[49m\n",
      "\u001b[1;31mTypeError\u001b[0m: 'generator' object is not subscriptable"
     ]
    }
   ],
   "source": [
    "i=0\n",
    "while i <5:\n",
    "    i+=1\n",
    "    test_fib(100)[i]"
   ]
  },
  {
   "cell_type": "code",
   "execution_count": null,
   "id": "d72e809f",
   "metadata": {},
   "outputs": [],
   "source": [
    "def fib(n):"
   ]
  },
  {
   "cell_type": "code",
   "execution_count": 3,
   "id": "c14603fa",
   "metadata": {},
   "outputs": [
    {
     "name": "stdout",
     "output_type": "stream",
     "text": [
      "0\n",
      "1\n",
      "1\n",
      "2\n",
      "3\n",
      "5\n",
      "8\n",
      "13\n",
      "21\n",
      "34\n",
      "55\n",
      "89\n",
      "144\n",
      "233\n",
      "377\n",
      "610\n",
      "987\n",
      "1597\n"
     ]
    }
   ],
   "source": [
    "for i in test_fib(1000):\n",
    "    print(i)\n",
    "    if i>1000:\n",
    "        break"
   ]
  },
  {
   "cell_type": "code",
   "execution_count": 10,
   "id": "80455913",
   "metadata": {},
   "outputs": [],
   "source": [
    "def fact(n):\n",
    "    sum=1\n",
    "    for i in range(1,n):\n",
    "        yield sum\n",
    "        sum=sum*i"
   ]
  },
  {
   "cell_type": "code",
   "execution_count": 11,
   "id": "05e243bc",
   "metadata": {},
   "outputs": [
    {
     "data": {
      "text/plain": [
       "<generator object fact at 0x000001739A1A0510>"
      ]
     },
     "execution_count": 11,
     "metadata": {},
     "output_type": "execute_result"
    }
   ],
   "source": [
    "fact(100)"
   ]
  },
  {
   "cell_type": "code",
   "execution_count": 13,
   "id": "64813445",
   "metadata": {},
   "outputs": [
    {
     "name": "stdout",
     "output_type": "stream",
     "text": [
      "100\n",
      "100\n",
      "100\n",
      "100\n",
      "100\n",
      "100\n",
      "100\n",
      "100\n",
      "100\n",
      "100\n",
      "100\n",
      "100\n",
      "100\n",
      "100\n",
      "100\n",
      "100\n",
      "100\n",
      "100\n",
      "100\n",
      "100\n",
      "100\n",
      "100\n",
      "100\n",
      "100\n",
      "100\n",
      "100\n",
      "100\n",
      "100\n",
      "100\n",
      "100\n",
      "100\n",
      "100\n",
      "100\n",
      "100\n",
      "100\n",
      "100\n",
      "100\n",
      "100\n",
      "100\n",
      "100\n",
      "100\n",
      "100\n",
      "100\n",
      "100\n",
      "100\n",
      "100\n",
      "100\n",
      "100\n",
      "100\n",
      "100\n",
      "100\n",
      "100\n",
      "100\n",
      "100\n",
      "100\n",
      "100\n",
      "100\n",
      "100\n",
      "100\n",
      "100\n",
      "100\n",
      "100\n",
      "100\n",
      "100\n",
      "100\n",
      "100\n",
      "100\n",
      "100\n",
      "100\n",
      "100\n",
      "100\n",
      "100\n",
      "100\n",
      "100\n",
      "100\n",
      "100\n",
      "100\n",
      "100\n",
      "100\n",
      "100\n",
      "100\n",
      "100\n",
      "100\n",
      "100\n",
      "100\n",
      "100\n",
      "100\n",
      "100\n",
      "100\n",
      "100\n",
      "100\n",
      "100\n",
      "100\n",
      "100\n",
      "100\n",
      "100\n",
      "100\n",
      "100\n",
      "100\n",
      "100\n",
      "100\n",
      "100\n",
      "100\n",
      "100\n",
      "100\n",
      "100\n",
      "100\n",
      "100\n",
      "100\n",
      "100\n",
      "100\n",
      "100\n",
      "100\n",
      "100\n",
      "100\n",
      "100\n",
      "100\n",
      "100\n",
      "100\n",
      "100\n",
      "100\n",
      "100\n",
      "100\n",
      "100\n",
      "100\n",
      "100\n",
      "100\n",
      "100\n",
      "100\n",
      "100\n",
      "100\n",
      "100\n",
      "100\n",
      "100\n",
      "100\n",
      "100\n",
      "100\n",
      "100\n",
      "100\n",
      "100\n",
      "100\n",
      "100\n",
      "100\n",
      "100\n",
      "100\n",
      "100\n",
      "100\n",
      "100\n",
      "100\n"
     ]
    }
   ],
   "source": [
    "for i in fact(150):\n",
    "    if i >1000000:\n",
    "        print(i)\n",
    "    print(i)"
   ]
  },
  {
   "cell_type": "markdown",
   "id": "6294a40c",
   "metadata": {},
   "source": [
    "# Lambda Function"
   ]
  },
  {
   "cell_type": "code",
   "execution_count": 60,
   "id": "f3232815",
   "metadata": {},
   "outputs": [],
   "source": [
    "n = 3\n",
    "p = 2"
   ]
  },
  {
   "cell_type": "code",
   "execution_count": 61,
   "id": "59cd8912",
   "metadata": {},
   "outputs": [],
   "source": [
    "def test(n,p):\n",
    "    return n**p\n"
   ]
  },
  {
   "cell_type": "code",
   "execution_count": 62,
   "id": "cff2714f",
   "metadata": {},
   "outputs": [
    {
     "data": {
      "text/plain": [
       "9"
      ]
     },
     "execution_count": 62,
     "metadata": {},
     "output_type": "execute_result"
    }
   ],
   "source": [
    "test(3,2)"
   ]
  },
  {
   "cell_type": "code",
   "execution_count": 63,
   "id": "300c74ab",
   "metadata": {},
   "outputs": [],
   "source": [
    "a = lambda n,p: n**p"
   ]
  },
  {
   "cell_type": "code",
   "execution_count": 64,
   "id": "25531d38",
   "metadata": {},
   "outputs": [
    {
     "data": {
      "text/plain": [
       "9"
      ]
     },
     "execution_count": 64,
     "metadata": {},
     "output_type": "execute_result"
    }
   ],
   "source": [
    "a(3,2)"
   ]
  },
  {
   "cell_type": "code",
   "execution_count": 65,
   "id": "8433ba2c",
   "metadata": {},
   "outputs": [],
   "source": [
    "add = lambda x,y:x+y\n"
   ]
  },
  {
   "cell_type": "code",
   "execution_count": 66,
   "id": "102ed22e",
   "metadata": {},
   "outputs": [
    {
     "data": {
      "text/plain": [
       "5"
      ]
     },
     "execution_count": 66,
     "metadata": {},
     "output_type": "execute_result"
    }
   ],
   "source": [
    "add(2,3)"
   ]
  },
  {
   "cell_type": "code",
   "execution_count": 69,
   "id": "64f3b203",
   "metadata": {},
   "outputs": [],
   "source": [
    "\"\"\" convert degree celcius in F\"\"\"\n",
    "\n",
    "V = lambda c: (9/5)*c+32"
   ]
  },
  {
   "cell_type": "code",
   "execution_count": 71,
   "id": "caabf6e2",
   "metadata": {},
   "outputs": [
    {
     "data": {
      "text/plain": [
       "48.2"
      ]
     },
     "execution_count": 71,
     "metadata": {},
     "output_type": "execute_result"
    }
   ],
   "source": [
    "V(9)"
   ]
  },
  {
   "cell_type": "code",
   "execution_count": null,
   "id": "d17cdb16",
   "metadata": {},
   "outputs": [],
   "source": []
  }
 ],
 "metadata": {
  "kernelspec": {
   "display_name": "Python 3 (ipykernel)",
   "language": "python",
   "name": "python3"
  },
  "language_info": {
   "codemirror_mode": {
    "name": "ipython",
    "version": 3
   },
   "file_extension": ".py",
   "mimetype": "text/x-python",
   "name": "python",
   "nbconvert_exporter": "python",
   "pygments_lexer": "ipython3",
   "version": "3.12.3"
  }
 },
 "nbformat": 4,
 "nbformat_minor": 5
}
