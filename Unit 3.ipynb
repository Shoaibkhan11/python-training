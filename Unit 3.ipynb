{
 "cells": [
  {
   "cell_type": "markdown",
   "id": "011d0c92",
   "metadata": {},
   "source": [
    "# Round function"
   ]
  },
  {
   "cell_type": "code",
   "execution_count": 1,
   "id": "8e2ad7d8",
   "metadata": {},
   "outputs": [
    {
     "data": {
      "text/plain": [
       "4.25"
      ]
     },
     "execution_count": 1,
     "metadata": {},
     "output_type": "execute_result"
    }
   ],
   "source": [
    "a = 4.2456\n",
    "round(a,2)"
   ]
  },
  {
   "cell_type": "code",
   "execution_count": 3,
   "id": "78968a83",
   "metadata": {},
   "outputs": [
    {
     "name": "stdout",
     "output_type": "stream",
     "text": [
      "13\n"
     ]
    }
   ],
   "source": [
    "a = 12.6\n",
    "print(round(a))"
   ]
  },
  {
   "cell_type": "code",
   "execution_count": 3,
   "id": "2e6009da",
   "metadata": {},
   "outputs": [
    {
     "name": "stdout",
     "output_type": "stream",
     "text": [
      "12.4566\n"
     ]
    }
   ],
   "source": [
    "a = 12.456622\n",
    "print(round(a,4))"
   ]
  },
  {
   "cell_type": "code",
   "execution_count": 4,
   "id": "60ae9e17",
   "metadata": {},
   "outputs": [
    {
     "data": {
      "text/plain": [
       "14.457"
      ]
     },
     "execution_count": 4,
     "metadata": {},
     "output_type": "execute_result"
    }
   ],
   "source": [
    "a = 14.45678\n",
    "round(a,3)\n"
   ]
  },
  {
   "cell_type": "code",
   "execution_count": 5,
   "id": "376e56f2",
   "metadata": {},
   "outputs": [
    {
     "data": {
      "text/plain": [
       "14.4568"
      ]
     },
     "execution_count": 5,
     "metadata": {},
     "output_type": "execute_result"
    }
   ],
   "source": [
    "round(a,4)"
   ]
  },
  {
   "cell_type": "code",
   "execution_count": 6,
   "id": "571bc394",
   "metadata": {},
   "outputs": [
    {
     "name": "stdout",
     "output_type": "stream",
     "text": [
      "1478.78945\n"
     ]
    }
   ],
   "source": [
    "print(round(1478.789451236, 5))"
   ]
  },
  {
   "cell_type": "code",
   "execution_count": 9,
   "id": "4cb14363",
   "metadata": {},
   "outputs": [
    {
     "name": "stdout",
     "output_type": "stream",
     "text": [
      "689\n"
     ]
    }
   ],
   "source": [
    "\"\"\" Mohan buys 3 tablets cost of tablet 1 is rs 45.67, cost of tablet 2 in rs 68.967, cost of tablet 3 is rs 574.784. find out how much price mohan will pay and round off it\"\"\"\n",
    "\n",
    "tablet_one = 45.67\n",
    "tablet_two = 68.967\n",
    "tablet_three = 574.784\n",
    "print(round(tablet_one+tablet_two+tablet_three))\n"
   ]
  },
  {
   "cell_type": "code",
   "execution_count": 12,
   "id": "ad922074",
   "metadata": {},
   "outputs": [
    {
     "name": "stdout",
     "output_type": "stream",
     "text": [
      "689\n"
     ]
    }
   ],
   "source": [
    "tablet_1 = 45.67\n",
    "tablet_2 = 68.967\n",
    "tablet_3 = 574.784\n",
    "print(round(tablet_1+tablet_2+tablet_3))"
   ]
  },
  {
   "cell_type": "code",
   "execution_count": 10,
   "id": "cd4e4cfd",
   "metadata": {},
   "outputs": [
    {
     "data": {
      "text/plain": [
       "789.15"
      ]
     },
     "execution_count": 10,
     "metadata": {},
     "output_type": "execute_result"
    }
   ],
   "source": [
    "round( 789.1456, 2)"
   ]
  },
  {
   "cell_type": "markdown",
   "id": "e49f6adb",
   "metadata": {},
   "source": [
    "# div mod function"
   ]
  },
  {
   "cell_type": "code",
   "execution_count": 1,
   "id": "58cc5dde",
   "metadata": {},
   "outputs": [
    {
     "name": "stdout",
     "output_type": "stream",
     "text": [
      "(3, 4)\n",
      "<class 'tuple'>\n"
     ]
    }
   ],
   "source": [
    "a = divmod(25,7)\n",
    "print(a)\n",
    "print(type(a))"
   ]
  },
  {
   "cell_type": "code",
   "execution_count": 1,
   "id": "7a76068a",
   "metadata": {},
   "outputs": [
    {
     "name": "stdout",
     "output_type": "stream",
     "text": [
      "12\n"
     ]
    }
   ],
   "source": [
    "a = (10,11,12,13,14)\n",
    "print(a[2])"
   ]
  },
  {
   "cell_type": "code",
   "execution_count": 5,
   "id": "51f112ab",
   "metadata": {},
   "outputs": [
    {
     "name": "stdout",
     "output_type": "stream",
     "text": [
      "(1, 2)\n"
     ]
    }
   ],
   "source": [
    "a = divmod(7,5)\n",
    "print(a)"
   ]
  },
  {
   "cell_type": "code",
   "execution_count": 3,
   "id": "84881b64",
   "metadata": {},
   "outputs": [
    {
     "data": {
      "text/plain": [
       "tuple"
      ]
     },
     "execution_count": 3,
     "metadata": {},
     "output_type": "execute_result"
    }
   ],
   "source": [
    "type(a)"
   ]
  },
  {
   "cell_type": "code",
   "execution_count": 4,
   "id": "4417c520",
   "metadata": {},
   "outputs": [
    {
     "name": "stdout",
     "output_type": "stream",
     "text": [
      "3\n"
     ]
    }
   ],
   "source": [
    "a[0]\n",
    "print(a[0])"
   ]
  },
  {
   "cell_type": "code",
   "execution_count": 5,
   "id": "77fc14fc",
   "metadata": {},
   "outputs": [
    {
     "name": "stdout",
     "output_type": "stream",
     "text": [
      "4\n"
     ]
    }
   ],
   "source": [
    "a[1]\n",
    "print(a[1])"
   ]
  },
  {
   "cell_type": "code",
   "execution_count": 7,
   "id": "fa7864cc",
   "metadata": {},
   "outputs": [
    {
     "name": "stdout",
     "output_type": "stream",
     "text": [
      "3\n"
     ]
    }
   ],
   "source": [
    "print(a[-2])"
   ]
  },
  {
   "cell_type": "code",
   "execution_count": 15,
   "id": "96120a49",
   "metadata": {},
   "outputs": [
    {
     "data": {
      "text/plain": [
       "3"
      ]
     },
     "execution_count": 15,
     "metadata": {},
     "output_type": "execute_result"
    }
   ],
   "source": [
    "25//7"
   ]
  },
  {
   "cell_type": "code",
   "execution_count": 17,
   "id": "c72475c4",
   "metadata": {},
   "outputs": [
    {
     "data": {
      "text/plain": [
       "4"
      ]
     },
     "execution_count": 17,
     "metadata": {},
     "output_type": "execute_result"
    }
   ],
   "source": [
    "25%7"
   ]
  },
  {
   "cell_type": "code",
   "execution_count": 19,
   "id": "16e65d87",
   "metadata": {},
   "outputs": [
    {
     "name": "stdout",
     "output_type": "stream",
     "text": [
      "(41.0, 0.45600000000000307)\n"
     ]
    }
   ],
   "source": [
    "a = divmod(123.456,3)\n",
    "print(a)"
   ]
  },
  {
   "cell_type": "code",
   "execution_count": 20,
   "id": "63e21387",
   "metadata": {},
   "outputs": [
    {
     "name": "stdout",
     "output_type": "stream",
     "text": [
      "(2735, 39914)\n"
     ]
    }
   ],
   "source": [
    "print(divmod(123456789, 45125))"
   ]
  },
  {
   "cell_type": "code",
   "execution_count": 22,
   "id": "6fd7a456",
   "metadata": {},
   "outputs": [
    {
     "name": "stdout",
     "output_type": "stream",
     "text": [
      "(12.0, 4.788999999999987) (11.0, 5.788999999999987) (10.0, 8.788999999999987) (9.0, 13.788999999999987)\n"
     ]
    }
   ],
   "source": [
    "\"\"\" divide the numbe 148.789 by 12,13,14 and 15 separtely, and their quotient , remainder add \"\"\"\n",
    "a = divmod(148.789,12)\n",
    "b = divmod(148.789, 13)\n",
    "c = divmod(148.789,14)\n",
    "d = divmod(148.789,15)\n",
    "print(a,b,c,d)\n"
   ]
  },
  {
   "cell_type": "code",
   "execution_count": 23,
   "id": "47055e66",
   "metadata": {},
   "outputs": [
    {
     "name": "stdout",
     "output_type": "stream",
     "text": [
      "sum of quotients are: 42.0\n",
      "sum of remainders are: 33.15599999999995\n"
     ]
    }
   ],
   "source": [
    "q = a[0] + b[0] + c[0] +d[0]\n",
    "print(\"sum of quotients are:\", q)\n",
    "r = a[1] + b[1] + c[1] + d[1]\n",
    "print(\"sum of remainders are:\", r)"
   ]
  },
  {
   "cell_type": "code",
   "execution_count": 24,
   "id": "37022512",
   "metadata": {},
   "outputs": [
    {
     "data": {
      "text/plain": [
       "33"
      ]
     },
     "execution_count": 24,
     "metadata": {},
     "output_type": "execute_result"
    }
   ],
   "source": [
    "round(r)"
   ]
  },
  {
   "cell_type": "markdown",
   "id": "f4aef1a4",
   "metadata": {},
   "source": [
    "# isinsatnce function"
   ]
  },
  {
   "cell_type": "markdown",
   "id": "5c8ec75c",
   "metadata": {},
   "source": [
    "# isinstance Function"
   ]
  },
  {
   "cell_type": "code",
   "execution_count": 2,
   "id": "fb1ed580",
   "metadata": {},
   "outputs": [
    {
     "data": {
      "text/plain": [
       "True"
      ]
     },
     "execution_count": 2,
     "metadata": {},
     "output_type": "execute_result"
    }
   ],
   "source": [
    "isinstance(3.2,float)"
   ]
  },
  {
   "cell_type": "code",
   "execution_count": 1,
   "id": "bcb870de",
   "metadata": {},
   "outputs": [
    {
     "data": {
      "text/plain": [
       "False"
      ]
     },
     "execution_count": 1,
     "metadata": {},
     "output_type": "execute_result"
    }
   ],
   "source": [
    "isinstance(3,complex)"
   ]
  },
  {
   "cell_type": "code",
   "execution_count": 6,
   "id": "17762606",
   "metadata": {},
   "outputs": [
    {
     "data": {
      "text/plain": [
       "False"
      ]
     },
     "execution_count": 6,
     "metadata": {},
     "output_type": "execute_result"
    }
   ],
   "source": [
    "isinstance(3.0,int)"
   ]
  },
  {
   "cell_type": "code",
   "execution_count": 7,
   "id": "5cb956ad",
   "metadata": {},
   "outputs": [
    {
     "data": {
      "text/plain": [
       "True"
      ]
     },
     "execution_count": 7,
     "metadata": {},
     "output_type": "execute_result"
    }
   ],
   "source": [
    "isinstance(3.0,(int,float))"
   ]
  },
  {
   "cell_type": "code",
   "execution_count": 4,
   "id": "c3cf2851",
   "metadata": {},
   "outputs": [
    {
     "name": "stdout",
     "output_type": "stream",
     "text": [
      "True\n"
     ]
    }
   ],
   "source": [
    "print(isinstance(\"python is amazing\", (int,float,str)))"
   ]
  },
  {
   "cell_type": "code",
   "execution_count": 10,
   "id": "2f7668ec",
   "metadata": {},
   "outputs": [
    {
     "data": {
      "text/plain": [
       "True"
      ]
     },
     "execution_count": 10,
     "metadata": {},
     "output_type": "execute_result"
    }
   ],
   "source": [
    "isinstance(2+3j, ( int, float,complex))"
   ]
  },
  {
   "cell_type": "code",
   "execution_count": 11,
   "id": "d2c5fa3e",
   "metadata": {},
   "outputs": [
    {
     "data": {
      "text/plain": [
       "False"
      ]
     },
     "execution_count": 11,
     "metadata": {},
     "output_type": "execute_result"
    }
   ],
   "source": [
    "isinstance( 3.45, ( int,complex))"
   ]
  },
  {
   "cell_type": "code",
   "execution_count": 12,
   "id": "7eac31cc",
   "metadata": {},
   "outputs": [
    {
     "data": {
      "text/plain": [
       "True"
      ]
     },
     "execution_count": 12,
     "metadata": {},
     "output_type": "execute_result"
    }
   ],
   "source": [
    "isinstance(3.78,(float,int,complex))"
   ]
  },
  {
   "cell_type": "markdown",
   "id": "aff0676f",
   "metadata": {},
   "source": [
    "# pow function"
   ]
  },
  {
   "cell_type": "code",
   "execution_count": 19,
   "id": "1721015a",
   "metadata": {},
   "outputs": [
    {
     "data": {
      "text/plain": [
       "16"
      ]
     },
     "execution_count": 19,
     "metadata": {},
     "output_type": "execute_result"
    }
   ],
   "source": [
    "pow(2,4)"
   ]
  },
  {
   "cell_type": "code",
   "execution_count": 20,
   "id": "f3de6a7d",
   "metadata": {},
   "outputs": [
    {
     "data": {
      "text/plain": [
       "16"
      ]
     },
     "execution_count": 20,
     "metadata": {},
     "output_type": "execute_result"
    }
   ],
   "source": [
    "2**4"
   ]
  },
  {
   "cell_type": "code",
   "execution_count": 21,
   "id": "faf6c28f",
   "metadata": {},
   "outputs": [
    {
     "data": {
      "text/plain": [
       "892433931724899592133340503925107044376202040970794580884598711678709679913526717581436810411421589606106863357126712799072265625"
      ]
     },
     "execution_count": 21,
     "metadata": {},
     "output_type": "execute_result"
    }
   ],
   "source": [
    "pow(45,78)"
   ]
  },
  {
   "cell_type": "code",
   "execution_count": 22,
   "id": "e89fbc69",
   "metadata": {},
   "outputs": [
    {
     "data": {
      "text/plain": [
       "104.85760000000002"
      ]
     },
     "execution_count": 22,
     "metadata": {},
     "output_type": "execute_result"
    }
   ],
   "source": [
    "pow(3.2, 4)"
   ]
  },
  {
   "cell_type": "code",
   "execution_count": 23,
   "id": "d8301adf",
   "metadata": {},
   "outputs": [
    {
     "data": {
      "text/plain": [
       "(-5+12j)"
      ]
     },
     "execution_count": 23,
     "metadata": {},
     "output_type": "execute_result"
    }
   ],
   "source": [
    "pow(2+3j,2)"
   ]
  },
  {
   "cell_type": "code",
   "execution_count": 24,
   "id": "5200bb48",
   "metadata": {},
   "outputs": [
    {
     "data": {
      "text/plain": [
       "(-5+12j)"
      ]
     },
     "execution_count": 24,
     "metadata": {},
     "output_type": "execute_result"
    }
   ],
   "source": [
    "(2+3j)**2"
   ]
  },
  {
   "cell_type": "code",
   "execution_count": 25,
   "id": "7f460b14",
   "metadata": {},
   "outputs": [
    {
     "data": {
      "text/plain": [
       "2"
      ]
     },
     "execution_count": 25,
     "metadata": {},
     "output_type": "execute_result"
    }
   ],
   "source": [
    "pow(2,4,7)"
   ]
  },
  {
   "cell_type": "code",
   "execution_count": 26,
   "id": "406581db",
   "metadata": {},
   "outputs": [
    {
     "data": {
      "text/plain": [
       "1"
      ]
     },
     "execution_count": 26,
     "metadata": {},
     "output_type": "execute_result"
    }
   ],
   "source": [
    "pow(3,4,5)"
   ]
  },
  {
   "cell_type": "code",
   "execution_count": 27,
   "id": "1a0b5c48",
   "metadata": {},
   "outputs": [
    {
     "name": "stdout",
     "output_type": "stream",
     "text": [
      "2 6 4 5\n"
     ]
    }
   ],
   "source": [
    "\"\"\" 24 raise to the power 2,3,4,5 and divide it by 7 find the remainder in each case\"\"\"\n",
    "a = pow(24,2,7)\n",
    "b = pow(24,3,7)\n",
    "c = pow(24,4,7)\n",
    "d = pow(24,5,7)\n",
    "print(a,b,c,d)"
   ]
  },
  {
   "cell_type": "code",
   "execution_count": 29,
   "id": "d84412e6",
   "metadata": {},
   "outputs": [
    {
     "name": "stdout",
     "output_type": "stream",
     "text": [
      "47\n"
     ]
    }
   ],
   "source": [
    "\"\"\" 63 raise to the power 45 and divide it by 52 find the remainder\"\"\"\n",
    "a = pow(63,45,52)\n",
    "print(a)"
   ]
  },
  {
   "cell_type": "markdown",
   "id": "4da0c311",
   "metadata": {},
   "source": [
    "# input function , int function and float function"
   ]
  },
  {
   "cell_type": "code",
   "execution_count": 27,
   "id": "fb9e8188",
   "metadata": {},
   "outputs": [
    {
     "name": "stdout",
     "output_type": "stream",
     "text": [
      "Enter the value5.2\n"
     ]
    }
   ],
   "source": [
    "x = float(input(\"Enter the value\"))"
   ]
  },
  {
   "cell_type": "code",
   "execution_count": 28,
   "id": "119116ee",
   "metadata": {},
   "outputs": [
    {
     "name": "stdout",
     "output_type": "stream",
     "text": [
      "5.2\n"
     ]
    }
   ],
   "source": [
    "print(x)\n"
   ]
  },
  {
   "cell_type": "code",
   "execution_count": 29,
   "id": "0d3f3733",
   "metadata": {},
   "outputs": [
    {
     "name": "stdout",
     "output_type": "stream",
     "text": [
      "<class 'float'>\n"
     ]
    }
   ],
   "source": [
    "print(type(x))"
   ]
  },
  {
   "cell_type": "code",
   "execution_count": 14,
   "id": "6b5eb15c",
   "metadata": {},
   "outputs": [
    {
     "name": "stdout",
     "output_type": "stream",
     "text": [
      "enter the value5.2\n"
     ]
    }
   ],
   "source": [
    "x = float(input(\"enter the value\"))"
   ]
  },
  {
   "cell_type": "code",
   "execution_count": 13,
   "id": "32e22b1a",
   "metadata": {},
   "outputs": [
    {
     "name": "stdout",
     "output_type": "stream",
     "text": [
      "<class 'float'>\n"
     ]
    }
   ],
   "source": [
    "print(type(x))"
   ]
  },
  {
   "cell_type": "code",
   "execution_count": 10,
   "id": "1abf09a5",
   "metadata": {},
   "outputs": [],
   "source": [
    "x = int(x)"
   ]
  },
  {
   "cell_type": "code",
   "execution_count": 11,
   "id": "8e9c1cd2",
   "metadata": {},
   "outputs": [
    {
     "name": "stdout",
     "output_type": "stream",
     "text": [
      "25\n",
      "<class 'int'>\n"
     ]
    }
   ],
   "source": [
    "print(x)\n",
    "print(type(x))"
   ]
  },
  {
   "cell_type": "code",
   "execution_count": 45,
   "id": "fc8c271f",
   "metadata": {},
   "outputs": [
    {
     "name": "stdout",
     "output_type": "stream",
     "text": [
      "24\n",
      "66\n"
     ]
    }
   ],
   "source": [
    "print(x-21)\n",
    "print(x+21)"
   ]
  },
  {
   "cell_type": "code",
   "execution_count": 13,
   "id": "606841e7",
   "metadata": {},
   "outputs": [
    {
     "name": "stdout",
     "output_type": "stream",
     "text": [
      " Hello user, please enter your value 57.6\n"
     ]
    }
   ],
   "source": [
    "a = input(\" Hello user, please enter your value \")"
   ]
  },
  {
   "cell_type": "code",
   "execution_count": 14,
   "id": "dba2c75e",
   "metadata": {},
   "outputs": [
    {
     "name": "stdout",
     "output_type": "stream",
     "text": [
      "57.6\n",
      "<class 'str'>\n"
     ]
    }
   ],
   "source": [
    "print(a)\n",
    "print(type(a))"
   ]
  },
  {
   "cell_type": "code",
   "execution_count": 17,
   "id": "2b0c99c1",
   "metadata": {},
   "outputs": [],
   "source": [
    "a = float(a)"
   ]
  },
  {
   "cell_type": "code",
   "execution_count": 18,
   "id": "a559c097",
   "metadata": {},
   "outputs": [
    {
     "name": "stdout",
     "output_type": "stream",
     "text": [
      "57.6\n",
      "<class 'float'>\n"
     ]
    }
   ],
   "source": [
    "print(a)\n",
    "print(type(a))"
   ]
  },
  {
   "cell_type": "code",
   "execution_count": 19,
   "id": "ef9156d9",
   "metadata": {},
   "outputs": [
    {
     "name": "stdout",
     "output_type": "stream",
     "text": [
      "56.4\n",
      "115.2\n"
     ]
    }
   ],
   "source": [
    "print(a-1.2)\n",
    "print(a*2)"
   ]
  },
  {
   "cell_type": "code",
   "execution_count": 15,
   "id": "efff8b37",
   "metadata": {},
   "outputs": [
    {
     "name": "stdout",
     "output_type": "stream",
     "text": [
      "Enter the marks of maths80\n",
      "Enter the marks of science75\n",
      "Enter the marks of social65\n",
      "Enter the marks of English45\n",
      "Enter the marks of Hindi20\n"
     ]
    }
   ],
   "source": [
    "\"\"\" Lets make a result of the student, ask the user to enter the marks of eng, hin,maths, science and social, and find out the percent of the student\"\"\"\n",
    "a = input(\"Enter the marks of maths\")\n",
    "b = input(\"Enter the marks of science\")\n",
    "c = input(\"Enter the marks of social\")\n",
    "d = input(\"Enter the marks of English\")\n",
    "e = input(\"Enter the marks of Hindi\")"
   ]
  },
  {
   "cell_type": "code",
   "execution_count": 19,
   "id": "dc508acf",
   "metadata": {},
   "outputs": [
    {
     "name": "stdout",
     "output_type": "stream",
     "text": [
      "285.0\n"
     ]
    }
   ],
   "source": [
    "a = float(a)\n",
    "b = float(b)\n",
    "c = float(c)\n",
    "d = float(d)\n",
    "e = float(e)\n",
    "print(a+b+c+d+e)"
   ]
  },
  {
   "cell_type": "code",
   "execution_count": 20,
   "id": "656d5760",
   "metadata": {},
   "outputs": [
    {
     "name": "stdout",
     "output_type": "stream",
     "text": [
      "56.99999999999999\n"
     ]
    }
   ],
   "source": [
    "print((285/500)*100)"
   ]
  },
  {
   "cell_type": "markdown",
   "id": "37dd38ff",
   "metadata": {},
   "source": [
    "# Len function"
   ]
  },
  {
   "cell_type": "code",
   "execution_count": 67,
   "id": "3350b74f",
   "metadata": {},
   "outputs": [
    {
     "name": "stdout",
     "output_type": "stream",
     "text": [
      "I am learning python\n"
     ]
    }
   ],
   "source": [
    "a = \"I am learning python\"\n",
    "print(a)"
   ]
  },
  {
   "cell_type": "code",
   "execution_count": null,
   "id": "bd912a75",
   "metadata": {},
   "outputs": [],
   "source": []
  },
  {
   "cell_type": "code",
   "execution_count": 69,
   "id": "60e12170",
   "metadata": {},
   "outputs": [
    {
     "name": "stdout",
     "output_type": "stream",
     "text": [
      "20\n"
     ]
    }
   ],
   "source": [
    "print(len(a))"
   ]
  },
  {
   "cell_type": "code",
   "execution_count": 70,
   "id": "27dfb98b",
   "metadata": {},
   "outputs": [
    {
     "name": "stdout",
     "output_type": "stream",
     "text": [
      "python is a high level programmming language and it is very easy to learn\n"
     ]
    }
   ],
   "source": [
    "x = \"python is a high level programmming language\"\n",
    "y = \" and it is very easy to learn\"\n",
    "print(x + y )"
   ]
  },
  {
   "cell_type": "code",
   "execution_count": 71,
   "id": "bf271483",
   "metadata": {},
   "outputs": [
    {
     "name": "stdout",
     "output_type": "stream",
     "text": [
      "73\n"
     ]
    }
   ],
   "source": [
    "print(len(x + y ))"
   ]
  },
  {
   "cell_type": "code",
   "execution_count": 72,
   "id": "b4171447",
   "metadata": {},
   "outputs": [
    {
     "data": {
      "text/plain": [
       "9"
      ]
     },
     "execution_count": 72,
     "metadata": {},
     "output_type": "execute_result"
    }
   ],
   "source": [
    "L = [12,17,45,96,521,45,78,23,851]\n",
    "len(L)"
   ]
  },
  {
   "cell_type": "code",
   "execution_count": 74,
   "id": "d3b1b138",
   "metadata": {},
   "outputs": [
    {
     "ename": "TypeError",
     "evalue": "object of type 'float' has no len()",
     "output_type": "error",
     "traceback": [
      "\u001b[1;31m---------------------------------------------------------------------------\u001b[0m",
      "\u001b[1;31mTypeError\u001b[0m                                 Traceback (most recent call last)",
      "\u001b[1;32m~\\AppData\\Local\\Temp\\ipykernel_3776\\1147848720.py\u001b[0m in \u001b[0;36m<module>\u001b[1;34m\u001b[0m\n\u001b[0;32m      1\u001b[0m \u001b[0mA\u001b[0m \u001b[1;33m=\u001b[0m \u001b[1;36m12345.456\u001b[0m\u001b[1;33m\u001b[0m\u001b[1;33m\u001b[0m\u001b[0m\n\u001b[1;32m----> 2\u001b[1;33m \u001b[0mlen\u001b[0m\u001b[1;33m(\u001b[0m\u001b[0mA\u001b[0m\u001b[1;33m)\u001b[0m\u001b[1;33m\u001b[0m\u001b[1;33m\u001b[0m\u001b[0m\n\u001b[0m",
      "\u001b[1;31mTypeError\u001b[0m: object of type 'float' has no len()"
     ]
    }
   ],
   "source": [
    "A = 12345.456\n",
    "len(A)"
   ]
  },
  {
   "cell_type": "markdown",
   "id": "c6430eee",
   "metadata": {},
   "source": [
    "# min and max function"
   ]
  },
  {
   "cell_type": "code",
   "execution_count": 75,
   "id": "c51b1903",
   "metadata": {},
   "outputs": [
    {
     "data": {
      "text/plain": [
       "-78"
      ]
     },
     "execution_count": 75,
     "metadata": {},
     "output_type": "execute_result"
    }
   ],
   "source": [
    "L = [45,12,41,-6,85,12,-78]\n",
    "min(L)"
   ]
  },
  {
   "cell_type": "code",
   "execution_count": 76,
   "id": "9065d9fc",
   "metadata": {},
   "outputs": [
    {
     "data": {
      "text/plain": [
       "85"
      ]
     },
     "execution_count": 76,
     "metadata": {},
     "output_type": "execute_result"
    }
   ],
   "source": [
    "max(L)"
   ]
  },
  {
   "cell_type": "code",
   "execution_count": 77,
   "id": "2c5b14eb",
   "metadata": {},
   "outputs": [
    {
     "name": "stdout",
     "output_type": "stream",
     "text": [
      "Enter 1st value12\n",
      " Enter 2nd Value2.35\n",
      "Enter 3rd value-4\n",
      "Enter 4th value51\n",
      "Enter 5th value-47\n"
     ]
    }
   ],
   "source": [
    "\"\"\" Ask the user to enter 5 values and find the minimum and the maximum values \"\"\"\n",
    "a = input(\"Enter 1st value\")\n",
    "b = input(\" Enter 2nd Value\")\n",
    "c= input(\"Enter 3rd value\")\n",
    "d= input(\"Enter 4th value\")\n",
    "e= input(\"Enter 5th value\")"
   ]
  },
  {
   "cell_type": "code",
   "execution_count": 78,
   "id": "a714603b",
   "metadata": {},
   "outputs": [
    {
     "name": "stdout",
     "output_type": "stream",
     "text": [
      "Values given by user 12 2.35 -4 51 -47\n",
      "The minimum value is -47\n",
      " the maximum value is : 51\n"
     ]
    }
   ],
   "source": [
    "a = int(a)\n",
    "b = float(b)\n",
    "c = int(c)\n",
    "d = int(d)\n",
    "e = int(e)\n",
    "print(\"Values given by user\", a,b,c,d,e)\n",
    "print(\"The minimum value is\", min(a,b,c,d,e))\n",
    "print(\" the maximum value is :\", max(a,b,c,d,e))"
   ]
  },
  {
   "cell_type": "markdown",
   "id": "0a2a7ed7",
   "metadata": {},
   "source": [
    "# Sorted function "
   ]
  },
  {
   "cell_type": "code",
   "execution_count": 2,
   "id": "4a15654a",
   "metadata": {},
   "outputs": [
    {
     "data": {
      "text/plain": [
       "[-45, -9, 0, 5, 12, 23, 58, 63, 74, 96]"
      ]
     },
     "execution_count": 2,
     "metadata": {},
     "output_type": "execute_result"
    }
   ],
   "source": [
    "L = [12,74,23,-9,-45,58,96,0,5,63]\n",
    "sorted(L)"
   ]
  },
  {
   "cell_type": "code",
   "execution_count": 7,
   "id": "6912c3ed",
   "metadata": {},
   "outputs": [
    {
     "data": {
      "text/plain": [
       "[96, 74, 63, 58, 23, 12, 5, 0, -9, -45]"
      ]
     },
     "execution_count": 7,
     "metadata": {},
     "output_type": "execute_result"
    }
   ],
   "source": [
    "sorted(L, reverse = True)"
   ]
  },
  {
   "cell_type": "code",
   "execution_count": 90,
   "id": "72e7124c",
   "metadata": {},
   "outputs": [
    {
     "name": "stdout",
     "output_type": "stream",
     "text": [
      " Enter 1st value124\n",
      " Enter 2nd value12.56\n",
      " Enter 3rd value-5\n",
      " Enter 4th value26\n",
      " Enter 5th value-94\n"
     ]
    }
   ],
   "source": [
    "\"\"\" take 5 values from the user and arrange them in ascending and descending order\"\"\"\n",
    "a = input(\" Enter 1st value\")\n",
    "b = input(\" Enter 2nd value\")\n",
    "c = input(\" Enter 3rd value\")\n",
    "d = input(\" Enter 4th value\")\n",
    "e = input(\" Enter 5th value\")"
   ]
  },
  {
   "cell_type": "code",
   "execution_count": 91,
   "id": "2626faa5",
   "metadata": {},
   "outputs": [
    {
     "name": "stdout",
     "output_type": "stream",
     "text": [
      "124 12.56 -5 26 -94\n"
     ]
    }
   ],
   "source": [
    "a = int(a)\n",
    "b = float(b)\n",
    "c = int(c)\n",
    "d = int(d)\n",
    "e = int(e)\n",
    "print(a,b,c,d,e)"
   ]
  },
  {
   "cell_type": "code",
   "execution_count": 92,
   "id": "470451c7",
   "metadata": {},
   "outputs": [
    {
     "name": "stdout",
     "output_type": "stream",
     "text": [
      "[-94, -5, 12.56, 26, 124]\n"
     ]
    }
   ],
   "source": [
    "x = (a,b,c,d,e)\n",
    "print(sorted(x))"
   ]
  },
  {
   "cell_type": "code",
   "execution_count": 93,
   "id": "f7af72f6",
   "metadata": {},
   "outputs": [
    {
     "name": "stdout",
     "output_type": "stream",
     "text": [
      "[124, 26, 12.56, -5, -94]\n"
     ]
    }
   ],
   "source": [
    "print(sorted(x, reverse= True))"
   ]
  },
  {
   "cell_type": "markdown",
   "id": "5c2f6a6e",
   "metadata": {},
   "source": [
    "# how to use any function in python"
   ]
  },
  {
   "cell_type": "code",
   "execution_count": 1,
   "id": "023e85ab",
   "metadata": {},
   "outputs": [],
   "source": [
    "pow?"
   ]
  },
  {
   "cell_type": "code",
   "execution_count": 22,
   "id": "8010e284",
   "metadata": {
    "scrolled": true
   },
   "outputs": [
    {
     "name": "stdout",
     "output_type": "stream",
     "text": [
      "Help on built-in function divmod in module builtins:\n",
      "\n",
      "divmod(x, y, /)\n",
      "    Return the tuple (x//y, x%y).  Invariant: div*y + mod == x.\n",
      "\n"
     ]
    }
   ],
   "source": [
    "help(divmod)"
   ]
  },
  {
   "cell_type": "code",
   "execution_count": 96,
   "id": "569e43d8",
   "metadata": {},
   "outputs": [],
   "source": [
    "divmod?"
   ]
  },
  {
   "cell_type": "code",
   "execution_count": 97,
   "id": "6fa17188",
   "metadata": {},
   "outputs": [],
   "source": [
    "divmod??"
   ]
  },
  {
   "cell_type": "code",
   "execution_count": 98,
   "id": "24db0ef6",
   "metadata": {},
   "outputs": [],
   "source": [
    "max??"
   ]
  },
  {
   "cell_type": "code",
   "execution_count": 1,
   "id": "6dfd5fa3",
   "metadata": {},
   "outputs": [],
   "source": [
    "min??"
   ]
  },
  {
   "cell_type": "code",
   "execution_count": null,
   "id": "31f09fbd",
   "metadata": {},
   "outputs": [],
   "source": []
  }
 ],
 "metadata": {
  "kernelspec": {
   "display_name": "Python 3 (ipykernel)",
   "language": "python",
   "name": "python3"
  },
  "language_info": {
   "codemirror_mode": {
    "name": "ipython",
    "version": 3
   },
   "file_extension": ".py",
   "mimetype": "text/x-python",
   "name": "python",
   "nbconvert_exporter": "python",
   "pygments_lexer": "ipython3",
   "version": "3.10.9"
  }
 },
 "nbformat": 4,
 "nbformat_minor": 5
}
