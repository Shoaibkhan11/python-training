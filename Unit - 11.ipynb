{
 "cells": [
  {
   "cell_type": "markdown",
   "id": "614f128d",
   "metadata": {},
   "source": [
    "# Unit - 11"
   ]
  },
  {
   "cell_type": "markdown",
   "id": "a33d8a7a",
   "metadata": {},
   "source": [
    "# Dictionary in python"
   ]
  },
  {
   "cell_type": "code",
   "execution_count": 2,
   "id": "a91c7ab1",
   "metadata": {},
   "outputs": [
    {
     "name": "stdout",
     "output_type": "stream",
     "text": [
      "{'colour': 'red', 'year': 1997, 'sports': 'cricket'}\n",
      "<class 'dict'>\n"
     ]
    }
   ],
   "source": [
    "a = { \"colour\" :\"red\",\n",
    "       \"year\" : 1997, \n",
    "        \"sports\" : \"cricket\"}\n",
    "print(a)\n",
    "print(type(a))"
   ]
  },
  {
   "cell_type": "code",
   "execution_count": 3,
   "id": "e80d4607",
   "metadata": {},
   "outputs": [
    {
     "name": "stdout",
     "output_type": "stream",
     "text": [
      "1997\n",
      "<class 'dict'>\n"
     ]
    }
   ],
   "source": [
    "a = { \"colour\" :\"red\",\n",
    "       \"year\" : 1997, \n",
    "        \"sports\" : \"cricket\"}\n",
    "print(a[\"year\"])\n",
    "print(type(a))"
   ]
  },
  {
   "cell_type": "markdown",
   "id": "c27874d8",
   "metadata": {},
   "source": [
    "# duplicates not allowed"
   ]
  },
  {
   "cell_type": "code",
   "execution_count": 4,
   "id": "a428d858",
   "metadata": {},
   "outputs": [
    {
     "name": "stdout",
     "output_type": "stream",
     "text": [
      "{'colour': 'red', 'year': 1997, 'sports': 'tennis'}\n",
      "<class 'dict'>\n"
     ]
    }
   ],
   "source": [
    "a = { \"colour\" :\"red\",\n",
    "       \"year\" : 1997, \n",
    "        \"sports\" : \"cricket\",\n",
    "         \"sports\" :\"football\",\n",
    "           \"sports\" : \"tennis\"}\n",
    "print(a)\n",
    "print(type(a)) "
   ]
  },
  {
   "cell_type": "code",
   "execution_count": 9,
   "id": "0c160c83",
   "metadata": {},
   "outputs": [
    {
     "name": "stdout",
     "output_type": "stream",
     "text": [
      "{'colour': 'red', 'year': 1997, 'sports': 'tennis'}\n",
      "<class 'dict'>\n"
     ]
    }
   ],
   "source": [
    "a = { \"colour\" :\"red\",\n",
    "       \"year\" : 1997, \n",
    "         \"sports\" :\"basket ball\",\n",
    "        \"sports\" : \"cricket\",\n",
    "         \"sports\" :\"football\",\n",
    "           \"sports\" : \"tennis\"\n",
    "            }\n",
    "print(a)\n",
    "print(type(a)) "
   ]
  },
  {
   "cell_type": "markdown",
   "id": "76868345",
   "metadata": {},
   "source": [
    "# dictonary length"
   ]
  },
  {
   "cell_type": "code",
   "execution_count": 1,
   "id": "7cbe4ba3",
   "metadata": {},
   "outputs": [
    {
     "name": "stdout",
     "output_type": "stream",
     "text": [
      "4\n"
     ]
    }
   ],
   "source": [
    "d = { \"apple\": \"fruit\", \"red\":\"colour\" , \"north\":\"direction\", 2:\"code\"}\n",
    "print(len(d))"
   ]
  },
  {
   "cell_type": "markdown",
   "id": "ca247fcc",
   "metadata": {},
   "source": [
    "# dictionary item - data types"
   ]
  },
  {
   "cell_type": "code",
   "execution_count": 2,
   "id": "3c8a7e25",
   "metadata": {},
   "outputs": [
    {
     "name": "stdout",
     "output_type": "stream",
     "text": [
      "{'colour': 'red', 12: 14, 2: 56.3, 'apple': [1, 2, 3], 3: (-1, -2, -3), 'boy': {2, 4, 6}}\n",
      "<class 'dict'>\n"
     ]
    }
   ],
   "source": [
    "a = { \"colour\":\"red\", 12:14, 2:56.3, \"apple\":[1,2,3], 3:(-1,-2,-3), \"boy\":{2,4,6}}\n",
    "print(a)\n",
    "print(type(a))"
   ]
  },
  {
   "cell_type": "markdown",
   "id": "188236ac",
   "metadata": {},
   "source": [
    "# dict() constructor"
   ]
  },
  {
   "cell_type": "code",
   "execution_count": 3,
   "id": "2d1c63a8",
   "metadata": {},
   "outputs": [
    {
     "name": "stdout",
     "output_type": "stream",
     "text": [
      "{'name': 'priya', 'age': 24, 'gender': 'female'}\n",
      "<class 'dict'>\n"
     ]
    }
   ],
   "source": [
    "n = dict( name = \"priya\", age = 24, gender = \"female\")\n",
    "print(n)\n",
    "print(type(n))"
   ]
  },
  {
   "cell_type": "markdown",
   "id": "fd795742",
   "metadata": {},
   "source": [
    "# accessing items\n",
    "you can access the items of a dictionary by refering to its key name inside the square bracket"
   ]
  },
  {
   "cell_type": "code",
   "execution_count": 4,
   "id": "7caa3ec0",
   "metadata": {},
   "outputs": [
    {
     "name": "stdout",
     "output_type": "stream",
     "text": [
      "{1: 'apple', 2: 'boy', 3: 'cat'}\n",
      "boy\n",
      "cat\n"
     ]
    }
   ],
   "source": [
    "n = { 1:\"apple\", 2:\"boy\", 3:\"cat\"}\n",
    "print(n)\n",
    "print(n[2])\n",
    "print(n[3])"
   ]
  },
  {
   "cell_type": "markdown",
   "id": "b7919e14",
   "metadata": {},
   "source": [
    "# get() method"
   ]
  },
  {
   "cell_type": "code",
   "execution_count": 5,
   "id": "01ceb5ea",
   "metadata": {},
   "outputs": [
    {
     "name": "stdout",
     "output_type": "stream",
     "text": [
      "boy\n"
     ]
    }
   ],
   "source": [
    "n = { 1:\"apple\", 2:\"boy\", 3:\"cat\"}\n",
    "x = n.get(2)\n",
    "print(x)"
   ]
  },
  {
   "cell_type": "markdown",
   "id": "b6a8c9e9",
   "metadata": {},
   "source": [
    "# keys()"
   ]
  },
  {
   "cell_type": "code",
   "execution_count": 7,
   "id": "16a71df5",
   "metadata": {},
   "outputs": [
    {
     "name": "stdout",
     "output_type": "stream",
     "text": [
      "dict_keys(['apple', 25, 26.3, 'python'])\n"
     ]
    }
   ],
   "source": [
    "m ={\"apple\":12, 25:\"hello\", 26.3:\"cat\", \"python\":-12}\n",
    "x = m.keys()\n",
    "\n",
    "print(x)"
   ]
  },
  {
   "cell_type": "code",
   "execution_count": 8,
   "id": "e3d9f419",
   "metadata": {},
   "outputs": [
    {
     "name": "stdout",
     "output_type": "stream",
     "text": [
      "dict_keys(['apple', 25, 26.3, 'python'])\n"
     ]
    }
   ],
   "source": [
    "m ={\"apple\":12, 25:\"hello\", 26.3:\"cat\", \"python\":-12}\n",
    "print(m.keys())\n",
    "\n"
   ]
  },
  {
   "cell_type": "markdown",
   "id": "e353166c",
   "metadata": {},
   "source": [
    "# values()"
   ]
  },
  {
   "cell_type": "code",
   "execution_count": 10,
   "id": "fe0c2161",
   "metadata": {},
   "outputs": [
    {
     "name": "stdout",
     "output_type": "stream",
     "text": [
      "dict_values([12, 'hello', 'cat', -12])\n",
      "<class 'dict_values'>\n"
     ]
    }
   ],
   "source": [
    "m ={\"apple\":12, 25:\"hello\", 26.3:\"cat\", \"python\":-12}\n",
    "x = m.values()\n",
    "print(x)\n",
    "print(type(x))"
   ]
  },
  {
   "cell_type": "code",
   "execution_count": 11,
   "id": "93516c47",
   "metadata": {},
   "outputs": [
    {
     "name": "stdout",
     "output_type": "stream",
     "text": [
      "dict_values([12, 'hello', 'cat', -12])\n"
     ]
    }
   ],
   "source": [
    "m ={\"apple\":12, 25:\"hello\", 26.3:\"cat\", \"python\":-12}\n",
    "print(m.values())\n"
   ]
  },
  {
   "cell_type": "markdown",
   "id": "5849f727",
   "metadata": {},
   "source": [
    "# items()"
   ]
  },
  {
   "cell_type": "code",
   "execution_count": 4,
   "id": "08f46681",
   "metadata": {},
   "outputs": [
    {
     "name": "stdout",
     "output_type": "stream",
     "text": [
      "dict_items([('apple', 12), (25, 'hello'), (26.3, 'cat'), ('python', -12)])\n",
      "<class 'dict_items'>\n"
     ]
    }
   ],
   "source": [
    "m ={\"apple\":12, 25:\"hello\", 26.3:\"cat\", \"python\":-12}\n",
    "x = m.items()\n",
    "print(x)\n",
    "print(type(x))"
   ]
  },
  {
   "cell_type": "code",
   "execution_count": 1,
   "id": "84bcd083",
   "metadata": {},
   "outputs": [
    {
     "ename": "TypeError",
     "evalue": "'dict_items' object is not subscriptable",
     "output_type": "error",
     "traceback": [
      "\u001b[1;31m---------------------------------------------------------------------------\u001b[0m",
      "\u001b[1;31mTypeError\u001b[0m                                 Traceback (most recent call last)",
      "Cell \u001b[1;32mIn[1], line 3\u001b[0m\n\u001b[0;32m      1\u001b[0m m \u001b[38;5;241m=\u001b[39m{\u001b[38;5;124m\"\u001b[39m\u001b[38;5;124mapple\u001b[39m\u001b[38;5;124m\"\u001b[39m:\u001b[38;5;241m12\u001b[39m, \u001b[38;5;241m25\u001b[39m:\u001b[38;5;124m\"\u001b[39m\u001b[38;5;124mhello\u001b[39m\u001b[38;5;124m\"\u001b[39m, \u001b[38;5;241m26.3\u001b[39m:\u001b[38;5;124m\"\u001b[39m\u001b[38;5;124mcat\u001b[39m\u001b[38;5;124m\"\u001b[39m, \u001b[38;5;124m\"\u001b[39m\u001b[38;5;124mpython\u001b[39m\u001b[38;5;124m\"\u001b[39m:\u001b[38;5;241m-\u001b[39m\u001b[38;5;241m12\u001b[39m}\n\u001b[0;32m      2\u001b[0m x \u001b[38;5;241m=\u001b[39m m\u001b[38;5;241m.\u001b[39mitems()\n\u001b[1;32m----> 3\u001b[0m \u001b[38;5;28mprint\u001b[39m(\u001b[43mx\u001b[49m\u001b[43m[\u001b[49m\u001b[38;5;241;43m2\u001b[39;49m\u001b[43m]\u001b[49m)\n\u001b[0;32m      4\u001b[0m \u001b[38;5;28mprint\u001b[39m(\u001b[38;5;28mtype\u001b[39m(x))\n",
      "\u001b[1;31mTypeError\u001b[0m: 'dict_items' object is not subscriptable"
     ]
    }
   ],
   "source": [
    "m ={\"apple\":12, 25:\"hello\", 26.3:\"cat\", \"python\":-12}\n",
    "x = m.items()\n",
    "print(x)\n",
    "print(type(x))\n"
   ]
  },
  {
   "cell_type": "markdown",
   "id": "0591425e",
   "metadata": {},
   "source": [
    "# check if key exist"
   ]
  },
  {
   "cell_type": "code",
   "execution_count": 15,
   "id": "1d3bd00a",
   "metadata": {},
   "outputs": [
    {
     "name": "stdout",
     "output_type": "stream",
     "text": [
      "yes\n"
     ]
    }
   ],
   "source": [
    "m ={\"apple\":12, 25:\"hello\", 26.3:\"cat\", \"python\":-12}\n",
    "if 25 in m:\n",
    "    print(\"yes\")"
   ]
  },
  {
   "cell_type": "code",
   "execution_count": 18,
   "id": "938c82c0",
   "metadata": {},
   "outputs": [
    {
     "name": "stdout",
     "output_type": "stream",
     "text": [
      "no\n"
     ]
    }
   ],
   "source": [
    "m ={\"apple\":12, 25:\"hello\", 26.3:\"cat\", \"python\":-12}\n",
    "if \"boy\" in m:\n",
    "    print(\"yes\")\n",
    "else:\n",
    "    print(\"no\")"
   ]
  },
  {
   "cell_type": "markdown",
   "id": "dc059b5e",
   "metadata": {},
   "source": [
    "# change values"
   ]
  },
  {
   "cell_type": "code",
   "execution_count": 19,
   "id": "acc29013",
   "metadata": {},
   "outputs": [
    {
     "name": "stdout",
     "output_type": "stream",
     "text": [
      "{10: 'hello', 11: 'world', 9: ['a', 'b', 'c']}\n"
     ]
    }
   ],
   "source": [
    "b = {10:\"hello\", 11:\"world\", 9:[12,13,14]}\n",
    "b[9] = [\"a\", \"b\", \"c\"]\n",
    "print(b)"
   ]
  },
  {
   "cell_type": "markdown",
   "id": "b521c463",
   "metadata": {},
   "source": [
    "# update() "
   ]
  },
  {
   "cell_type": "code",
   "execution_count": 20,
   "id": "984d9b25",
   "metadata": {},
   "outputs": [
    {
     "name": "stdout",
     "output_type": "stream",
     "text": [
      "{10: 'hello', 11: 'world', 9: ['a', 'b', 'c']}\n"
     ]
    }
   ],
   "source": [
    "b = {10:\"hello\", 11:\"world\", 9:[12,13,14]}\n",
    "b.update({9:[\"a\",\"b\",\"c\"]})\n",
    "print(b)"
   ]
  },
  {
   "cell_type": "code",
   "execution_count": 21,
   "id": "d460bbb8",
   "metadata": {},
   "outputs": [
    {
     "name": "stdout",
     "output_type": "stream",
     "text": [
      "{1: 'apple', 2: (45, 46, 47), 3: 'cat', 4: 'datascience'}\n"
     ]
    }
   ],
   "source": [
    "a = {1:\"apple\",2:\"boy\", 3:\"cat\", 4:\"datascience\"}\n",
    "a.update({2:(45,46,47)})\n",
    "print(a)"
   ]
  },
  {
   "cell_type": "markdown",
   "id": "a367425d",
   "metadata": {},
   "source": [
    "# adding items"
   ]
  },
  {
   "cell_type": "code",
   "execution_count": 22,
   "id": "aec017e4",
   "metadata": {},
   "outputs": [
    {
     "name": "stdout",
     "output_type": "stream",
     "text": [
      "{'colour': 'red', 'country': 'Inida', 'year': [2023, 2024, 2025], 'fruit': 'apple'}\n"
     ]
    }
   ],
   "source": [
    "p = {\"colour\":\"red\", \"country\":\"Inida\", \"year\":[2023,2024,2025]}\n",
    "p[\"fruit\"] = \"apple\"\n",
    "print(p)"
   ]
  },
  {
   "cell_type": "code",
   "execution_count": 24,
   "id": "2aa7ea4e",
   "metadata": {},
   "outputs": [
    {
     "name": "stdout",
     "output_type": "stream",
     "text": [
      "{'colour': 'red', 'country': 'Inida', 'year': [2023, 2024, 2025], 'fruit': 'apple'}\n",
      "{'colour': 'red', 'country': 'Inida', 'year': [2023, 2024, 2025], 'fruit': 'apple', 9: 'python is so easy'}\n"
     ]
    }
   ],
   "source": [
    "p = {\"colour\":\"red\", \"country\":\"Inida\", \"year\":[2023,2024,2025]}\n",
    "p[\"fruit\"] = \"apple\"\n",
    "print(p)\n",
    "p[9]=\"python is so easy\"\n",
    "print(p)"
   ]
  },
  {
   "cell_type": "markdown",
   "id": "cc20a265",
   "metadata": {},
   "source": [
    "# update dictionary"
   ]
  },
  {
   "cell_type": "code",
   "execution_count": 27,
   "id": "bed9ba29",
   "metadata": {},
   "outputs": [
    {
     "name": "stdout",
     "output_type": "stream",
     "text": [
      "{'colour': 'red', 'country': 'Bharat', 'year': [2023, 2024, 2025]}\n",
      "{'colour': 'red', 'country': 'Bharat', 'year': [2023, 2024, 2025], 'capital': 'New delhi'}\n"
     ]
    }
   ],
   "source": [
    "p = {\"colour\":\"red\", \"country\":\"India\", \"year\":[2023,2024,2025]}\n",
    "p.update({\"country\":\"Bharat\"})\n",
    "print(p)\n",
    "p.update({\"capital\":\"New delhi\"})\n",
    "print(p)"
   ]
  },
  {
   "cell_type": "markdown",
   "id": "ab72799e",
   "metadata": {},
   "source": [
    "# removing items"
   ]
  },
  {
   "cell_type": "markdown",
   "id": "ea483d41",
   "metadata": {},
   "source": [
    "# pop() method"
   ]
  },
  {
   "cell_type": "code",
   "execution_count": 3,
   "id": "353108e1",
   "metadata": {},
   "outputs": [
    {
     "name": "stdout",
     "output_type": "stream",
     "text": [
      "{10: 'hello', 13: (1, 2, 3)}\n"
     ]
    }
   ],
   "source": [
    "a = { 10:\"hello\", 12:\"program\" , 13:(1,2,3)}\n",
    "a.pop(12)\n",
    "print(a)"
   ]
  },
  {
   "cell_type": "markdown",
   "id": "c706f496",
   "metadata": {},
   "source": [
    "# popitem() method"
   ]
  },
  {
   "cell_type": "code",
   "execution_count": 29,
   "id": "b1cd932d",
   "metadata": {},
   "outputs": [
    {
     "name": "stdout",
     "output_type": "stream",
     "text": [
      "{10: 'hello', 12: 'program'}\n"
     ]
    }
   ],
   "source": [
    "a = { 10:\"hello\", 12:\"program\" , 13:(1,2,3)}\n",
    "a.popitem()\n",
    "print(a)"
   ]
  },
  {
   "cell_type": "markdown",
   "id": "82c6d5fe",
   "metadata": {},
   "source": [
    "# del() method"
   ]
  },
  {
   "cell_type": "code",
   "execution_count": 30,
   "id": "48afc336",
   "metadata": {},
   "outputs": [
    {
     "name": "stdout",
     "output_type": "stream",
     "text": [
      "{'a': 'hello', 'c': (10, 11, 12)}\n"
     ]
    }
   ],
   "source": [
    "a = {\"a\":\"hello\", \"b\":\"world\", \"c\":(10,11,12)}\n",
    "del a[\"b\"]\n",
    "print(a)"
   ]
  },
  {
   "cell_type": "code",
   "execution_count": 31,
   "id": "bb1554ab",
   "metadata": {},
   "outputs": [
    {
     "ename": "NameError",
     "evalue": "name 'a' is not defined",
     "output_type": "error",
     "traceback": [
      "\u001b[1;31m---------------------------------------------------------------------------\u001b[0m",
      "\u001b[1;31mNameError\u001b[0m                                 Traceback (most recent call last)",
      "\u001b[1;32m~\\AppData\\Local\\Temp\\ipykernel_2488\\1663620895.py\u001b[0m in \u001b[0;36m<module>\u001b[1;34m\u001b[0m\n\u001b[0;32m      1\u001b[0m \u001b[0ma\u001b[0m \u001b[1;33m=\u001b[0m \u001b[1;33m{\u001b[0m\u001b[1;34m\"a\"\u001b[0m\u001b[1;33m:\u001b[0m\u001b[1;34m\"hello\"\u001b[0m\u001b[1;33m,\u001b[0m \u001b[1;34m\"b\"\u001b[0m\u001b[1;33m:\u001b[0m\u001b[1;34m\"world\"\u001b[0m\u001b[1;33m,\u001b[0m \u001b[1;34m\"c\"\u001b[0m\u001b[1;33m:\u001b[0m\u001b[1;33m(\u001b[0m\u001b[1;36m10\u001b[0m\u001b[1;33m,\u001b[0m\u001b[1;36m11\u001b[0m\u001b[1;33m,\u001b[0m\u001b[1;36m12\u001b[0m\u001b[1;33m)\u001b[0m\u001b[1;33m}\u001b[0m\u001b[1;33m\u001b[0m\u001b[1;33m\u001b[0m\u001b[0m\n\u001b[0;32m      2\u001b[0m \u001b[1;32mdel\u001b[0m \u001b[0ma\u001b[0m\u001b[1;33m\u001b[0m\u001b[1;33m\u001b[0m\u001b[0m\n\u001b[1;32m----> 3\u001b[1;33m \u001b[0mprint\u001b[0m\u001b[1;33m(\u001b[0m\u001b[0ma\u001b[0m\u001b[1;33m)\u001b[0m\u001b[1;33m\u001b[0m\u001b[1;33m\u001b[0m\u001b[0m\n\u001b[0m",
      "\u001b[1;31mNameError\u001b[0m: name 'a' is not defined"
     ]
    }
   ],
   "source": [
    "a = {\"a\":\"hello\", \"b\":\"world\", \"c\":(10,11,12)}\n",
    "del a\n",
    "print(a)"
   ]
  },
  {
   "cell_type": "markdown",
   "id": "2b822485",
   "metadata": {},
   "source": [
    "# clear() method"
   ]
  },
  {
   "cell_type": "code",
   "execution_count": 34,
   "id": "1e4618a3",
   "metadata": {},
   "outputs": [
    {
     "name": "stdout",
     "output_type": "stream",
     "text": [
      "{}\n",
      "<class 'dict'>\n"
     ]
    }
   ],
   "source": [
    "a = {1:\"hello\", 2:23,3:36}\n",
    "a.clear()\n",
    "print(a)\n",
    "print(type(a))"
   ]
  },
  {
   "cell_type": "markdown",
   "id": "c6319807",
   "metadata": {},
   "source": [
    "# copy() method"
   ]
  },
  {
   "cell_type": "code",
   "execution_count": 38,
   "id": "9d17d924",
   "metadata": {},
   "outputs": [
    {
     "name": "stdout",
     "output_type": "stream",
     "text": [
      "{1: [23, 25, 28], 'code': (-1, -2, -3), 'India': 'Best country'}\n",
      "{1: [23, 25, 28], 'code': (-1, -2, -3), 'India': 'best country in the world'}\n",
      "{1: [23, 25, 28], 'code': (-1, -2, -3), 'India': 'best country in the world'}\n"
     ]
    }
   ],
   "source": [
    "\"\"\" why you need copy method\"\"\"\n",
    "a = {1:[23,25,28], \"code\":(-1,-2,-3), \"India\":\"Best country\"}\n",
    "b = a\n",
    "print(b)\n",
    "a.update({\"India\":\"best country in the world\"})\n",
    "print(a)\n",
    "print(b)"
   ]
  },
  {
   "cell_type": "code",
   "execution_count": 42,
   "id": "14d20e25",
   "metadata": {},
   "outputs": [
    {
     "name": "stdout",
     "output_type": "stream",
     "text": [
      "{1: [23, 25, 28], 'code': (-1, -2, -3), 'India': 'Best country'}\n",
      "{1: [23, 25, 28], 'code': (-1, -2, -3), 'India': 'Best country'}\n",
      "{1: [23, 25, 28], 'code': (-1, -2, -3), 'India': 'best country in the world'}\n"
     ]
    }
   ],
   "source": [
    "a = {1:[23,25,28], \"code\":(-1,-2,-3), \"India\":\"Best country\"}\n",
    "b = a.copy()\n",
    "print(b)\n",
    "b.update({\"India\":\"best country in the world\"})\n",
    "print(a)\n",
    "print(b)"
   ]
  },
  {
   "cell_type": "markdown",
   "id": "10123b7a",
   "metadata": {},
   "source": [
    "# make a copy of a dictionary with the dict() function"
   ]
  },
  {
   "cell_type": "code",
   "execution_count": 43,
   "id": "da7906ec",
   "metadata": {},
   "outputs": [
    {
     "name": "stdout",
     "output_type": "stream",
     "text": [
      "{1: 'clours', 2: 'India', 3: [10, 11, 23]}\n",
      "{1: 'clours', 2: 'India', 3: 'education'}\n",
      "{1: 'clours', 2: 'India', 3: [10, 11, 23]}\n"
     ]
    }
   ],
   "source": [
    "a = {1:\"clours\", 2:\"India\", 3:[10,11,23]}\n",
    "b = dict(a)\n",
    "print(b)\n",
    "b.update({3:\"education\"})\n",
    "print(b)\n",
    "print(a)"
   ]
  },
  {
   "cell_type": "markdown",
   "id": "1b175579",
   "metadata": {},
   "source": [
    "# Nested Dictionaries"
   ]
  },
  {
   "cell_type": "code",
   "execution_count": 45,
   "id": "8df9ba03",
   "metadata": {},
   "outputs": [
    {
     "name": "stdout",
     "output_type": "stream",
     "text": [
      "{'class1': {'name': 'anshul', 'section': 'A', 'age': 24}, 'class2': {'name': 'priya', 'section': 'B', 'age': 21}, 'class3': {'name': 'ayush', 'section': 'C', 'age': 18}}\n",
      "ayush\n"
     ]
    }
   ],
   "source": [
    "a = {\n",
    "    \"class1\":{\"name\":\"anshul\", \"section\":\"A\", \"age\":24},\n",
    "    \"class2\":{\"name\":\"priya\", \"section\":\"B\", \"age\": 21},\n",
    "    \"class3\":{\"name\":\"ayush\",\"section\":\"C\", \"age\":18}\n",
    "}\n",
    "print(a)\n",
    "print(a[\"class3\"][\"name\"])"
   ]
  },
  {
   "cell_type": "markdown",
   "id": "7893af62",
   "metadata": {},
   "source": [
    "# fromkeys() method"
   ]
  },
  {
   "cell_type": "code",
   "execution_count": 47,
   "id": "3a735663",
   "metadata": {},
   "outputs": [
    {
     "name": "stdout",
     "output_type": "stream",
     "text": [
      "{'key1': 0, 'key2': 0, 'key3': 0}\n"
     ]
    }
   ],
   "source": [
    "x = (\"key1\", \"key2\", \"key3\")\n",
    "y = 0\n",
    "thisdict = dict.fromkeys(x,y)\n",
    "print(thisdict)"
   ]
  },
  {
   "cell_type": "code",
   "execution_count": 19,
   "id": "b50bd26e",
   "metadata": {},
   "outputs": [
    {
     "name": "stdout",
     "output_type": "stream",
     "text": [
      "{'key1': True, 'key2': True, 'key3': True}\n"
     ]
    }
   ],
   "source": [
    "x = (\"key1\", \"key2\", \"key3\")\n",
    "y = True\n",
    "thisdict = dict.fromkeys(x,y)\n",
    "print(thisdict)"
   ]
  },
  {
   "cell_type": "code",
   "execution_count": 21,
   "id": "4f5cd94b-3637-4c3e-874c-3fa2395b1ea1",
   "metadata": {},
   "outputs": [],
   "source": [
    "thisdict['key2']=False"
   ]
  },
  {
   "cell_type": "code",
   "execution_count": 23,
   "id": "9c3455a5-af6c-4b97-92dc-7628df42338a",
   "metadata": {},
   "outputs": [
    {
     "data": {
      "text/plain": [
       "{'key1': True, 'key2': False, 'key3': True}"
      ]
     },
     "execution_count": 23,
     "metadata": {},
     "output_type": "execute_result"
    }
   ],
   "source": [
    "thisdict"
   ]
  },
  {
   "cell_type": "code",
   "execution_count": 49,
   "id": "2bef81e6",
   "metadata": {},
   "outputs": [
    {
     "name": "stdout",
     "output_type": "stream",
     "text": [
      "{'key1': None, 'key2': None, 'key3': None}\n"
     ]
    }
   ],
   "source": [
    "x = (\"key1\", \"key2\", \"key3\")\n",
    "a = dict.fromkeys(x)\n",
    "print(a)"
   ]
  },
  {
   "cell_type": "markdown",
   "id": "c33da603",
   "metadata": {},
   "source": [
    "# setdefault() Method\n",
    "The setdefault() method returns the value of the item with the specified key. If the key does not exist, insert the key, with the specified value,"
   ]
  },
  {
   "cell_type": "code",
   "execution_count": 29,
   "id": "4a113dc2",
   "metadata": {},
   "outputs": [
    {
     "name": "stdout",
     "output_type": "stream",
     "text": [
      "{'genre': 'comedy', 'title': 'spiderman', 'year': 2000}\n",
      "spiderman\n"
     ]
    },
    {
     "data": {
      "text/plain": [
       "{'genre': 'comedy', 'title': 'spiderman', 'year': 2000}"
      ]
     },
     "execution_count": 29,
     "metadata": {},
     "output_type": "execute_result"
    }
   ],
   "source": [
    "movie = { \"genre\": \"comedy\",\n",
    "         \"title\":\"spiderman\",\n",
    "         \"year\":2000\n",
    "\n",
    "}\n",
    "print(movie)\n",
    "x = movie.setdefault(\"title\", \"xyz\")\n",
    "print(x)\n",
    "movie"
   ]
  },
  {
   "cell_type": "code",
   "execution_count": 31,
   "id": "87aa3cc7",
   "metadata": {},
   "outputs": [
    {
     "name": "stdout",
     "output_type": "stream",
     "text": [
      "2 hours\n",
      "{'genre': 'comedy', 'title': 'spiderman', 'year': 2000, 'length': '2 hours'}\n"
     ]
    }
   ],
   "source": [
    "movie = { \"genre\": \"comedy\",\n",
    "         \"title\":\"spiderman\",\n",
    "         \"year\":2000\n",
    "\n",
    "}\n",
    "x = movie.setdefault(\"length\", \"2 hours\")\n",
    "print(x)\n",
    "print(movie)"
   ]
  },
  {
   "cell_type": "code",
   "execution_count": 55,
   "id": "7ec62968",
   "metadata": {},
   "outputs": [
    {
     "name": "stdout",
     "output_type": "stream",
     "text": [
      "['apple', 'tamrind', 'orange', 'sugarcane']\n",
      "['apple', 'orange', 'sugarcane', 'tamrind']\n",
      "{'apple': 1, 'orange': 3, 'sugarcane': 4, 'tamrind': 2}\n"
     ]
    }
   ],
   "source": [
    "\"\"\" Python | Sort Python Dictionaries by Key  \"\"\"\n",
    "p = {\"apple\":1, \"tamrind\":2, \"orange\":3, \"sugarcane\": 4}\n",
    "a = list(p.keys())\n",
    "print(a)\n",
    "a.sort()\n",
    "print(a)\n",
    "sorted_dict = {i:p[i] for i in a}\n",
    "print(sorted_dict)"
   ]
  },
  {
   "cell_type": "code",
   "execution_count": null,
   "id": "1f61e93a",
   "metadata": {},
   "outputs": [],
   "source": [
    "for i in a:\n",
    "    print(i,p[i])"
   ]
  },
  {
   "cell_type": "code",
   "execution_count": 56,
   "id": "b04bd1db",
   "metadata": {},
   "outputs": [
    {
     "name": "stdout",
     "output_type": "stream",
     "text": [
      "enter the number of items you want in the dictionary:4\n",
      "Enter keys\"apple\"\n",
      "enter values14\n",
      "{'\"apple\"': '14'}\n",
      "Enter keysboy\n",
      "enter values20\n",
      "{'\"apple\"': '14', 'boy': '20'}\n",
      "Enter keys13\n",
      "enter values\"cherry\"\n",
      "{'\"apple\"': '14', 'boy': '20', '13': '\"cherry\"'}\n",
      "Enter keys18\n",
      "enter values23.56\n",
      "{'\"apple\"': '14', 'boy': '20', '13': '\"cherry\"', '18': '23.56'}\n"
     ]
    }
   ],
   "source": [
    "\"\"\" user input - dictionary \"\"\"\n",
    "a = {}\n",
    "n = int(input(\"enter the number of items you want in the dictionary:\"))\n",
    "for i in range(n):\n",
    "    b = input(\"Enter keys\")\n",
    "    c = input(\"enter values\")\n",
    "    a.update({b:c})\n",
    "    print(a)"
   ]
  },
  {
   "cell_type": "code",
   "execution_count": 59,
   "id": "a69ac32e",
   "metadata": {},
   "outputs": [
    {
     "name": "stdout",
     "output_type": "stream",
     "text": [
      "enter the number of items you want in the dictionary3\n",
      "enter keys 14\n",
      "enter valuespython\n",
      "enter keys 15\n",
      "enter valueshello\n",
      "enter keys 16\n",
      "enter valuescode\n",
      "{'14': 'python', '15': 'hello', '16': 'code'}\n",
      "[('14', 'python'), ('15', 'hello'), ('16', 'code')]\n",
      "[('16', 'code'), ('15', 'hello'), ('14', 'python')]\n",
      "{'16': 'code', '15': 'hello', '14': 'python'}\n"
     ]
    }
   ],
   "source": [
    "\"\"\" take the input from the user aand reverse the dictionary\"\"\"\n",
    "a = {}\n",
    "n = int(input(\"enter the number of items you want in the dictionary\"))\n",
    "for i in range(n):\n",
    "    b = input(\"enter keys \")\n",
    "    c = input(\"enter values\")\n",
    "    a.update({b:c})\n",
    "print(a)\n",
    "m = list(a.items())\n",
    "print(m)\n",
    "m.reverse()\n",
    "print(m)\n",
    "print(dict(m))"
   ]
  },
  {
   "cell_type": "code",
   "execution_count": 60,
   "id": "4ad8c7e0",
   "metadata": {},
   "outputs": [
    {
     "name": "stdout",
     "output_type": "stream",
     "text": [
      "25\n",
      "2\n",
      "monkey\n",
      "horse\n"
     ]
    }
   ],
   "source": [
    "\"\"\" find out man and min key and values in dictionary\"\"\"\n",
    "a = { 12:\"horse\", 19:\"lion\", 25:\"monkey\", 2:\"leopard\"}\n",
    "b = list(a.keys())\n",
    "c = list(a.values())\n",
    "print(max(b))\n",
    "print(min(b))\n",
    "print(max(c))\n",
    "print(min(c))"
   ]
  },
  {
   "cell_type": "code",
   "execution_count": null,
   "id": "956eeecf",
   "metadata": {},
   "outputs": [],
   "source": []
  }
 ],
 "metadata": {
  "kernelspec": {
   "display_name": "Python 3 (ipykernel)",
   "language": "python",
   "name": "python3"
  },
  "language_info": {
   "codemirror_mode": {
    "name": "ipython",
    "version": 3
   },
   "file_extension": ".py",
   "mimetype": "text/x-python",
   "name": "python",
   "nbconvert_exporter": "python",
   "pygments_lexer": "ipython3",
   "version": "3.12.3"
  }
 },
 "nbformat": 4,
 "nbformat_minor": 5
}
