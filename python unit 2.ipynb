{
 "cells": [
  {
   "cell_type": "code",
   "execution_count": 1,
   "id": "bbabf5d7",
   "metadata": {},
   "outputs": [
    {
     "name": "stdout",
     "output_type": "stream",
     "text": [
      "Hello World\n"
     ]
    }
   ],
   "source": [
    "print(\"Hello World\")"
   ]
  },
  {
   "cell_type": "code",
   "execution_count": 2,
   "id": "49977a72",
   "metadata": {},
   "outputs": [
    {
     "name": "stdout",
     "output_type": "stream",
     "text": [
      "5\n"
     ]
    }
   ],
   "source": [
    "aditya_raushan = 5\n",
    "print(aditya_raushan)"
   ]
  },
  {
   "cell_type": "markdown",
   "id": "2b1d2fc0",
   "metadata": {},
   "source": [
    "# Data Types"
   ]
  },
  {
   "cell_type": "code",
   "execution_count": 6,
   "id": "7ecfb9e5",
   "metadata": {},
   "outputs": [
    {
     "name": "stdout",
     "output_type": "stream",
     "text": [
      "-5\n"
     ]
    }
   ],
   "source": [
    "x = -5\n",
    "print(x)"
   ]
  },
  {
   "cell_type": "code",
   "execution_count": 7,
   "id": "0ecdc388",
   "metadata": {},
   "outputs": [
    {
     "name": "stdout",
     "output_type": "stream",
     "text": [
      "<class 'int'>\n"
     ]
    }
   ],
   "source": [
    "print(type(x))"
   ]
  },
  {
   "cell_type": "code",
   "execution_count": 8,
   "id": "dc308184",
   "metadata": {},
   "outputs": [
    {
     "name": "stdout",
     "output_type": "stream",
     "text": [
      "3.456\n"
     ]
    },
    {
     "data": {
      "text/plain": [
       "float"
      ]
     },
     "execution_count": 8,
     "metadata": {},
     "output_type": "execute_result"
    }
   ],
   "source": [
    "y = 3.456\n",
    "print(y)\n",
    "type(y)"
   ]
  },
  {
   "cell_type": "code",
   "execution_count": 6,
   "id": "357b9114",
   "metadata": {},
   "outputs": [
    {
     "name": "stdout",
     "output_type": "stream",
     "text": [
      "(12+5j)\n"
     ]
    },
    {
     "data": {
      "text/plain": [
       "complex"
      ]
     },
     "execution_count": 6,
     "metadata": {},
     "output_type": "execute_result"
    }
   ],
   "source": [
    "i = 12+5j\n",
    "print(i)\n",
    "type(i)"
   ]
  },
  {
   "cell_type": "code",
   "execution_count": 4,
   "id": "edeb4585",
   "metadata": {},
   "outputs": [
    {
     "name": "stdout",
     "output_type": "stream",
     "text": [
      " we are learning python \n"
     ]
    },
    {
     "data": {
      "text/plain": [
       "str"
      ]
     },
     "execution_count": 4,
     "metadata": {},
     "output_type": "execute_result"
    }
   ],
   "source": [
    "t = \" we are learning python \"\n",
    "print(t)\n",
    "type(t)"
   ]
  },
  {
   "cell_type": "code",
   "execution_count": 11,
   "id": "6c0c63c7",
   "metadata": {},
   "outputs": [
    {
     "name": "stdout",
     "output_type": "stream",
     "text": [
      "<class 'int'>\n"
     ]
    }
   ],
   "source": [
    "a = 1\n",
    "print(type(a))"
   ]
  },
  {
   "cell_type": "markdown",
   "id": "56646d31",
   "metadata": {},
   "source": [
    "# how many variables are  there in the notebook"
   ]
  },
  {
   "cell_type": "code",
   "execution_count": 12,
   "id": "71ae532f",
   "metadata": {},
   "outputs": [
    {
     "name": "stdout",
     "output_type": "stream",
     "text": [
      "Variable   Type       Data/Info\n",
      "-------------------------------\n",
      "a          int        1\n",
      "t          str         we are learning python \n",
      "x          int        -5\n",
      "y          float      3.456\n",
      "z          complex    (12+5j)\n"
     ]
    }
   ],
   "source": [
    "%whos"
   ]
  },
  {
   "cell_type": "code",
   "execution_count": 13,
   "id": "6329cca0",
   "metadata": {},
   "outputs": [],
   "source": [
    "del z"
   ]
  },
  {
   "cell_type": "code",
   "execution_count": 14,
   "id": "4e6879a5",
   "metadata": {},
   "outputs": [
    {
     "name": "stdout",
     "output_type": "stream",
     "text": [
      "Variable   Type     Data/Info\n",
      "-----------------------------\n",
      "a          int      1\n",
      "t          str       we are learning python \n",
      "x          int      -5\n",
      "y          float    3.456\n"
     ]
    }
   ],
   "source": [
    "%whos"
   ]
  },
  {
   "cell_type": "markdown",
   "id": "3c0f663b",
   "metadata": {},
   "source": [
    "# multiple assignments in the variable"
   ]
  },
  {
   "cell_type": "code",
   "execution_count": 1,
   "id": "4ce7c930",
   "metadata": {},
   "outputs": [
    {
     "name": "stdout",
     "output_type": "stream",
     "text": [
      "3 4.5 hello students\n",
      "3\n",
      "4.5\n",
      "hello students\n",
      "<class 'int'> <class 'float'> <class 'str'>\n"
     ]
    }
   ],
   "source": [
    "a,b,c = 3,4.5,\"hello students\"\n",
    "print( a,b,c)\n",
    "print(a)\n",
    "print(b)\n",
    "print(c)\n",
    "print( type(a), type(b), type(c))"
   ]
  },
  {
   "cell_type": "code",
   "execution_count": 4,
   "id": "1ec86446",
   "metadata": {},
   "outputs": [
    {
     "name": "stdout",
     "output_type": "stream",
     "text": [
      "3\n",
      "4\n",
      "5\n",
      "\n",
      "3 4 5\n"
     ]
    }
   ],
   "source": [
    "a = 3\n",
    "b = 4\n",
    "c = 5\n",
    "print(a)\n",
    "print(b)\n",
    "print(c)\n",
    "print()\n",
    "print(a,b,c)"
   ]
  },
  {
   "cell_type": "code",
   "execution_count": 1,
   "id": "300b2baf",
   "metadata": {},
   "outputs": [
    {
     "name": "stdout",
     "output_type": "stream",
     "text": [
      "21\n"
     ]
    }
   ],
   "source": [
    "x = 21\n",
    "X = 2.34\n",
    "print(x)"
   ]
  },
  {
   "cell_type": "code",
   "execution_count": 2,
   "id": "0adcb356",
   "metadata": {},
   "outputs": [
    {
     "name": "stdout",
     "output_type": "stream",
     "text": [
      "2.34\n"
     ]
    }
   ],
   "source": [
    "print(X)"
   ]
  },
  {
   "cell_type": "code",
   "execution_count": 23,
   "id": "d41b9a21",
   "metadata": {},
   "outputs": [
    {
     "name": "stdout",
     "output_type": "stream",
     "text": [
      "Variable   Type     Data/Info\n",
      "-----------------------------\n",
      "A          float    23.45\n",
      "X          float    2.34\n",
      "a          int      3\n",
      "b          float    4.5\n",
      "c          str      hello students\n",
      "t          str       we are learning python \n",
      "x          int      21\n",
      "y          float    3.456\n"
     ]
    }
   ],
   "source": [
    "%whos"
   ]
  },
  {
   "cell_type": "code",
   "execution_count": null,
   "id": "89d5af54",
   "metadata": {},
   "outputs": [],
   "source": [
    "2+3"
   ]
  },
  {
   "cell_type": "markdown",
   "id": "9a1f5ac4",
   "metadata": {},
   "source": [
    "# Python Arithmetic Operators"
   ]
  },
  {
   "cell_type": "markdown",
   "id": "f4a95831",
   "metadata": {},
   "source": [
    "# Add operator"
   ]
  },
  {
   "cell_type": "code",
   "execution_count": 16,
   "id": "67f30651",
   "metadata": {},
   "outputs": [],
   "source": [
    "a = 2\n",
    "b = 4\n",
    "c = 3.5\n",
    "d = \" hello students\"\n",
    "e =\" how are you \"\n",
    "f = 6+8j"
   ]
  },
  {
   "cell_type": "code",
   "execution_count": 8,
   "id": "1468f3e0",
   "metadata": {},
   "outputs": [
    {
     "name": "stdout",
     "output_type": "stream",
     "text": [
      "6\n"
     ]
    }
   ],
   "source": [
    "print( a+ b)"
   ]
  },
  {
   "cell_type": "code",
   "execution_count": 9,
   "id": "446c17ac",
   "metadata": {},
   "outputs": [
    {
     "name": "stdout",
     "output_type": "stream",
     "text": [
      "5.5\n"
     ]
    }
   ],
   "source": [
    "print(a+c)"
   ]
  },
  {
   "cell_type": "code",
   "execution_count": 10,
   "id": "d689c0ad",
   "metadata": {},
   "outputs": [
    {
     "name": "stdout",
     "output_type": "stream",
     "text": [
      "(8+8j)\n"
     ]
    }
   ],
   "source": [
    "print( a+f )"
   ]
  },
  {
   "cell_type": "code",
   "execution_count": 11,
   "id": "924f0f8c",
   "metadata": {},
   "outputs": [
    {
     "name": "stdout",
     "output_type": "stream",
     "text": [
      "(9.5+8j)\n"
     ]
    }
   ],
   "source": [
    "print( c + f )"
   ]
  },
  {
   "cell_type": "code",
   "execution_count": 18,
   "id": "0fd29dc3",
   "metadata": {},
   "outputs": [
    {
     "name": "stdout",
     "output_type": "stream",
     "text": [
      " hello students how are you \n"
     ]
    }
   ],
   "source": [
    "print(d+e)"
   ]
  },
  {
   "cell_type": "markdown",
   "id": "88d96352",
   "metadata": {},
   "source": [
    "# Subtract "
   ]
  },
  {
   "cell_type": "code",
   "execution_count": 14,
   "id": "5c797089",
   "metadata": {},
   "outputs": [
    {
     "name": "stdout",
     "output_type": "stream",
     "text": [
      "Variable   Type        Data/Info\n",
      "--------------------------------\n",
      "a          int         2\n",
      "b          int         4\n",
      "c          float       3.5\n",
      "d          str          hello students\n",
      "e          str          how are you \n",
      "f          complex     (6+8j)\n",
      "x          NoneType    None\n"
     ]
    }
   ],
   "source": [
    "%whos"
   ]
  },
  {
   "cell_type": "code",
   "execution_count": 15,
   "id": "c41d4b1d",
   "metadata": {},
   "outputs": [
    {
     "name": "stdout",
     "output_type": "stream",
     "text": [
      "2\n"
     ]
    }
   ],
   "source": [
    "print( b - a)"
   ]
  },
  {
   "cell_type": "code",
   "execution_count": 16,
   "id": "522291fc",
   "metadata": {},
   "outputs": [
    {
     "name": "stdout",
     "output_type": "stream",
     "text": [
      "0.5\n"
     ]
    }
   ],
   "source": [
    "print( b-c)"
   ]
  },
  {
   "cell_type": "code",
   "execution_count": 17,
   "id": "4c36467a",
   "metadata": {},
   "outputs": [
    {
     "name": "stdout",
     "output_type": "stream",
     "text": [
      "-2\n"
     ]
    }
   ],
   "source": [
    "print( a-b)"
   ]
  },
  {
   "cell_type": "markdown",
   "id": "fa72eccf",
   "metadata": {},
   "source": [
    "# print( f - a)"
   ]
  },
  {
   "cell_type": "code",
   "execution_count": 19,
   "id": "2284cd3e",
   "metadata": {},
   "outputs": [
    {
     "name": "stdout",
     "output_type": "stream",
     "text": [
      "(2.5+8j)\n"
     ]
    }
   ],
   "source": [
    "print( f - c)"
   ]
  },
  {
   "cell_type": "code",
   "execution_count": 20,
   "id": "09da5942",
   "metadata": {},
   "outputs": [
    {
     "ename": "TypeError",
     "evalue": "unsupported operand type(s) for -: 'str' and 'str'",
     "output_type": "error",
     "traceback": [
      "\u001b[1;31m---------------------------------------------------------------------------\u001b[0m",
      "\u001b[1;31mTypeError\u001b[0m                                 Traceback (most recent call last)",
      "\u001b[1;32m~\\AppData\\Local\\Temp\\ipykernel_10708\\1876589348.py\u001b[0m in \u001b[0;36m<module>\u001b[1;34m\u001b[0m\n\u001b[1;32m----> 1\u001b[1;33m \u001b[0mprint\u001b[0m\u001b[1;33m(\u001b[0m \u001b[0md\u001b[0m \u001b[1;33m-\u001b[0m\u001b[0me\u001b[0m\u001b[1;33m)\u001b[0m\u001b[1;33m\u001b[0m\u001b[1;33m\u001b[0m\u001b[0m\n\u001b[0m",
      "\u001b[1;31mTypeError\u001b[0m: unsupported operand type(s) for -: 'str' and 'str'"
     ]
    }
   ],
   "source": [
    "print( d -e)"
   ]
  },
  {
   "cell_type": "markdown",
   "id": "0f8046c3",
   "metadata": {},
   "source": [
    "# multiplication "
   ]
  },
  {
   "cell_type": "code",
   "execution_count": 22,
   "id": "d133a7c0",
   "metadata": {},
   "outputs": [
    {
     "name": "stdout",
     "output_type": "stream",
     "text": [
      "Variable   Type        Data/Info\n",
      "--------------------------------\n",
      "a          int         2\n",
      "b          int         4\n",
      "c          float       3.5\n",
      "d          str          hello students\n",
      "e          str          how are you \n",
      "f          complex     (6+8j)\n",
      "x          NoneType    None\n"
     ]
    }
   ],
   "source": [
    "%whos"
   ]
  },
  {
   "cell_type": "code",
   "execution_count": 23,
   "id": "1b8be476",
   "metadata": {},
   "outputs": [
    {
     "name": "stdout",
     "output_type": "stream",
     "text": [
      "8\n"
     ]
    }
   ],
   "source": [
    "print( a * b)"
   ]
  },
  {
   "cell_type": "code",
   "execution_count": 24,
   "id": "b0f1b949",
   "metadata": {},
   "outputs": [
    {
     "name": "stdout",
     "output_type": "stream",
     "text": [
      "7.0\n"
     ]
    }
   ],
   "source": [
    "print( a * c)"
   ]
  },
  {
   "cell_type": "code",
   "execution_count": 25,
   "id": "1ba6d087",
   "metadata": {},
   "outputs": [
    {
     "name": "stdout",
     "output_type": "stream",
     "text": [
      "(12+16j)\n"
     ]
    }
   ],
   "source": [
    "print( a * f)"
   ]
  },
  {
   "cell_type": "code",
   "execution_count": 26,
   "id": "9318ee4f",
   "metadata": {},
   "outputs": [
    {
     "name": "stdout",
     "output_type": "stream",
     "text": [
      "(21+28j)\n"
     ]
    }
   ],
   "source": [
    "print( c * f)"
   ]
  },
  {
   "cell_type": "code",
   "execution_count": 27,
   "id": "23438a41",
   "metadata": {},
   "outputs": [
    {
     "ename": "TypeError",
     "evalue": "can't multiply sequence by non-int of type 'str'",
     "output_type": "error",
     "traceback": [
      "\u001b[1;31m---------------------------------------------------------------------------\u001b[0m",
      "\u001b[1;31mTypeError\u001b[0m                                 Traceback (most recent call last)",
      "\u001b[1;32m~\\AppData\\Local\\Temp\\ipykernel_10708\\3924712253.py\u001b[0m in \u001b[0;36m<module>\u001b[1;34m\u001b[0m\n\u001b[1;32m----> 1\u001b[1;33m \u001b[0mprint\u001b[0m\u001b[1;33m(\u001b[0m \u001b[0md\u001b[0m \u001b[1;33m*\u001b[0m \u001b[0me\u001b[0m\u001b[1;33m)\u001b[0m\u001b[1;33m\u001b[0m\u001b[1;33m\u001b[0m\u001b[0m\n\u001b[0m",
      "\u001b[1;31mTypeError\u001b[0m: can't multiply sequence by non-int of type 'str'"
     ]
    }
   ],
   "source": [
    "print( d * e)"
   ]
  },
  {
   "cell_type": "code",
   "execution_count": 5,
   "id": "40bef2a5",
   "metadata": {},
   "outputs": [
    {
     "name": "stdout",
     "output_type": "stream",
     "text": [
      "shishirshishirshishirshishirshishir\n"
     ]
    }
   ],
   "source": [
    "a = \"shishir\"\n",
    "b = 5\n",
    "print(a*b)"
   ]
  },
  {
   "cell_type": "code",
   "execution_count": 8,
   "id": "bf45e789",
   "metadata": {},
   "outputs": [
    {
     "name": "stdout",
     "output_type": "stream",
     "text": [
      "riyariyariyariyariya\n"
     ]
    }
   ],
   "source": [
    "a = \"riya\"\n",
    "b = 5\n",
    "print(a*b)"
   ]
  },
  {
   "cell_type": "markdown",
   "id": "276cfec9",
   "metadata": {},
   "source": [
    "# divison operator"
   ]
  },
  {
   "cell_type": "code",
   "execution_count": 28,
   "id": "7a744415",
   "metadata": {},
   "outputs": [
    {
     "name": "stdout",
     "output_type": "stream",
     "text": [
      "Variable   Type        Data/Info\n",
      "--------------------------------\n",
      "a          int         2\n",
      "b          int         4\n",
      "c          float       3.5\n",
      "d          str          hello students\n",
      "e          str          how are you \n",
      "f          complex     (6+8j)\n",
      "x          NoneType    None\n"
     ]
    }
   ],
   "source": [
    "%whos"
   ]
  },
  {
   "cell_type": "code",
   "execution_count": 29,
   "id": "7d7e9b02",
   "metadata": {},
   "outputs": [
    {
     "name": "stdout",
     "output_type": "stream",
     "text": [
      "2.0\n"
     ]
    }
   ],
   "source": [
    "print( b/ a)"
   ]
  },
  {
   "cell_type": "code",
   "execution_count": 30,
   "id": "73287240",
   "metadata": {},
   "outputs": [
    {
     "name": "stdout",
     "output_type": "stream",
     "text": [
      "1.1428571428571428\n"
     ]
    }
   ],
   "source": [
    "print( b / c)"
   ]
  },
  {
   "cell_type": "code",
   "execution_count": 31,
   "id": "b045deae",
   "metadata": {},
   "outputs": [
    {
     "name": "stdout",
     "output_type": "stream",
     "text": [
      "(3+4j)\n"
     ]
    }
   ],
   "source": [
    "print( f / a)"
   ]
  },
  {
   "cell_type": "code",
   "execution_count": 32,
   "id": "13904aaa",
   "metadata": {},
   "outputs": [
    {
     "name": "stdout",
     "output_type": "stream",
     "text": [
      "(1.7142857142857142+2.2857142857142856j)\n"
     ]
    }
   ],
   "source": [
    "print( f / c)"
   ]
  },
  {
   "cell_type": "code",
   "execution_count": 33,
   "id": "50f4c808",
   "metadata": {},
   "outputs": [
    {
     "ename": "TypeError",
     "evalue": "unsupported operand type(s) for /: 'str' and 'str'",
     "output_type": "error",
     "traceback": [
      "\u001b[1;31m---------------------------------------------------------------------------\u001b[0m",
      "\u001b[1;31mTypeError\u001b[0m                                 Traceback (most recent call last)",
      "\u001b[1;32m~\\AppData\\Local\\Temp\\ipykernel_10708\\90541908.py\u001b[0m in \u001b[0;36m<module>\u001b[1;34m\u001b[0m\n\u001b[1;32m----> 1\u001b[1;33m \u001b[0mprint\u001b[0m\u001b[1;33m(\u001b[0m \u001b[0md\u001b[0m\u001b[1;33m/\u001b[0m\u001b[0me\u001b[0m\u001b[1;33m)\u001b[0m\u001b[1;33m\u001b[0m\u001b[1;33m\u001b[0m\u001b[0m\n\u001b[0m",
      "\u001b[1;31mTypeError\u001b[0m: unsupported operand type(s) for /: 'str' and 'str'"
     ]
    }
   ],
   "source": [
    "print( d/e)"
   ]
  },
  {
   "cell_type": "markdown",
   "id": "8d6d7115",
   "metadata": {},
   "source": [
    "# modulus operator"
   ]
  },
  {
   "cell_type": "code",
   "execution_count": 34,
   "id": "7eddc5c7",
   "metadata": {},
   "outputs": [
    {
     "name": "stdout",
     "output_type": "stream",
     "text": [
      "Variable   Type        Data/Info\n",
      "--------------------------------\n",
      "a          int         2\n",
      "b          int         4\n",
      "c          float       3.5\n",
      "d          str          hello students\n",
      "e          str          how are you \n",
      "f          complex     (6+8j)\n",
      "x          NoneType    None\n"
     ]
    }
   ],
   "source": [
    "%whos"
   ]
  },
  {
   "cell_type": "code",
   "execution_count": 2,
   "id": "d54c3fc1",
   "metadata": {},
   "outputs": [
    {
     "name": "stdout",
     "output_type": "stream",
     "text": [
      "2\n"
     ]
    }
   ],
   "source": [
    "a = 7\n",
    "b = 5\n",
    "print(a%b)"
   ]
  },
  {
   "cell_type": "code",
   "execution_count": 9,
   "id": "bcec15e5",
   "metadata": {},
   "outputs": [
    {
     "name": "stdout",
     "output_type": "stream",
     "text": [
      "467\n"
     ]
    }
   ],
   "source": [
    "x = 7895425552224522554522220261123365522\n",
    "y = 2565\n",
    "print(x%y)"
   ]
  },
  {
   "cell_type": "code",
   "execution_count": 5,
   "id": "f2c5df15",
   "metadata": {},
   "outputs": [
    {
     "name": "stdout",
     "output_type": "stream",
     "text": [
      "3\n"
     ]
    }
   ],
   "source": [
    "print(7%4)"
   ]
  },
  {
   "cell_type": "code",
   "execution_count": 6,
   "id": "c51b4227",
   "metadata": {},
   "outputs": [
    {
     "name": "stdout",
     "output_type": "stream",
     "text": [
      "3\n"
     ]
    }
   ],
   "source": [
    "a =7\n",
    "b = 4\n",
    "print(a%b)"
   ]
  },
  {
   "cell_type": "code",
   "execution_count": 35,
   "id": "aca8e845",
   "metadata": {},
   "outputs": [
    {
     "name": "stdout",
     "output_type": "stream",
     "text": [
      "0\n"
     ]
    }
   ],
   "source": [
    "print( b%2)"
   ]
  },
  {
   "cell_type": "code",
   "execution_count": 36,
   "id": "d1110e86",
   "metadata": {},
   "outputs": [
    {
     "name": "stdout",
     "output_type": "stream",
     "text": [
      "1.5\n"
     ]
    }
   ],
   "source": [
    "print( c%a)"
   ]
  },
  {
   "cell_type": "code",
   "execution_count": 37,
   "id": "6c32ea07",
   "metadata": {},
   "outputs": [
    {
     "ename": "TypeError",
     "evalue": "can't mod complex numbers.",
     "output_type": "error",
     "traceback": [
      "\u001b[1;31m---------------------------------------------------------------------------\u001b[0m",
      "\u001b[1;31mTypeError\u001b[0m                                 Traceback (most recent call last)",
      "\u001b[1;32m~\\AppData\\Local\\Temp\\ipykernel_10708\\487917889.py\u001b[0m in \u001b[0;36m<module>\u001b[1;34m\u001b[0m\n\u001b[1;32m----> 1\u001b[1;33m \u001b[0mprint\u001b[0m\u001b[1;33m(\u001b[0m \u001b[0mf\u001b[0m\u001b[1;33m%\u001b[0m\u001b[0ma\u001b[0m\u001b[1;33m)\u001b[0m\u001b[1;33m\u001b[0m\u001b[1;33m\u001b[0m\u001b[0m\n\u001b[0m",
      "\u001b[1;31mTypeError\u001b[0m: can't mod complex numbers."
     ]
    }
   ],
   "source": [
    "print( f%a)"
   ]
  },
  {
   "cell_type": "markdown",
   "id": "0efc2964",
   "metadata": {},
   "source": [
    "# Exponent opertor"
   ]
  },
  {
   "cell_type": "code",
   "execution_count": 39,
   "id": "24657ce5",
   "metadata": {},
   "outputs": [
    {
     "name": "stdout",
     "output_type": "stream",
     "text": [
      "Variable   Type        Data/Info\n",
      "--------------------------------\n",
      "a          int         2\n",
      "b          int         4\n",
      "c          float       3.5\n",
      "d          str          hello students\n",
      "e          str          how are you \n",
      "f          complex     (6+8j)\n",
      "x          NoneType    None\n"
     ]
    }
   ],
   "source": [
    "%whos"
   ]
  },
  {
   "cell_type": "code",
   "execution_count": 3,
   "id": "a16aca69",
   "metadata": {},
   "outputs": [
    {
     "name": "stdout",
     "output_type": "stream",
     "text": [
      "243\n"
     ]
    }
   ],
   "source": [
    "a = 3\n",
    "print(a**5)"
   ]
  },
  {
   "cell_type": "code",
   "execution_count": 10,
   "id": "b8c2dcb3",
   "metadata": {},
   "outputs": [
    {
     "name": "stdout",
     "output_type": "stream",
     "text": [
      "10715086071862673209484250490600018105614048117055336074437503883703510511249361224931983788156958581275946729175531468251871452856923140435984577574698574803934567774824230985421074605062371141877954182153046474983581941267398767559165543946077062914571196477686542167660429831652624386837205668069376\n"
     ]
    }
   ],
   "source": [
    "b = 2\n",
    "print(b**1000)"
   ]
  },
  {
   "cell_type": "code",
   "execution_count": 4,
   "id": "554ac16d",
   "metadata": {},
   "outputs": [
    {
     "name": "stdout",
     "output_type": "stream",
     "text": [
      "47599750288010932985174063016042193251207449811823893691153884594367263088573214344093720471652433146649326760114162736259680542513244396582585878053956990048762576414099961371987928055527595825689871399359288665327287562224020443632312973646877687239105186031879233513001313208284636775395066637780503176911410090723070944852250552098593393966931776052998239992565576611671870160854187663145168398458992143584325781837210009573124012094528389413119281256497251502675265553677647278617581619709871246028488168303525500932380786576631083816136604668280358408932999469064157042833176424739245539162089352470313966541160677581258649077056004938084933735549654730419525774834859453795910332073377311626976017666920182281575041318456853888160834158411018443943783161512997807697040749029037209348507591234229555840991029554249987872443085039374525838208794624\n"
     ]
    }
   ],
   "source": [
    "a = 118454644445255522\n",
    "print(a**50)"
   ]
  },
  {
   "cell_type": "code",
   "execution_count": 8,
   "id": "b7599596",
   "metadata": {},
   "outputs": [
    {
     "name": "stdout",
     "output_type": "stream",
     "text": [
      "82224911753529974611268597995398997109308130236158715309998442284259128683167507225381211731314508080423436174940280711197013610936712724673111740578538183755073004492426227626219002402141606450293980677900210976\n"
     ]
    }
   ],
   "source": [
    "a = 2415464634334646464646464646464646461164146\n",
    "print(a**5)"
   ]
  },
  {
   "cell_type": "code",
   "execution_count": 7,
   "id": "85530d9f",
   "metadata": {},
   "outputs": [
    {
     "name": "stdout",
     "output_type": "stream",
     "text": [
      "5466396966841028993235975396320351016132898660147203260409466802353139503661452268581508609217711686776508391613619398528245775662313935453716929915232397533523107624846080054242861333533397478055168260114407101473795570793443557750939415519885903746531647478468430756331586155966004040259265970740389116841395386968340080990041878397366706576671360765713191890903356583262330568052754065063794681823491686433690011020750378121125322733719083893360949093012784832759334580083561129859423240851197843382547975437496139999830740591651878864738949320757376002445972374423244196924772276882902539406774010690779136587240490531972038071382215776862280988066017188644058279982682929925921490126503631424641179797253553453107633032007554427180823154411606680125953192964778468567024028545476611202361616513214258368979215540499543289786894967885576318287715639298673264973336664174821244400806549739627270621293615831193606432919775146834964260642149547625300129487431571896839977943616728846641682635832068002516063709610977479980199106042294822343921849803749146504291715982077326466086331657171683204939402814043818535589778341899704333563533055111416936237604020742592015602200757713537983426517896748896520672248567193689679432123257423104521091346130158968996677857066447522816702982754240636925567878303426195445965503401147932640348482399103138542649628734364984890247502687673589056780185818387833420790676098594483870497997587709245625453446511235712849898142833098142276573969791750608289191164116111852487250663306129669862805175226973947320274568527002399278434583313792490815834036541506890433213191457345706321135679388553206178097076770389151236841807611620662934713891408761061376\n"
     ]
    }
   ],
   "source": [
    "x = 78954522555525222\n",
    "y = 100\n",
    "print(x**y)"
   ]
  },
  {
   "cell_type": "code",
   "execution_count": 12,
   "id": "7bb79c28",
   "metadata": {},
   "outputs": [
    {
     "name": "stdout",
     "output_type": "stream",
     "text": [
      "(7770.21875-14182.125j)\n"
     ]
    }
   ],
   "source": [
    "a = 3.5+6j\n",
    "print(a**5)"
   ]
  },
  {
   "cell_type": "code",
   "execution_count": 40,
   "id": "43e9c9a2",
   "metadata": {},
   "outputs": [
    {
     "name": "stdout",
     "output_type": "stream",
     "text": [
      "16\n"
     ]
    }
   ],
   "source": [
    "print( a**4)"
   ]
  },
  {
   "cell_type": "code",
   "execution_count": 41,
   "id": "d8fa3d4f",
   "metadata": {},
   "outputs": [
    {
     "name": "stdout",
     "output_type": "stream",
     "text": [
      "16\n"
     ]
    }
   ],
   "source": [
    "print( a**b)"
   ]
  },
  {
   "cell_type": "code",
   "execution_count": 42,
   "id": "dbe5c618",
   "metadata": {},
   "outputs": [
    {
     "name": "stdout",
     "output_type": "stream",
     "text": [
      "6211904899.255558\n"
     ]
    }
   ],
   "source": [
    "print( c** 18)"
   ]
  },
  {
   "cell_type": "code",
   "execution_count": 43,
   "id": "e2a6722a",
   "metadata": {},
   "outputs": [
    {
     "name": "stdout",
     "output_type": "stream",
     "text": [
      "150.0625\n"
     ]
    }
   ],
   "source": [
    "print(c**b)"
   ]
  },
  {
   "cell_type": "code",
   "execution_count": 44,
   "id": "8162047d",
   "metadata": {},
   "outputs": [
    {
     "name": "stdout",
     "output_type": "stream",
     "text": [
      "(-28+96j)\n"
     ]
    }
   ],
   "source": [
    "print(f**2)"
   ]
  },
  {
   "cell_type": "code",
   "execution_count": 45,
   "id": "980ac2c3",
   "metadata": {},
   "outputs": [
    {
     "name": "stdout",
     "output_type": "stream",
     "text": [
      "1803088080234.7888\n"
     ]
    }
   ],
   "source": [
    "print( (23**9)- ( 65*98) + (89+567) +( 12345*156778) - (23-98.78890))"
   ]
  },
  {
   "cell_type": "markdown",
   "id": "91243622",
   "metadata": {},
   "source": [
    "# floor divion"
   ]
  },
  {
   "cell_type": "code",
   "execution_count": 46,
   "id": "3f7800e4",
   "metadata": {
    "scrolled": true
   },
   "outputs": [
    {
     "name": "stdout",
     "output_type": "stream",
     "text": [
      "Variable   Type        Data/Info\n",
      "--------------------------------\n",
      "a          int         2\n",
      "b          int         4\n",
      "c          float       3.5\n",
      "d          str          hello students\n",
      "e          str          how are you \n",
      "f          complex     (6+8j)\n",
      "x          NoneType    None\n"
     ]
    }
   ],
   "source": [
    "%whos"
   ]
  },
  {
   "cell_type": "code",
   "execution_count": 9,
   "id": "3dc4fc3c",
   "metadata": {},
   "outputs": [
    {
     "name": "stdout",
     "output_type": "stream",
     "text": [
      "1\n"
     ]
    }
   ],
   "source": [
    "a = 7\n",
    "b = 5\n",
    "print(a//b)"
   ]
  },
  {
   "cell_type": "code",
   "execution_count": 6,
   "id": "8218236a",
   "metadata": {},
   "outputs": [
    {
     "name": "stdout",
     "output_type": "stream",
     "text": [
      "3\n"
     ]
    }
   ],
   "source": [
    "a = 15\n",
    "b = 4\n",
    "print(a//4)"
   ]
  },
  {
   "cell_type": "code",
   "execution_count": 22,
   "id": "cf6787f9",
   "metadata": {},
   "outputs": [
    {
     "name": "stdout",
     "output_type": "stream",
     "text": [
      "795165925683\n"
     ]
    }
   ],
   "source": [
    "a = 122455552555222\n",
    "b = 154\n",
    "print(a//b)"
   ]
  },
  {
   "cell_type": "code",
   "execution_count": 9,
   "id": "f565339c",
   "metadata": {},
   "outputs": [
    {
     "name": "stdout",
     "output_type": "stream",
     "text": [
      "1\n"
     ]
    }
   ],
   "source": [
    "a = 7\n",
    "b = 4\n",
    "print(a//b)"
   ]
  },
  {
   "cell_type": "code",
   "execution_count": 10,
   "id": "4faaef51",
   "metadata": {},
   "outputs": [
    {
     "name": "stdout",
     "output_type": "stream",
     "text": [
      "1\n"
     ]
    }
   ],
   "source": [
    "print(7//4)"
   ]
  },
  {
   "cell_type": "code",
   "execution_count": 47,
   "id": "f7598c41",
   "metadata": {},
   "outputs": [
    {
     "name": "stdout",
     "output_type": "stream",
     "text": [
      "2\n"
     ]
    }
   ],
   "source": [
    "print( b// a)"
   ]
  },
  {
   "cell_type": "code",
   "execution_count": 48,
   "id": "24ea354d",
   "metadata": {},
   "outputs": [
    {
     "name": "stdout",
     "output_type": "stream",
     "text": [
      "1.0\n"
     ]
    }
   ],
   "source": [
    "print( c // a)"
   ]
  },
  {
   "cell_type": "code",
   "execution_count": 51,
   "id": "a8e3dd68",
   "metadata": {},
   "outputs": [
    {
     "name": "stdout",
     "output_type": "stream",
     "text": [
      "Variable   Type        Data/Info\n",
      "--------------------------------\n",
      "a          int         2\n",
      "b          int         4\n",
      "c          float       3.5\n",
      "d          str          hello students\n",
      "e          str          how are you \n",
      "f          complex     (6+8j)\n",
      "x          NoneType    None\n"
     ]
    }
   ],
   "source": [
    "%whos\n"
   ]
  },
  {
   "cell_type": "code",
   "execution_count": 55,
   "id": "7649244a",
   "metadata": {},
   "outputs": [
    {
     "name": "stdout",
     "output_type": "stream",
     "text": [
      "6\n"
     ]
    }
   ],
   "source": [
    "add = a +b \n",
    "print(add)"
   ]
  },
  {
   "cell_type": "code",
   "execution_count": 56,
   "id": "6aae267e",
   "metadata": {},
   "outputs": [
    {
     "ename": "SyntaxError",
     "evalue": "invalid syntax (544798132.py, line 1)",
     "output_type": "error",
     "traceback": [
      "\u001b[1;36m  File \u001b[1;32m\"C:\\Users\\lenovo\\AppData\\Local\\Temp\\ipykernel_10708\\544798132.py\"\u001b[1;36m, line \u001b[1;32m1\u001b[0m\n\u001b[1;33m    @#& = 123\u001b[0m\n\u001b[1;37m     ^\u001b[0m\n\u001b[1;31mSyntaxError\u001b[0m\u001b[1;31m:\u001b[0m invalid syntax\n"
     ]
    }
   ],
   "source": [
    "@#& = 123"
   ]
  },
  {
   "cell_type": "code",
   "execution_count": 57,
   "id": "80ca8579",
   "metadata": {},
   "outputs": [],
   "source": [
    "_a = 6"
   ]
  },
  {
   "cell_type": "code",
   "execution_count": 58,
   "id": "1df7e29d",
   "metadata": {},
   "outputs": [
    {
     "name": "stdout",
     "output_type": "stream",
     "text": [
      "6\n"
     ]
    }
   ],
   "source": [
    "print(_a)"
   ]
  },
  {
   "cell_type": "code",
   "execution_count": 59,
   "id": "85a62e46",
   "metadata": {},
   "outputs": [
    {
     "name": "stdout",
     "output_type": "stream",
     "text": [
      "123\n"
     ]
    }
   ],
   "source": [
    "_b = 123\n",
    "print(_b)"
   ]
  },
  {
   "cell_type": "markdown",
   "id": "8b1f2b9d",
   "metadata": {},
   "source": [
    "# Python Assignment Operator"
   ]
  },
  {
   "cell_type": "code",
   "execution_count": 70,
   "id": "d0ba806b",
   "metadata": {},
   "outputs": [],
   "source": [
    "m = 15"
   ]
  },
  {
   "cell_type": "code",
   "execution_count": 71,
   "id": "6dbb30ba",
   "metadata": {},
   "outputs": [
    {
     "name": "stdout",
     "output_type": "stream",
     "text": [
      "25\n"
     ]
    }
   ],
   "source": [
    "m +=10\n",
    "print(m)"
   ]
  },
  {
   "cell_type": "code",
   "execution_count": 73,
   "id": "9dd43ee3",
   "metadata": {},
   "outputs": [],
   "source": [
    "m = 15\n",
    "m-=10"
   ]
  },
  {
   "cell_type": "code",
   "execution_count": 74,
   "id": "dd210073",
   "metadata": {},
   "outputs": [
    {
     "name": "stdout",
     "output_type": "stream",
     "text": [
      "5\n"
     ]
    }
   ],
   "source": [
    "print(m)"
   ]
  },
  {
   "cell_type": "code",
   "execution_count": 75,
   "id": "66cf3cf2",
   "metadata": {},
   "outputs": [
    {
     "name": "stdout",
     "output_type": "stream",
     "text": [
      "150\n"
     ]
    }
   ],
   "source": [
    "m = 15\n",
    "m*=10\n",
    "print(m)"
   ]
  },
  {
   "cell_type": "code",
   "execution_count": 76,
   "id": "c8d971d0",
   "metadata": {},
   "outputs": [
    {
     "name": "stdout",
     "output_type": "stream",
     "text": [
      "1.5\n"
     ]
    }
   ],
   "source": [
    "m = 15\n",
    "m/=10\n",
    "print(m)"
   ]
  },
  {
   "cell_type": "code",
   "execution_count": 77,
   "id": "3fe8ec79",
   "metadata": {},
   "outputs": [
    {
     "name": "stdout",
     "output_type": "stream",
     "text": [
      "225\n"
     ]
    }
   ],
   "source": [
    "m = 15\n",
    "m**=2\n",
    "print(m)"
   ]
  },
  {
   "cell_type": "code",
   "execution_count": 79,
   "id": "6195a49f",
   "metadata": {},
   "outputs": [
    {
     "name": "stdout",
     "output_type": "stream",
     "text": [
      "25\n"
     ]
    }
   ],
   "source": [
    "m = 15\n",
    "m = m+10\n",
    "print(m)"
   ]
  },
  {
   "cell_type": "code",
   "execution_count": 80,
   "id": "8446f8be",
   "metadata": {},
   "outputs": [
    {
     "name": "stdout",
     "output_type": "stream",
     "text": [
      "25\n"
     ]
    }
   ],
   "source": [
    "m = 15\n",
    "m+=10\n",
    "print(m)"
   ]
  },
  {
   "cell_type": "code",
   "execution_count": 81,
   "id": "9de005aa",
   "metadata": {},
   "outputs": [
    {
     "name": "stdout",
     "output_type": "stream",
     "text": [
      "0\n"
     ]
    }
   ],
   "source": [
    "m = 15\n",
    "m %=5\n",
    "print(m)"
   ]
  },
  {
   "cell_type": "code",
   "execution_count": 82,
   "id": "0eb684b2",
   "metadata": {},
   "outputs": [],
   "source": [
    "m =15\n",
    "m //= 3"
   ]
  },
  {
   "cell_type": "code",
   "execution_count": 83,
   "id": "c6d64e23",
   "metadata": {},
   "outputs": [
    {
     "name": "stdout",
     "output_type": "stream",
     "text": [
      "5\n"
     ]
    }
   ],
   "source": [
    "print(m)"
   ]
  },
  {
   "cell_type": "markdown",
   "id": "b4dade8d",
   "metadata": {},
   "source": [
    "# python logical & Boolean Operator "
   ]
  },
  {
   "cell_type": "code",
   "execution_count": 6,
   "id": "d312c04e",
   "metadata": {},
   "outputs": [],
   "source": [
    "a = True\n",
    "b = True\n",
    "c = False\n",
    "d = False"
   ]
  },
  {
   "cell_type": "code",
   "execution_count": 4,
   "id": "a141cd03",
   "metadata": {},
   "outputs": [
    {
     "data": {
      "text/plain": [
       "bool"
      ]
     },
     "execution_count": 4,
     "metadata": {},
     "output_type": "execute_result"
    }
   ],
   "source": [
    "type(a)"
   ]
  },
  {
   "cell_type": "code",
   "execution_count": 87,
   "id": "062a5f47",
   "metadata": {},
   "outputs": [
    {
     "data": {
      "text/plain": [
       "bool"
      ]
     },
     "execution_count": 87,
     "metadata": {},
     "output_type": "execute_result"
    }
   ],
   "source": [
    "type(b)"
   ]
  },
  {
   "cell_type": "code",
   "execution_count": 88,
   "id": "a27c3a32",
   "metadata": {},
   "outputs": [
    {
     "data": {
      "text/plain": [
       "bool"
      ]
     },
     "execution_count": 88,
     "metadata": {},
     "output_type": "execute_result"
    }
   ],
   "source": [
    "type(c)"
   ]
  },
  {
   "cell_type": "code",
   "execution_count": 89,
   "id": "43f43dbe",
   "metadata": {},
   "outputs": [
    {
     "data": {
      "text/plain": [
       "bool"
      ]
     },
     "execution_count": 89,
     "metadata": {},
     "output_type": "execute_result"
    }
   ],
   "source": [
    "type (d)"
   ]
  },
  {
   "cell_type": "code",
   "execution_count": 90,
   "id": "5ae67514",
   "metadata": {},
   "outputs": [
    {
     "name": "stdout",
     "output_type": "stream",
     "text": [
      "True\n"
     ]
    }
   ],
   "source": [
    "print ( a and b)"
   ]
  },
  {
   "cell_type": "code",
   "execution_count": 91,
   "id": "34a7e241",
   "metadata": {},
   "outputs": [
    {
     "name": "stdout",
     "output_type": "stream",
     "text": [
      "False\n"
     ]
    }
   ],
   "source": [
    "print( b and c )"
   ]
  },
  {
   "cell_type": "code",
   "execution_count": 92,
   "id": "ef8612a5",
   "metadata": {},
   "outputs": [
    {
     "name": "stdout",
     "output_type": "stream",
     "text": [
      "False\n"
     ]
    }
   ],
   "source": [
    "print( c and a)"
   ]
  },
  {
   "cell_type": "code",
   "execution_count": 93,
   "id": "d5ffc6d9",
   "metadata": {},
   "outputs": [
    {
     "name": "stdout",
     "output_type": "stream",
     "text": [
      "False\n"
     ]
    }
   ],
   "source": [
    "print( c and d )"
   ]
  },
  {
   "cell_type": "code",
   "execution_count": 94,
   "id": "eb63e693",
   "metadata": {},
   "outputs": [
    {
     "name": "stdout",
     "output_type": "stream",
     "text": [
      "False\n"
     ]
    }
   ],
   "source": [
    "print ((  a and b) and ( c and d))"
   ]
  },
  {
   "cell_type": "code",
   "execution_count": 95,
   "id": "d00db58f",
   "metadata": {},
   "outputs": [
    {
     "name": "stdout",
     "output_type": "stream",
     "text": [
      "Variable   Type        Data/Info\n",
      "--------------------------------\n",
      "a          bool        True\n",
      "add        int         6\n",
      "b          bool        True\n",
      "c          bool        False\n",
      "d          bool        False\n",
      "e          str          how are you \n",
      "f          complex     (6+8j)\n",
      "m          int         5\n",
      "x          NoneType    None\n"
     ]
    }
   ],
   "source": [
    "%whos"
   ]
  },
  {
   "cell_type": "code",
   "execution_count": 23,
   "id": "88e25e92",
   "metadata": {},
   "outputs": [],
   "source": [
    "a = True\n",
    "b = True\n",
    "c = False\n",
    "d = False"
   ]
  },
  {
   "cell_type": "code",
   "execution_count": 97,
   "id": "f7729c47",
   "metadata": {},
   "outputs": [
    {
     "name": "stdout",
     "output_type": "stream",
     "text": [
      "True\n"
     ]
    }
   ],
   "source": [
    "print ( a or b )"
   ]
  },
  {
   "cell_type": "code",
   "execution_count": 98,
   "id": "ee989ed9",
   "metadata": {},
   "outputs": [
    {
     "name": "stdout",
     "output_type": "stream",
     "text": [
      "True\n"
     ]
    }
   ],
   "source": [
    "print ( b or c)"
   ]
  },
  {
   "cell_type": "code",
   "execution_count": 99,
   "id": "f0872cef",
   "metadata": {},
   "outputs": [
    {
     "name": "stdout",
     "output_type": "stream",
     "text": [
      "False\n"
     ]
    }
   ],
   "source": [
    "print( c and b)"
   ]
  },
  {
   "cell_type": "code",
   "execution_count": 100,
   "id": "2b7a5323",
   "metadata": {},
   "outputs": [
    {
     "name": "stdout",
     "output_type": "stream",
     "text": [
      "True\n"
     ]
    }
   ],
   "source": [
    "print( c or b)"
   ]
  },
  {
   "cell_type": "code",
   "execution_count": 101,
   "id": "d762ee0f",
   "metadata": {},
   "outputs": [
    {
     "name": "stdout",
     "output_type": "stream",
     "text": [
      "False\n"
     ]
    }
   ],
   "source": [
    "print ( c or d)"
   ]
  },
  {
   "cell_type": "code",
   "execution_count": 102,
   "id": "67bccffa",
   "metadata": {},
   "outputs": [
    {
     "name": "stdout",
     "output_type": "stream",
     "text": [
      "True\n"
     ]
    }
   ],
   "source": [
    "print ( ( a or b) or ( a or c) or ( c or d))"
   ]
  },
  {
   "cell_type": "code",
   "execution_count": 103,
   "id": "e7f93448",
   "metadata": {},
   "outputs": [
    {
     "name": "stdout",
     "output_type": "stream",
     "text": [
      "False\n"
     ]
    }
   ],
   "source": [
    "print ( not(a))"
   ]
  },
  {
   "cell_type": "code",
   "execution_count": 104,
   "id": "0b353127",
   "metadata": {},
   "outputs": [
    {
     "name": "stdout",
     "output_type": "stream",
     "text": [
      "True\n"
     ]
    }
   ],
   "source": [
    "print ( not(c))"
   ]
  },
  {
   "cell_type": "code",
   "execution_count": 13,
   "id": "c098b494",
   "metadata": {},
   "outputs": [
    {
     "name": "stdout",
     "output_type": "stream",
     "text": [
      "False\n"
     ]
    }
   ],
   "source": [
    "print (not(( a and b) or ( a and d) and ( a and c) and ( b and c) or ( d and c)))"
   ]
  },
  {
   "cell_type": "markdown",
   "id": "ce1aa82a",
   "metadata": {},
   "source": [
    "not>and>or"
   ]
  },
  {
   "cell_type": "markdown",
   "id": "d0387321",
   "metadata": {},
   "source": [
    "# Comparison operators"
   ]
  },
  {
   "cell_type": "code",
   "execution_count": 7,
   "id": "404b59bd",
   "metadata": {},
   "outputs": [
    {
     "name": "stdout",
     "output_type": "stream",
     "text": [
      "False\n"
     ]
    }
   ],
   "source": [
    "c = 2>3\n",
    "print(c)"
   ]
  },
  {
   "cell_type": "code",
   "execution_count": 3,
   "id": "3099ccd5",
   "metadata": {},
   "outputs": [
    {
     "data": {
      "text/plain": [
       "bool"
      ]
     },
     "execution_count": 3,
     "metadata": {},
     "output_type": "execute_result"
    }
   ],
   "source": [
    "type(c)"
   ]
  },
  {
   "cell_type": "code",
   "execution_count": 4,
   "id": "8a81a7a3",
   "metadata": {},
   "outputs": [
    {
     "name": "stdout",
     "output_type": "stream",
     "text": [
      "False\n"
     ]
    }
   ],
   "source": [
    "d = 2==3\n",
    "print(d)"
   ]
  },
  {
   "cell_type": "code",
   "execution_count": 5,
   "id": "2cdc03cc",
   "metadata": {},
   "outputs": [
    {
     "data": {
      "text/plain": [
       "True"
      ]
     },
     "execution_count": 5,
     "metadata": {},
     "output_type": "execute_result"
    }
   ],
   "source": [
    "3 == 3.0\n"
   ]
  },
  {
   "cell_type": "code",
   "execution_count": 6,
   "id": "3534f3cf",
   "metadata": {},
   "outputs": [
    {
     "data": {
      "text/plain": [
       "False"
      ]
     },
     "execution_count": 6,
     "metadata": {},
     "output_type": "execute_result"
    }
   ],
   "source": [
    "3 == 3.1"
   ]
  },
  {
   "cell_type": "code",
   "execution_count": 7,
   "id": "abbd1b9a",
   "metadata": {},
   "outputs": [],
   "source": [
    "p = 12\n",
    "q = 8\n",
    "r = -3\n",
    "s = 5.56"
   ]
  },
  {
   "cell_type": "code",
   "execution_count": 8,
   "id": "e1e28001",
   "metadata": {},
   "outputs": [
    {
     "name": "stdout",
     "output_type": "stream",
     "text": [
      "False\n"
     ]
    }
   ],
   "source": [
    "print((q<p) and (r>s))"
   ]
  },
  {
   "cell_type": "code",
   "execution_count": 9,
   "id": "574a504f",
   "metadata": {},
   "outputs": [
    {
     "name": "stdout",
     "output_type": "stream",
     "text": [
      "True\n"
     ]
    }
   ],
   "source": [
    "print ( not((p==q) or ( r==s)))"
   ]
  },
  {
   "cell_type": "code",
   "execution_count": 10,
   "id": "045d173b",
   "metadata": {},
   "outputs": [
    {
     "name": "stdout",
     "output_type": "stream",
     "text": [
      "True\n"
     ]
    }
   ],
   "source": [
    "print((p>=r) and (r<=s) or (q<=r))"
   ]
  },
  {
   "cell_type": "code",
   "execution_count": 6,
   "id": "9581123f",
   "metadata": {},
   "outputs": [
    {
     "data": {
      "text/plain": [
       "True"
      ]
     },
     "execution_count": 6,
     "metadata": {},
     "output_type": "execute_result"
    }
   ],
   "source": [
    "True and False or True and True"
   ]
  },
  {
   "cell_type": "code",
   "execution_count": 12,
   "id": "185276a8",
   "metadata": {},
   "outputs": [
    {
     "name": "stdout",
     "output_type": "stream",
     "text": [
      "False\n"
     ]
    }
   ],
   "source": [
    "print ( (not(2!=3) and True) or (False and True))"
   ]
  },
  {
   "cell_type": "markdown",
   "id": "845792e8",
   "metadata": {},
   "source": [
    "# Bitwise operator"
   ]
  },
  {
   "cell_type": "code",
   "execution_count": 17,
   "id": "9667c816",
   "metadata": {},
   "outputs": [
    {
     "name": "stdout",
     "output_type": "stream",
     "text": [
      "4\n"
     ]
    }
   ],
   "source": [
    "a = 5\n",
    "b = 4\n",
    "print(a & b)"
   ]
  },
  {
   "cell_type": "code",
   "execution_count": 1,
   "id": "e93bddfb",
   "metadata": {},
   "outputs": [
    {
     "name": "stdout",
     "output_type": "stream",
     "text": [
      "0\n"
     ]
    }
   ],
   "source": [
    "a = 6\n",
    "b = 8\n",
    "print(a&b)"
   ]
  },
  {
   "cell_type": "code",
   "execution_count": 18,
   "id": "cbd255df",
   "metadata": {},
   "outputs": [
    {
     "name": "stdout",
     "output_type": "stream",
     "text": [
      "<class 'int'>\n"
     ]
    }
   ],
   "source": [
    "print(type(a & b))"
   ]
  },
  {
   "cell_type": "code",
   "execution_count": 20,
   "id": "398cdb61",
   "metadata": {},
   "outputs": [
    {
     "name": "stdout",
     "output_type": "stream",
     "text": [
      "139312\n"
     ]
    }
   ],
   "source": [
    "a = 789456123\n",
    "b = 145968\n",
    "print( a & b)"
   ]
  },
  {
   "cell_type": "code",
   "execution_count": 21,
   "id": "e43ec0b0",
   "metadata": {},
   "outputs": [
    {
     "name": "stdout",
     "output_type": "stream",
     "text": [
      "397746777119396164\n"
     ]
    }
   ],
   "source": [
    "a = 7894561478523966454\n",
    "b= 987456321486215852356\n",
    "print ( a & b)"
   ]
  },
  {
   "cell_type": "code",
   "execution_count": 22,
   "id": "fc4e0bb6",
   "metadata": {},
   "outputs": [
    {
     "name": "stdout",
     "output_type": "stream",
     "text": [
      "5\n"
     ]
    }
   ],
   "source": [
    "a = 5\n",
    "b = 4\n",
    "print(a|b)"
   ]
  },
  {
   "cell_type": "code",
   "execution_count": 2,
   "id": "30a72fe8",
   "metadata": {},
   "outputs": [
    {
     "name": "stdout",
     "output_type": "stream",
     "text": [
      "14\n"
     ]
    }
   ],
   "source": [
    "a = 6\n",
    "b=8\n",
    "print(a|b)"
   ]
  },
  {
   "cell_type": "code",
   "execution_count": 24,
   "id": "e88e2368",
   "metadata": {},
   "outputs": [
    {
     "name": "stdout",
     "output_type": "stream",
     "text": [
      "1543200451\n"
     ]
    }
   ],
   "source": [
    "a = 456789123\n",
    "b =1239636547\n",
    "print ( a| b)"
   ]
  },
  {
   "cell_type": "code",
   "execution_count": 1,
   "id": "2638eb8f",
   "metadata": {},
   "outputs": [
    {
     "name": "stdout",
     "output_type": "stream",
     "text": [
      "1\n"
     ]
    }
   ],
   "source": [
    "a = 5\n",
    "b = 4\n",
    "print(a ^ b)"
   ]
  },
  {
   "cell_type": "code",
   "execution_count": 2,
   "id": "9d68b70e",
   "metadata": {},
   "outputs": [
    {
     "name": "stdout",
     "output_type": "stream",
     "text": [
      "12\n"
     ]
    }
   ],
   "source": [
    "a = 6\n",
    "b = 10\n",
    "print( a^b)"
   ]
  },
  {
   "cell_type": "code",
   "execution_count": 27,
   "id": "ce30707d",
   "metadata": {},
   "outputs": [
    {
     "name": "stdout",
     "output_type": "stream",
     "text": [
      "414215\n"
     ]
    }
   ],
   "source": [
    "a = 784512\n",
    "b =895623\n",
    "print( a ^b )"
   ]
  },
  {
   "cell_type": "code",
   "execution_count": 28,
   "id": "0260d44b",
   "metadata": {},
   "outputs": [
    {
     "name": "stdout",
     "output_type": "stream",
     "text": [
      "-6\n"
     ]
    }
   ],
   "source": [
    " a = 5\n",
    "print (~5)"
   ]
  },
  {
   "cell_type": "code",
   "execution_count": 29,
   "id": "e32ca065",
   "metadata": {},
   "outputs": [
    {
     "name": "stdout",
     "output_type": "stream",
     "text": [
      "-11\n"
     ]
    }
   ],
   "source": [
    "a = 10\n",
    "print (~a)"
   ]
  },
  {
   "cell_type": "code",
   "execution_count": 30,
   "id": "c992a904",
   "metadata": {},
   "outputs": [
    {
     "name": "stdout",
     "output_type": "stream",
     "text": [
      "-47852146\n"
     ]
    }
   ],
   "source": [
    "a = 47852145\n",
    "print ( ~a)"
   ]
  },
  {
   "cell_type": "code",
   "execution_count": 1,
   "id": "c0fb19d8",
   "metadata": {},
   "outputs": [
    {
     "name": "stdout",
     "output_type": "stream",
     "text": [
      "20\n"
     ]
    }
   ],
   "source": [
    "a = 5\n",
    "print ( a<< 2)\n",
    "#5<1=10\n",
    "#5<2=20\n",
    "#101\n",
    "#10100"
   ]
  },
  {
   "cell_type": "code",
   "execution_count": 32,
   "id": "451b248d",
   "metadata": {},
   "outputs": [
    {
     "name": "stdout",
     "output_type": "stream",
     "text": [
      "28\n"
     ]
    }
   ],
   "source": [
    "a = 7\n",
    "print( a << 2)"
   ]
  },
  {
   "cell_type": "code",
   "execution_count": 33,
   "id": "0e75280d",
   "metadata": {},
   "outputs": [
    {
     "name": "stdout",
     "output_type": "stream",
     "text": [
      "25262592\n"
     ]
    }
   ],
   "source": [
    "a = 789456\n",
    "print( a << 5)"
   ]
  },
  {
   "cell_type": "code",
   "execution_count": 34,
   "id": "738fafe7",
   "metadata": {},
   "outputs": [
    {
     "name": "stdout",
     "output_type": "stream",
     "text": [
      "1\n"
     ]
    }
   ],
   "source": [
    "a = 5\n",
    "print ( a>> 2)"
   ]
  },
  {
   "cell_type": "code",
   "execution_count": 35,
   "id": "9b2740f3",
   "metadata": {},
   "outputs": [
    {
     "name": "stdout",
     "output_type": "stream",
     "text": [
      "0\n"
     ]
    }
   ],
   "source": [
    "a = 7\n",
    "print ( a>> 3)"
   ]
  },
  {
   "cell_type": "code",
   "execution_count": 36,
   "id": "b0a97df5",
   "metadata": {},
   "outputs": [
    {
     "name": "stdout",
     "output_type": "stream",
     "text": [
      "2\n"
     ]
    }
   ],
   "source": [
    "a = 9\n",
    "print ( a >> 2)"
   ]
  },
  {
   "cell_type": "code",
   "execution_count": 37,
   "id": "eff6076f",
   "metadata": {},
   "outputs": [
    {
     "name": "stdout",
     "output_type": "stream",
     "text": [
      "0\n"
     ]
    }
   ],
   "source": [
    "a = 147852396\n",
    "print ( a >> 78)"
   ]
  },
  {
   "cell_type": "code",
   "execution_count": 1,
   "id": "9f3297c2",
   "metadata": {},
   "outputs": [
    {
     "name": "stdout",
     "output_type": "stream",
     "text": [
      "[98, 24, 85, 56, 23]\n"
     ]
    }
   ],
   "source": [
    "L= [23,24,85,56,98]\n",
    "temp = L[0]\n",
    "L[0]=L[4]\n",
    "L[4]=temp\n",
    "print(L)"
   ]
  },
  {
   "cell_type": "code",
   "execution_count": null,
   "id": "5f96fda9",
   "metadata": {},
   "outputs": [],
   "source": []
  }
 ],
 "metadata": {
  "kernelspec": {
   "display_name": "Python 3 (ipykernel)",
   "language": "python",
   "name": "python3"
  },
  "language_info": {
   "codemirror_mode": {
    "name": "ipython",
    "version": 3
   },
   "file_extension": ".py",
   "mimetype": "text/x-python",
   "name": "python",
   "nbconvert_exporter": "python",
   "pygments_lexer": "ipython3",
   "version": "3.12.3"
  }
 },
 "nbformat": 4,
 "nbformat_minor": 5
}
