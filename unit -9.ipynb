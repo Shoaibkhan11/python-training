{
 "cells": [
  {
   "cell_type": "markdown",
   "id": "b64cdb8b",
   "metadata": {},
   "source": [
    "# Unit -9"
   ]
  },
  {
   "cell_type": "markdown",
   "id": "ad58800f",
   "metadata": {},
   "source": [
    "# Tuples in python"
   ]
  },
  {
   "cell_type": "code",
   "execution_count": 1,
   "id": "a31ea456",
   "metadata": {},
   "outputs": [
    {
     "name": "stdout",
     "output_type": "stream",
     "text": [
      "(12, 13, 18, 56, 78, 36)\n",
      "<class 'tuple'>\n"
     ]
    }
   ],
   "source": [
    "T = (12,13,18,56,78,36)\n",
    "print(T)\n",
    "print(type(T))"
   ]
  },
  {
   "cell_type": "code",
   "execution_count": 2,
   "id": "e5621c6a",
   "metadata": {},
   "outputs": [
    {
     "name": "stdout",
     "output_type": "stream",
     "text": [
      "(12, 13, 18, 56, 78, 36, -36, -45, 5.36, 7.89, 'apple', 'python', 'code')\n",
      "<class 'tuple'>\n"
     ]
    }
   ],
   "source": [
    "T = (12,13,18,56,78,36,-36,-45,5.36,7.89,\"apple\",\"python\", \"code\")\n",
    "print(T)\n",
    "print(type(T))"
   ]
  },
  {
   "cell_type": "code",
   "execution_count": 3,
   "id": "eaf1c246",
   "metadata": {},
   "outputs": [
    {
     "name": "stdout",
     "output_type": "stream",
     "text": [
      "()\n",
      "<class 'tuple'>\n"
     ]
    }
   ],
   "source": [
    "T = ()\n",
    "print(T)\n",
    "print(type(T))"
   ]
  },
  {
   "cell_type": "code",
   "execution_count": 8,
   "id": "9270078d",
   "metadata": {},
   "outputs": [
    {
     "name": "stdout",
     "output_type": "stream",
     "text": [
      "<class 'tuple'>\n"
     ]
    }
   ],
   "source": [
    "m = (25,)\n",
    "print(type(m))"
   ]
  },
  {
   "cell_type": "code",
   "execution_count": 9,
   "id": "80a78d01",
   "metadata": {},
   "outputs": [
    {
     "name": "stdout",
     "output_type": "stream",
     "text": [
      "<class 'tuple'>\n"
     ]
    }
   ],
   "source": [
    "m = (25.3,)\n",
    "print(type(m))"
   ]
  },
  {
   "cell_type": "code",
   "execution_count": 10,
   "id": "b8bea50c",
   "metadata": {},
   "outputs": [
    {
     "name": "stdout",
     "output_type": "stream",
     "text": [
      "<class 'tuple'>\n"
     ]
    }
   ],
   "source": [
    "m = (\"hello\",)\n",
    "print(type(m))"
   ]
  },
  {
   "cell_type": "code",
   "execution_count": 11,
   "id": "cce5e494",
   "metadata": {},
   "outputs": [
    {
     "name": "stdout",
     "output_type": "stream",
     "text": [
      "(12, 35, 78, (2, 4, 6), (2.3, 4.3, 5.6), ('HELLO', 'world'))\n",
      "<class 'tuple'>\n"
     ]
    }
   ],
   "source": [
    "T = (12,35,78,(2,4,6),(2.3,4.3,5.6),(\"HELLO\",\"world\"))\n",
    "print(T)\n",
    "print(type(T))"
   ]
  },
  {
   "cell_type": "markdown",
   "id": "7cb1cc65",
   "metadata": {},
   "source": [
    "# concatenation of tuples"
   ]
  },
  {
   "cell_type": "code",
   "execution_count": 12,
   "id": "11791fb0",
   "metadata": {},
   "outputs": [
    {
     "name": "stdout",
     "output_type": "stream",
     "text": [
      "(12, 13, 14, 15, 10, 15, 20, 25, 30)\n"
     ]
    }
   ],
   "source": [
    "tuple1 = (12,13,14,15)\n",
    "tuple2 = (10,15,20,25,30)\n",
    "print(tuple1 + tuple2)"
   ]
  },
  {
   "cell_type": "markdown",
   "id": "128a6a89",
   "metadata": {},
   "source": [
    "# nesting of tuples"
   ]
  },
  {
   "cell_type": "code",
   "execution_count": 13,
   "id": "0ebadb53",
   "metadata": {},
   "outputs": [
    {
     "name": "stdout",
     "output_type": "stream",
     "text": [
      "(20, 13, 14, 15)\n",
      "(-1, -2, -3, -4)\n",
      "((20, 13, 14, 15), (-1, -2, -3, -4))\n"
     ]
    }
   ],
   "source": [
    "tuple1 = (20,13,14,15)\n",
    "tuple2 = (-1,-2,-3,-4)\n",
    "tuple3 =(tuple1,tuple2)\n",
    "print(tuple1)\n",
    "print(tuple2)\n",
    "print(tuple3)"
   ]
  },
  {
   "cell_type": "markdown",
   "id": "02ba3bdf",
   "metadata": {},
   "source": [
    "# multiply tuples"
   ]
  },
  {
   "cell_type": "code",
   "execution_count": 15,
   "id": "fa670901",
   "metadata": {},
   "outputs": [
    {
     "name": "stdout",
     "output_type": "stream",
     "text": [
      "('apple', 'banana', 'cherry', 'apple', 'banana', 'cherry')\n"
     ]
    }
   ],
   "source": [
    "fruits = (\"apple\", \"banana\", \"cherry\")\n",
    "t = fruits*2\n",
    "print(t)"
   ]
  },
  {
   "cell_type": "code",
   "execution_count": 1,
   "id": "0ed0379a",
   "metadata": {},
   "outputs": [
    {
     "name": "stdout",
     "output_type": "stream",
     "text": [
      "('apple', 'banana', 'cherry', 'apple', 'banana', 'cherry', 'apple', 'banana', 'cherry')\n"
     ]
    },
    {
     "data": {
      "text/plain": [
       "tuple"
      ]
     },
     "execution_count": 1,
     "metadata": {},
     "output_type": "execute_result"
    }
   ],
   "source": [
    "fruits = (\"apple\", \"banana\", \"cherry\")\n",
    "t = fruits*3\n",
    "print(t)\n",
    "type(t)"
   ]
  },
  {
   "cell_type": "markdown",
   "id": "8cd05091",
   "metadata": {},
   "source": [
    "# length of the tuple"
   ]
  },
  {
   "cell_type": "code",
   "execution_count": 17,
   "id": "0c43d503",
   "metadata": {},
   "outputs": [
    {
     "name": "stdout",
     "output_type": "stream",
     "text": [
      "8\n"
     ]
    }
   ],
   "source": [
    "a= (14,78,36,-6,3.69,\"cat\",\"bat\",\"rat\")\n",
    "print(len(a))"
   ]
  },
  {
   "cell_type": "code",
   "execution_count": 18,
   "id": "60424318",
   "metadata": {},
   "outputs": [
    {
     "name": "stdout",
     "output_type": "stream",
     "text": [
      "(12, 14, 16, 12, 14, 86, 74, 1, 2, 14, 36, 86)\n",
      "<class 'tuple'>\n"
     ]
    }
   ],
   "source": [
    "t= (12,14,16,12,14,86,74,1,2,14,36,86)\n",
    "print(t)\n",
    "print(type(t))"
   ]
  },
  {
   "cell_type": "markdown",
   "id": "6fdf6a78",
   "metadata": {},
   "source": [
    "# count() method"
   ]
  },
  {
   "cell_type": "code",
   "execution_count": 20,
   "id": "eb0e1825",
   "metadata": {},
   "outputs": [
    {
     "name": "stdout",
     "output_type": "stream",
     "text": [
      "3\n",
      "2\n",
      "(12, 14, 16, 12, 14, 86, 74, 1, 2, 14, 36, 86)\n",
      "<class 'tuple'>\n"
     ]
    }
   ],
   "source": [
    "t= (12,14,16,12,14,86,74,1,2,14,36,86)\n",
    "print(t.count(14))\n",
    "print(t.count(86))\n",
    "print(t)\n",
    "print(type(t))"
   ]
  },
  {
   "cell_type": "markdown",
   "id": "1a15e25d",
   "metadata": {},
   "source": [
    "# indexing in tuple"
   ]
  },
  {
   "cell_type": "code",
   "execution_count": 23,
   "id": "c63f48e2",
   "metadata": {},
   "outputs": [
    {
     "name": "stdout",
     "output_type": "stream",
     "text": [
      "78\n"
     ]
    }
   ],
   "source": [
    "a = (47,12,63,54,12,78,48,36)\n",
    "print(a[5])"
   ]
  },
  {
   "cell_type": "code",
   "execution_count": 24,
   "id": "e0253158",
   "metadata": {},
   "outputs": [
    {
     "name": "stdout",
     "output_type": "stream",
     "text": [
      "63\n"
     ]
    }
   ],
   "source": [
    "a = (47,12,63,54,12,78,48,36)\n",
    "print(a[2])"
   ]
  },
  {
   "cell_type": "code",
   "execution_count": 25,
   "id": "0599ef27",
   "metadata": {},
   "outputs": [
    {
     "name": "stdout",
     "output_type": "stream",
     "text": [
      "36\n"
     ]
    }
   ],
   "source": [
    "a = (47,12,63,54,12,78,48,36)\n",
    "print(a[-1])"
   ]
  },
  {
   "cell_type": "code",
   "execution_count": 26,
   "id": "c038ef37",
   "metadata": {},
   "outputs": [
    {
     "name": "stdout",
     "output_type": "stream",
     "text": [
      "63\n"
     ]
    }
   ],
   "source": [
    "a = (47,12,63,54,12,78,48,36)\n",
    "print(a[-6])"
   ]
  },
  {
   "cell_type": "markdown",
   "id": "ad97c953",
   "metadata": {},
   "source": [
    "# index method"
   ]
  },
  {
   "cell_type": "code",
   "execution_count": 37,
   "id": "76887ecb",
   "metadata": {},
   "outputs": [
    {
     "name": "stdout",
     "output_type": "stream",
     "text": [
      "3\n"
     ]
    }
   ],
   "source": [
    "a = (14,12,36,89,74,23,16)\n",
    "x = a.index(89)\n",
    "print(x)\n"
   ]
  },
  {
   "cell_type": "code",
   "execution_count": 39,
   "id": "6c259b77",
   "metadata": {},
   "outputs": [
    {
     "name": "stdout",
     "output_type": "stream",
     "text": [
      "7\n"
     ]
    }
   ],
   "source": [
    "a = (14,12,36,89,74,23,16,\"code\",\"program\",\"python\")\n",
    "x = a.index(\"code\")\n",
    "print(x)"
   ]
  },
  {
   "cell_type": "markdown",
   "id": "a65fd4d0",
   "metadata": {},
   "source": [
    "# slicing in tuple"
   ]
  },
  {
   "cell_type": "code",
   "execution_count": 41,
   "id": "6bc51e83",
   "metadata": {},
   "outputs": [
    {
     "name": "stdout",
     "output_type": "stream",
     "text": [
      "8\n",
      "(45, 21, 31, 14, 16, 28)\n"
     ]
    }
   ],
   "source": [
    "a = (45,21,31,14,16,28,37,69)\n",
    "print(len(a))\n",
    "print(a[0:6])"
   ]
  },
  {
   "cell_type": "code",
   "execution_count": 42,
   "id": "e932785a",
   "metadata": {},
   "outputs": [
    {
     "name": "stdout",
     "output_type": "stream",
     "text": [
      "8\n",
      "(45, 21, 31, 14, 16, 28)\n"
     ]
    }
   ],
   "source": [
    "a = (45,21,31,14,16,28,37,69)\n",
    "print(len(a))\n",
    "print(a[:6])"
   ]
  },
  {
   "cell_type": "code",
   "execution_count": 43,
   "id": "963cdaed",
   "metadata": {},
   "outputs": [
    {
     "name": "stdout",
     "output_type": "stream",
     "text": [
      "8\n",
      "(45, 21, 31, 14, 16, 28, 37, 69)\n"
     ]
    }
   ],
   "source": [
    "a = (45,21,31,14,16,28,37,69)\n",
    "print(len(a))\n",
    "print(a[:8])"
   ]
  },
  {
   "cell_type": "code",
   "execution_count": 45,
   "id": "c2011600",
   "metadata": {},
   "outputs": [
    {
     "name": "stdout",
     "output_type": "stream",
     "text": [
      "8\n",
      "(45, 21, 31, 14, 16, 28, 37)\n"
     ]
    }
   ],
   "source": [
    "a = (45,21,31,14,16,28,37,69)\n",
    "print(len(a))\n",
    "print(a[:7])"
   ]
  },
  {
   "cell_type": "code",
   "execution_count": 46,
   "id": "500c1f2f",
   "metadata": {},
   "outputs": [
    {
     "name": "stdout",
     "output_type": "stream",
     "text": [
      "8\n",
      "(45, 31, 16, 37)\n"
     ]
    }
   ],
   "source": [
    "a = (45,21,31,14,16,28,37,69)\n",
    "print(len(a))\n",
    "print(a[0:8:2])"
   ]
  },
  {
   "cell_type": "code",
   "execution_count": 6,
   "id": "e2e1b3e2",
   "metadata": {},
   "outputs": [
    {
     "name": "stdout",
     "output_type": "stream",
     "text": [
      "8\n",
      "(31, 14, 16, 28, 37)\n"
     ]
    }
   ],
   "source": [
    "a = (45,21,31,14,16,28,37,69)\n",
    "print(len(a))\n",
    "print(a[-6:-1])"
   ]
  },
  {
   "cell_type": "code",
   "execution_count": 48,
   "id": "9eb2867a",
   "metadata": {},
   "outputs": [
    {
     "name": "stdout",
     "output_type": "stream",
     "text": [
      "8\n",
      "(45, 14, 37)\n"
     ]
    }
   ],
   "source": [
    "a = (45,21,31,14,16,28,37,69)\n",
    "print(len(a))\n",
    "print(a[::3])"
   ]
  },
  {
   "cell_type": "code",
   "execution_count": 49,
   "id": "0fb71436",
   "metadata": {},
   "outputs": [
    {
     "name": "stdout",
     "output_type": "stream",
     "text": [
      "(69, 37, 28, 16, 14, 31, 21, 45)\n"
     ]
    }
   ],
   "source": [
    "a = (45,21,31,14,16,28,37,69)\n",
    "print(a[::-1])"
   ]
  },
  {
   "cell_type": "markdown",
   "id": "e6dbb0a0",
   "metadata": {},
   "source": [
    "# repetition in python tuples"
   ]
  },
  {
   "cell_type": "code",
   "execution_count": 7,
   "id": "bcf79b44",
   "metadata": {},
   "outputs": [
    {
     "name": "stdout",
     "output_type": "stream",
     "text": [
      "(20, 20, 20)\n",
      "<class 'tuple'>\n"
     ]
    }
   ],
   "source": [
    "a = (20,)*3\n",
    "print(a)\n",
    "print(type(a))"
   ]
  },
  {
   "cell_type": "code",
   "execution_count": 51,
   "id": "4784923e",
   "metadata": {},
   "outputs": [
    {
     "name": "stdout",
     "output_type": "stream",
     "text": [
      "61.5\n"
     ]
    }
   ],
   "source": [
    "tuple = (20.5)*3\n",
    "print(tuple)"
   ]
  },
  {
   "cell_type": "code",
   "execution_count": 53,
   "id": "66fbc760",
   "metadata": {},
   "outputs": [
    {
     "name": "stdout",
     "output_type": "stream",
     "text": [
      "appleappleapple\n"
     ]
    }
   ],
   "source": [
    "tuple = (\"apple\")*3\n",
    "print(tuple)"
   ]
  },
  {
   "cell_type": "code",
   "execution_count": 2,
   "id": "fb4a53f8",
   "metadata": {},
   "outputs": [
    {
     "ename": "TypeError",
     "evalue": "'tuple' object does not support item assignment",
     "output_type": "error",
     "traceback": [
      "\u001b[1;31m---------------------------------------------------------------------------\u001b[0m",
      "\u001b[1;31mTypeError\u001b[0m                                 Traceback (most recent call last)",
      "Cell \u001b[1;32mIn[2], line 2\u001b[0m\n\u001b[0;32m      1\u001b[0m tuple1 \u001b[38;5;241m=\u001b[39m (\u001b[38;5;241m10\u001b[39m,\u001b[38;5;241m8\u001b[39m,\u001b[38;5;241m9\u001b[39m,\u001b[38;5;241m7\u001b[39m)\n\u001b[1;32m----> 2\u001b[0m tuple1[\u001b[38;5;241m1\u001b[39m] \u001b[38;5;241m=\u001b[39m\u001b[38;5;241m15\u001b[39m\n\u001b[0;32m      3\u001b[0m \u001b[38;5;28mprint\u001b[39m(\u001b[38;5;28mtuple\u001b[39m)\n",
      "\u001b[1;31mTypeError\u001b[0m: 'tuple' object does not support item assignment"
     ]
    }
   ],
   "source": [
    "tuple1 = (10,8,9,7)\n",
    "tuple1[1] =15\n",
    "print(tuple)"
   ]
  },
  {
   "cell_type": "code",
   "execution_count": 56,
   "id": "01df4e65",
   "metadata": {},
   "outputs": [
    {
     "ename": "AttributeError",
     "evalue": "'tuple' object has no attribute 'append'",
     "output_type": "error",
     "traceback": [
      "\u001b[1;31m---------------------------------------------------------------------------\u001b[0m",
      "\u001b[1;31mAttributeError\u001b[0m                            Traceback (most recent call last)",
      "\u001b[1;32m~\\AppData\\Local\\Temp\\ipykernel_3588\\2925737051.py\u001b[0m in \u001b[0;36m<module>\u001b[1;34m\u001b[0m\n\u001b[0;32m      1\u001b[0m \u001b[0mm\u001b[0m \u001b[1;33m=\u001b[0m \u001b[1;33m(\u001b[0m\u001b[1;36m23\u001b[0m\u001b[1;33m,\u001b[0m\u001b[1;36m25\u001b[0m\u001b[1;33m,\u001b[0m\u001b[1;36m27\u001b[0m\u001b[1;33m,\u001b[0m\u001b[1;36m29\u001b[0m\u001b[1;33m)\u001b[0m\u001b[1;33m\u001b[0m\u001b[1;33m\u001b[0m\u001b[0m\n\u001b[1;32m----> 2\u001b[1;33m \u001b[0mprint\u001b[0m\u001b[1;33m(\u001b[0m\u001b[0mm\u001b[0m\u001b[1;33m.\u001b[0m\u001b[0mappend\u001b[0m\u001b[1;33m(\u001b[0m\u001b[1;36m31\u001b[0m\u001b[1;33m)\u001b[0m\u001b[1;33m)\u001b[0m\u001b[1;33m\u001b[0m\u001b[1;33m\u001b[0m\u001b[0m\n\u001b[0m",
      "\u001b[1;31mAttributeError\u001b[0m: 'tuple' object has no attribute 'append'"
     ]
    }
   ],
   "source": [
    "m = (23,25,27,29)\n",
    "print(m.append(31))"
   ]
  },
  {
   "cell_type": "markdown",
   "id": "2bd1e846",
   "metadata": {},
   "source": [
    "# deleting in tuple"
   ]
  },
  {
   "cell_type": "code",
   "execution_count": 2,
   "id": "7bf7de85",
   "metadata": {},
   "outputs": [
    {
     "ename": "NameError",
     "evalue": "name 'm' is not defined",
     "output_type": "error",
     "traceback": [
      "\u001b[1;31m---------------------------------------------------------------------------\u001b[0m",
      "\u001b[1;31mNameError\u001b[0m                                 Traceback (most recent call last)",
      "Cell \u001b[1;32mIn[2], line 3\u001b[0m\n\u001b[0;32m      1\u001b[0m m \u001b[38;5;241m=\u001b[39m (\u001b[38;5;241m23\u001b[39m,\u001b[38;5;241m25\u001b[39m,\u001b[38;5;241m27\u001b[39m,\u001b[38;5;241m29\u001b[39m)\n\u001b[0;32m      2\u001b[0m \u001b[38;5;28;01mdel\u001b[39;00m(m)\n\u001b[1;32m----> 3\u001b[0m \u001b[38;5;28mprint\u001b[39m(\u001b[43mm\u001b[49m)\n",
      "\u001b[1;31mNameError\u001b[0m: name 'm' is not defined"
     ]
    }
   ],
   "source": [
    "m = (23,25,27,29)\n",
    "del(m)\n",
    "print(m)"
   ]
  },
  {
   "cell_type": "markdown",
   "id": "9f82e315",
   "metadata": {},
   "source": [
    "# tuple method"
   ]
  },
  {
   "cell_type": "code",
   "execution_count": 2,
   "id": "beb38c2f",
   "metadata": {},
   "outputs": [
    {
     "name": "stdout",
     "output_type": "stream",
     "text": [
      "(12, 15, 23, 24, 28)\n"
     ]
    }
   ],
   "source": [
    "b = [12,15,23,24,28]\n",
    "p = tuple(b)\n",
    "print(p)"
   ]
  },
  {
   "cell_type": "code",
   "execution_count": 6,
   "id": "b510352c",
   "metadata": {},
   "outputs": [
    {
     "name": "stdout",
     "output_type": "stream",
     "text": [
      "(12, 32, 45, 65, 'apple', 'pink', 'blue')\n",
      "('blue', 'pink', 'apple', 65, 45, 32, 12)\n"
     ]
    }
   ],
   "source": [
    "\"\"\" convert a list into tuple and reverse it \"\"\"\n",
    "a = [12,32,45,65,\"apple\",\"pink\",\"blue\"]\n",
    "q = tuple(a)\n",
    "print(q)\n",
    "print(q[::-1])"
   ]
  },
  {
   "cell_type": "markdown",
   "id": "1f59ea14",
   "metadata": {},
   "source": [
    "# add items in tuple"
   ]
  },
  {
   "cell_type": "code",
   "execution_count": 9,
   "id": "1445d90d",
   "metadata": {},
   "outputs": [
    {
     "name": "stdout",
     "output_type": "stream",
     "text": [
      "[12, 13, 14, 15, 16, 17]\n",
      "[12, 13, 14, 15, 16, 17, 18]\n",
      "(12, 13, 14, 15, 16, 17, 18)\n"
     ]
    }
   ],
   "source": [
    "\"\"\" add the value 18 in the tuple\"\"\"\n",
    "t1 = (12,13,14,15,16,17)\n",
    "l1 = list(t1)\n",
    "print(l1)\n",
    "l1.append(18)\n",
    "print(l1)\n",
    "t1 = tuple(l1)\n",
    "print(t1)"
   ]
  },
  {
   "cell_type": "markdown",
   "id": "0a48b03e",
   "metadata": {},
   "source": [
    "# remove item from the tuple"
   ]
  },
  {
   "cell_type": "code",
   "execution_count": 13,
   "id": "54cc587e",
   "metadata": {},
   "outputs": [
    {
     "name": "stdout",
     "output_type": "stream",
     "text": [
      "[12, 32, 63, 21, 45, 78, 37]\n",
      "[12, 32, 63, 21, 45, 37]\n",
      "(12, 32, 63, 21, 45, 37)\n"
     ]
    }
   ],
   "source": [
    "a  = (12,32,63,21,45,78,37)\n",
    "t2 = list(a)\n",
    "print(t2)\n",
    "t2.remove(78)\n",
    "print(t2)\n",
    "t2=tuple(t2)\n",
    "print(t2)"
   ]
  },
  {
   "cell_type": "markdown",
   "id": "ec6e831e",
   "metadata": {},
   "source": [
    "# max in tuple"
   ]
  },
  {
   "cell_type": "code",
   "execution_count": 1,
   "id": "485949eb",
   "metadata": {},
   "outputs": [
    {
     "name": "stdout",
     "output_type": "stream",
     "text": [
      "41\n"
     ]
    }
   ],
   "source": [
    "a = (12,35,27,41,9)\n",
    "print(max(a))"
   ]
  },
  {
   "cell_type": "code",
   "execution_count": 2,
   "id": "eafc70c9",
   "metadata": {},
   "outputs": [
    {
     "name": "stdout",
     "output_type": "stream",
     "text": [
      "92.36\n"
     ]
    }
   ],
   "source": [
    "a = (12,35,27,41,9,92.36,2.36,7.89,-79,-1)\n",
    "print(max(a))"
   ]
  },
  {
   "cell_type": "code",
   "execution_count": 4,
   "id": "652019f2",
   "metadata": {},
   "outputs": [
    {
     "name": "stdout",
     "output_type": "stream",
     "text": [
      "mobile\n"
     ]
    }
   ],
   "source": [
    "a = (\"hello\", \"apple\", \"mobile\", \"code\",\"datascience\")\n",
    "print(max(a))"
   ]
  },
  {
   "cell_type": "markdown",
   "id": "25160818",
   "metadata": {},
   "source": [
    "# min in tuple"
   ]
  },
  {
   "cell_type": "code",
   "execution_count": 5,
   "id": "98de3b4a",
   "metadata": {},
   "outputs": [
    {
     "name": "stdout",
     "output_type": "stream",
     "text": [
      "3\n"
     ]
    }
   ],
   "source": [
    "a = (12,32,34,36,84,12,3)\n",
    "print(min(a))"
   ]
  },
  {
   "cell_type": "code",
   "execution_count": 6,
   "id": "8dddf4af",
   "metadata": {},
   "outputs": [
    {
     "name": "stdout",
     "output_type": "stream",
     "text": [
      "-9\n"
     ]
    }
   ],
   "source": [
    "a = (12,32,34,36,84,12,3,-5,-9,3.69,0.23)\n",
    "print(min(a))"
   ]
  },
  {
   "cell_type": "code",
   "execution_count": 7,
   "id": "0779aa3d",
   "metadata": {},
   "outputs": [
    {
     "name": "stdout",
     "output_type": "stream",
     "text": [
      "apple\n"
     ]
    }
   ],
   "source": [
    "a = (\"hello\", \"apple\", \"mobile\", \"code\",\"datascience\")\n",
    "print(min(a))"
   ]
  },
  {
   "cell_type": "markdown",
   "id": "1f2e7a33",
   "metadata": {},
   "source": [
    "# unpacking of tuple"
   ]
  },
  {
   "cell_type": "code",
   "execution_count": 2,
   "id": "c2ae90e5",
   "metadata": {},
   "outputs": [
    {
     "name": "stdout",
     "output_type": "stream",
     "text": [
      "apple\n",
      "banana\n",
      "cherry\n"
     ]
    }
   ],
   "source": [
    "fruits =(\"apple\", \"banana\",\"cherry\")\n",
    "(green, yellow, red) = fruits\n",
    "print(green)\n",
    "print(yellow)\n",
    "print(red)"
   ]
  },
  {
   "cell_type": "markdown",
   "id": "8c93e009",
   "metadata": {},
   "source": [
    "# using asterisk*"
   ]
  },
  {
   "cell_type": "code",
   "execution_count": 11,
   "id": "b0b4a8bf",
   "metadata": {},
   "outputs": [
    {
     "name": "stdout",
     "output_type": "stream",
     "text": [
      "apple\n",
      "banana\n",
      "['cherry', 'strawberry', 'raspberry']\n"
     ]
    }
   ],
   "source": [
    "fruits =(\"apple\", \"banana\",\"cherry\", \"strawberry\", \"raspberry\")\n",
    "(green, yellow, *red ) = fruits\n",
    "print(green)\n",
    "print(yellow)\n",
    "print(red)"
   ]
  },
  {
   "cell_type": "code",
   "execution_count": 12,
   "id": "5a181b67",
   "metadata": {},
   "outputs": [
    {
     "name": "stdout",
     "output_type": "stream",
     "text": [
      "apple\n",
      "['mango', 'papaya', 'pineapple']\n",
      "cherry\n"
     ]
    }
   ],
   "source": [
    "fruits = (\"apple\", \"mango\", \"papaya\", \"pineapple\", \"cherry\")\n",
    "( green, *tropic, red) = fruits\n",
    "print(green)\n",
    "print(tropic)\n",
    "print(red)"
   ]
  },
  {
   "cell_type": "code",
   "execution_count": 17,
   "id": "375b992c",
   "metadata": {},
   "outputs": [
    {
     "name": "stdout",
     "output_type": "stream",
     "text": [
      "[23, 87, 14, 53, 91, 3, -14, 3.56, -78]\n",
      "[-78, -14, 3, 3.56, 14, 23, 53, 87, 91]\n",
      "(-78, -14, 3, 3.56, 14, 23, 53, 87, 91)\n"
     ]
    }
   ],
   "source": [
    "\"\"\" sort a tuple\"\"\"\n",
    "a = (23,87,14,53,91,3,-14,3.56,-78)\n",
    "n = list(a)\n",
    "print(n)\n",
    "n.sort()\n",
    "print(n)\n",
    "n = tuple(n)\n",
    "print(n)\n"
   ]
  },
  {
   "cell_type": "markdown",
   "id": "2ccd90cd",
   "metadata": {},
   "source": [
    "# using loops in tuple"
   ]
  },
  {
   "cell_type": "code",
   "execution_count": 18,
   "id": "a57f6f30",
   "metadata": {},
   "outputs": [
    {
     "name": "stdout",
     "output_type": "stream",
     "text": [
      "[14, 6, 18, 23, 26, 31, 8]\n",
      "(14, 6, 18, 23, 26, 31, 8)\n",
      "[-5, -9, -20, -2, -10]\n",
      "(-5, -9, -20, -2, -10)\n"
     ]
    }
   ],
   "source": [
    "\"\"\" separate positive and negative integers from the tuple\"\"\"\n",
    "a = (14,6,18,23,-5,-9,-20,26,31,-2,8,-10)\n",
    "n1 =[]\n",
    "n2 = []\n",
    "a = list(a)\n",
    "for i in range(len(a)):\n",
    "    if a[i]>=0:\n",
    "        n1.append(a[i])\n",
    "print(n1)\n",
    "print(tuple(n1))\n",
    "\n",
    "for i in range(len(a)):\n",
    "    if a[i]<0:\n",
    "        n2.append(a[i])\n",
    "print(n2)\n",
    "print(tuple(n2))"
   ]
  },
  {
   "cell_type": "code",
   "execution_count": 24,
   "id": "c5a516ae",
   "metadata": {},
   "outputs": [
    {
     "name": "stdout",
     "output_type": "stream",
     "text": [
      "<class 'list'>\n",
      "[[1, 2], [2, 3], [3, 4]]\n"
     ]
    }
   ],
   "source": [
    "\"\"\" orignal list of tuple [(1,2), (2,3), (3,4)]\n",
    "conver it into list of lists [[1,2], [2,3], [3,4]]\"\"\"\n",
    "\n",
    "a = [(1,2), (2,3), (3,4)]\n",
    "b = []\n",
    "print(type(a))\n",
    "n1 = list(a[0])\n",
    "n2 = list(a[1])\n",
    "n3 = list(a[2])\n",
    "b.append(n1)\n",
    "b.append(n2)\n",
    "b.append(n3)\n",
    "print(b)"
   ]
  },
  {
   "cell_type": "code",
   "execution_count": 30,
   "id": "4dbe7177",
   "metadata": {},
   "outputs": [
    {
     "name": "stdout",
     "output_type": "stream",
     "text": [
      "3\n",
      "5\n",
      "7\n",
      "[3, 5, 7]\n"
     ]
    }
   ],
   "source": [
    "\"\"\" Original list of tuples:\n",
    "[(1, 2), (2, 3), (3, 4)]\n",
    "Sum of all the elements of each tuple stored inside the said list of tuples:\n",
    "[3, 5, 7]\"\"\"\n",
    "\n",
    "a = [(1,2), (2,3), (3,4)]\n",
    "\n",
    "n1 = a[0]\n",
    "m1 = n1[0]+n1[1]\n",
    "print(m1)\n",
    "n2 = a[1]\n",
    "m2 = n2[0]+n2[1]\n",
    "print(m2)\n",
    "n3 = a[2]\n",
    "m3 = n3[0]+n3[1]\n",
    "print(m3)\n",
    "b =[]\n",
    "b.append(m1)\n",
    "b.append(m2)\n",
    "b.append(m3)\n",
    "print(b)"
   ]
  },
  {
   "cell_type": "code",
   "execution_count": 29,
   "id": "4a228038",
   "metadata": {},
   "outputs": [
    {
     "name": "stdout",
     "output_type": "stream",
     "text": [
      "enter the number of values5\n",
      "enter elements20\n",
      "enter elements21\n",
      "enter elements22\n",
      "enter elements23\n",
      "enter elements24\n",
      "[20, 21, 22, 23, 24]\n",
      "<class 'list'>\n",
      "(20, 21, 22, 23, 24)\n",
      "<class 'tuple'>\n"
     ]
    }
   ],
   "source": [
    "a = []\n",
    "n = int(input(\"enter the number of values\"))\n",
    "for i in range(n):\n",
    "    a.append(int(input(\"enter elements\")))\n",
    "print(a)\n",
    "print(type(a))\n",
    "b = tuple(a)\n",
    "print(b)\n",
    "print(type(b))"
   ]
  },
  {
   "cell_type": "code",
   "execution_count": null,
   "id": "8b713776",
   "metadata": {},
   "outputs": [],
   "source": []
  }
 ],
 "metadata": {
  "kernelspec": {
   "display_name": "Python 3 (ipykernel)",
   "language": "python",
   "name": "python3"
  },
  "language_info": {
   "codemirror_mode": {
    "name": "ipython",
    "version": 3
   },
   "file_extension": ".py",
   "mimetype": "text/x-python",
   "name": "python",
   "nbconvert_exporter": "python",
   "pygments_lexer": "ipython3",
   "version": "3.10.9"
  }
 },
 "nbformat": 4,
 "nbformat_minor": 5
}
