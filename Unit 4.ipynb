{
 "cells": [
  {
   "cell_type": "markdown",
   "id": "9219cb9a",
   "metadata": {},
   "source": [
    "# Unit 4"
   ]
  },
  {
   "cell_type": "markdown",
   "id": "1e855fea",
   "metadata": {},
   "source": [
    "# if Condition"
   ]
  },
  {
   "cell_type": "code",
   "execution_count": 2,
   "id": "f629ad84",
   "metadata": {},
   "outputs": [
    {
     "name": "stdout",
     "output_type": "stream",
     "text": [
      "ENTER THE FIRST VALUE147\n",
      "Enter the second value200\n",
      "the greater value is b 200.0\n"
     ]
    }
   ],
   "source": [
    "\"\"\" take two numbers from the user and print the greater one\"\"\"\n",
    "a = float(input('ENTER THE FIRST VALUE'))\n",
    "b = float(input('Enter the second value'))\n",
    "if a>b:\n",
    "    print(\"THE GREATER VALUE IS a\", a)\n",
    "if b>a:\n",
    "    \n",
    "    print(\"the greater value is b\", b)"
   ]
  },
  {
   "cell_type": "code",
   "execution_count": 4,
   "id": "39527af6",
   "metadata": {},
   "outputs": [
    {
     "name": "stdout",
     "output_type": "stream",
     "text": [
      "Enter the value27\n",
      " number entered by the user is not even\n"
     ]
    }
   ],
   "source": [
    "\"\"\" enter the value from the user, and check the number is true or false\"\"\"\n",
    "a = int(input('Enter the value'))\n",
    "if a%2==0:\n",
    "    print(\" number entered by the user is even number\")\n",
    "if a%2!=0:\n",
    "    print(\" number entered by the user is not even\")"
   ]
  },
  {
   "cell_type": "code",
   "execution_count": 3,
   "id": "f8d7cfc9",
   "metadata": {},
   "outputs": [
    {
     "data": {
      "text/plain": [
       "True"
      ]
     },
     "execution_count": 3,
     "metadata": {},
     "output_type": "execute_result"
    }
   ],
   "source": [
    "a = 5\n",
    "b=6\n",
    "b !=a\n",
    "#print(b)"
   ]
  },
  {
   "cell_type": "code",
   "execution_count": 6,
   "id": "7e43f97f",
   "metadata": {},
   "outputs": [
    {
     "name": "stdout",
     "output_type": "stream",
     "text": [
      " Tossed a coinhead\n",
      " Team A will bat first\n"
     ]
    }
   ],
   "source": [
    "\"\"\" umpire tossed a con, if it will be head team A will bat first if it will be Tail then team B will bat first\"\"\"\n",
    "a = input(\" Tossed a coin\")\n",
    "if a==\"head\":\n",
    "    print(\" Team A will bat first\")\n",
    "if a==\"tail\":\n",
    "    print(\"Team B will bat first\")"
   ]
  },
  {
   "cell_type": "markdown",
   "id": "29b12135",
   "metadata": {},
   "source": [
    "python"
   ]
  },
  {
   "cell_type": "code",
   "execution_count": 14,
   "id": "d7b2e5ad",
   "metadata": {},
   "outputs": [
    {
     "name": "stdout",
     "output_type": "stream",
     "text": [
      "Enter a number142\n",
      "the number is not divisible by 13\n"
     ]
    }
   ],
   "source": [
    "\"\"\" enter a number from the user and check the number is divisible by 13 or not\"\"\"\n",
    "y = int(input(\"Enter a number\"))\n",
    "if y%13==0:\n",
    "    print(\"the number is divisible by 13\")\n",
    "if y%13!=0:\n",
    "    print(\"the number is not divisible by 13\")"
   ]
  },
  {
   "cell_type": "code",
   "execution_count": 2,
   "id": "9cebee11",
   "metadata": {},
   "outputs": [
    {
     "name": "stdout",
     "output_type": "stream",
     "text": [
      "Enter the colour of ballgreen\n",
      "Raju will play in team Green\n",
      "raju will not play\n"
     ]
    }
   ],
   "source": [
    "\"\"\" raju went for shopping if he purchse blue ball than, he will play from the side of blue team, if raju will purchase green ball then he will play from the side of green team\"\"\"\n",
    "z = input(\"Enter the colour of ball\")\n",
    "if z== \"blue\" or z=='Blue':\n",
    "    print(\"Raju will play in team Blue\")\n",
    "if z == \"green\":\n",
    "    print(\"Raju will play in team Green\")\n",
    "print(\"raju will not play\")"
   ]
  },
  {
   "cell_type": "markdown",
   "id": "1063420c",
   "metadata": {},
   "source": [
    "# if else condition"
   ]
  },
  {
   "cell_type": "code",
   "execution_count": 6,
   "id": "0b01462c",
   "metadata": {},
   "outputs": [
    {
     "name": "stdout",
     "output_type": "stream",
     "text": [
      "enter the value10\n",
      "no magic\n"
     ]
    }
   ],
   "source": [
    "\"\"\" take a value from the user, and if the value will be greater than 20 print magic and if the value is not greater than 20 print no magic\"\"\"\n",
    "a = int(input(\"enter the value\"))\n",
    "if a>20:\n",
    "    print(\"magic\")\n",
    "else:\n",
    "    print(\"no magic\")"
   ]
  },
  {
   "cell_type": "code",
   "execution_count": 22,
   "id": "594a1875",
   "metadata": {},
   "outputs": [
    {
     "name": "stdout",
     "output_type": "stream",
     "text": [
      "please enter your age45\n",
      "NOT A SENIOR CITIZEN\n"
     ]
    }
   ],
   "source": [
    "\"\"\" enter the age of the user, if age is greater than 60 print senior citizen, age is less than 60, print not a senior citizen\"\"\"\n",
    "p = int(input(\"please enter your age\"))\n",
    "if p>=60:\n",
    "    print(\"SENIOR CITIZEN\")\n",
    "else:\n",
    "    print(\"NOT A SENIOR CITIZEN\")"
   ]
  },
  {
   "cell_type": "code",
   "execution_count": 9,
   "id": "53ac94cc",
   "metadata": {},
   "outputs": [
    {
     "name": "stdout",
     "output_type": "stream",
     "text": [
      "enter your age15\n",
      "you are not eligible for voting\n",
      "Election is coming soon\n"
     ]
    }
   ],
   "source": [
    "\"\"\" Ask the user to enter his age, if the age will be more than 18 year than eleible for voting\"\"\"\n",
    "\n",
    "a = int(input(\"enter your age\"))\n",
    "if a>=18:\n",
    "    print('you are eleigible for voting')\n",
    "else:\n",
    "    print(\"you are not eligible for voting\")\n",
    "print(\"Election is coming soon\")\n",
    "    "
   ]
  },
  {
   "cell_type": "markdown",
   "id": "6aec4f88",
   "metadata": {},
   "source": [
    "# if elif else statement"
   ]
  },
  {
   "cell_type": "code",
   "execution_count": 29,
   "id": "84a9e5ac",
   "metadata": {},
   "outputs": [
    {
     "name": "stdout",
     "output_type": "stream",
     "text": [
      "enter the first value please12\n",
      "enter the second value please12\n",
      "values are equal\n"
     ]
    }
   ],
   "source": [
    "\"\"\" enter two value from the user and if the value willl be greater print greater if the value is not greater print no greater and if the values are equal print equal\"\"\"\n",
    "a = int(input(\"enter the first value please\"))\n",
    "b = int(input(\"enter the second value please\"))\n",
    "if a>b:\n",
    "    print(\"the value is greater\")\n",
    "elif a==b:\n",
    "    print(\"values are equal\")\n",
    "else:\n",
    "    print(\"value is less\")"
   ]
  },
  {
   "cell_type": "code",
   "execution_count": 13,
   "id": "303de20b",
   "metadata": {},
   "outputs": [
    {
     "name": "stdout",
     "output_type": "stream",
     "text": [
      "please enter the value37\n",
      "number is not divisible by 2 and 3 \n"
     ]
    }
   ],
   "source": [
    "\"\"\" take a value from the user and check it is divisible by 2 or 3 or neither 2 or 3\"\"\"\n",
    "a = int(input(\"please enter the value\"))\n",
    "if a%2==0:\n",
    "    print(\"number is divisible by 2\")\n",
    "elif a%3==0:\n",
    "    print(\"number is disible by 3\")\n",
    "else: \n",
    "    print(\"number is not divisible by 2 and 3 \")"
   ]
  },
  {
   "cell_type": "code",
   "execution_count": 7,
   "id": "72cdfc3d",
   "metadata": {},
   "outputs": [
    {
     "name": "stdout",
     "output_type": "stream",
     "text": [
      "please enter the marks82\n",
      "B grade\n"
     ]
    }
   ],
   "source": [
    "\"\"\" enter the marks of the student, if marks is greater than or equal to 85 print A grade, marks is greater than or equal to 80 print B grade and so on till EL grade\"\"\"\n",
    "x = int(input(\"please enter the marks\"))\n",
    "if x>=85:\n",
    "    print(\"A grade\")\n",
    "elif x>=80 and x<85:\n",
    "    print(\"B grade\")\n",
    "elif x>=75 and x<80:\n",
    "    print(\"C grade\")\n",
    "elif x>=70 and x<75:\n",
    "    print(\"D grade\")\n",
    "elif x>=65 and x<70:\n",
    "    print(\"E grade\")\n",
    "else:\n",
    "    print(\"Fail\")"
   ]
  },
  {
   "cell_type": "code",
   "execution_count": 41,
   "id": "8cdf46d0",
   "metadata": {},
   "outputs": [
    {
     "name": "stdout",
     "output_type": "stream",
     "text": [
      "Enter the value1452\n",
      "NO day \n"
     ]
    }
   ],
   "source": [
    "\"\"\" write a program, and take the number from the user in between 1 to 7 if number will be 1 print monday if number will be 2 print tuesday and so on\"\"\"\n",
    "a = int(input(\"Enter the value\"))\n",
    "if a==1:\n",
    "    print(\"Monday\")\n",
    "elif a==2:\n",
    "    print(\"tuesday\")\n",
    "elif a ==3:\n",
    "    print(\"wednesday\")\n",
    "elif a==4:\n",
    "    print(\"Thursay\")\n",
    "elif(a==5):\n",
    "    print(\"Friday\")\n",
    "elif(a==6):\n",
    "    print(\"Saturday\")\n",
    "elif(a==7):\n",
    "    print(\"Sunday\")\n",
    "else:\n",
    "    print(\"NO day \")"
   ]
  },
  {
   "cell_type": "code",
   "execution_count": 43,
   "id": "83ef64af",
   "metadata": {},
   "outputs": [
    {
     "name": "stdout",
     "output_type": "stream",
     "text": [
      "orange\n"
     ]
    }
   ],
   "source": [
    "a = 12\n",
    "if a>13:\n",
    "    print(\"yellow\")\n",
    "else:\n",
    "        print(\"orange\")"
   ]
  },
  {
   "cell_type": "markdown",
   "id": "bffbdeca",
   "metadata": {},
   "source": [
    "# nested if statement"
   ]
  },
  {
   "cell_type": "code",
   "execution_count": 3,
   "id": "109ab9f9",
   "metadata": {},
   "outputs": [
    {
     "name": "stdout",
     "output_type": "stream",
     "text": [
      "Enter the value please34\n",
      "Inside the if condition\n",
      "inside the nested if\n"
     ]
    }
   ],
   "source": [
    "\"\"\" enter the value from the user, and check is it greater than 10 or 20 and not\"\"\"\n",
    "a = int(input(\"Enter the value please\"))\n",
    "if a>10:\n",
    "    print(\"Inside the if condition\")\n",
    "    if a>20:\n",
    "            print(\"inside the nested if\")\n",
    "    else:\n",
    "            print(\"inside the else part of nested if\")\n",
    "else:\n",
    "    print(\"outside the condition\")\n"
   ]
  },
  {
   "cell_type": "code",
   "execution_count": 15,
   "id": "bc0a9a45",
   "metadata": {},
   "outputs": [
    {
     "name": "stdout",
     "output_type": "stream",
     "text": [
      " Enter the number of classes attended by student77\n",
      "Enter the number of assignments submitted by student0\n",
      "Eligible for exam one\n",
      "Eligible for exam one but not eligible for exam two\n"
     ]
    }
   ],
   "source": [
    "\"\"\" enter user, number of class attended by student, number of assignment submitted by student, if attendance will be greater than 75 then only student can appear in exam one, if student attendance is greater than 75 and submitted more than 10 assignment than only appear in exam two\"\"\"\n",
    "a = int(input(\" Enter the number of classes attended by student\"))\n",
    "b = int(input(\"Enter the number of assignments submitted by student\"))\n",
    "if a>75:\n",
    "    print(\"Eligible for exam one\")\n",
    "    if b>10:\n",
    "        print(\"Eligible for exam one and two\")\n",
    "    else:\n",
    "        print(\"Eligible for exam one but not eligible for exam two\")\n",
    "else:\n",
    "    print(\"you are suspended\")"
   ]
  },
  {
   "cell_type": "code",
   "execution_count": null,
   "id": "8708c81e",
   "metadata": {},
   "outputs": [],
   "source": []
  }
 ],
 "metadata": {
  "kernelspec": {
   "display_name": "Python 3 (ipykernel)",
   "language": "python",
   "name": "python3"
  },
  "language_info": {
   "codemirror_mode": {
    "name": "ipython",
    "version": 3
   },
   "file_extension": ".py",
   "mimetype": "text/x-python",
   "name": "python",
   "nbconvert_exporter": "python",
   "pygments_lexer": "ipython3",
   "version": "3.10.9"
  }
 },
 "nbformat": 4,
 "nbformat_minor": 5
}
