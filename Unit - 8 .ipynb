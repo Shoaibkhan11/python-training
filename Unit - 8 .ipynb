{
 "cells": [
  {
   "cell_type": "markdown",
   "id": "26e15b71",
   "metadata": {},
   "source": [
    "# Unit - 8"
   ]
  },
  {
   "cell_type": "markdown",
   "id": "60884ff0",
   "metadata": {},
   "source": [
    "# List in Python"
   ]
  },
  {
   "cell_type": "code",
   "execution_count": 1,
   "id": "67d8b947",
   "metadata": {},
   "outputs": [
    {
     "name": "stdout",
     "output_type": "stream",
     "text": [
      "[12, 56, 23, 89]\n"
     ]
    }
   ],
   "source": [
    "L = [12,56,23,89]\n",
    "print(L)\n"
   ]
  },
  {
   "cell_type": "code",
   "execution_count": 2,
   "id": "86db1749",
   "metadata": {},
   "outputs": [
    {
     "name": "stdout",
     "output_type": "stream",
     "text": [
      "<class 'list'>\n"
     ]
    }
   ],
   "source": [
    "print(type(L))"
   ]
  },
  {
   "cell_type": "code",
   "execution_count": 3,
   "id": "d7ff40d2",
   "metadata": {},
   "outputs": [
    {
     "name": "stdout",
     "output_type": "stream",
     "text": [
      "[12, 89, 14, -32, -14, 0, 'heloo', 'students', 56.23]\n"
     ]
    }
   ],
   "source": [
    "a = [12,89,14,-32,-14,0, \"heloo\", \"students\",56.23]\n",
    "print(a)\n"
   ]
  },
  {
   "cell_type": "markdown",
   "id": "ef6e6a02",
   "metadata": {},
   "source": [
    "# Indexing on list"
   ]
  },
  {
   "cell_type": "code",
   "execution_count": 4,
   "id": "837c7a11",
   "metadata": {},
   "outputs": [
    {
     "name": "stdout",
     "output_type": "stream",
     "text": [
      "14\n"
     ]
    }
   ],
   "source": [
    "a = [14,75,79,36,94,\"hello\",\"students\",\"teacher\"]\n",
    "print(a[0])"
   ]
  },
  {
   "cell_type": "code",
   "execution_count": 5,
   "id": "eb76297d",
   "metadata": {},
   "outputs": [
    {
     "name": "stdout",
     "output_type": "stream",
     "text": [
      "hello\n"
     ]
    }
   ],
   "source": [
    "a = [14,75,79,36,94,\"hello\",\"students\",\"teacher\"]\n",
    "print(a[5])"
   ]
  },
  {
   "cell_type": "code",
   "execution_count": 6,
   "id": "ec5d6538",
   "metadata": {},
   "outputs": [
    {
     "name": "stdout",
     "output_type": "stream",
     "text": [
      "teacher\n"
     ]
    }
   ],
   "source": [
    "a = [14,75,79,36,94,\"hello\",\"students\",\"teacher\"]\n",
    "print(a[-1])"
   ]
  },
  {
   "cell_type": "code",
   "execution_count": 7,
   "id": "3838cb54",
   "metadata": {},
   "outputs": [
    {
     "name": "stdout",
     "output_type": "stream",
     "text": [
      "hello\n"
     ]
    }
   ],
   "source": [
    "a = [14,75,79,36,94,\"hello\",\"students\",\"teacher\"]\n",
    "print(a[-3])"
   ]
  },
  {
   "cell_type": "markdown",
   "id": "9cb9043b",
   "metadata": {},
   "source": [
    "# slicing "
   ]
  },
  {
   "cell_type": "code",
   "execution_count": 8,
   "id": "c6590867",
   "metadata": {},
   "outputs": [
    {
     "name": "stdout",
     "output_type": "stream",
     "text": [
      "8\n"
     ]
    }
   ],
   "source": [
    "a = [14,75,79,36,94,\"hello\",\"students\",\"teacher\"]\n",
    "print(len(a))"
   ]
  },
  {
   "cell_type": "code",
   "execution_count": 9,
   "id": "fa870d78",
   "metadata": {},
   "outputs": [
    {
     "name": "stdout",
     "output_type": "stream",
     "text": [
      "[14, 75, 79, 36, 94]\n"
     ]
    }
   ],
   "source": [
    "a = [14,75,79,36,94,\"hello\",\"students\",\"teacher\"]\n",
    "print(a[0:5])"
   ]
  },
  {
   "cell_type": "code",
   "execution_count": 10,
   "id": "2b2e5775",
   "metadata": {},
   "outputs": [
    {
     "name": "stdout",
     "output_type": "stream",
     "text": [
      "['hello', 'students', 'teacher']\n"
     ]
    }
   ],
   "source": [
    "a = [14,75,79,36,94,\"hello\",\"students\",\"teacher\"]\n",
    "print(a[5:8])"
   ]
  },
  {
   "cell_type": "code",
   "execution_count": 11,
   "id": "b7f56280",
   "metadata": {},
   "outputs": [
    {
     "name": "stdout",
     "output_type": "stream",
     "text": [
      "[14, 75, 79, 36, 94]\n",
      "['hello', 'students', 'teacher']\n"
     ]
    }
   ],
   "source": [
    "a = [14,75,79,36,94,\"hello\",\"students\",\"teacher\"]\n",
    "b = a[0:5]\n",
    "print(b)\n",
    "c= a[5:8]\n",
    "print(c)"
   ]
  },
  {
   "cell_type": "code",
   "execution_count": 14,
   "id": "94142aad",
   "metadata": {},
   "outputs": [
    {
     "name": "stdout",
     "output_type": "stream",
     "text": [
      "[14, 75, 79, 36]\n"
     ]
    }
   ],
   "source": [
    "a = [14,75,79,36,94,\"hello\",\"students\",\"teacher\"]\n",
    "print(a[:4])"
   ]
  },
  {
   "cell_type": "code",
   "execution_count": 1,
   "id": "b824f238",
   "metadata": {},
   "outputs": [
    {
     "name": "stdout",
     "output_type": "stream",
     "text": [
      "[14, 79, 94, 'students']\n"
     ]
    }
   ],
   "source": [
    "a = [14,75,79,36,94,\"hello\",\"students\",\"teacher\"]\n",
    "print(a[::2])"
   ]
  },
  {
   "cell_type": "code",
   "execution_count": 16,
   "id": "93c29c79",
   "metadata": {},
   "outputs": [
    {
     "name": "stdout",
     "output_type": "stream",
     "text": [
      "[14, 94]\n"
     ]
    }
   ],
   "source": [
    "a = [14,75,79,36,94,\"hello\",\"students\",\"teacher\"]\n",
    "print(a[0:8:4])"
   ]
  },
  {
   "cell_type": "code",
   "execution_count": 18,
   "id": "bb6fc16d",
   "metadata": {},
   "outputs": [
    {
     "name": "stdout",
     "output_type": "stream",
     "text": [
      "[14, 36, 'students']\n"
     ]
    }
   ],
   "source": [
    "a = [14,75,79,36,94,\"hello\",\"students\",\"teacher\"]\n",
    "print(a[::3])"
   ]
  },
  {
   "cell_type": "code",
   "execution_count": 19,
   "id": "5ef67acd",
   "metadata": {},
   "outputs": [
    {
     "name": "stdout",
     "output_type": "stream",
     "text": [
      "['teacher', 'students', 'hello', 94, 36, 79, 75, 14]\n"
     ]
    }
   ],
   "source": [
    "a = [14,75,79,36,94,\"hello\",\"students\",\"teacher\"]\n",
    "print(a[::-1])"
   ]
  },
  {
   "cell_type": "code",
   "execution_count": 22,
   "id": "a701ba31",
   "metadata": {},
   "outputs": [
    {
     "name": "stdout",
     "output_type": "stream",
     "text": [
      "[45, 89, 12, 36, 74, -85]\n",
      "[23, 89, 'apple', 'cat', 'football']\n",
      "[-85, 74, 36, 12, 89, 45]\n",
      "['football', 'cat', 'apple', 89, 23]\n"
     ]
    }
   ],
   "source": [
    "\"\"\" divide a list into two list and reverse it\"\"\"\n",
    "L = [45,89,12,36,74,-85,23,89,\"apple\",\"cat\",\"football\"]\n",
    "a = L[0:6]\n",
    "print(a)\n",
    "b = L[6:11]\n",
    "print(b)\n",
    "print(a[::-1])\n",
    "print(b[::-1])"
   ]
  },
  {
   "cell_type": "markdown",
   "id": "282e0dac",
   "metadata": {},
   "source": [
    "# append method in list"
   ]
  },
  {
   "cell_type": "code",
   "execution_count": 3,
   "id": "89b3cfde",
   "metadata": {},
   "outputs": [
    {
     "name": "stdout",
     "output_type": "stream",
     "text": [
      "[35, 96, 41, 74, 704, 12, 74, 23, 56, 89]\n"
     ]
    }
   ],
   "source": [
    "a = [12,74,23,56,89]\n",
    "b = [35,96,41,74,704]\n",
    "c = b+a\n",
    "print(c)"
   ]
  },
  {
   "cell_type": "code",
   "execution_count": 6,
   "id": "a8c75865",
   "metadata": {},
   "outputs": [
    {
     "name": "stdout",
     "output_type": "stream",
     "text": [
      "[12, 35, 14, 78, 43, 65, 97, -5]\n"
     ]
    }
   ],
   "source": [
    "m = [12,35,14,78,43,65,97]\n",
    "m.append(-5)\n",
    "print(m)"
   ]
  },
  {
   "cell_type": "code",
   "execution_count": 12,
   "id": "063ddb87",
   "metadata": {},
   "outputs": [
    {
     "name": "stdout",
     "output_type": "stream",
     "text": [
      "[12, 14, 15, 78, 96]\n",
      "[12, 14, 15, 78, 96, ['hello', 'students']]\n",
      "[12, 14, 15, 78, 96, ['hello', 'students'], [45, -6, 78.56]]\n"
     ]
    }
   ],
   "source": [
    " L = [12,14,15,78,96]\n",
    "print(L)\n",
    "a = [\"hello\",\"students\"]\n",
    "L.append(a)\n",
    "print(L)\n",
    "b = [45,-6,78.56]\n",
    "L.append(b)\n",
    "print(L)"
   ]
  },
  {
   "cell_type": "code",
   "execution_count": 10,
   "id": "37b4e20b",
   "metadata": {},
   "outputs": [
    {
     "name": "stdout",
     "output_type": "stream",
     "text": [
      "[45, 23, 78, 12, 36, [78, 56]]\n"
     ]
    }
   ],
   "source": [
    "a = [45,23,78,12,36]\n",
    "b= [78,56]\n",
    "a.append(b)\n",
    "print(a)"
   ]
  },
  {
   "cell_type": "markdown",
   "id": "a8b6b68a",
   "metadata": {},
   "source": [
    "# extend() method in list"
   ]
  },
  {
   "cell_type": "code",
   "execution_count": 14,
   "id": "c1f3b108",
   "metadata": {},
   "outputs": [
    {
     "name": "stdout",
     "output_type": "stream",
     "text": [
      "[12, 14, 7, 47]\n",
      "[12, 14, 7, 47, -1, -2, -3, -4, -5]\n"
     ]
    }
   ],
   "source": [
    "L = [12,14,7,47]\n",
    "print(L)\n",
    "L.extend([-1,-2,-3,-4,-5])\n",
    "print(L)"
   ]
  },
  {
   "cell_type": "code",
   "execution_count": 15,
   "id": "59d68cea",
   "metadata": {},
   "outputs": [
    {
     "name": "stdout",
     "output_type": "stream",
     "text": [
      "[12, 14, 7, 47]\n",
      "[12, 14, 7, 47, 'STUDENTS', 'TEACHERS', 'DATASCIENCE']\n"
     ]
    }
   ],
   "source": [
    "L = [12,14,7,47]\n",
    "print(L)\n",
    "L.extend([\"STUDENTS\",\"TEACHERS\",\"DATASCIENCE\"])\n",
    "print(L)"
   ]
  },
  {
   "cell_type": "markdown",
   "id": "9fe7b1ff",
   "metadata": {},
   "source": [
    "# insert() method in list\n"
   ]
  },
  {
   "cell_type": "code",
   "execution_count": 2,
   "id": "752b69e3",
   "metadata": {},
   "outputs": [
    {
     "name": "stdout",
     "output_type": "stream",
     "text": [
      "[12, 74, 85, 96, 23]\n",
      "[12, 74, -10, 85, 96, 23]\n"
     ]
    }
   ],
   "source": [
    "L = [12,74,85,96,23]\n",
    "print(L)\n",
    "L.insert(2,-10)\n",
    "print(L)"
   ]
  },
  {
   "cell_type": "code",
   "execution_count": 20,
   "id": "eed7d20f",
   "metadata": {},
   "outputs": [
    {
     "name": "stdout",
     "output_type": "stream",
     "text": [
      "[12, 74, 85, 96, 23]\n",
      "[12, 74, 'apple', 85, 96, 23]\n"
     ]
    }
   ],
   "source": [
    "L = [12,74,85,96,23]\n",
    "print(L)\n",
    "L.insert(2,\"apple\")\n",
    "print(L)"
   ]
  },
  {
   "cell_type": "markdown",
   "id": "7c931d64",
   "metadata": {},
   "source": [
    "# Remove() method in List"
   ]
  },
  {
   "cell_type": "code",
   "execution_count": 4,
   "id": "efc5b13e",
   "metadata": {},
   "outputs": [
    {
     "name": "stdout",
     "output_type": "stream",
     "text": [
      "[12, 78, 56, 14, 75]\n"
     ]
    }
   ],
   "source": [
    "a = [12,78,56,23,14,75]\n",
    "a.remove(23)\n",
    "print(a)\n"
   ]
  },
  {
   "cell_type": "code",
   "execution_count": 5,
   "id": "e5890d00",
   "metadata": {},
   "outputs": [
    {
     "name": "stdout",
     "output_type": "stream",
     "text": [
      "[12, 78, 56, 23, 14, 75, 'hello', 'python']\n"
     ]
    }
   ],
   "source": [
    "a = [12,78,56,23,14,75, \"hello\",\"datascience\",\"python\"]\n",
    "a.remove(\"datascience\")\n",
    "print(a)"
   ]
  },
  {
   "cell_type": "code",
   "execution_count": 7,
   "id": "4f846d29",
   "metadata": {},
   "outputs": [
    {
     "name": "stdout",
     "output_type": "stream",
     "text": [
      "[23, 58, 96, 14, 75, 36, [-1, -2, -3]]\n",
      "[23, 58, 96, 14, 75, 36, [-1, -2, -3], ['cat', 'dog', 'horse']]\n"
     ]
    }
   ],
   "source": [
    "m = [23,58,96,14,75,36]\n",
    "n = [-1,-2,-3]\n",
    "m.append(n)\n",
    "print(m)\n",
    "c = [\"cat\",\"dog\",\"horse\"]\n",
    "m.append(c)\n",
    "print(m)"
   ]
  },
  {
   "cell_type": "code",
   "execution_count": 9,
   "id": "e691a9da",
   "metadata": {},
   "outputs": [
    {
     "name": "stdout",
     "output_type": "stream",
     "text": [
      "[23, 58, 96, 14, 75, 36, [-1, -2, -3]]\n",
      "[23, 58, 96, 14, 75, 36, [-1, -2, -3], ['cat', 'dog', 'horse']]\n",
      "[23, 58, 96, 14, 75, 36, ['cat', 'dog', 'horse']]\n"
     ]
    }
   ],
   "source": [
    "m = [23,58,96,14,75,36]\n",
    "n = [-1,-2,-3]\n",
    "m.append(n)\n",
    "print(m)\n",
    "c = [\"cat\",\"dog\",\"horse\"]\n",
    "m.append(c)\n",
    "print(m)\n",
    "m.remove(n)\n",
    "print(m)"
   ]
  },
  {
   "cell_type": "markdown",
   "id": "8e766bc4",
   "metadata": {},
   "source": [
    "# pop() method in list"
   ]
  },
  {
   "cell_type": "code",
   "execution_count": 11,
   "id": "ee1536ec",
   "metadata": {},
   "outputs": [
    {
     "name": "stdout",
     "output_type": "stream",
     "text": [
      "[78, 12, 36, 79, 26]\n"
     ]
    }
   ],
   "source": [
    "a = [78,12,36,79,54,26]\n",
    "a.pop(4)\n",
    "print(a)\n"
   ]
  },
  {
   "cell_type": "code",
   "execution_count": 13,
   "id": "9596ff5b",
   "metadata": {},
   "outputs": [
    {
     "name": "stdout",
     "output_type": "stream",
     "text": [
      "[78, 12, 36, 79, 54, 26, [1.2, 3.2, 4.2]]\n",
      "[78, 12, 36, 79, 54, 26, [1.2, 3.2, 4.2], ['orange', 'red', 'green']]\n",
      "[78, 12, 36, 79, 54, 26, ['orange', 'red', 'green']]\n"
     ]
    }
   ],
   "source": [
    "a = [78,12,36,79,54,26]\n",
    "b = [1.2,3.2,4.2]\n",
    "a.append(b)\n",
    "print(a)\n",
    "c = [\"orange\",\"red\",\"green\"]\n",
    "a.append(c)\n",
    "print(a)\n",
    "a.pop(6)\n",
    "print(a)"
   ]
  },
  {
   "cell_type": "code",
   "execution_count": 14,
   "id": "9dfb4dbf",
   "metadata": {},
   "outputs": [
    {
     "ename": "TypeError",
     "evalue": "pop expected at most 1 argument, got 2",
     "output_type": "error",
     "traceback": [
      "\u001b[1;31m---------------------------------------------------------------------------\u001b[0m",
      "\u001b[1;31mTypeError\u001b[0m                                 Traceback (most recent call last)",
      "\u001b[1;32m~\\AppData\\Local\\Temp\\ipykernel_28596\\369896924.py\u001b[0m in \u001b[0;36m<module>\u001b[1;34m\u001b[0m\n\u001b[0;32m      1\u001b[0m \u001b[0mm\u001b[0m \u001b[1;33m=\u001b[0m\u001b[1;33m[\u001b[0m\u001b[1;36m78\u001b[0m\u001b[1;33m,\u001b[0m\u001b[1;36m12\u001b[0m\u001b[1;33m,\u001b[0m\u001b[1;36m36\u001b[0m\u001b[1;33m,\u001b[0m\u001b[1;34m\"red\"\u001b[0m\u001b[1;33m]\u001b[0m\u001b[1;33m\u001b[0m\u001b[1;33m\u001b[0m\u001b[0m\n\u001b[1;32m----> 2\u001b[1;33m \u001b[0ma\u001b[0m\u001b[1;33m.\u001b[0m\u001b[0mpop\u001b[0m\u001b[1;33m(\u001b[0m\u001b[1;36m0\u001b[0m\u001b[1;33m,\u001b[0m\u001b[1;36m2\u001b[0m\u001b[1;33m)\u001b[0m\u001b[1;33m\u001b[0m\u001b[1;33m\u001b[0m\u001b[0m\n\u001b[0m\u001b[0;32m      3\u001b[0m \u001b[0mprint\u001b[0m\u001b[1;33m(\u001b[0m\u001b[0mm\u001b[0m\u001b[1;33m)\u001b[0m\u001b[1;33m\u001b[0m\u001b[1;33m\u001b[0m\u001b[0m\n",
      "\u001b[1;31mTypeError\u001b[0m: pop expected at most 1 argument, got 2"
     ]
    }
   ],
   "source": [
    "m =[78,12,36,\"red\"]\n",
    "a.pop(0,2)\n",
    "print(m)"
   ]
  },
  {
   "cell_type": "code",
   "execution_count": 15,
   "id": "60dc9d1e",
   "metadata": {},
   "outputs": [
    {
     "ename": "IndexError",
     "evalue": "pop index out of range",
     "output_type": "error",
     "traceback": [
      "\u001b[1;31m---------------------------------------------------------------------------\u001b[0m",
      "\u001b[1;31mIndexError\u001b[0m                                Traceback (most recent call last)",
      "\u001b[1;32m~\\AppData\\Local\\Temp\\ipykernel_28596\\1412440279.py\u001b[0m in \u001b[0;36m<module>\u001b[1;34m\u001b[0m\n\u001b[0;32m      1\u001b[0m \u001b[0mm\u001b[0m \u001b[1;33m=\u001b[0m\u001b[1;33m[\u001b[0m\u001b[1;36m78\u001b[0m\u001b[1;33m,\u001b[0m\u001b[1;36m12\u001b[0m\u001b[1;33m,\u001b[0m\u001b[1;36m36\u001b[0m\u001b[1;33m,\u001b[0m\u001b[1;34m\"red\"\u001b[0m\u001b[1;33m]\u001b[0m\u001b[1;33m\u001b[0m\u001b[1;33m\u001b[0m\u001b[0m\n\u001b[1;32m----> 2\u001b[1;33m \u001b[0ma\u001b[0m\u001b[1;33m.\u001b[0m\u001b[0mpop\u001b[0m\u001b[1;33m(\u001b[0m\u001b[1;36m36\u001b[0m\u001b[1;33m)\u001b[0m\u001b[1;33m\u001b[0m\u001b[1;33m\u001b[0m\u001b[0m\n\u001b[0m\u001b[0;32m      3\u001b[0m \u001b[0mprint\u001b[0m\u001b[1;33m(\u001b[0m\u001b[0mm\u001b[0m\u001b[1;33m)\u001b[0m\u001b[1;33m\u001b[0m\u001b[1;33m\u001b[0m\u001b[0m\n",
      "\u001b[1;31mIndexError\u001b[0m: pop index out of range"
     ]
    }
   ],
   "source": [
    "m =[78,12,36,\"red\"]\n",
    "a.pop(36)\n",
    "print(m)"
   ]
  },
  {
   "cell_type": "markdown",
   "id": "03a8c34c",
   "metadata": {},
   "source": [
    "# clear() method in list"
   ]
  },
  {
   "cell_type": "code",
   "execution_count": 18,
   "id": "0f917c2e",
   "metadata": {},
   "outputs": [
    {
     "name": "stdout",
     "output_type": "stream",
     "text": [
      "8\n",
      "[]\n",
      "0\n"
     ]
    }
   ],
   "source": [
    "a = [78,89,25,2.3,45,-96,\"ball\",\"bat\"]\n",
    "print(len(a))\n",
    "a.clear()\n",
    "print(a)\n",
    "print(len(a))"
   ]
  },
  {
   "cell_type": "markdown",
   "id": "bb64ed8d",
   "metadata": {},
   "source": [
    "# count() method in list"
   ]
  },
  {
   "cell_type": "code",
   "execution_count": 27,
   "id": "d57c7aaf",
   "metadata": {},
   "outputs": [
    {
     "name": "stdout",
     "output_type": "stream",
     "text": [
      "3\n"
     ]
    }
   ],
   "source": [
    "a = [12,78,25,12,36,25,89,12,89,25,13,25,89]\n",
    "b = a.count(12)\n",
    "print(b)"
   ]
  },
  {
   "cell_type": "code",
   "execution_count": 28,
   "id": "b7502265",
   "metadata": {},
   "outputs": [
    {
     "name": "stdout",
     "output_type": "stream",
     "text": [
      "4\n"
     ]
    }
   ],
   "source": [
    "a = [12,78,25,12,36,25,89,12,89,25,13,25,89]\n",
    "b = a.count(25)\n",
    "print(b)"
   ]
  },
  {
   "cell_type": "code",
   "execution_count": 29,
   "id": "d86359f2",
   "metadata": {},
   "outputs": [
    {
     "name": "stdout",
     "output_type": "stream",
     "text": [
      "3\n"
     ]
    }
   ],
   "source": [
    "a = [12,78,25,12,36,25,89,12,89,25,13,25,89]\n",
    "b = a.count(89)\n",
    "print(b)"
   ]
  },
  {
   "cell_type": "code",
   "execution_count": 30,
   "id": "75eb953f",
   "metadata": {},
   "outputs": [
    {
     "name": "stdout",
     "output_type": "stream",
     "text": [
      "0\n"
     ]
    }
   ],
   "source": [
    "a = [12,78,25,12,36,25,89,12,89,25,13,25,89]\n",
    "b = a.count(10)\n",
    "print(b)"
   ]
  },
  {
   "cell_type": "markdown",
   "id": "2702c3a2",
   "metadata": {},
   "source": [
    "# max() method in list"
   ]
  },
  {
   "cell_type": "code",
   "execution_count": 32,
   "id": "36fa569e",
   "metadata": {},
   "outputs": [
    {
     "name": "stdout",
     "output_type": "stream",
     "text": [
      "123\n"
     ]
    }
   ],
   "source": [
    "a = [45,78,96,123,85,21,45]\n",
    "print(max(a))"
   ]
  },
  {
   "cell_type": "code",
   "execution_count": 33,
   "id": "b55f8af5",
   "metadata": {},
   "outputs": [
    {
     "name": "stdout",
     "output_type": "stream",
     "text": [
      "98.32\n"
     ]
    }
   ],
   "source": [
    "a = [45,56,98.32,14.23,78.36,20.36]\n",
    "print(max(a))"
   ]
  },
  {
   "cell_type": "code",
   "execution_count": 35,
   "id": "0c32cbdc",
   "metadata": {},
   "outputs": [
    {
     "name": "stdout",
     "output_type": "stream",
     "text": [
      "world\n"
     ]
    }
   ],
   "source": [
    "a = [\"hello\", \"world\"]\n",
    "print(max(a))"
   ]
  },
  {
   "cell_type": "code",
   "execution_count": 36,
   "id": "52b07a01",
   "metadata": {},
   "outputs": [
    {
     "name": "stdout",
     "output_type": "stream",
     "text": [
      "zebra\n"
     ]
    }
   ],
   "source": [
    "a = [\"hello\", \"world\", \"apple\", \"zebra\"]\n",
    "print(max(a))"
   ]
  },
  {
   "cell_type": "code",
   "execution_count": 37,
   "id": "d6ca33ff",
   "metadata": {},
   "outputs": [
    {
     "name": "stdout",
     "output_type": "stream",
     "text": [
      "zebra\n"
     ]
    }
   ],
   "source": [
    "a = [\"hello\", \"world\", \"apple\", \"zebra\", \"datascience\"]\n",
    "print(max(a))"
   ]
  },
  {
   "cell_type": "code",
   "execution_count": 38,
   "id": "d53cee89",
   "metadata": {},
   "outputs": [
    {
     "ename": "TypeError",
     "evalue": "'>' not supported between instances of 'str' and 'int'",
     "output_type": "error",
     "traceback": [
      "\u001b[1;31m---------------------------------------------------------------------------\u001b[0m",
      "\u001b[1;31mTypeError\u001b[0m                                 Traceback (most recent call last)",
      "\u001b[1;32m~\\AppData\\Local\\Temp\\ipykernel_28596\\1699750495.py\u001b[0m in \u001b[0;36m<module>\u001b[1;34m\u001b[0m\n\u001b[0;32m      1\u001b[0m \u001b[0ma\u001b[0m \u001b[1;33m=\u001b[0m \u001b[1;33m[\u001b[0m\u001b[1;36m78\u001b[0m\u001b[1;33m,\u001b[0m\u001b[1;36m89\u001b[0m\u001b[1;33m,\u001b[0m\u001b[1;36m23\u001b[0m\u001b[1;33m,\u001b[0m\u001b[1;36m45\u001b[0m\u001b[1;33m,\u001b[0m\u001b[1;34m\"hello\"\u001b[0m\u001b[1;33m,\u001b[0m\u001b[1;34m\"world\"\u001b[0m\u001b[1;33m]\u001b[0m\u001b[1;33m\u001b[0m\u001b[1;33m\u001b[0m\u001b[0m\n\u001b[1;32m----> 2\u001b[1;33m \u001b[0mprint\u001b[0m\u001b[1;33m(\u001b[0m\u001b[0mmax\u001b[0m\u001b[1;33m(\u001b[0m\u001b[0ma\u001b[0m\u001b[1;33m)\u001b[0m\u001b[1;33m)\u001b[0m\u001b[1;33m\u001b[0m\u001b[1;33m\u001b[0m\u001b[0m\n\u001b[0m",
      "\u001b[1;31mTypeError\u001b[0m: '>' not supported between instances of 'str' and 'int'"
     ]
    }
   ],
   "source": [
    "a = [78,89,23,45,\"hello\",\"world\"]\n",
    "print(max(a))"
   ]
  },
  {
   "cell_type": "markdown",
   "id": "8ea17f6f",
   "metadata": {},
   "source": [
    "# min() method in list"
   ]
  },
  {
   "cell_type": "code",
   "execution_count": 39,
   "id": "14c13d93",
   "metadata": {},
   "outputs": [
    {
     "name": "stdout",
     "output_type": "stream",
     "text": [
      "-78\n"
     ]
    }
   ],
   "source": [
    "a = [14,36,78,14,-4,-78,23.69,0.13]\n",
    "print(min(a))"
   ]
  },
  {
   "cell_type": "code",
   "execution_count": 40,
   "id": "681f0367",
   "metadata": {},
   "outputs": [
    {
     "name": "stdout",
     "output_type": "stream",
     "text": [
      "hello\n"
     ]
    }
   ],
   "source": [
    "a = [\"hello\",\"world\"]\n",
    "print(min(a))"
   ]
  },
  {
   "cell_type": "code",
   "execution_count": 41,
   "id": "f79b1a81",
   "metadata": {},
   "outputs": [
    {
     "name": "stdout",
     "output_type": "stream",
     "text": [
      "apple\n"
     ]
    }
   ],
   "source": [
    "a = [\"hello\",\"world\",\"apple\",\"horse\",\"bat\"]\n",
    "print(min(a))"
   ]
  },
  {
   "cell_type": "code",
   "execution_count": 43,
   "id": "c76cb351",
   "metadata": {},
   "outputs": [
    {
     "name": "stdout",
     "output_type": "stream",
     "text": [
      "aappll\n"
     ]
    }
   ],
   "source": [
    "a = [\"hello\",\"world\",\"apple\",\"horse\",\"bat\", \"datascience\",\"aappll\"]\n",
    "print(min(a))"
   ]
  },
  {
   "cell_type": "code",
   "execution_count": 45,
   "id": "d29dff00",
   "metadata": {},
   "outputs": [
    {
     "name": "stdout",
     "output_type": "stream",
     "text": [
      "852\n",
      "apple\n"
     ]
    }
   ],
   "source": [
    "a = [852,12,36]\n",
    "b =[\"apple\",\"bat\"]\n",
    "print(max(a))\n",
    "print(min(b))"
   ]
  },
  {
   "cell_type": "markdown",
   "id": "db4a2549",
   "metadata": {},
   "source": [
    "# sort() method in list"
   ]
  },
  {
   "cell_type": "code",
   "execution_count": 4,
   "id": "92f02483",
   "metadata": {},
   "outputs": [
    {
     "name": "stdout",
     "output_type": "stream",
     "text": [
      "[3, 7, 10, 12, 31, 54, 74, 85, 96]\n"
     ]
    }
   ],
   "source": [
    "a = [12,85,10,3,96,74,54,31,7]\n",
    "a.sort()\n",
    "print(a)"
   ]
  },
  {
   "cell_type": "code",
   "execution_count": 47,
   "id": "f6f79033",
   "metadata": {},
   "outputs": [
    {
     "name": "stdout",
     "output_type": "stream",
     "text": [
      "[96, 85, 74, 54, 31, 12, 10, 7, 3]\n"
     ]
    }
   ],
   "source": [
    "a = [12,85,10,3,96,74,54,31,7]\n",
    "a.sort(reverse=True)\n",
    "print(a)"
   ]
  },
  {
   "cell_type": "code",
   "execution_count": 50,
   "id": "72d7439c",
   "metadata": {},
   "outputs": [
    {
     "name": "stdout",
     "output_type": "stream",
     "text": [
      "['aunty', 'brother', 'neighbours', 'nephew', 'sister', 'uncle']\n"
     ]
    }
   ],
   "source": [
    "b = [\"aunty\",\"neighbours\",\"uncle\",\"nephew\", \"brother\" ,\"sister\"]\n",
    "b.sort()\n",
    "print(b)\n"
   ]
  },
  {
   "cell_type": "code",
   "execution_count": 51,
   "id": "869199d0",
   "metadata": {},
   "outputs": [
    {
     "name": "stdout",
     "output_type": "stream",
     "text": [
      "['uncle', 'sister', 'nephew', 'neighbours', 'brother', 'aunty']\n"
     ]
    }
   ],
   "source": [
    "b = [\"aunty\",\"neighbours\",\"uncle\",\"nephew\", \"brother\" ,\"sister\"]\n",
    "b.sort(reverse=True)\n",
    "print(b)\n"
   ]
  },
  {
   "cell_type": "markdown",
   "id": "21a7a8cf",
   "metadata": {},
   "source": [
    "# reverse() method in list"
   ]
  },
  {
   "cell_type": "code",
   "execution_count": 54,
   "id": "85d9cbe9",
   "metadata": {},
   "outputs": [
    {
     "name": "stdout",
     "output_type": "stream",
     "text": [
      "78\n",
      "[14, 31, 79, 56, 14, 23, 78]\n",
      "14\n"
     ]
    }
   ],
   "source": [
    "a = [78,23,14,56,79,31,14]\n",
    "print(a[0])\n",
    "a.reverse()\n",
    "print(a)\n",
    "print(a[0])"
   ]
  },
  {
   "cell_type": "code",
   "execution_count": 55,
   "id": "3cae4fdc",
   "metadata": {},
   "outputs": [
    {
     "name": "stdout",
     "output_type": "stream",
     "text": [
      "['hen', 'van', 'cat', 'apple']\n"
     ]
    }
   ],
   "source": [
    "a= [\"apple\",\"cat\",\"van\",\"hen\"]\n",
    "a.reverse()\n",
    "print(a)"
   ]
  },
  {
   "cell_type": "markdown",
   "id": "d5d4eecc",
   "metadata": {},
   "source": [
    "# index method in list"
   ]
  },
  {
   "cell_type": "code",
   "execution_count": 59,
   "id": "4b2d74f4",
   "metadata": {},
   "outputs": [
    {
     "name": "stdout",
     "output_type": "stream",
     "text": [
      "4\n"
     ]
    }
   ],
   "source": [
    "a = [75,25,36,78,94,12]\n",
    "print(a.index(94))"
   ]
  },
  {
   "cell_type": "code",
   "execution_count": 60,
   "id": "d99b5726",
   "metadata": {},
   "outputs": [
    {
     "ename": "ValueError",
     "evalue": "10 is not in list",
     "output_type": "error",
     "traceback": [
      "\u001b[1;31m---------------------------------------------------------------------------\u001b[0m",
      "\u001b[1;31mValueError\u001b[0m                                Traceback (most recent call last)",
      "\u001b[1;32m~\\AppData\\Local\\Temp\\ipykernel_28596\\2014743716.py\u001b[0m in \u001b[0;36m<module>\u001b[1;34m\u001b[0m\n\u001b[0;32m      1\u001b[0m \u001b[0ma\u001b[0m \u001b[1;33m=\u001b[0m \u001b[1;33m[\u001b[0m\u001b[1;36m75\u001b[0m\u001b[1;33m,\u001b[0m\u001b[1;36m25\u001b[0m\u001b[1;33m,\u001b[0m\u001b[1;36m36\u001b[0m\u001b[1;33m,\u001b[0m\u001b[1;36m78\u001b[0m\u001b[1;33m,\u001b[0m\u001b[1;36m94\u001b[0m\u001b[1;33m,\u001b[0m\u001b[1;36m12\u001b[0m\u001b[1;33m]\u001b[0m\u001b[1;33m\u001b[0m\u001b[1;33m\u001b[0m\u001b[0m\n\u001b[1;32m----> 2\u001b[1;33m \u001b[0mprint\u001b[0m\u001b[1;33m(\u001b[0m\u001b[0ma\u001b[0m\u001b[1;33m.\u001b[0m\u001b[0mindex\u001b[0m\u001b[1;33m(\u001b[0m\u001b[1;36m10\u001b[0m\u001b[1;33m)\u001b[0m\u001b[1;33m)\u001b[0m\u001b[1;33m\u001b[0m\u001b[1;33m\u001b[0m\u001b[0m\n\u001b[0m",
      "\u001b[1;31mValueError\u001b[0m: 10 is not in list"
     ]
    }
   ],
   "source": [
    "a = [75,25,36,78,94,12]\n",
    "print(a.index(10))"
   ]
  },
  {
   "cell_type": "markdown",
   "id": "f1739cb3",
   "metadata": {},
   "source": [
    "# copy() method in list"
   ]
  },
  {
   "cell_type": "markdown",
   "id": "478f6cce",
   "metadata": {},
   "source": [
    "# why do we need copy method?"
   ]
  },
  {
   "cell_type": "code",
   "execution_count": 61,
   "id": "b6d8e71b",
   "metadata": {},
   "outputs": [
    {
     "name": "stdout",
     "output_type": "stream",
     "text": [
      "[12, 45, 78, 32, 15]\n"
     ]
    }
   ],
   "source": [
    "L = [12,45,78,32,15]\n",
    "L1=[]\n",
    "L1=L\n",
    "print(L1)"
   ]
  },
  {
   "cell_type": "code",
   "execution_count": 62,
   "id": "1718ae1d",
   "metadata": {},
   "outputs": [
    {
     "name": "stdout",
     "output_type": "stream",
     "text": [
      "[12, 45, 'hello', 32, 15]\n"
     ]
    }
   ],
   "source": [
    "L[2]=\"hello\"\n",
    "print(L)"
   ]
  },
  {
   "cell_type": "code",
   "execution_count": 63,
   "id": "80e7a6d9",
   "metadata": {},
   "outputs": [
    {
     "name": "stdout",
     "output_type": "stream",
     "text": [
      "[12, 45, 'hello', 32, 15]\n"
     ]
    }
   ],
   "source": [
    "print(L1)"
   ]
  },
  {
   "cell_type": "markdown",
   "id": "d80e922c",
   "metadata": {},
   "source": [
    "# copy method"
   ]
  },
  {
   "cell_type": "code",
   "execution_count": 64,
   "id": "87fb3ee0",
   "metadata": {},
   "outputs": [
    {
     "name": "stdout",
     "output_type": "stream",
     "text": [
      "[12, 45, 78, 32, 15]\n"
     ]
    }
   ],
   "source": [
    "L = [12,45,78,32,15]\n",
    "L1=L.copy()\n",
    "print(L1)"
   ]
  },
  {
   "cell_type": "code",
   "execution_count": 65,
   "id": "a760c3e9",
   "metadata": {},
   "outputs": [
    {
     "name": "stdout",
     "output_type": "stream",
     "text": [
      "[12, 45, 'students', 32, 15]\n"
     ]
    }
   ],
   "source": [
    "L1[2]=\"students\"\n",
    "print(L1)"
   ]
  },
  {
   "cell_type": "code",
   "execution_count": 66,
   "id": "be17a293",
   "metadata": {},
   "outputs": [
    {
     "name": "stdout",
     "output_type": "stream",
     "text": [
      "[12, 45, 78, 32, 15]\n"
     ]
    }
   ],
   "source": [
    "print(L)"
   ]
  },
  {
   "cell_type": "code",
   "execution_count": 70,
   "id": "7ef6a92f",
   "metadata": {},
   "outputs": [
    {
     "name": "stdout",
     "output_type": "stream",
     "text": [
      "enter the number of elemnts you want in the list10\n",
      "enter elements14\n",
      "enter elements25\n",
      "enter elements85\n",
      "enter elements36\n",
      "enter elements78\n",
      "enter elements14\n",
      "enter elements25\n",
      "enter elements77\n",
      "enter elements32\n",
      "enter elements61\n",
      "[14, 25, 85, 36, 78, 14, 25, 77, 32, 61]\n",
      "[61, 32, 77, 25, 14, 78, 36, 85, 25, 14]\n",
      "85\n",
      "14\n"
     ]
    }
   ],
   "source": [
    "\"\"\"take the input of the list from the user and reverse the list\"\"\"\n",
    "a = []\n",
    "n = int(input(\"enter the number of elemnts you want in the list\"))\n",
    "for i in range(n):\n",
    "    a.append(int(input(\"enter elements\")))\n",
    "print(a)\n",
    "a.reverse()\n",
    "print(a)\n",
    "print(max(a))\n",
    "print(min(a))"
   ]
  },
  {
   "cell_type": "code",
   "execution_count": 73,
   "id": "c4108ee7",
   "metadata": {},
   "outputs": [
    {
     "name": "stdout",
     "output_type": "stream",
     "text": [
      "how many items you want in the list 10\n",
      "enter items45\n",
      "enter items14\n",
      "enter items78\n",
      "enter items23\n",
      "enter items84\n",
      "enter items25\n",
      "enter items14\n",
      "enter items32\n",
      "enter items21\n",
      "enter items10\n",
      "[45, 14, 78, 23, 84, 25, 14, 32, 21, 10]\n",
      "[84, 14, 78, 23, 45, 25, 14, 32, 21, 10]\n"
     ]
    }
   ],
   "source": [
    "\"\"\"make a list and enter all it element with the help off a suser and interachange the first and the last elemnt of the string\"\"\"\n",
    "a= []\n",
    "n = int(input(\"how many items you want in the list \"))\n",
    "for i in range(n):\n",
    "    a.append(int(input(\"enter items\")))\n",
    "print(a)\n",
    "temp=a[0]\n",
    "a[0]=a[9]\n",
    "a[9]=temp\n",
    "print(a)"
   ]
  },
  {
   "cell_type": "code",
   "execution_count": null,
   "id": "88ba63ec",
   "metadata": {},
   "outputs": [],
   "source": []
  },
  {
   "cell_type": "code",
   "execution_count": null,
   "id": "9200cdd8",
   "metadata": {},
   "outputs": [],
   "source": []
  },
  {
   "cell_type": "code",
   "execution_count": null,
   "id": "86bc6353",
   "metadata": {},
   "outputs": [],
   "source": []
  },
  {
   "cell_type": "code",
   "execution_count": null,
   "id": "eba2cd9a",
   "metadata": {},
   "outputs": [],
   "source": []
  },
  {
   "cell_type": "code",
   "execution_count": null,
   "id": "bc31a458",
   "metadata": {},
   "outputs": [],
   "source": []
  },
  {
   "cell_type": "code",
   "execution_count": null,
   "id": "7c82a734",
   "metadata": {},
   "outputs": [],
   "source": []
  },
  {
   "cell_type": "code",
   "execution_count": null,
   "id": "91a08d2c",
   "metadata": {},
   "outputs": [],
   "source": []
  }
 ],
 "metadata": {
  "kernelspec": {
   "display_name": "Python 3 (ipykernel)",
   "language": "python",
   "name": "python3"
  },
  "language_info": {
   "codemirror_mode": {
    "name": "ipython",
    "version": 3
   },
   "file_extension": ".py",
   "mimetype": "text/x-python",
   "name": "python",
   "nbconvert_exporter": "python",
   "pygments_lexer": "ipython3",
   "version": "3.12.3"
  }
 },
 "nbformat": 4,
 "nbformat_minor": 5
}
