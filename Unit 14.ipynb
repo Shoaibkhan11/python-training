{
 "cells": [
  {
   "cell_type": "markdown",
   "id": "f4f54a0e",
   "metadata": {},
   "source": [
    "# Unit - 14"
   ]
  },
  {
   "cell_type": "markdown",
   "id": "e2229be1",
   "metadata": {},
   "source": [
    "# Exception Handling"
   ]
  },
  {
   "cell_type": "code",
   "execution_count": 1,
   "id": "cc602611",
   "metadata": {},
   "outputs": [],
   "source": [
    "a = 10"
   ]
  },
  {
   "cell_type": "code",
   "execution_count": 2,
   "id": "07e31012",
   "metadata": {},
   "outputs": [
    {
     "ename": "ZeroDivisionError",
     "evalue": "division by zero",
     "output_type": "error",
     "traceback": [
      "\u001b[1;31m---------------------------------------------------------------------------\u001b[0m",
      "\u001b[1;31mZeroDivisionError\u001b[0m                         Traceback (most recent call last)",
      "\u001b[1;32m~\\AppData\\Local\\Temp\\ipykernel_11728\\4102073204.py\u001b[0m in \u001b[0;36m<module>\u001b[1;34m\u001b[0m\n\u001b[1;32m----> 1\u001b[1;33m \u001b[0ma\u001b[0m\u001b[1;33m/\u001b[0m\u001b[1;36m0\u001b[0m\u001b[1;33m\u001b[0m\u001b[1;33m\u001b[0m\u001b[0m\n\u001b[0m",
      "\u001b[1;31mZeroDivisionError\u001b[0m: division by zero"
     ]
    }
   ],
   "source": [
    "a/0"
   ]
  },
  {
   "cell_type": "code",
   "execution_count": 7,
   "id": "4820586d",
   "metadata": {},
   "outputs": [
    {
     "ename": "FileNotFoundError",
     "evalue": "[Errno 2] No such file or directory: 'test.txt'",
     "output_type": "error",
     "traceback": [
      "\u001b[1;31m---------------------------------------------------------------------------\u001b[0m",
      "\u001b[1;31mFileNotFoundError\u001b[0m                         Traceback (most recent call last)",
      "\u001b[1;32m~\\AppData\\Local\\Temp\\ipykernel_11728\\2073627919.py\u001b[0m in \u001b[0;36m<module>\u001b[1;34m\u001b[0m\n\u001b[1;32m----> 1\u001b[1;33m \u001b[0mf\u001b[0m \u001b[1;33m=\u001b[0m \u001b[0mopen\u001b[0m\u001b[1;33m(\u001b[0m\u001b[1;34m\"test.txt\"\u001b[0m\u001b[1;33m,\u001b[0m \u001b[1;34m\"r\"\u001b[0m\u001b[1;33m)\u001b[0m\u001b[1;33m\u001b[0m\u001b[1;33m\u001b[0m\u001b[0m\n\u001b[0m\u001b[0;32m      2\u001b[0m \u001b[0mprint\u001b[0m\u001b[1;33m(\u001b[0m\u001b[1;34m\"i am learning\"\u001b[0m\u001b[1;33m)\u001b[0m\u001b[1;33m\u001b[0m\u001b[1;33m\u001b[0m\u001b[0m\n\u001b[0;32m      3\u001b[0m \u001b[0ma\u001b[0m \u001b[1;33m=\u001b[0m \u001b[1;36m2\u001b[0m\u001b[1;33m+\u001b[0m\u001b[1;36m5\u001b[0m\u001b[1;33m\u001b[0m\u001b[1;33m\u001b[0m\u001b[0m\n\u001b[0;32m      4\u001b[0m \u001b[0mprint\u001b[0m\u001b[1;33m(\u001b[0m\u001b[0ma\u001b[0m\u001b[1;33m)\u001b[0m\u001b[1;33m\u001b[0m\u001b[1;33m\u001b[0m\u001b[0m\n",
      "\u001b[1;31mFileNotFoundError\u001b[0m: [Errno 2] No such file or directory: 'test.txt'"
     ]
    }
   ],
   "source": [
    "f = open(\"test.txt\", \"r\")\n",
    "print(\"i am learning\")\n",
    "a = 2+5\n",
    "print(a)"
   ]
  },
  {
   "cell_type": "code",
   "execution_count": 6,
   "id": "cb0b4c80",
   "metadata": {},
   "outputs": [
    {
     "name": "stdout",
     "output_type": "stream",
     "text": [
      "this is my except block [Errno 2] No such file or directory: 'test.txt'\n",
      "7\n"
     ]
    }
   ],
   "source": [
    "try:\n",
    "    f = open(\"test.txt\", \"r\")\n",
    "    print(\"i am learning\")\n",
    "except Exception as e:\n",
    "    print(\"this is my except block\", e)\n",
    "a= 2+5\n",
    "print(a)"
   ]
  },
  {
   "cell_type": "code",
   "execution_count": 8,
   "id": "4626a51e",
   "metadata": {},
   "outputs": [],
   "source": [
    "Exception?\n"
   ]
  },
  {
   "cell_type": "code",
   "execution_count": 9,
   "id": "67c03dbd",
   "metadata": {},
   "outputs": [
    {
     "name": "stdout",
     "output_type": "stream",
     "text": [
      "this is my except block division by zero\n",
      "7\n"
     ]
    }
   ],
   "source": [
    "try:\n",
    "    a = 10/0\n",
    "except Exception as e:\n",
    "    print(\"this is my except block\", e)\n",
    "a= 2+5\n",
    "print(a)"
   ]
  },
  {
   "cell_type": "code",
   "execution_count": 3,
   "id": "3b519b14",
   "metadata": {},
   "outputs": [
    {
     "name": "stdout",
     "output_type": "stream",
     "text": [
      "this is my except block not writable\n",
      "this is so amazing\n"
     ]
    }
   ],
   "source": [
    "try:\n",
    "    f = open(\"test.txt\", \"r\")\n",
    "    f.write(\"Newdelhi is the capital of INDIA\")\n",
    "    f.close()\n",
    "except Exception as e:\n",
    "    print(\"this is my except block\", e)\n",
    "    print(\"this is so amazing\")"
   ]
  },
  {
   "cell_type": "code",
   "execution_count": 11,
   "id": "51c5588b",
   "metadata": {},
   "outputs": [
    {
     "name": "stdout",
     "output_type": "stream",
     "text": [
      "Kuch to huwa\n",
      "this is the else part of the block\n",
      "apple is so tasty\n",
      "11\n"
     ]
    }
   ],
   "source": [
    "try:\n",
    "    f = open(\"demo.txt\", \"r\")\n",
    "    #f.write(\"Newdelhi is the capital of INDIA\")\n",
    "    print(\"Kuch to huwa\")\n",
    "    f.close()\n",
    "except FileNotFoundError as e:\n",
    "    print(\"this is my except block\", e)\n",
    "    print(\"this is so amazing\")\n",
    "    print('this error occured due to file is not present')\n",
    "except:\n",
    "    print(\"Inside everything\")\n",
    "else:\n",
    "    print(\"this is the else part of the block\")\n",
    "    print(\"apple is so tasty\")\n",
    "    a= 5+6\n",
    "    print(a)"
   ]
  },
  {
   "cell_type": "code",
   "execution_count": 2,
   "id": "5b3addc6",
   "metadata": {},
   "outputs": [],
   "source": [
    "f=open('demo.txt','w')\n",
    "f.write(\"the file is present\")\n",
    "f.close()"
   ]
  },
  {
   "cell_type": "code",
   "execution_count": 18,
   "id": "743cd92e",
   "metadata": {},
   "outputs": [
    {
     "name": "stdout",
     "output_type": "stream",
     "text": [
      "this is my first file\n",
      "this is my second file\n",
      "yes it worked\n",
      "mumbai is a beautiful city\n",
      "outside\n"
     ]
    }
   ],
   "source": [
    "try:\n",
    "    f = open(\"demo.txt\", \"r\")\n",
    "    data=f.read()\n",
    "    f.close()\n",
    "    print(data)\n",
    "except:\n",
    "    print(\"your code doesn't work\")\n",
    "else:\n",
    "    print(\"yes it worked\")\n",
    "finally:\n",
    "    print(\"mumbai is a beautiful city\")\n",
    "print(\"outside\")"
   ]
  },
  {
   "cell_type": "code",
   "execution_count": 21,
   "id": "d982fb8c",
   "metadata": {},
   "outputs": [
    {
     "name": "stdout",
     "output_type": "stream",
     "text": [
      "this is my except block [Errno 2] No such file or directory: 'demo.txt'\n",
      "this is so amazing\n",
      "mumbai is a baurtiful city\n"
     ]
    }
   ],
   "source": [
    "try:\n",
    "    f = open(\"demo.txt\", \"r\")\n",
    "    f.write(\"this is my file\")\n",
    "    f.close()\n",
    "except %%file as e:\n",
    "    print(\"this is my except block\", e)\n",
    "    print(\"this is so amazing\")\n",
    "finally:\n",
    "    print(\"mumbai is a baurtiful city\")"
   ]
  },
  {
   "cell_type": "markdown",
   "id": "34a4acbb",
   "metadata": {},
   "source": [
    "# Custom exception handling"
   ]
  },
  {
   "cell_type": "code",
   "execution_count": 22,
   "id": "becd9e36",
   "metadata": {},
   "outputs": [],
   "source": [
    "Exception?"
   ]
  },
  {
   "cell_type": "code",
   "execution_count": 23,
   "id": "476a96ca",
   "metadata": {},
   "outputs": [
    {
     "name": "stdout",
     "output_type": "stream",
     "text": [
      "enter number of apples-5\n"
     ]
    }
   ],
   "source": [
    "apple = int(input(\"enter number of apples\"))"
   ]
  },
  {
   "cell_type": "code",
   "execution_count": 24,
   "id": "cd4375a6",
   "metadata": {},
   "outputs": [],
   "source": [
    "class applenumbers(Exception):\n",
    "    def __init__(self,msg):\n",
    "        self.msg = msg"
   ]
  },
  {
   "cell_type": "code",
   "execution_count": 25,
   "id": "b5de1a4e",
   "metadata": {},
   "outputs": [],
   "source": [
    "def applevalidate(apple):\n",
    "    if apple<0:\n",
    "        raise applenumbers(\"number of apples can never be negative\")\n",
    "    elif apple>20000:\n",
    "        raise applenumbers(\"apples are too much in number\")\n",
    "    else:\n",
    "        print(\"number of apples are valid\", apple)"
   ]
  },
  {
   "cell_type": "code",
   "execution_count": 29,
   "id": "62f937f9",
   "metadata": {},
   "outputs": [
    {
     "name": "stdout",
     "output_type": "stream",
     "text": [
      "enter the number of apples258\n",
      "number of apples are valid 258\n"
     ]
    }
   ],
   "source": [
    "try:\n",
    "    apple = int(input(\"enter the number of apples\"))\n",
    "    applevalidate(apple)\n",
    "except applenumbers as e:\n",
    "    print(e)"
   ]
  },
  {
   "cell_type": "markdown",
   "id": "aa5b0512",
   "metadata": {},
   "source": [
    "# List of general use exception"
   ]
  },
  {
   "cell_type": "code",
   "execution_count": 30,
   "id": "480b069c",
   "metadata": {},
   "outputs": [
    {
     "name": "stdout",
     "output_type": "stream",
     "text": [
      "division by zero\n"
     ]
    }
   ],
   "source": [
    "try:\n",
    "    a = 19/0\n",
    "except Exception as e:\n",
    "    print(e)"
   ]
  },
  {
   "cell_type": "code",
   "execution_count": 31,
   "id": "3b2217df",
   "metadata": {},
   "outputs": [
    {
     "name": "stdout",
     "output_type": "stream",
     "text": [
      "division by zero\n"
     ]
    }
   ],
   "source": [
    "try:\n",
    "    a = 19/0\n",
    "except ZeroDivisionError as e:\n",
    "    print(e)"
   ]
  },
  {
   "cell_type": "code",
   "execution_count": 32,
   "id": "380c1c2c",
   "metadata": {},
   "outputs": [
    {
     "name": "stdout",
     "output_type": "stream",
     "text": [
      "invalid literal for int() with base 10: 'apple'\n"
     ]
    }
   ],
   "source": [
    "try:\n",
    "    int(\"apple\")\n",
    "except (TypeError,ValueError) as e:\n",
    "    print(e)"
   ]
  },
  {
   "cell_type": "code",
   "execution_count": 33,
   "id": "bfb6a15f",
   "metadata": {},
   "outputs": [
    {
     "name": "stdout",
     "output_type": "stream",
     "text": [
      "this will catch an error\n"
     ]
    }
   ],
   "source": [
    "try:\n",
    "    int(\"orange\")\n",
    "except :\n",
    "    print(\"this will catch an error\")"
   ]
  },
  {
   "cell_type": "code",
   "execution_count": 34,
   "id": "d7cbfd72",
   "metadata": {},
   "outputs": [
    {
     "name": "stdout",
     "output_type": "stream",
     "text": [
      "No module named 'cherry'\n"
     ]
    }
   ],
   "source": [
    "try:\n",
    "    import cherry\n",
    "except ImportError as e:\n",
    "    print(e)"
   ]
  },
  {
   "cell_type": "code",
   "execution_count": 35,
   "id": "babff5ed",
   "metadata": {},
   "outputs": [
    {
     "name": "stdout",
     "output_type": "stream",
     "text": [
      "'key2'\n"
     ]
    }
   ],
   "source": [
    "try :\n",
    "    d = {\"apple\":\"banana\", 104:[781,15,45]}\n",
    "    print(d[\"key2\"])\n",
    "except KeyError as e:\n",
    "    print(e)"
   ]
  },
  {
   "cell_type": "code",
   "execution_count": 40,
   "id": "f532894d",
   "metadata": {},
   "outputs": [
    {
     "name": "stdout",
     "output_type": "stream",
     "text": [
      "'str' object has no attribute 'test'\n"
     ]
    }
   ],
   "source": [
    "try:\n",
    "    \"apple\".test()\n",
    "except AttributeError as e:\n",
    "    print(e)"
   ]
  },
  {
   "cell_type": "code",
   "execution_count": 41,
   "id": "516fce2d",
   "metadata": {},
   "outputs": [
    {
     "name": "stdout",
     "output_type": "stream",
     "text": [
      "list index out of range\n"
     ]
    }
   ],
   "source": [
    "try:\n",
    "    a = [12,25,1,4,16]\n",
    "    print(a[10])\n",
    "except IndexError as e:\n",
    "    print(e)"
   ]
  },
  {
   "cell_type": "code",
   "execution_count": 42,
   "id": "2b2455e8",
   "metadata": {},
   "outputs": [
    {
     "name": "stdout",
     "output_type": "stream",
     "text": [
      "unsupported operand type(s) for +: 'int' and 'str'\n"
     ]
    }
   ],
   "source": [
    "try:\n",
    "    25+\"apple\"\n",
    "except TypeError as e :\n",
    "    print(e)"
   ]
  },
  {
   "cell_type": "code",
   "execution_count": 44,
   "id": "dd19a1ed",
   "metadata": {},
   "outputs": [
    {
     "name": "stdout",
     "output_type": "stream",
     "text": [
      "[Errno 2] No such file or directory: 'practice.txt'\n"
     ]
    }
   ],
   "source": [
    "try:\n",
    "    with open(\"practice.txt\", \"r\") as f:\n",
    "        test = f.read()\n",
    "except FileNotFoundError as e:\n",
    "    print(e)"
   ]
  },
  {
   "cell_type": "code",
   "execution_count": 45,
   "id": "31f30bc6",
   "metadata": {},
   "outputs": [
    {
     "name": "stdout",
     "output_type": "stream",
     "text": [
      "[Errno 2] No such file or directory: 'practice.txt'\n"
     ]
    }
   ],
   "source": [
    "try:\n",
    "    with open(\"practice.txt\", \"r\") as f:\n",
    "        test = f.read()\n",
    "except Exception as e:\n",
    "    print(e)\n",
    "except FileNotFoundError as e:\n",
    "    print(\"hello\", e)"
   ]
  },
  {
   "cell_type": "code",
   "execution_count": 46,
   "id": "2a93f666",
   "metadata": {},
   "outputs": [
    {
     "name": "stdout",
     "output_type": "stream",
     "text": [
      "hello [Errno 2] No such file or directory: 'practice.txt'\n"
     ]
    }
   ],
   "source": [
    "try:\n",
    "    with open(\"practice.txt\", \"r\") as f:\n",
    "        test = f.read()\n",
    "\n",
    "except FileNotFoundError as e:\n",
    "    print(\"hello\", e)\n",
    "    \n",
    "except Exception as e:\n",
    "    print(e)"
   ]
  },
  {
   "cell_type": "code",
   "execution_count": 47,
   "id": "82f5a1ad",
   "metadata": {},
   "outputs": [
    {
     "name": "stdout",
     "output_type": "stream",
     "text": [
      "hello [Errno 2] No such file or directory: 'practice.txt'\n"
     ]
    }
   ],
   "source": [
    "try:\n",
    "    with open(\"practice.txt\", \"r\") as f:\n",
    "        test = f.read()\n",
    "\n",
    "except FileNotFoundError as e:\n",
    "    print(\"hello\", e)\n",
    "except TypeError as e:\n",
    "    print(\"student\", e)\n",
    "    \n",
    "except Exception as e:\n",
    "    print(e)"
   ]
  },
  {
   "cell_type": "code",
   "execution_count": 48,
   "id": "70f1d649",
   "metadata": {},
   "outputs": [
    {
     "name": "stdout",
     "output_type": "stream",
     "text": [
      "hello [Errno 2] No such file or directory: 'practice.txt'\n"
     ]
    }
   ],
   "source": [
    "try:\n",
    "    with open(\"practice.txt\", \"r\") as f:\n",
    "        test = f.read()\n",
    "        \n",
    "except TypeError as e:\n",
    "    print(\"student\", e) \n",
    "    \n",
    "except FileNotFoundError as e:\n",
    "    print(\"hello\", e)\n",
    "\n",
    "    \n",
    "except Exception as e:\n",
    "    print(e)"
   ]
  },
  {
   "cell_type": "markdown",
   "id": "8b4ce8e8",
   "metadata": {},
   "source": [
    "# Best practice Exception Handling"
   ]
  },
  {
   "cell_type": "code",
   "execution_count": 50,
   "id": "fc350e87",
   "metadata": {},
   "outputs": [
    {
     "name": "stdout",
     "output_type": "stream",
     "text": [
      "division by zero\n"
     ]
    }
   ],
   "source": [
    "#always use specific exception\n",
    "\n",
    "try:\n",
    "    15/0\n",
    "except Exception as e:\n",
    "    print(e)"
   ]
  },
  {
   "cell_type": "code",
   "execution_count": 6,
   "id": "9c194f80",
   "metadata": {},
   "outputs": [
    {
     "name": "stdout",
     "output_type": "stream",
     "text": [
      "The zero is not the correct input\n",
      "division by zero\n"
     ]
    }
   ],
   "source": [
    "try:\n",
    "    15/0\n",
    "except ZeroDivisionError as e:\n",
    "    print(\"The zero is not the correct input\")\n",
    "    print(e)"
   ]
  },
  {
   "cell_type": "code",
   "execution_count": 52,
   "id": "ca8e4653",
   "metadata": {},
   "outputs": [
    {
     "name": "stdout",
     "output_type": "stream",
     "text": [
      "i am trying to handle the zero division error. division by zero\n"
     ]
    }
   ],
   "source": [
    "#print always a proper message\n",
    "\n",
    "try:\n",
    "    12/0\n",
    "except ZeroDivisionError as e:\n",
    "    print(\"i am trying to handle the zero division error.\", e)"
   ]
  },
  {
   "cell_type": "code",
   "execution_count": 56,
   "id": "29b48404",
   "metadata": {},
   "outputs": [],
   "source": [
    "#always try to log error\n",
    "\n",
    "import logging\n",
    "logging.basicConfig(filename = \"error.log\", level = logging.ERROR)\n",
    "try:\n",
    "    10/0\n",
    "except ZeroDivisionError as e:\n",
    "    logging.error(\"i am trying to handle a zero division error{}\".format (e))"
   ]
  },
  {
   "cell_type": "code",
   "execution_count": 59,
   "id": "0b6c5989",
   "metadata": {},
   "outputs": [],
   "source": [
    "#always avoid to write multiple exception handling\n",
    "\n",
    "import logging\n",
    "logging.basicConfig(filename = \"error.log\", level = logging.ERROR)\n",
    "try:\n",
    "    10/0\n",
    "except AttributeError as e:\n",
    "    logging.error(\"i am trying to solve attribute error{}\".format(e))\n",
    "except FileNotFoundError as e:\n",
    "    logging.error(\"i am trying to handle file not found error{}\".format(e))\n",
    "except ZeroDivisionError as e:\n",
    "    logging.error(\"i am trying to handle a zero division error{}\".format (e))"
   ]
  },
  {
   "cell_type": "code",
   "execution_count": 62,
   "id": "4f5a9bf0",
   "metadata": {},
   "outputs": [],
   "source": [
    "#document all the error, clean up all the resources\n",
    "\n",
    "try:\n",
    "    with open(\"orange.txt\", \"w\") as f:\n",
    "        f.write(\"this is my data to my file\")\n",
    "except FileNotFoundError as e:\n",
    "    logging.error(\" i am trying to handle something{}\".format(e))\n",
    "finally:\n",
    "    f.close()"
   ]
  },
  {
   "cell_type": "code",
   "execution_count": null,
   "id": "5184a969",
   "metadata": {},
   "outputs": [],
   "source": []
  }
 ],
 "metadata": {
  "kernelspec": {
   "display_name": "Python 3 (ipykernel)",
   "language": "python",
   "name": "python3"
  },
  "language_info": {
   "codemirror_mode": {
    "name": "ipython",
    "version": 3
   },
   "file_extension": ".py",
   "mimetype": "text/x-python",
   "name": "python",
   "nbconvert_exporter": "python",
   "pygments_lexer": "ipython3",
   "version": "3.10.9"
  }
 },
 "nbformat": 4,
 "nbformat_minor": 5
}
