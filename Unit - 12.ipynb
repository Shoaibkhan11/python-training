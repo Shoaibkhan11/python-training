{
 "cells": [
  {
   "cell_type": "markdown",
   "id": "a38c59d2",
   "metadata": {},
   "source": [
    "# unit - 12"
   ]
  },
  {
   "cell_type": "markdown",
   "id": "8fea57cd",
   "metadata": {},
   "source": [
    "# OOPS Concepts"
   ]
  },
  {
   "cell_type": "code",
   "execution_count": 1,
   "id": "b029d005",
   "metadata": {},
   "outputs": [],
   "source": [
    "a = 3"
   ]
  },
  {
   "cell_type": "code",
   "execution_count": 2,
   "id": "89b4e485",
   "metadata": {},
   "outputs": [
    {
     "name": "stdout",
     "output_type": "stream",
     "text": [
      "<class 'int'>\n"
     ]
    }
   ],
   "source": [
    "print(type(a))"
   ]
  },
  {
   "cell_type": "code",
   "execution_count": 3,
   "id": "458fdcff",
   "metadata": {},
   "outputs": [
    {
     "name": "stdout",
     "output_type": "stream",
     "text": [
      "<class 'str'>\n",
      "datascience\n"
     ]
    }
   ],
   "source": [
    "b = \"datascience\"\n",
    "print(type(b))\n",
    "print(b)"
   ]
  },
  {
   "cell_type": "code",
   "execution_count": 4,
   "id": "c3840841",
   "metadata": {},
   "outputs": [],
   "source": [
    "class test:\n",
    "    pass"
   ]
  },
  {
   "cell_type": "code",
   "execution_count": 5,
   "id": "b00f683d",
   "metadata": {},
   "outputs": [],
   "source": [
    "a = test()"
   ]
  },
  {
   "cell_type": "code",
   "execution_count": 6,
   "id": "d5698c05",
   "metadata": {},
   "outputs": [
    {
     "data": {
      "text/plain": [
       "__main__.test"
      ]
     },
     "execution_count": 6,
     "metadata": {},
     "output_type": "execute_result"
    }
   ],
   "source": [
    "type(a)"
   ]
  },
  {
   "cell_type": "code",
   "execution_count": 7,
   "id": "edaf6c48",
   "metadata": {},
   "outputs": [],
   "source": [
    "class ihh:\n",
    "    \n",
    "    def welcome_msg():\n",
    "        print(\"welcome to ihh\")"
   ]
  },
  {
   "cell_type": "code",
   "execution_count": 8,
   "id": "59893d75",
   "metadata": {},
   "outputs": [],
   "source": [
    "rahul = ihh()"
   ]
  },
  {
   "cell_type": "code",
   "execution_count": 9,
   "id": "c5babb38",
   "metadata": {},
   "outputs": [
    {
     "ename": "TypeError",
     "evalue": "welcome_msg() takes 0 positional arguments but 1 was given",
     "output_type": "error",
     "traceback": [
      "\u001b[1;31m---------------------------------------------------------------------------\u001b[0m",
      "\u001b[1;31mTypeError\u001b[0m                                 Traceback (most recent call last)",
      "\u001b[1;32m~\\AppData\\Local\\Temp\\ipykernel_7724\\1792676683.py\u001b[0m in \u001b[0;36m<module>\u001b[1;34m\u001b[0m\n\u001b[1;32m----> 1\u001b[1;33m \u001b[0mrahul\u001b[0m\u001b[1;33m.\u001b[0m\u001b[0mwelcome_msg\u001b[0m\u001b[1;33m(\u001b[0m\u001b[1;33m)\u001b[0m\u001b[1;33m\u001b[0m\u001b[1;33m\u001b[0m\u001b[0m\n\u001b[0m",
      "\u001b[1;31mTypeError\u001b[0m: welcome_msg() takes 0 positional arguments but 1 was given"
     ]
    }
   ],
   "source": [
    "rahul.welcome_msg()"
   ]
  },
  {
   "cell_type": "code",
   "execution_count": 10,
   "id": "bf0085db",
   "metadata": {},
   "outputs": [],
   "source": [
    "class ihh:\n",
    "    \n",
    "    def welcome_msg(self):\n",
    "        print(\"welcome to ihh\")"
   ]
  },
  {
   "cell_type": "code",
   "execution_count": 11,
   "id": "5b16b157",
   "metadata": {},
   "outputs": [],
   "source": [
    "rahul = ihh()"
   ]
  },
  {
   "cell_type": "code",
   "execution_count": 12,
   "id": "75de4b42",
   "metadata": {},
   "outputs": [
    {
     "name": "stdout",
     "output_type": "stream",
     "text": [
      "welcome to ihh\n"
     ]
    }
   ],
   "source": [
    "rahul.welcome_msg()"
   ]
  },
  {
   "cell_type": "code",
   "execution_count": 13,
   "id": "c99929ec",
   "metadata": {},
   "outputs": [],
   "source": [
    "priya = ihh()"
   ]
  },
  {
   "cell_type": "code",
   "execution_count": 14,
   "id": "0dc87035",
   "metadata": {},
   "outputs": [
    {
     "name": "stdout",
     "output_type": "stream",
     "text": [
      "welcome to ihh\n"
     ]
    }
   ],
   "source": [
    "priya.welcome_msg()"
   ]
  },
  {
   "cell_type": "code",
   "execution_count": 16,
   "id": "ee8dcc51",
   "metadata": {},
   "outputs": [
    {
     "name": "stdout",
     "output_type": "stream",
     "text": [
      "welcome to ihh\n"
     ]
    }
   ],
   "source": [
    "gautam =ihh()\n",
    "gautam.welcome_msg()"
   ]
  },
  {
   "cell_type": "code",
   "execution_count": 17,
   "id": "19960f89",
   "metadata": {},
   "outputs": [],
   "source": [
    "class ihh:\n",
    "    \n",
    "    def welcome_msg(self):\n",
    "        print(\"welcome to ihh\")\n",
    "    def python_class(self):\n",
    "        print(\"hello students this is your python class\")"
   ]
  },
  {
   "cell_type": "code",
   "execution_count": 18,
   "id": "7afc1edd",
   "metadata": {},
   "outputs": [],
   "source": [
    "obj = ihh()"
   ]
  },
  {
   "cell_type": "code",
   "execution_count": 19,
   "id": "3926d851",
   "metadata": {},
   "outputs": [
    {
     "name": "stdout",
     "output_type": "stream",
     "text": [
      "welcome to ihh\n"
     ]
    }
   ],
   "source": [
    "obj.welcome_msg()"
   ]
  },
  {
   "cell_type": "code",
   "execution_count": 20,
   "id": "d5dfb1e2",
   "metadata": {},
   "outputs": [
    {
     "name": "stdout",
     "output_type": "stream",
     "text": [
      "hello students this is your python class\n"
     ]
    }
   ],
   "source": [
    "obj.python_class()"
   ]
  },
  {
   "cell_type": "markdown",
   "id": "8946d067",
   "metadata": {},
   "source": [
    "# init - the init() function is called automatically every time the class is being used to create a new object"
   ]
  },
  {
   "cell_type": "code",
   "execution_count": 29,
   "id": "118a02db",
   "metadata": {},
   "outputs": [],
   "source": [
    "class ihh1:\n",
    "     \n",
    "        def __init__(self,phone_number, email_id, student_id):\n",
    "            self.phone_number = phone_number\n",
    "            self.email_id = email_id\n",
    "            self.student_id = student_id\n",
    "            \n",
    "        def return_student_details(self):\n",
    "            return self.student_id,self.phone_number,self.email_id "
   ]
  },
  {
   "cell_type": "code",
   "execution_count": 30,
   "id": "ccc89394",
   "metadata": {},
   "outputs": [],
   "source": [
    "rahul = ihh1(7852255522, \"rahul@gmail.com\", 101)"
   ]
  },
  {
   "cell_type": "code",
   "execution_count": 31,
   "id": "713f25bc",
   "metadata": {},
   "outputs": [
    {
     "data": {
      "text/plain": [
       "(101, 7852255522, 'rahul@gmail.com')"
      ]
     },
     "execution_count": 31,
     "metadata": {},
     "output_type": "execute_result"
    }
   ],
   "source": [
    "rahul.return_student_details()"
   ]
  },
  {
   "cell_type": "code",
   "execution_count": 34,
   "id": "b6564af0",
   "metadata": {},
   "outputs": [],
   "source": [
    "class ihh2:\n",
    "     \n",
    "        def __init__(anshu,phone_number, email_id, student_id):\n",
    "            anshu.phone_number = phone_number\n",
    "            anshu.email_id = email_id\n",
    "            anshu.student_id = student_id\n",
    "            \n",
    "        def return_student_details(anshu):\n",
    "            return anshu.student_id,anshu.phone_number,anshu.email_id "
   ]
  },
  {
   "cell_type": "code",
   "execution_count": 37,
   "id": "d23f6cf2",
   "metadata": {},
   "outputs": [],
   "source": [
    "ihh1_obj = ihh2(18525555, \"vivek@gmail.com\", 102 )"
   ]
  },
  {
   "cell_type": "code",
   "execution_count": 38,
   "id": "aca01857",
   "metadata": {},
   "outputs": [
    {
     "data": {
      "text/plain": [
       "(102, 18525555, 'vivek@gmail.com')"
      ]
     },
     "execution_count": 38,
     "metadata": {},
     "output_type": "execute_result"
    }
   ],
   "source": [
    "ihh1_obj.return_student_details()"
   ]
  },
  {
   "cell_type": "markdown",
   "id": "785d91a1",
   "metadata": {},
   "source": [
    "# polymorphism\n",
    "The word polymorphism means having many forms"
   ]
  },
  {
   "cell_type": "code",
   "execution_count": 39,
   "id": "412ea7a4",
   "metadata": {},
   "outputs": [],
   "source": [
    "def test(a,b):\n",
    "    return a+b"
   ]
  },
  {
   "cell_type": "code",
   "execution_count": 40,
   "id": "f8f75688",
   "metadata": {},
   "outputs": [
    {
     "data": {
      "text/plain": [
       "5"
      ]
     },
     "execution_count": 40,
     "metadata": {},
     "output_type": "execute_result"
    }
   ],
   "source": [
    "test(2,3)"
   ]
  },
  {
   "cell_type": "code",
   "execution_count": 41,
   "id": "78ff7075",
   "metadata": {},
   "outputs": [
    {
     "data": {
      "text/plain": [
       "'pythonclass'"
      ]
     },
     "execution_count": 41,
     "metadata": {},
     "output_type": "execute_result"
    }
   ],
   "source": [
    "test(\"python\", \"class\")"
   ]
  },
  {
   "cell_type": "code",
   "execution_count": 42,
   "id": "3a389ddc",
   "metadata": {},
   "outputs": [
    {
     "data": {
      "text/plain": [
       "[1, 2, 3, 10, 12, 14]"
      ]
     },
     "execution_count": 42,
     "metadata": {},
     "output_type": "execute_result"
    }
   ],
   "source": [
    "test([1,2,3], [10,12,14])"
   ]
  },
  {
   "cell_type": "code",
   "execution_count": 43,
   "id": "8f9292cf",
   "metadata": {},
   "outputs": [],
   "source": [
    "class data_science():\n",
    "    def syllabus(self):\n",
    "        print(\"this is the syllabus of datascience\")"
   ]
  },
  {
   "cell_type": "code",
   "execution_count": 44,
   "id": "d9824573",
   "metadata": {},
   "outputs": [],
   "source": [
    "class python():\n",
    "    def syllabus(self):\n",
    "        print(\"this is the syllabus of python\")"
   ]
  },
  {
   "cell_type": "code",
   "execution_count": 45,
   "id": "1032ae0b",
   "metadata": {},
   "outputs": [],
   "source": [
    "def demo(class_obj):\n",
    "    for i in class_obj:\n",
    "        i.syllabus()"
   ]
  },
  {
   "cell_type": "code",
   "execution_count": 47,
   "id": "0833e696",
   "metadata": {},
   "outputs": [],
   "source": [
    "x = data_science()"
   ]
  },
  {
   "cell_type": "code",
   "execution_count": 48,
   "id": "68b29976",
   "metadata": {},
   "outputs": [],
   "source": [
    "y = python()"
   ]
  },
  {
   "cell_type": "code",
   "execution_count": 49,
   "id": "965a1072",
   "metadata": {},
   "outputs": [],
   "source": [
    "class_obj = [x,y]"
   ]
  },
  {
   "cell_type": "code",
   "execution_count": 50,
   "id": "597f905e",
   "metadata": {},
   "outputs": [
    {
     "name": "stdout",
     "output_type": "stream",
     "text": [
      "this is the syllabus of datascience\n",
      "this is the syllabus of python\n"
     ]
    }
   ],
   "source": [
    "demo(class_obj)"
   ]
  },
  {
   "cell_type": "markdown",
   "id": "99e794fd",
   "metadata": {},
   "source": [
    "# encapsulation"
   ]
  },
  {
   "cell_type": "code",
   "execution_count": 63,
   "id": "bc2d97dd",
   "metadata": {},
   "outputs": [],
   "source": [
    "class test:\n",
    "    def __init__(self,a,b):\n",
    "        self.a = a\n",
    "        self.b = b"
   ]
  },
  {
   "cell_type": "code",
   "execution_count": 65,
   "id": "2755112c",
   "metadata": {},
   "outputs": [],
   "source": [
    "t = test(2,5)"
   ]
  },
  {
   "cell_type": "code",
   "execution_count": 66,
   "id": "a726ffda",
   "metadata": {},
   "outputs": [],
   "source": [
    "t.a = 2565"
   ]
  },
  {
   "cell_type": "code",
   "execution_count": 67,
   "id": "d847b2e5",
   "metadata": {},
   "outputs": [
    {
     "data": {
      "text/plain": [
       "2565"
      ]
     },
     "execution_count": 67,
     "metadata": {},
     "output_type": "execute_result"
    }
   ],
   "source": [
    "t.a"
   ]
  },
  {
   "cell_type": "code",
   "execution_count": 68,
   "id": "1d8823df",
   "metadata": {},
   "outputs": [
    {
     "data": {
      "text/plain": [
       "5"
      ]
     },
     "execution_count": 68,
     "metadata": {},
     "output_type": "execute_result"
    }
   ],
   "source": [
    "t.b"
   ]
  },
  {
   "cell_type": "code",
   "execution_count": 69,
   "id": "3f719928",
   "metadata": {},
   "outputs": [],
   "source": [
    "t.b = 89"
   ]
  },
  {
   "cell_type": "code",
   "execution_count": 70,
   "id": "34a966c4",
   "metadata": {},
   "outputs": [
    {
     "data": {
      "text/plain": [
       "89"
      ]
     },
     "execution_count": 70,
     "metadata": {},
     "output_type": "execute_result"
    }
   ],
   "source": [
    "t.b"
   ]
  },
  {
   "cell_type": "code",
   "execution_count": 72,
   "id": "20488db2",
   "metadata": {},
   "outputs": [],
   "source": [
    "class test1:\n",
    "    def __init__(self,a,b):\n",
    "        self.__a = a\n",
    "        self.__b = b"
   ]
  },
  {
   "cell_type": "code",
   "execution_count": 74,
   "id": "0e7f22ee",
   "metadata": {},
   "outputs": [],
   "source": [
    "t_obj = test1(25,30)"
   ]
  },
  {
   "cell_type": "code",
   "execution_count": 85,
   "id": "e225f365",
   "metadata": {},
   "outputs": [
    {
     "ename": "AttributeError",
     "evalue": "'test1' object has no attribute 'b'",
     "output_type": "error",
     "traceback": [
      "\u001b[1;31m---------------------------------------------------------------------------\u001b[0m",
      "\u001b[1;31mAttributeError\u001b[0m                            Traceback (most recent call last)",
      "\u001b[1;32m~\\AppData\\Local\\Temp\\ipykernel_7724\\348593674.py\u001b[0m in \u001b[0;36m<module>\u001b[1;34m\u001b[0m\n\u001b[1;32m----> 1\u001b[1;33m \u001b[0mt_obj\u001b[0m\u001b[1;33m.\u001b[0m\u001b[0mb\u001b[0m\u001b[1;33m\u001b[0m\u001b[1;33m\u001b[0m\u001b[0m\n\u001b[0m",
      "\u001b[1;31mAttributeError\u001b[0m: 'test1' object has no attribute 'b'"
     ]
    }
   ],
   "source": [
    "t_obj.b"
   ]
  },
  {
   "cell_type": "code",
   "execution_count": 86,
   "id": "312ef95b",
   "metadata": {},
   "outputs": [
    {
     "data": {
      "text/plain": [
       "25"
      ]
     },
     "execution_count": 86,
     "metadata": {},
     "output_type": "execute_result"
    }
   ],
   "source": [
    "t_obj._test1__a"
   ]
  },
  {
   "cell_type": "code",
   "execution_count": 87,
   "id": "34d5a78d",
   "metadata": {},
   "outputs": [
    {
     "data": {
      "text/plain": [
       "30"
      ]
     },
     "execution_count": 87,
     "metadata": {},
     "output_type": "execute_result"
    }
   ],
   "source": [
    "t_obj._test1__b"
   ]
  },
  {
   "cell_type": "code",
   "execution_count": 9,
   "id": "0f04720e",
   "metadata": {},
   "outputs": [],
   "source": [
    "class bank_account:\n",
    "    def __init__(self,balance):\n",
    "        self.__balance = balance\n",
    "        \n",
    "    def deposit(self, amount):\n",
    "        self.__balance = self.__balance+ amount\n",
    "        \n",
    "    def withdraw(self,amount):\n",
    "        if self.__balance>=amount:\n",
    "            self.__balance = self.__balance - amount\n",
    "        else:\n",
    "            return False\n",
    "    def get_balance(self):\n",
    "        return self.__balance\n",
    "        "
   ]
  },
  {
   "cell_type": "code",
   "execution_count": 10,
   "id": "5973a2bc",
   "metadata": {},
   "outputs": [],
   "source": [
    "swati = bank_account(1000)"
   ]
  },
  {
   "cell_type": "code",
   "execution_count": 11,
   "id": "ad3d7ce1",
   "metadata": {},
   "outputs": [
    {
     "ename": "AttributeError",
     "evalue": "'bank_account' object has no attribute 'balance'",
     "output_type": "error",
     "traceback": [
      "\u001b[1;31m---------------------------------------------------------------------------\u001b[0m",
      "\u001b[1;31mAttributeError\u001b[0m                            Traceback (most recent call last)",
      "Cell \u001b[1;32mIn[11], line 1\u001b[0m\n\u001b[1;32m----> 1\u001b[0m \u001b[43mswati\u001b[49m\u001b[38;5;241;43m.\u001b[39;49m\u001b[43mbalance\u001b[49m\n",
      "\u001b[1;31mAttributeError\u001b[0m: 'bank_account' object has no attribute 'balance'"
     ]
    }
   ],
   "source": [
    "swati.balance"
   ]
  },
  {
   "cell_type": "code",
   "execution_count": 12,
   "id": "ee9b27b8",
   "metadata": {},
   "outputs": [
    {
     "data": {
      "text/plain": [
       "1000"
      ]
     },
     "execution_count": 12,
     "metadata": {},
     "output_type": "execute_result"
    }
   ],
   "source": [
    "swati.get_balance()"
   ]
  },
  {
   "cell_type": "code",
   "execution_count": 13,
   "id": "afe1e164",
   "metadata": {},
   "outputs": [],
   "source": [
    "swati.deposit(5000)"
   ]
  },
  {
   "cell_type": "code",
   "execution_count": 14,
   "id": "5271cb24",
   "metadata": {},
   "outputs": [
    {
     "data": {
      "text/plain": [
       "6000"
      ]
     },
     "execution_count": 14,
     "metadata": {},
     "output_type": "execute_result"
    }
   ],
   "source": [
    "swati.get_balance()"
   ]
  },
  {
   "cell_type": "code",
   "execution_count": 15,
   "id": "5bdc0cb8",
   "metadata": {},
   "outputs": [
    {
     "data": {
      "text/plain": [
       "False"
      ]
     },
     "execution_count": 15,
     "metadata": {},
     "output_type": "execute_result"
    }
   ],
   "source": [
    "swati.withdraw(7000)"
   ]
  },
  {
   "cell_type": "code",
   "execution_count": 16,
   "id": "52bfe67f",
   "metadata": {},
   "outputs": [],
   "source": [
    "swati.withdraw(2000)"
   ]
  },
  {
   "cell_type": "code",
   "execution_count": 17,
   "id": "1fa5afd8",
   "metadata": {},
   "outputs": [
    {
     "data": {
      "text/plain": [
       "4000"
      ]
     },
     "execution_count": 17,
     "metadata": {},
     "output_type": "execute_result"
    }
   ],
   "source": [
    "swati.get_balance()"
   ]
  },
  {
   "cell_type": "markdown",
   "id": "bdf269a0",
   "metadata": {},
   "source": [
    "# inheritance"
   ]
  },
  {
   "cell_type": "code",
   "execution_count": 104,
   "id": "93b9d60b",
   "metadata": {},
   "outputs": [],
   "source": [
    "class demo:\n",
    "    def inherit(self):\n",
    "        print(\"this is the concept of inheritance\")"
   ]
  },
  {
   "cell_type": "code",
   "execution_count": 105,
   "id": "9b3948ac",
   "metadata": {},
   "outputs": [],
   "source": [
    "class child(demo):\n",
    "    pass"
   ]
  },
  {
   "cell_type": "code",
   "execution_count": 106,
   "id": "6b223b0b",
   "metadata": {},
   "outputs": [],
   "source": [
    "child_obj = child()"
   ]
  },
  {
   "cell_type": "code",
   "execution_count": 107,
   "id": "a7d88ead",
   "metadata": {},
   "outputs": [
    {
     "name": "stdout",
     "output_type": "stream",
     "text": [
      "this is the concept of inheritance\n"
     ]
    }
   ],
   "source": [
    "child_obj.inherit()"
   ]
  },
  {
   "cell_type": "markdown",
   "id": "fe523c96",
   "metadata": {},
   "source": [
    "# multilevel inheritance\n"
   ]
  },
  {
   "cell_type": "code",
   "execution_count": 33,
   "id": "99ffe3e7",
   "metadata": {},
   "outputs": [],
   "source": [
    "class class1():#grand father\n",
    "    def learn(self):\n",
    "        print(\"this is the method of class1\")"
   ]
  },
  {
   "cell_type": "code",
   "execution_count": 34,
   "id": "7219cdf0",
   "metadata": {},
   "outputs": [],
   "source": [
    "class class2(class1):#father\n",
    "    def test(self):\n",
    "        print(\"this is the method of class 2\")"
   ]
  },
  {
   "cell_type": "code",
   "execution_count": 35,
   "id": "94cec875",
   "metadata": {},
   "outputs": [],
   "source": [
    "class class3(class2):#child\n",
    "    pass\n",
    "    def temp(self):\n",
    "        print(\"Inside class 3\")"
   ]
  },
  {
   "cell_type": "code",
   "execution_count": 36,
   "id": "3ba635d3",
   "metadata": {},
   "outputs": [],
   "source": [
    "abhay = class3()"
   ]
  },
  {
   "cell_type": "code",
   "execution_count": 37,
   "id": "fbd76640",
   "metadata": {},
   "outputs": [],
   "source": [
    "abhay1 = class2()"
   ]
  },
  {
   "cell_type": "code",
   "execution_count": 38,
   "id": "39252fbd",
   "metadata": {},
   "outputs": [
    {
     "name": "stdout",
     "output_type": "stream",
     "text": [
      "this is the method of class1\n"
     ]
    }
   ],
   "source": [
    "abhay1.learn()"
   ]
  },
  {
   "cell_type": "code",
   "execution_count": 39,
   "id": "870a972f",
   "metadata": {},
   "outputs": [
    {
     "name": "stdout",
     "output_type": "stream",
     "text": [
      "this is the method of class 2\n"
     ]
    }
   ],
   "source": [
    "abhay.test()"
   ]
  },
  {
   "cell_type": "code",
   "execution_count": 40,
   "id": "a7c7290d",
   "metadata": {},
   "outputs": [
    {
     "name": "stdout",
     "output_type": "stream",
     "text": [
      "this is the method of class1\n"
     ]
    }
   ],
   "source": [
    "abhay.learn()"
   ]
  },
  {
   "cell_type": "code",
   "execution_count": null,
   "id": "a464c61b",
   "metadata": {},
   "outputs": [],
   "source": []
  },
  {
   "cell_type": "markdown",
   "id": "2e7288cc",
   "metadata": {},
   "source": [
    "# multiple inheritance"
   ]
  },
  {
   "cell_type": "code",
   "execution_count": 117,
   "id": "9787987b",
   "metadata": {},
   "outputs": [],
   "source": [
    "class class1():\n",
    "    def fun1(self):\n",
    "        print(\"this is class 1\")"
   ]
  },
  {
   "cell_type": "code",
   "execution_count": 118,
   "id": "58a2839a",
   "metadata": {},
   "outputs": [],
   "source": [
    "class class2():\n",
    "    def fun2(self):\n",
    "        print(\"this is class 2\")"
   ]
  },
  {
   "cell_type": "code",
   "execution_count": 119,
   "id": "3c4fa990",
   "metadata": {},
   "outputs": [],
   "source": [
    "class class3(class1, class2):\n",
    "    pass"
   ]
  },
  {
   "cell_type": "code",
   "execution_count": 120,
   "id": "da920154",
   "metadata": {},
   "outputs": [],
   "source": [
    "class3_obj = class3()"
   ]
  },
  {
   "cell_type": "code",
   "execution_count": 121,
   "id": "9b66e87e",
   "metadata": {},
   "outputs": [
    {
     "name": "stdout",
     "output_type": "stream",
     "text": [
      "this is class 1\n"
     ]
    }
   ],
   "source": [
    "class3_obj.fun1()"
   ]
  },
  {
   "cell_type": "code",
   "execution_count": 122,
   "id": "19e4e1d4",
   "metadata": {},
   "outputs": [
    {
     "name": "stdout",
     "output_type": "stream",
     "text": [
      "this is class 2\n"
     ]
    }
   ],
   "source": [
    "class3_obj.fun2()"
   ]
  },
  {
   "cell_type": "markdown",
   "id": "7dc0579c",
   "metadata": {},
   "source": [
    "# abstraction"
   ]
  },
  {
   "cell_type": "code",
   "execution_count": 124,
   "id": "59c79280",
   "metadata": {},
   "outputs": [],
   "source": [
    "import abc\n",
    "class ihh():\n",
    "    \n",
    "    @abc.abstractmethod\n",
    "    def student_details(self):\n",
    "        pass\n",
    "    @abc.abstractmethod\n",
    "    def homework_details(self):\n",
    "        pass\n",
    "    @abc.abstractmethod\n",
    "    def exam_details(self):\n",
    "        pass"
   ]
  },
  {
   "cell_type": "code",
   "execution_count": 126,
   "id": "0daf78f6",
   "metadata": {},
   "outputs": [],
   "source": [
    "class demo(ihh):\n",
    "    def student_details(self):\n",
    "        print(\"student details are available here\")\n",
    "    def homework_details(self):\n",
    "        print(4+5)"
   ]
  },
  {
   "cell_type": "code",
   "execution_count": 127,
   "id": "87a36cdf",
   "metadata": {},
   "outputs": [],
   "source": [
    "class test(ihh):\n",
    "    def student_details(self):\n",
    "        print(\"student is enrolled\")\n",
    "    def exam_details(self):\n",
    "        print(\"your exam is on nect week\")"
   ]
  },
  {
   "cell_type": "code",
   "execution_count": 128,
   "id": "87de2e88",
   "metadata": {},
   "outputs": [],
   "source": [
    "demo_obj = demo()"
   ]
  },
  {
   "cell_type": "code",
   "execution_count": 129,
   "id": "210e9b26",
   "metadata": {},
   "outputs": [
    {
     "name": "stdout",
     "output_type": "stream",
     "text": [
      "student details are available here\n"
     ]
    }
   ],
   "source": [
    "demo_obj.student_details()"
   ]
  },
  {
   "cell_type": "code",
   "execution_count": 130,
   "id": "4519fab9",
   "metadata": {},
   "outputs": [
    {
     "name": "stdout",
     "output_type": "stream",
     "text": [
      "9\n"
     ]
    }
   ],
   "source": [
    "demo_obj.homework_details()"
   ]
  },
  {
   "cell_type": "code",
   "execution_count": 131,
   "id": "b98c0ede",
   "metadata": {},
   "outputs": [],
   "source": [
    "test_obj = test()"
   ]
  },
  {
   "cell_type": "code",
   "execution_count": 132,
   "id": "eec0dcd3",
   "metadata": {},
   "outputs": [
    {
     "name": "stdout",
     "output_type": "stream",
     "text": [
      "student is enrolled\n"
     ]
    }
   ],
   "source": [
    "test_obj.student_details()"
   ]
  },
  {
   "cell_type": "code",
   "execution_count": 133,
   "id": "37ee7b74",
   "metadata": {},
   "outputs": [
    {
     "name": "stdout",
     "output_type": "stream",
     "text": [
      "your exam is on nect week\n"
     ]
    }
   ],
   "source": [
    "test_obj.exam_details()"
   ]
  },
  {
   "cell_type": "markdown",
   "id": "2d3f6a4a",
   "metadata": {},
   "source": [
    "# decorators"
   ]
  },
  {
   "cell_type": "code",
   "execution_count": 4,
   "id": "2d94cc49",
   "metadata": {},
   "outputs": [],
   "source": [
    "def check():\n",
    "    print(\"this is check function\")"
   ]
  },
  {
   "cell_type": "code",
   "execution_count": 5,
   "id": "3fd88300",
   "metadata": {},
   "outputs": [
    {
     "name": "stdout",
     "output_type": "stream",
     "text": [
      "this is check function\n"
     ]
    }
   ],
   "source": [
    "check()"
   ]
  },
  {
   "cell_type": "code",
   "execution_count": 6,
   "id": "e9edf8df",
   "metadata": {},
   "outputs": [],
   "source": [
    "def check():\n",
    "    print(\"this is the starting of the function\")\n",
    "    print(\"this is check function\")\n",
    "    print(\"this is the ending of the function\")"
   ]
  },
  {
   "cell_type": "code",
   "execution_count": 7,
   "id": "6ab24005",
   "metadata": {},
   "outputs": [
    {
     "name": "stdout",
     "output_type": "stream",
     "text": [
      "this is the starting of the function\n",
      "this is check function\n",
      "this is the ending of the function\n"
     ]
    }
   ],
   "source": [
    "check()"
   ]
  },
  {
   "cell_type": "code",
   "execution_count": 8,
   "id": "88c96e64",
   "metadata": {},
   "outputs": [],
   "source": [
    "def check():\n",
    "    print(\"this is the starting of the function\")\n",
    "    print(\"this is check function\")\n",
    "    print(2+3)\n",
    "    print(\"this is the ending of the function\")"
   ]
  },
  {
   "cell_type": "code",
   "execution_count": 9,
   "id": "1b0f4103",
   "metadata": {},
   "outputs": [
    {
     "name": "stdout",
     "output_type": "stream",
     "text": [
      "this is the starting of the function\n",
      "this is check function\n",
      "5\n",
      "this is the ending of the function\n"
     ]
    }
   ],
   "source": [
    "check()"
   ]
  },
  {
   "cell_type": "code",
   "execution_count": 10,
   "id": "25ee85bb",
   "metadata": {},
   "outputs": [],
   "source": [
    "def decor(func):\n",
    "    def inner_decor():\n",
    "        print(\"this is the starting of function\")\n",
    "        func()\n",
    "        print(\"this is the ending of the function\")\n",
    "    return inner_decor()\n"
   ]
  },
  {
   "cell_type": "code",
   "execution_count": 11,
   "id": "5328421e",
   "metadata": {},
   "outputs": [
    {
     "name": "stdout",
     "output_type": "stream",
     "text": [
      "this is the starting of function\n",
      "11\n",
      "this is the ending of the function\n"
     ]
    }
   ],
   "source": [
    "@decor\n",
    "def check1():\n",
    "    print(5+6)"
   ]
  },
  {
   "cell_type": "code",
   "execution_count": 12,
   "id": "55b5e4aa",
   "metadata": {},
   "outputs": [
    {
     "name": "stdout",
     "output_type": "stream",
     "text": [
      "this is the starting of function\n",
      "24\n",
      "this is the ending of the function\n"
     ]
    }
   ],
   "source": [
    "@decor\n",
    "def learn():\n",
    "    print(2*12)  "
   ]
  },
  {
   "cell_type": "code",
   "execution_count": 1,
   "id": "02913576",
   "metadata": {},
   "outputs": [],
   "source": [
    "import time\n",
    "\n",
    "def timer_test(func):\n",
    "    def timer_test_inner():\n",
    "        start =time.time()\n",
    "        func()\n",
    "        end = time.time()\n",
    "        print(end - start)\n",
    "    return timer_test_inner"
   ]
  },
  {
   "cell_type": "code",
   "execution_count": 8,
   "id": "297e4418",
   "metadata": {},
   "outputs": [],
   "source": [
    "@timer_test\n",
    "def hello():\n",
    "    print((45678*785426+78*25689+8522455*58965-58845*8265652)*85295525255555555)"
   ]
  },
  {
   "cell_type": "code",
   "execution_count": 9,
   "id": "802afd2f",
   "metadata": {},
   "outputs": [
    {
     "name": "stdout",
     "output_type": "stream",
     "text": [
      "4436472718134020909603911275\n",
      "0.0010006427764892578\n"
     ]
    }
   ],
   "source": [
    "hello()"
   ]
  },
  {
   "cell_type": "markdown",
   "id": "e3ffdf91",
   "metadata": {},
   "source": [
    "# class method"
   ]
  },
  {
   "cell_type": "code",
   "execution_count": 22,
   "id": "2108be79",
   "metadata": {},
   "outputs": [],
   "source": [
    "class apple:\n",
    "    \n",
    "     def hello(self):\n",
    "            print(\"this is an amazing python learning\")\n",
    "            "
   ]
  },
  {
   "cell_type": "code",
   "execution_count": 23,
   "id": "6aeae5da",
   "metadata": {},
   "outputs": [],
   "source": [
    "app = apple()"
   ]
  },
  {
   "cell_type": "code",
   "execution_count": 24,
   "id": "fa934fe4",
   "metadata": {},
   "outputs": [
    {
     "name": "stdout",
     "output_type": "stream",
     "text": [
      "this is an amazing python learning\n"
     ]
    }
   ],
   "source": [
    "app.hello()"
   ]
  },
  {
   "cell_type": "code",
   "execution_count": 35,
   "id": "15351ad2",
   "metadata": {},
   "outputs": [],
   "source": [
    "class mobile:\n",
    "    base_price = 10000\n",
    "    def __init__(self, number, id_name):\n",
    "        self.number = number\n",
    "        self.id_name = id_name\n",
    "    @classmethod\n",
    "    def revise_new_price(cls, inflation):\n",
    "        cls.base_price = cls.base_price +cls.base_price*inflation\n",
    "    def colour(self):\n",
    "        print(\"the coulour of mobile is red\")"
   ]
  },
  {
   "cell_type": "code",
   "execution_count": 34,
   "id": "e971f103",
   "metadata": {},
   "outputs": [],
   "source": [
    "mobile.revise_new_price(0.10)"
   ]
  },
  {
   "cell_type": "code",
   "execution_count": 28,
   "id": "687cf8a0",
   "metadata": {},
   "outputs": [
    {
     "data": {
      "text/plain": [
       "11000.0"
      ]
     },
     "execution_count": 28,
     "metadata": {},
     "output_type": "execute_result"
    }
   ],
   "source": [
    "mobile.base_price"
   ]
  },
  {
   "cell_type": "code",
   "execution_count": 29,
   "id": "7717443c",
   "metadata": {},
   "outputs": [],
   "source": [
    "mobile.revise_new_price(0.8)"
   ]
  },
  {
   "cell_type": "code",
   "execution_count": 30,
   "id": "d5524d89",
   "metadata": {},
   "outputs": [
    {
     "data": {
      "text/plain": [
       "19800.0"
      ]
     },
     "execution_count": 30,
     "metadata": {},
     "output_type": "execute_result"
    }
   ],
   "source": [
    "mobile.base_price"
   ]
  },
  {
   "cell_type": "code",
   "execution_count": 36,
   "id": "841ba3fe",
   "metadata": {},
   "outputs": [
    {
     "ename": "TypeError",
     "evalue": "colour() missing 1 required positional argument: 'self'",
     "output_type": "error",
     "traceback": [
      "\u001b[1;31m---------------------------------------------------------------------------\u001b[0m",
      "\u001b[1;31mTypeError\u001b[0m                                 Traceback (most recent call last)",
      "\u001b[1;32m~\\AppData\\Local\\Temp\\ipykernel_11056\\3574298042.py\u001b[0m in \u001b[0;36m<module>\u001b[1;34m\u001b[0m\n\u001b[1;32m----> 1\u001b[1;33m \u001b[0mmobile\u001b[0m\u001b[1;33m.\u001b[0m\u001b[0mcolour\u001b[0m\u001b[1;33m(\u001b[0m\u001b[1;33m)\u001b[0m\u001b[1;33m\u001b[0m\u001b[1;33m\u001b[0m\u001b[0m\n\u001b[0m",
      "\u001b[1;31mTypeError\u001b[0m: colour() missing 1 required positional argument: 'self'"
     ]
    }
   ],
   "source": [
    "mobile.colour()"
   ]
  },
  {
   "cell_type": "code",
   "execution_count": 38,
   "id": "8fb273a3",
   "metadata": {},
   "outputs": [],
   "source": [
    "mob = mobile(145,23)"
   ]
  },
  {
   "cell_type": "code",
   "execution_count": 39,
   "id": "bf32d2d0",
   "metadata": {},
   "outputs": [
    {
     "name": "stdout",
     "output_type": "stream",
     "text": [
      "the coulour of mobile is red\n"
     ]
    }
   ],
   "source": [
    "mob.colour()"
   ]
  },
  {
   "cell_type": "markdown",
   "id": "3a6a0edd",
   "metadata": {},
   "source": [
    "# static method"
   ]
  },
  {
   "cell_type": "code",
   "execution_count": 24,
   "id": "f258a1be",
   "metadata": {},
   "outputs": [],
   "source": [
    "class ihh1():\n",
    "    \n",
    "    def student_details(self, name, email_id, phone_number):\n",
    "        print(name,email_id,phone_number)\n",
    "        \n",
    " \n",
    "    def mentor_class(self,list_mentor):\n",
    "        self.list_mentor = list_mentor\n",
    "        print(list_mentor)"
   ]
  },
  {
   "cell_type": "code",
   "execution_count": 25,
   "id": "c6e194d7",
   "metadata": {},
   "outputs": [],
   "source": [
    "st1 = ihh1()"
   ]
  },
  {
   "cell_type": "code",
   "execution_count": 26,
   "id": "94c2bb84",
   "metadata": {},
   "outputs": [
    {
     "name": "stdout",
     "output_type": "stream",
     "text": [
      "ayush ayush@gmail.com 4522589625\n"
     ]
    }
   ],
   "source": [
    "st1.student_details(\"ayush\",\"ayush@gmail.com\", 4522589625)"
   ]
  },
  {
   "cell_type": "code",
   "execution_count": 27,
   "id": "15982ecf",
   "metadata": {},
   "outputs": [],
   "source": [
    "st2 = ihh1()"
   ]
  },
  {
   "cell_type": "code",
   "execution_count": 28,
   "id": "d7520a3e",
   "metadata": {},
   "outputs": [
    {
     "name": "stdout",
     "output_type": "stream",
     "text": [
      "alex alex@gmail.com 1566265\n"
     ]
    }
   ],
   "source": [
    "st2.student_details(\"alex\", \"alex@gmail.com\", 1566265)"
   ]
  },
  {
   "cell_type": "code",
   "execution_count": 29,
   "id": "f2192d74",
   "metadata": {},
   "outputs": [
    {
     "name": "stdout",
     "output_type": "stream",
     "text": [
      "['monika', 'ashish']\n"
     ]
    }
   ],
   "source": [
    "st1.mentor_class([\"monika\", \"ashish\"])"
   ]
  },
  {
   "cell_type": "code",
   "execution_count": 30,
   "id": "6e5d2aaa",
   "metadata": {},
   "outputs": [
    {
     "name": "stdout",
     "output_type": "stream",
     "text": [
      "['monika', 'ashish']\n"
     ]
    }
   ],
   "source": [
    "st2.mentor_class([\"monika\", \"ashish\"])"
   ]
  },
  {
   "cell_type": "code",
   "execution_count": 15,
   "id": "c81f1a55",
   "metadata": {},
   "outputs": [],
   "source": [
    "class ihh1():\n",
    "    \n",
    "    def student_details(self, name, email_id, phone_number):\n",
    "        print(name,email_id,phone_number)\n",
    "        \n",
    "    @staticmethod\n",
    "    def mentor_class(list_mentor):\n",
    "        print(list_mentor)"
   ]
  },
  {
   "cell_type": "code",
   "execution_count": 16,
   "id": "e5e41ab2",
   "metadata": {},
   "outputs": [
    {
     "name": "stdout",
     "output_type": "stream",
     "text": [
      "['monika', 'ashish']\n"
     ]
    }
   ],
   "source": [
    "ihh1.mentor_class([\"monika\",\"ashish\"])"
   ]
  },
  {
   "cell_type": "code",
   "execution_count": 17,
   "id": "c4c9a4cb",
   "metadata": {},
   "outputs": [],
   "source": [
    "st1 = ihh1()"
   ]
  },
  {
   "cell_type": "code",
   "execution_count": 18,
   "id": "0af81f17",
   "metadata": {},
   "outputs": [
    {
     "name": "stdout",
     "output_type": "stream",
     "text": [
      "soyia soyia@gmail.com 2655\n"
     ]
    }
   ],
   "source": [
    "st1.student_details(\"soyia\", \"soyia@gmail.com\", 2655)"
   ]
  },
  {
   "cell_type": "code",
   "execution_count": 19,
   "id": "00caadfc",
   "metadata": {},
   "outputs": [],
   "source": [
    "st2 =ihh1()"
   ]
  },
  {
   "cell_type": "code",
   "execution_count": 20,
   "id": "cd8d7951",
   "metadata": {},
   "outputs": [
    {
     "name": "stdout",
     "output_type": "stream",
     "text": [
      "priya priyaW@gmail.com 255636\n"
     ]
    }
   ],
   "source": [
    "st2.student_details(\"priya\",\"priyaW@gmail.com\", 255636)"
   ]
  },
  {
   "cell_type": "code",
   "execution_count": 33,
   "id": "95a02f4e",
   "metadata": {},
   "outputs": [
    {
     "name": "stdout",
     "output_type": "stream",
     "text": [
      "['hello', 'hii']\n"
     ]
    }
   ],
   "source": [
    "st2.mentor_class(['hello','hii'])"
   ]
  },
  {
   "cell_type": "code",
   "execution_count": 21,
   "id": "ce112651",
   "metadata": {},
   "outputs": [],
   "source": [
    "class ihh1():\n",
    "    \n",
    "    def student_details(self, name, email_id, phone_number):\n",
    "        print(name,email_id,phone_number)\n",
    "        \n",
    "    @staticmethod\n",
    "    def mentor_class(list_mentor):\n",
    "        print(list_mentor)\n",
    "        \n",
    "    @classmethod\n",
    "    def class_name(cls):\n",
    "        cls.mentor_class([\"moniks\", \"ashish\"])"
   ]
  },
  {
   "cell_type": "code",
   "execution_count": 22,
   "id": "ae1e4a49",
   "metadata": {},
   "outputs": [
    {
     "name": "stdout",
     "output_type": "stream",
     "text": [
      "['moniks', 'ashish']\n"
     ]
    }
   ],
   "source": [
    "ihh1.class_name()"
   ]
  },
  {
   "cell_type": "code",
   "execution_count": 23,
   "id": "74acdb3b",
   "metadata": {},
   "outputs": [],
   "source": [
    "class ihh1():\n",
    "    \n",
    "    def student_details(self, name, email_id, phone_number):\n",
    "        print(name,email_id,phone_number)\n",
    "    \n",
    "    @staticmethod\n",
    "    def mentor_mail_id(mail_id):\n",
    "        print(mail_id)\n",
    "        \n",
    "    @staticmethod\n",
    "    def mentor_class(list_mentor):\n",
    "        ihh1.mentor_mail_id([\"monika@gmal.cvom\",\"ashsihs@g,ail.com\"])\n",
    "        print(list_mentor)\n",
    "        \n",
    "    @classmethod\n",
    "    def class_name(cls):\n",
    "        cls.mentor_class([\"moniks\", \"ashish\"])"
   ]
  },
  {
   "cell_type": "code",
   "execution_count": 79,
   "id": "a1467edd",
   "metadata": {},
   "outputs": [
    {
     "name": "stdout",
     "output_type": "stream",
     "text": [
      "['monika@gmal.cvom', 'ashsihs@g,ail.com']\n",
      "['monika', 'ashish']\n"
     ]
    }
   ],
   "source": [
    "ihh1.mentor_class([\"monika\", \"ashish\"])"
   ]
  },
  {
   "cell_type": "markdown",
   "id": "0579112e",
   "metadata": {},
   "source": [
    "# special - magic/dunder method"
   ]
  },
  {
   "cell_type": "code",
   "execution_count": 81,
   "id": "3a3920c1",
   "metadata": {},
   "outputs": [
    {
     "data": {
      "text/plain": [
       "['__abs__',\n",
       " '__add__',\n",
       " '__and__',\n",
       " '__bool__',\n",
       " '__ceil__',\n",
       " '__class__',\n",
       " '__delattr__',\n",
       " '__dir__',\n",
       " '__divmod__',\n",
       " '__doc__',\n",
       " '__eq__',\n",
       " '__float__',\n",
       " '__floor__',\n",
       " '__floordiv__',\n",
       " '__format__',\n",
       " '__ge__',\n",
       " '__getattribute__',\n",
       " '__getnewargs__',\n",
       " '__gt__',\n",
       " '__hash__',\n",
       " '__index__',\n",
       " '__init__',\n",
       " '__init_subclass__',\n",
       " '__int__',\n",
       " '__invert__',\n",
       " '__le__',\n",
       " '__lshift__',\n",
       " '__lt__',\n",
       " '__mod__',\n",
       " '__mul__',\n",
       " '__ne__',\n",
       " '__neg__',\n",
       " '__new__',\n",
       " '__or__',\n",
       " '__pos__',\n",
       " '__pow__',\n",
       " '__radd__',\n",
       " '__rand__',\n",
       " '__rdivmod__',\n",
       " '__reduce__',\n",
       " '__reduce_ex__',\n",
       " '__repr__',\n",
       " '__rfloordiv__',\n",
       " '__rlshift__',\n",
       " '__rmod__',\n",
       " '__rmul__',\n",
       " '__ror__',\n",
       " '__round__',\n",
       " '__rpow__',\n",
       " '__rrshift__',\n",
       " '__rshift__',\n",
       " '__rsub__',\n",
       " '__rtruediv__',\n",
       " '__rxor__',\n",
       " '__setattr__',\n",
       " '__sizeof__',\n",
       " '__str__',\n",
       " '__sub__',\n",
       " '__subclasshook__',\n",
       " '__truediv__',\n",
       " '__trunc__',\n",
       " '__xor__',\n",
       " 'as_integer_ratio',\n",
       " 'bit_length',\n",
       " 'conjugate',\n",
       " 'denominator',\n",
       " 'from_bytes',\n",
       " 'imag',\n",
       " 'numerator',\n",
       " 'real',\n",
       " 'to_bytes']"
      ]
     },
     "execution_count": 81,
     "metadata": {},
     "output_type": "execute_result"
    }
   ],
   "source": [
    "dir(int)"
   ]
  },
  {
   "cell_type": "code",
   "execution_count": 82,
   "id": "17ac8ff8",
   "metadata": {},
   "outputs": [
    {
     "data": {
      "text/plain": [
       "['__add__',\n",
       " '__class__',\n",
       " '__contains__',\n",
       " '__delattr__',\n",
       " '__dir__',\n",
       " '__doc__',\n",
       " '__eq__',\n",
       " '__format__',\n",
       " '__ge__',\n",
       " '__getattribute__',\n",
       " '__getitem__',\n",
       " '__getnewargs__',\n",
       " '__gt__',\n",
       " '__hash__',\n",
       " '__init__',\n",
       " '__init_subclass__',\n",
       " '__iter__',\n",
       " '__le__',\n",
       " '__len__',\n",
       " '__lt__',\n",
       " '__mod__',\n",
       " '__mul__',\n",
       " '__ne__',\n",
       " '__new__',\n",
       " '__reduce__',\n",
       " '__reduce_ex__',\n",
       " '__repr__',\n",
       " '__rmod__',\n",
       " '__rmul__',\n",
       " '__setattr__',\n",
       " '__sizeof__',\n",
       " '__str__',\n",
       " '__subclasshook__',\n",
       " 'capitalize',\n",
       " 'casefold',\n",
       " 'center',\n",
       " 'count',\n",
       " 'encode',\n",
       " 'endswith',\n",
       " 'expandtabs',\n",
       " 'find',\n",
       " 'format',\n",
       " 'format_map',\n",
       " 'index',\n",
       " 'isalnum',\n",
       " 'isalpha',\n",
       " 'isascii',\n",
       " 'isdecimal',\n",
       " 'isdigit',\n",
       " 'isidentifier',\n",
       " 'islower',\n",
       " 'isnumeric',\n",
       " 'isprintable',\n",
       " 'isspace',\n",
       " 'istitle',\n",
       " 'isupper',\n",
       " 'join',\n",
       " 'ljust',\n",
       " 'lower',\n",
       " 'lstrip',\n",
       " 'maketrans',\n",
       " 'partition',\n",
       " 'removeprefix',\n",
       " 'removesuffix',\n",
       " 'replace',\n",
       " 'rfind',\n",
       " 'rindex',\n",
       " 'rjust',\n",
       " 'rpartition',\n",
       " 'rsplit',\n",
       " 'rstrip',\n",
       " 'split',\n",
       " 'splitlines',\n",
       " 'startswith',\n",
       " 'strip',\n",
       " 'swapcase',\n",
       " 'title',\n",
       " 'translate',\n",
       " 'upper',\n",
       " 'zfill']"
      ]
     },
     "execution_count": 82,
     "metadata": {},
     "output_type": "execute_result"
    }
   ],
   "source": [
    "dir(str)"
   ]
  },
  {
   "cell_type": "code",
   "execution_count": 83,
   "id": "b53a2978",
   "metadata": {},
   "outputs": [
    {
     "data": {
      "text/plain": [
       "['__abs__',\n",
       " '__add__',\n",
       " '__bool__',\n",
       " '__ceil__',\n",
       " '__class__',\n",
       " '__delattr__',\n",
       " '__dir__',\n",
       " '__divmod__',\n",
       " '__doc__',\n",
       " '__eq__',\n",
       " '__float__',\n",
       " '__floor__',\n",
       " '__floordiv__',\n",
       " '__format__',\n",
       " '__ge__',\n",
       " '__getattribute__',\n",
       " '__getformat__',\n",
       " '__getnewargs__',\n",
       " '__gt__',\n",
       " '__hash__',\n",
       " '__init__',\n",
       " '__init_subclass__',\n",
       " '__int__',\n",
       " '__le__',\n",
       " '__lt__',\n",
       " '__mod__',\n",
       " '__mul__',\n",
       " '__ne__',\n",
       " '__neg__',\n",
       " '__new__',\n",
       " '__pos__',\n",
       " '__pow__',\n",
       " '__radd__',\n",
       " '__rdivmod__',\n",
       " '__reduce__',\n",
       " '__reduce_ex__',\n",
       " '__repr__',\n",
       " '__rfloordiv__',\n",
       " '__rmod__',\n",
       " '__rmul__',\n",
       " '__round__',\n",
       " '__rpow__',\n",
       " '__rsub__',\n",
       " '__rtruediv__',\n",
       " '__setattr__',\n",
       " '__setformat__',\n",
       " '__sizeof__',\n",
       " '__str__',\n",
       " '__sub__',\n",
       " '__subclasshook__',\n",
       " '__truediv__',\n",
       " '__trunc__',\n",
       " 'as_integer_ratio',\n",
       " 'conjugate',\n",
       " 'fromhex',\n",
       " 'hex',\n",
       " 'imag',\n",
       " 'is_integer',\n",
       " 'real']"
      ]
     },
     "execution_count": 83,
     "metadata": {},
     "output_type": "execute_result"
    }
   ],
   "source": [
    "dir(float)"
   ]
  },
  {
   "cell_type": "code",
   "execution_count": 84,
   "id": "5b5dbf4c",
   "metadata": {},
   "outputs": [],
   "source": [
    "a = 50\n"
   ]
  },
  {
   "cell_type": "code",
   "execution_count": 85,
   "id": "df75beab",
   "metadata": {},
   "outputs": [
    {
     "data": {
      "text/plain": [
       "55"
      ]
     },
     "execution_count": 85,
     "metadata": {},
     "output_type": "execute_result"
    }
   ],
   "source": [
    "a+5"
   ]
  },
  {
   "cell_type": "code",
   "execution_count": 86,
   "id": "7eec51c8",
   "metadata": {},
   "outputs": [
    {
     "data": {
      "text/plain": [
       "55"
      ]
     },
     "execution_count": 86,
     "metadata": {},
     "output_type": "execute_result"
    }
   ],
   "source": [
    "a.__add__(5)"
   ]
  },
  {
   "cell_type": "code",
   "execution_count": 89,
   "id": "26f26f3b",
   "metadata": {},
   "outputs": [],
   "source": [
    "class demo:\n",
    "     def __init__(self):\n",
    "            print(\"this is init\")"
   ]
  },
  {
   "cell_type": "code",
   "execution_count": 90,
   "id": "a16c798f",
   "metadata": {},
   "outputs": [
    {
     "name": "stdout",
     "output_type": "stream",
     "text": [
      "this is init\n"
     ]
    }
   ],
   "source": [
    "demo_obj=demo()"
   ]
  },
  {
   "cell_type": "code",
   "execution_count": 91,
   "id": "4075219d",
   "metadata": {},
   "outputs": [],
   "source": [
    "class demo:\n",
    "    def __new__(cls):\n",
    "        print(\"this is python \")\n",
    "    def __init__(self):\n",
    "            print(\"this is init\")"
   ]
  },
  {
   "cell_type": "code",
   "execution_count": 92,
   "id": "8b7c2a5d",
   "metadata": {},
   "outputs": [
    {
     "name": "stdout",
     "output_type": "stream",
     "text": [
      "this is python \n"
     ]
    }
   ],
   "source": [
    "demo_obj1 =demo()"
   ]
  },
  {
   "cell_type": "code",
   "execution_count": 93,
   "id": "a93f5bed",
   "metadata": {},
   "outputs": [
    {
     "name": "stdout",
     "output_type": "stream",
     "text": [
      "8\n"
     ]
    }
   ],
   "source": [
    "a = 2\n",
    "b = 4\n",
    "print(a*b)"
   ]
  },
  {
   "cell_type": "code",
   "execution_count": 94,
   "id": "78048af8",
   "metadata": {},
   "outputs": [
    {
     "data": {
      "text/plain": [
       "['__abs__',\n",
       " '__add__',\n",
       " '__and__',\n",
       " '__bool__',\n",
       " '__ceil__',\n",
       " '__class__',\n",
       " '__delattr__',\n",
       " '__dir__',\n",
       " '__divmod__',\n",
       " '__doc__',\n",
       " '__eq__',\n",
       " '__float__',\n",
       " '__floor__',\n",
       " '__floordiv__',\n",
       " '__format__',\n",
       " '__ge__',\n",
       " '__getattribute__',\n",
       " '__getnewargs__',\n",
       " '__gt__',\n",
       " '__hash__',\n",
       " '__index__',\n",
       " '__init__',\n",
       " '__init_subclass__',\n",
       " '__int__',\n",
       " '__invert__',\n",
       " '__le__',\n",
       " '__lshift__',\n",
       " '__lt__',\n",
       " '__mod__',\n",
       " '__mul__',\n",
       " '__ne__',\n",
       " '__neg__',\n",
       " '__new__',\n",
       " '__or__',\n",
       " '__pos__',\n",
       " '__pow__',\n",
       " '__radd__',\n",
       " '__rand__',\n",
       " '__rdivmod__',\n",
       " '__reduce__',\n",
       " '__reduce_ex__',\n",
       " '__repr__',\n",
       " '__rfloordiv__',\n",
       " '__rlshift__',\n",
       " '__rmod__',\n",
       " '__rmul__',\n",
       " '__ror__',\n",
       " '__round__',\n",
       " '__rpow__',\n",
       " '__rrshift__',\n",
       " '__rshift__',\n",
       " '__rsub__',\n",
       " '__rtruediv__',\n",
       " '__rxor__',\n",
       " '__setattr__',\n",
       " '__sizeof__',\n",
       " '__str__',\n",
       " '__sub__',\n",
       " '__subclasshook__',\n",
       " '__truediv__',\n",
       " '__trunc__',\n",
       " '__xor__',\n",
       " 'as_integer_ratio',\n",
       " 'bit_length',\n",
       " 'conjugate',\n",
       " 'denominator',\n",
       " 'from_bytes',\n",
       " 'imag',\n",
       " 'numerator',\n",
       " 'real',\n",
       " 'to_bytes']"
      ]
     },
     "execution_count": 94,
     "metadata": {},
     "output_type": "execute_result"
    }
   ],
   "source": [
    "dir(int)"
   ]
  },
  {
   "cell_type": "markdown",
   "id": "df6b35e7",
   "metadata": {},
   "source": [
    "# property decorators - getters, setters and delete"
   ]
  },
  {
   "cell_type": "code",
   "execution_count": 11,
   "id": "e0aaca62",
   "metadata": {},
   "outputs": [],
   "source": [
    "class movie:\n",
    "    \n",
    "    def __init__(self, movie_name, ticket_price):\n",
    "        self.movie_name = movie_name\n",
    "        self.__ticket_price = ticket_price\n",
    "        \n",
    "    @property\n",
    "    def ticket_price_access(self):\n",
    "        return self.__ticket_price\n",
    "    \n",
    "    @ticket_price_access.setter\n",
    "    def ticket_price_set(self,price):\n",
    "        if price<=500:\n",
    "            pass\n",
    "        else:\n",
    "             self.__ticket_price = price"
   ]
  },
  {
   "cell_type": "code",
   "execution_count": 12,
   "id": "b0107468",
   "metadata": {},
   "outputs": [],
   "source": [
    "movie_obj = movie(\"spiderman\", 500)"
   ]
  },
  {
   "cell_type": "code",
   "execution_count": 13,
   "id": "e9674e84",
   "metadata": {},
   "outputs": [
    {
     "data": {
      "text/plain": [
       "500"
      ]
     },
     "execution_count": 13,
     "metadata": {},
     "output_type": "execute_result"
    }
   ],
   "source": [
    "movie_obj.ticket_price_access"
   ]
  },
  {
   "cell_type": "code",
   "execution_count": 14,
   "id": "ed53af6f",
   "metadata": {},
   "outputs": [],
   "source": [
    "movie_obj.ticket_price_set = 700"
   ]
  },
  {
   "cell_type": "code",
   "execution_count": 16,
   "id": "6214e3ab",
   "metadata": {},
   "outputs": [
    {
     "data": {
      "text/plain": [
       "700"
      ]
     },
     "execution_count": 16,
     "metadata": {},
     "output_type": "execute_result"
    }
   ],
   "source": [
    "movie_obj.ticket_price_access "
   ]
  },
  {
   "cell_type": "code",
   "execution_count": 22,
   "id": "4125a7e6",
   "metadata": {},
   "outputs": [],
   "source": [
    "class movie:\n",
    "    \n",
    "    def __init__(self, movie_name, ticket_price):\n",
    "        self.movie_name = movie_name\n",
    "        self.__ticket_price = ticket_price\n",
    "        \n",
    "    @property\n",
    "    def ticket_price_access(self):\n",
    "        return self.__ticket_price\n",
    "    \n",
    "    @ticket_price_access.setter\n",
    "    def ticket_price_set(self,price):\n",
    "        if price<=500:\n",
    "            pass\n",
    "        else:\n",
    "             self.__ticket_price = price\n",
    "                \n",
    "    @ticket_price_access.deleter\n",
    "    def ticket_price_delete(self):\n",
    "        del self.__ticket_price"
   ]
  },
  {
   "cell_type": "code",
   "execution_count": 23,
   "id": "b32d4ce7",
   "metadata": {},
   "outputs": [],
   "source": [
    "movie_obj = movie(\"spiderman\", 500)"
   ]
  },
  {
   "cell_type": "code",
   "execution_count": 24,
   "id": "4545aef0",
   "metadata": {},
   "outputs": [],
   "source": [
    "movie_obj.ticket_price_set = 700"
   ]
  },
  {
   "cell_type": "code",
   "execution_count": 25,
   "id": "7cb555aa",
   "metadata": {},
   "outputs": [
    {
     "data": {
      "text/plain": [
       "700"
      ]
     },
     "execution_count": 25,
     "metadata": {},
     "output_type": "execute_result"
    }
   ],
   "source": [
    "movie_obj.ticket_price_access"
   ]
  },
  {
   "cell_type": "code",
   "execution_count": 26,
   "id": "0d7c03d9",
   "metadata": {},
   "outputs": [],
   "source": [
    "del movie_obj.ticket_price_delete"
   ]
  },
  {
   "cell_type": "code",
   "execution_count": 27,
   "id": "fbe822c6",
   "metadata": {},
   "outputs": [
    {
     "ename": "AttributeError",
     "evalue": "'movie' object has no attribute '_movie__ticket_price'",
     "output_type": "error",
     "traceback": [
      "\u001b[1;31m---------------------------------------------------------------------------\u001b[0m",
      "\u001b[1;31mAttributeError\u001b[0m                            Traceback (most recent call last)",
      "\u001b[1;32m~\\AppData\\Local\\Temp\\ipykernel_5472\\68825057.py\u001b[0m in \u001b[0;36m<module>\u001b[1;34m\u001b[0m\n\u001b[1;32m----> 1\u001b[1;33m \u001b[0mmovie_obj\u001b[0m\u001b[1;33m.\u001b[0m\u001b[0mticket_price_access\u001b[0m\u001b[1;33m\u001b[0m\u001b[1;33m\u001b[0m\u001b[0m\n\u001b[0m",
      "\u001b[1;32m~\\AppData\\Local\\Temp\\ipykernel_5472\\3389791049.py\u001b[0m in \u001b[0;36mticket_price_access\u001b[1;34m(self)\u001b[0m\n\u001b[0;32m      7\u001b[0m     \u001b[1;33m@\u001b[0m\u001b[0mproperty\u001b[0m\u001b[1;33m\u001b[0m\u001b[1;33m\u001b[0m\u001b[0m\n\u001b[0;32m      8\u001b[0m     \u001b[1;32mdef\u001b[0m \u001b[0mticket_price_access\u001b[0m\u001b[1;33m(\u001b[0m\u001b[0mself\u001b[0m\u001b[1;33m)\u001b[0m\u001b[1;33m:\u001b[0m\u001b[1;33m\u001b[0m\u001b[1;33m\u001b[0m\u001b[0m\n\u001b[1;32m----> 9\u001b[1;33m         \u001b[1;32mreturn\u001b[0m \u001b[0mself\u001b[0m\u001b[1;33m.\u001b[0m\u001b[0m__ticket_price\u001b[0m\u001b[1;33m\u001b[0m\u001b[1;33m\u001b[0m\u001b[0m\n\u001b[0m\u001b[0;32m     10\u001b[0m \u001b[1;33m\u001b[0m\u001b[0m\n\u001b[0;32m     11\u001b[0m     \u001b[1;33m@\u001b[0m\u001b[0mticket_price_access\u001b[0m\u001b[1;33m.\u001b[0m\u001b[0msetter\u001b[0m\u001b[1;33m\u001b[0m\u001b[1;33m\u001b[0m\u001b[0m\n",
      "\u001b[1;31mAttributeError\u001b[0m: 'movie' object has no attribute '_movie__ticket_price'"
     ]
    }
   ],
   "source": [
    "movie_obj.ticket_price_access"
   ]
  },
  {
   "cell_type": "code",
   "execution_count": null,
   "id": "b6cdd144",
   "metadata": {},
   "outputs": [],
   "source": []
  }
 ],
 "metadata": {
  "kernelspec": {
   "display_name": "Python 3 (ipykernel)",
   "language": "python",
   "name": "python3"
  },
  "language_info": {
   "codemirror_mode": {
    "name": "ipython",
    "version": 3
   },
   "file_extension": ".py",
   "mimetype": "text/x-python",
   "name": "python",
   "nbconvert_exporter": "python",
   "pygments_lexer": "ipython3",
   "version": "3.10.9"
  }
 },
 "nbformat": 4,
 "nbformat_minor": 5
}
