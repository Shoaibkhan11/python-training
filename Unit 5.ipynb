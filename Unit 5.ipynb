{
 "cells": [
  {
   "cell_type": "markdown",
   "id": "24e1d796",
   "metadata": {},
   "source": [
    "# Unit - 5"
   ]
  },
  {
   "cell_type": "markdown",
   "id": "58d9f2ae",
   "metadata": {},
   "source": [
    "# While Loop"
   ]
  },
  {
   "cell_type": "code",
   "execution_count": 13,
   "id": "0b21da34",
   "metadata": {},
   "outputs": [],
   "source": [
    "lst=[1,2,3]\n"
   ]
  },
  {
   "cell_type": "code",
   "execution_count": 17,
   "id": "abd6745f",
   "metadata": {},
   "outputs": [
    {
     "data": {
      "text/plain": [
       "1"
      ]
     },
     "execution_count": 17,
     "metadata": {},
     "output_type": "execute_result"
    }
   ],
   "source": [
    "lst.index"
   ]
  },
  {
   "cell_type": "code",
   "execution_count": null,
   "id": "d8c4d644",
   "metadata": {},
   "outputs": [],
   "source": [
    "lst"
   ]
  },
  {
   "cell_type": "code",
   "execution_count": null,
   "id": "5de6478c",
   "metadata": {},
   "outputs": [],
   "source": []
  },
  {
   "cell_type": "code",
   "execution_count": 15,
   "id": "fa5c431e",
   "metadata": {},
   "outputs": [],
   "source": [
    "lst.append(4)"
   ]
  },
  {
   "cell_type": "code",
   "execution_count": 16,
   "id": "affc0fb0",
   "metadata": {},
   "outputs": [
    {
     "data": {
      "text/plain": [
       "[1, 2, 3, 4]"
      ]
     },
     "execution_count": 16,
     "metadata": {},
     "output_type": "execute_result"
    }
   ],
   "source": [
    "lst"
   ]
  },
  {
   "cell_type": "code",
   "execution_count": 1,
   "id": "7842f9cd",
   "metadata": {},
   "outputs": [
    {
     "name": "stdout",
     "output_type": "stream",
     "text": [
      " Enter the number5\n",
      "1\n",
      "2\n",
      "3\n",
      "4\n",
      "5\n",
      "yes it is done\n"
     ]
    }
   ],
   "source": [
    "\"\"\" take the number from the user and print all the numbers in between 1 to that number\"\"\"\n",
    "n = int(input(\" Enter the number\"))\n",
    "i = 1\n",
    "while i<=n:\n",
    "    print(i)\n",
    "    i = i+1\n",
    "print(\"yes it is done\")"
   ]
  },
  {
   "cell_type": "code",
   "execution_count": 2,
   "id": "667bd60b",
   "metadata": {},
   "outputs": [
    {
     "name": "stdout",
     "output_type": "stream",
     "text": [
      "enter the value7\n",
      "7\n",
      "14\n",
      "21\n",
      "28\n",
      "35\n",
      "42\n",
      "49\n",
      "56\n",
      "63\n",
      "70\n",
      "this is the mulplication table\n"
     ]
    }
   ],
   "source": [
    "\"\"\" enter the value and write its multiplication table till 10\"\"\"\n",
    "x = int(input(\"enter the value\"))\n",
    "i = 1\n",
    "while i<=10:\n",
    "    print(x*i)\n",
    "    \n",
    "    i=i+1\n",
    "print(\"this is the mulplication table\")\n"
   ]
  },
  {
   "cell_type": "code",
   "execution_count": 8,
   "id": "5367de70",
   "metadata": {},
   "outputs": [
    {
     "name": "stdout",
     "output_type": "stream",
     "text": [
      "enter a value6\n",
      "6\n",
      "36\n",
      "216\n",
      "1296\n",
      "7776\n",
      "these are the exponential values\n"
     ]
    }
   ],
   "source": [
    "\"\"\" TAKE A NUMBER FROM THE USER AND PRINT ITS EXPONENTIAL VAlUE TILL POWER 5\"\"\"\n",
    "x=int(input(\"enter a value\"))\n",
    "i=1\n",
    "while i<=5:\n",
    "    print(x**i)\n",
    "    i=i+1\n",
    "print(\"these are the exponential values\")"
   ]
  },
  {
   "cell_type": "code",
   "execution_count": null,
   "id": "1f2ce77c",
   "metadata": {},
   "outputs": [],
   "source": [
    "\"\"\" wnter a value and find out the even numbers in between that \"\"\"\n"
   ]
  },
  {
   "cell_type": "code",
   "execution_count": null,
   "id": "2e442b07",
   "metadata": {},
   "outputs": [],
   "source": [
    "a = int(input(\"enter the value\"))\n",
    "i=1\n",
    "while i<=a:\n",
    "    if i%2==0:\n",
    "        print(i)\n",
    "    else:"
   ]
  },
  {
   "cell_type": "markdown",
   "id": "7bcc37c8",
   "metadata": {},
   "source": [
    "# while and if "
   ]
  },
  {
   "cell_type": "code",
   "execution_count": 8,
   "id": "2ded9ebd",
   "metadata": {},
   "outputs": [
    {
     "name": "stdout",
     "output_type": "stream",
     "text": [
      " kindly enter the value10\n",
      "2\n",
      "4\n",
      "6\n",
      "8\n",
      "10\n"
     ]
    }
   ],
   "source": [
    "a= int(input(\" kindly enter the value\"))\n",
    "i = 1\n",
    "while i<=a:\n",
    "    if i%2==0:\n",
    "        print(i)\n",
    "    else:\n",
    "        pass\n",
    "    i=i+1"
   ]
  },
  {
   "cell_type": "code",
   "execution_count": 2,
   "id": "7997b87e",
   "metadata": {},
   "outputs": [
    {
     "name": "stdout",
     "output_type": "stream",
     "text": [
      "enter the number of rows5\n",
      "* \n",
      "* * \n",
      "* * * \n",
      "* * * * \n",
      "* * * * * \n"
     ]
    }
   ],
   "source": [
    "x = int(input(\"enter the number of rows\"))\n",
    "i = 1\n",
    "while i<=x:#outer loop\n",
    "    j=1\n",
    "    while j<=i:#inner loop \n",
    "        print(\"*\", end = \" \")\n",
    "        j = j+1\n",
    "    print()\n",
    "    i = i+1"
   ]
  },
  {
   "cell_type": "code",
   "execution_count": 4,
   "id": "67dc0a1d",
   "metadata": {},
   "outputs": [
    {
     "name": "stdout",
     "output_type": "stream",
     "text": [
      "enter the number of rows4\n",
      "* * * * \n",
      "* * * \n",
      "* * \n",
      "* \n"
     ]
    }
   ],
   "source": [
    "n = int(input(\"enter the number of rows\"))\n",
    "i = 1\n",
    "while i<=n:\n",
    "    j=n\n",
    "    while j>=i:\n",
    "        print(\"*\", end = \" \")\n",
    "        j =j-1\n",
    "    print()\n",
    "    i = i+1"
   ]
  },
  {
   "cell_type": "code",
   "execution_count": 10,
   "id": "75f2e415-d408-4b83-9237-67c7e8a637ec",
   "metadata": {},
   "outputs": [
    {
     "name": "stdout",
     "output_type": "stream",
     "text": [
      "I ki value : [1, 2, 3]\n",
      "J ki value: 1\n",
      "J ki value: 2\n",
      "J ki value: 3\n",
      "I ki value : [3, 4, 5]\n",
      "J ki value: 3\n",
      "J ki value: 4\n",
      "J ki value: 5\n",
      "I ki value : [10, 11, 12]\n",
      "J ki value: 10\n",
      "J ki value: 11\n",
      "J ki value: 12\n",
      "I ki value : [90, 98]\n",
      "J ki value: 90\n",
      "J ki value: 98\n"
     ]
    }
   ],
   "source": [
    "ls=[[1,2,3],[3,4,5],[10,11,12],[90,98]]\n",
    "for i in ls:#outer loop\n",
    "    print(\"I ki value :\",i)\n",
    "    for j in i:#inner loop \n",
    "        print(\"J ki value:\",j)\n",
    "        "
   ]
  },
  {
   "cell_type": "code",
   "execution_count": null,
   "id": "1d3a47ea-a5bc-4a45-a785-58428780dafc",
   "metadata": {},
   "outputs": [],
   "source": []
  },
  {
   "cell_type": "markdown",
   "id": "fb2e0d1d",
   "metadata": {},
   "source": [
    "# Break statement"
   ]
  },
  {
   "cell_type": "code",
   "execution_count": 2,
   "id": "2b9c53de",
   "metadata": {},
   "outputs": [
    {
     "name": "stdout",
     "output_type": "stream",
     "text": [
      "inside else\n",
      "inside else\n",
      "inside else\n",
      "inside else\n",
      "inside else\n",
      "inside else\n",
      "inside else\n",
      "inside else\n",
      "inside if\n",
      "done\n"
     ]
    }
   ],
   "source": [
    "n = 10\n",
    "i =1\n",
    "while True:\n",
    "    if i%9==0:\n",
    "        print(\"inside if\")\n",
    "        break\n",
    "    else:\n",
    "        print(\"inside else\")\n",
    "        i=i+1\n",
    "print(\"done\")"
   ]
  },
  {
   "cell_type": "code",
   "execution_count": 2,
   "id": "efd155f8",
   "metadata": {},
   "outputs": [
    {
     "name": "stdout",
     "output_type": "stream",
     "text": [
      "1\n",
      "2\n",
      "3\n",
      "4\n",
      "5\n",
      "6\n",
      "7\n",
      "8\n",
      "9\n",
      "10\n",
      "End\n",
      "done\n"
     ]
    }
   ],
   "source": [
    "\"\"\" enter the value till number 10 \"\"\"\n",
    "n = 10 \n",
    "i = 1\n",
    "while i<=20:\n",
    "    print(i)\n",
    "    i =i+1\n",
    "    if i==11:\n",
    "        print(\"End\")\n",
    "        break\n",
    "print(\"done\")"
   ]
  },
  {
   "cell_type": "markdown",
   "id": "7f7b34f4",
   "metadata": {},
   "source": [
    "# Continue statement"
   ]
  },
  {
   "cell_type": "code",
   "execution_count": 6,
   "id": "10ed43e3",
   "metadata": {
    "scrolled": true
   },
   "outputs": [
    {
     "name": "stdout",
     "output_type": "stream",
     "text": [
      "inside if\n",
      "inside if\n",
      "inside if\n",
      "inside if\n",
      "inside if\n",
      "inside if\n",
      "inside if\n",
      "inside if\n",
      "somethinng\n",
      "something else\n",
      "done\n"
     ]
    }
   ],
   "source": [
    "n = 10\n",
    "i=1\n",
    "while True:\n",
    "    if i%9!=0:\n",
    "        print(\"inside if\")\n",
    "        i=i+1\n",
    "        continue\n",
    "    print(\"somethinng\")\n",
    "    print(\"something else\")\n",
    "\n",
    "    break\n",
    "print(\"done\")"
   ]
  },
  {
   "cell_type": "code",
   "execution_count": 4,
   "id": "7479ffb5",
   "metadata": {},
   "outputs": [
    {
     "name": "stdout",
     "output_type": "stream",
     "text": [
      "enter the value5\n",
      "22\n",
      "222\n",
      "2222\n",
      "22222\n",
      "222222\n",
      "done\n"
     ]
    }
   ],
   "source": [
    "\"\"\" write a program to print a series of 22,222,2222,22222,222222 till the bvalue given by user \"\"\"\n",
    "n = int(input(\"enter the value\"))\n",
    "i=1\n",
    "p=2\n",
    "while i<=n:\n",
    "    p=(p*10)+2\n",
    "    print(p)\n",
    "    i=i+1\n",
    "    continue\n",
    "    print(\"this is the series\")\n",
    "    break\n",
    "print(\"done\")"
   ]
  },
  {
   "cell_type": "markdown",
   "id": "66954808",
   "metadata": {},
   "source": [
    "# for loop in python"
   ]
  },
  {
   "cell_type": "code",
   "execution_count": 2,
   "id": "7dec061c",
   "metadata": {},
   "outputs": [
    {
     "name": "stdout",
     "output_type": "stream",
     "text": [
      "I in value  0\n",
      "1\n",
      "[]\n",
      "I in value  1\n",
      "2\n",
      "[0]\n",
      "I in value  2\n",
      "3\n",
      "[0, 1]\n",
      "I in value  3\n",
      "4\n",
      "[0, 1, 4]\n",
      "I in value  4\n",
      "5\n",
      "[0, 1, 4, 9]\n",
      "I in value  5\n",
      "6\n",
      "[0, 1, 4, 9, 16]\n",
      "I in value  6\n",
      "7\n",
      "[0, 1, 4, 9, 16, 25]\n",
      "I in value  7\n",
      "8\n",
      "[0, 1, 4, 9, 16, 25, 36]\n",
      "I in value  8\n",
      "9\n",
      "[0, 1, 4, 9, 16, 25, 36, 49]\n",
      "I in value  9\n",
      "10\n",
      "[0, 1, 4, 9, 16, 25, 36, 49, 64]\n",
      "[0, 1, 4, 9, 16, 25, 36, 49, 64, 81]\n"
     ]
    }
   ],
   "source": [
    "\"\"\" write a program and to print the square of the number till 10\"\"\"\n",
    "\n",
    "L = []\n",
    "for i in range(10):\n",
    "    print('I in value ',i)\n",
    "    print(i+1)\n",
    "    print(L)\n",
    "    L.append(i**2)\n",
    "print(L)\n"
   ]
  },
  {
   "cell_type": "code",
   "execution_count": null,
   "id": "b95380cd",
   "metadata": {},
   "outputs": [],
   "source": [
    "range(10)#0 to 9"
   ]
  },
  {
   "cell_type": "code",
   "execution_count": 9,
   "id": "bbc970c9",
   "metadata": {},
   "outputs": [
    {
     "name": "stdout",
     "output_type": "stream",
     "text": [
      "1\n",
      "6\n",
      "11\n",
      "16\n",
      "21\n",
      "26\n",
      "31\n",
      "36\n",
      "41\n",
      "46\n",
      "51\n",
      "56\n",
      "61\n",
      "66\n",
      "71\n",
      "76\n",
      "81\n",
      "86\n",
      "91\n",
      "96\n",
      "[0, 25, 100, 225, 400, 625, 900, 1225, 1600, 2025, 2500, 3025, 3600, 4225, 4900, 5625, 6400, 7225, 8100, 9025]\n"
     ]
    }
   ],
   "source": [
    "L = []\n",
    "for i in range(0,100,5):#range(start,end,step)\n",
    "    print(i+1)\n",
    "    L.append(i**2)\n",
    "print(L)"
   ]
  },
  {
   "cell_type": "code",
   "execution_count": 2,
   "id": "b54b2a0e",
   "metadata": {},
   "outputs": [
    {
     "name": "stdout",
     "output_type": "stream",
     "text": [
      " the list of positive numbers are [24, 89, 12, 36, 32, 14]\n",
      "the list of negative number are [-15, -85, -2, -9, -31]\n"
     ]
    }
   ],
   "source": [
    "\"\"\" write a program to separate positive and negative integers from the list\"\"\"\n",
    "L = [24,-15,89,12,36,-85,-2,-9,-31,32,14]\n",
    "L1=[]\n",
    "L2=[]\n",
    "for m in range(11):\n",
    "    if L[m]>=0:\n",
    "        L1.append(L[m])\n",
    "    else :\n",
    "        L2.append(L[m])\n",
    "print(\" the list of positive numbers are\",L1)\n",
    "print(\"the list of negative number are\", L2)\n"
   ]
  },
  {
   "cell_type": "code",
   "execution_count": 19,
   "id": "043195f1",
   "metadata": {},
   "outputs": [
    {
     "name": "stdout",
     "output_type": "stream",
     "text": [
      "[24, 36, 84, 82, 56, 14]\n",
      "[29, 31, 75, 79, 37]\n"
     ]
    }
   ],
   "source": [
    "\"\"\" write a program to sepatae the evena and odd number in the list\"\"\"\n",
    "L = [24,29,31,36,84,75,79,82,56,14,37]\n",
    "L3=[]\n",
    "L4=[]\n",
    "for i in range(11):\n",
    "    if L[i]%2==0:\n",
    "        L3.append(L[i])\n",
    "    else:\n",
    "        L4.append(L[i])\n",
    "print(L3)\n",
    "print(L4)"
   ]
  },
  {
   "cell_type": "code",
   "execution_count": 1,
   "id": "6c3271b2",
   "metadata": {},
   "outputs": [
    {
     "name": "stdout",
     "output_type": "stream",
     "text": [
      "2.56\n",
      "pen\n",
      "apple\n",
      "loop terminated\n",
      "DONE\n"
     ]
    }
   ],
   "source": [
    "S = {\"apple\", 2.56, \"pen\"}\n",
    "for x in S:\n",
    "    print(x)\n",
    "else:\n",
    "    print(\"loop terminated\")\n",
    "print('DONE')"
   ]
  },
  {
   "cell_type": "code",
   "execution_count": 3,
   "id": "5fda33e1",
   "metadata": {},
   "outputs": [
    {
     "name": "stdout",
     "output_type": "stream",
     "text": [
      "0\n",
      "1\n",
      "2\n",
      "3\n",
      "4\n",
      "5\n",
      "6\n",
      "7\n",
      "8\n",
      "9\n",
      "Yes its complete\n"
     ]
    }
   ],
   "source": [
    "for i in range(10):\n",
    "    if i ==15:\n",
    "        break\n",
    "    print(i)\n",
    "else:\n",
    "    print(\"Yes its complete\")"
   ]
  },
  {
   "cell_type": "code",
   "execution_count": 21,
   "id": "e0292ed5",
   "metadata": {},
   "outputs": [
    {
     "name": "stdout",
     "output_type": "stream",
     "text": [
      "A 45\n",
      "B 78\n",
      "77  C\n"
     ]
    }
   ],
   "source": [
    "D = {\"A\": 45, \"B\" : 78 , 77:\" C\"}\n",
    "for x in D:\n",
    "    print(x, D[x])"
   ]
  },
  {
   "cell_type": "markdown",
   "id": "14695a67",
   "metadata": {},
   "source": [
    "# Nesting of for loop"
   ]
  },
  {
   "cell_type": "code",
   "execution_count": 4,
   "id": "dd59499a",
   "metadata": {},
   "outputs": [
    {
     "name": "stdout",
     "output_type": "stream",
     "text": [
      "enter the stringhi i am preet \n",
      "['h', 'i', ' ', 'i', ' ', 'a', 'm', ' ', 'p', 'r', 'e', 'e', 't', ' ']\n",
      "a vowel is in the string\n",
      "1\n",
      "i vowel is in the string\n",
      "2\n",
      "i vowel is in the string\n",
      "3\n",
      "e vowel is in the string\n",
      "4\n",
      "e vowel is in the string\n",
      "5\n"
     ]
    }
   ],
   "source": [
    "\"\"\" ask a user to enter a string and filter count vowels in the string\"\"\"\n",
    "L =[]\n",
    "p = input(\"enter the string\")\n",
    "for i in range(len(p)):\n",
    "    L.append(p[i])\n",
    "print(L)\n",
    "count = 0\n",
    "for i in range(len(L)):\n",
    "    if L[i] ==\"a\":\n",
    "        print(\"a vowel is in the string\")\n",
    "        count=count+1\n",
    "        print(count)\n",
    "        \n",
    "for i in range(len(L)):\n",
    "    if L[i] ==\"i\":\n",
    "        print(\"i vowel is in the string\")\n",
    "        count=count+1\n",
    "        print(count)\n",
    "        \n",
    "for i in range(len(L)):\n",
    "    if L[i] ==\"o\":\n",
    "        print(\"o vowel is in the string\")\n",
    "        count=count+1\n",
    "        print(count)\n",
    "        \n",
    "for i in range(len(L)):\n",
    "    if L[i] ==\"u\":\n",
    "        print(\"u vowel is in the string\")\n",
    "        count=count+1\n",
    "        print(count)\n",
    "        \n",
    "for i in range(len(L)):\n",
    "    if L[i] ==\"e\":\n",
    "        print(\"e vowel is in the string\")\n",
    "        count=count+1\n",
    "        print(count)"
   ]
  },
  {
   "cell_type": "code",
   "execution_count": 2,
   "id": "eb11619a",
   "metadata": {},
   "outputs": [
    {
     "name": "stdout",
     "output_type": "stream",
     "text": [
      "enter the number5\n",
      "faiyaz\n",
      "bye faiyaz\n"
     ]
    }
   ],
   "source": [
    "n = int(input(\"enter the number\"))\n",
    "if n>10:\n",
    "    print(\"hello faiyaz\")\n",
    "else:\n",
    "    print(\"faiyaz\")\n",
    "    pass\n",
    "print(\"bye faiyaz\")"
   ]
  },
  {
   "cell_type": "code",
   "execution_count": null,
   "id": "37d58b1a",
   "metadata": {},
   "outputs": [],
   "source": [
    "write a program, unit - First 100 - no charge, next 100 unit - Rs 5 per unit, after 200 ubnit - per unit Rs 10"
   ]
  },
  {
   "cell_type": "code",
   "execution_count": 1,
   "id": "ad068e69",
   "metadata": {},
   "outputs": [
    {
     "name": "stdout",
     "output_type": "stream",
     "text": [
      "1 \n",
      "1 2 \n",
      "1 2 3 \n",
      "1 2 3 4 \n"
     ]
    }
   ],
   "source": [
    "#This is the demostration of the nested for loop \n",
    "for i in range(1,5):\n",
    "    for j in range(1,i+1):\n",
    "        print(j,end=' ')\n",
    "    print()"
   ]
  },
  {
   "cell_type": "code",
   "execution_count": 4,
   "id": "a781ed6b",
   "metadata": {},
   "outputs": [
    {
     "name": "stdout",
     "output_type": "stream",
     "text": [
      "Loop no  1\n",
      "21\n",
      "Loop no  2\n",
      "23\n",
      "Loop no  3\n",
      "54\n",
      "Loop no  4\n",
      "67\n",
      "Loop no  5\n",
      "98\n",
      "Loop no  6\n",
      "786\n"
     ]
    }
   ],
   "source": [
    "ls=[21,23,54,67,98,786]\n",
    "lo=1\n",
    "for i in ls:\n",
    "    print(\"Loop no \",lo)\n",
    "    lo+=1\n",
    "    print(i)"
   ]
  },
  {
   "cell_type": "code",
   "execution_count": 5,
   "id": "cb8cedc4",
   "metadata": {},
   "outputs": [],
   "source": [
    "lst=[(1,2,3),(11,12,21),(55,54)]"
   ]
  },
  {
   "cell_type": "code",
   "execution_count": 12,
   "id": "7edc10d1",
   "metadata": {},
   "outputs": [
    {
     "name": "stdout",
     "output_type": "stream",
     "text": [
      "1 2 3 \n",
      "11 12 21 \n",
      "55 54 \n"
     ]
    }
   ],
   "source": [
    "for i in lst:\n",
    "    for j in i:\n",
    "        print(j,end=' ')\n",
    "    print()"
   ]
  },
  {
   "cell_type": "code",
   "execution_count": 9,
   "id": "bee5bbf8",
   "metadata": {},
   "outputs": [
    {
     "name": "stdout",
     "output_type": "stream",
     "text": [
      "(1, 2, 3)\n",
      "(11, 12, 21)\n",
      "(55, 54)\n"
     ]
    }
   ],
   "source": [
    "for a in lst:\n",
    "    print(a)"
   ]
  },
  {
   "cell_type": "code",
   "execution_count": null,
   "id": "30d56ad5",
   "metadata": {},
   "outputs": [],
   "source": []
  },
  {
   "cell_type": "code",
   "execution_count": null,
   "id": "cee4f686",
   "metadata": {},
   "outputs": [],
   "source": []
  },
  {
   "cell_type": "code",
   "execution_count": null,
   "id": "2012e881",
   "metadata": {},
   "outputs": [],
   "source": []
  },
  {
   "cell_type": "code",
   "execution_count": null,
   "id": "b99c63ea",
   "metadata": {},
   "outputs": [],
   "source": []
  },
  {
   "cell_type": "code",
   "execution_count": null,
   "id": "93b86ef1",
   "metadata": {},
   "outputs": [],
   "source": []
  },
  {
   "cell_type": "code",
   "execution_count": null,
   "id": "527c6461",
   "metadata": {},
   "outputs": [],
   "source": []
  }
 ],
 "metadata": {
  "kernelspec": {
   "display_name": "Python 3 (ipykernel)",
   "language": "python",
   "name": "python3"
  },
  "language_info": {
   "codemirror_mode": {
    "name": "ipython",
    "version": 3
   },
   "file_extension": ".py",
   "mimetype": "text/x-python",
   "name": "python",
   "nbconvert_exporter": "python",
   "pygments_lexer": "ipython3",
   "version": "3.12.3"
  }
 },
 "nbformat": 4,
 "nbformat_minor": 5
}
