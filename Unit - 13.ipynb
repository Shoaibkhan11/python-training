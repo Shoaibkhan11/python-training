{
 "cells": [
  {
   "cell_type": "markdown",
   "id": "b36b6c80",
   "metadata": {},
   "source": [
    "# unit - 13"
   ]
  },
  {
   "cell_type": "markdown",
   "id": "a49ed575",
   "metadata": {},
   "source": [
    "# File Handling"
   ]
  },
  {
   "cell_type": "code",
   "execution_count": 5,
   "id": "b5b870c0",
   "metadata": {},
   "outputs": [],
   "source": [
    "f = open(\"test.txt\", \"w\")"
   ]
  },
  {
   "cell_type": "code",
   "execution_count": 6,
   "id": "c1b458ce",
   "metadata": {},
   "outputs": [
    {
     "data": {
      "text/plain": [
       "13"
      ]
     },
     "execution_count": 6,
     "metadata": {},
     "output_type": "execute_result"
    }
   ],
   "source": [
    "f.write(\"BEautiful day\")\n"
   ]
  },
  {
   "cell_type": "code",
   "execution_count": 7,
   "id": "1e257863",
   "metadata": {},
   "outputs": [],
   "source": [
    "f.close()"
   ]
  },
  {
   "cell_type": "code",
   "execution_count": null,
   "id": "7cb37ed1",
   "metadata": {},
   "outputs": [],
   "source": [
    "\"C:\\Users\\ASUS\\Desktop\\pythonTraining\\anagram.csv\""
   ]
  },
  {
   "cell_type": "code",
   "execution_count": 2,
   "id": "4bf2e0c0",
   "metadata": {},
   "outputs": [
    {
     "data": {
      "text/plain": [
       "'C:\\\\Users\\\\lenovo\\\\Desktop\\\\Untitled Folder\\\\swati programs'"
      ]
     },
     "execution_count": 2,
     "metadata": {},
     "output_type": "execute_result"
    }
   ],
   "source": [
    "pwd"
   ]
  },
  {
   "cell_type": "code",
   "execution_count": 3,
   "id": "25e50fc5",
   "metadata": {},
   "outputs": [
    {
     "name": "stdout",
     "output_type": "stream",
     "text": [
      " Volume in drive C has no label.\n",
      " Volume Serial Number is 64F1-60B1\n",
      "\n",
      " Directory of C:\\Users\\lenovo\\Desktop\\Untitled Folder\\swati programs\n",
      "\n",
      "10-03-2023  14:19    <DIR>          .\n",
      "10-03-2023  14:19    <DIR>          ..\n",
      "10-03-2023  13:00    <DIR>          .ipynb_checkpoints\n",
      "10-03-2023  12:32           178,379 ihh.ipynb\n",
      "07-03-2023  15:10             1,602 module use.ipynb\n",
      "07-03-2023  15:03               943 module1.ipynb\n",
      "13-02-2023  13:53            65,766 Movie Recommendation System.ipynb\n",
      "18-02-2023  15:06           117,995 part 1.ipynb\n",
      "09-02-2023  17:30           190,375 part 2.ipynb\n",
      "28-02-2023  14:58           281,630 project Number 1.ipynb\n",
      "09-02-2023  20:31           320,617 python first project covid.ipynb\n",
      "28-02-2023  13:51           170,277 python lectures.ipynb\n",
      "26-02-2023  18:01            43,473 python unit 2.ipynb\n",
      "10-03-2023  14:30                 0 test.txt\n",
      "02-03-2023  13:11            43,561 Unit - 10.ipynb\n",
      "04-03-2023  14:45            25,694 Unit - 11.ipynb\n",
      "10-03-2023  12:47            54,817 Unit - 12.ipynb\n",
      "10-03-2023  14:19             3,793 Unit - 13.ipynb\n",
      "21-02-2023  14:38            26,308 Unit - 6 .ipynb\n",
      "23-02-2023  20:03            44,448 Unit - 7.ipynb\n",
      "28-02-2023  17:08            33,433 Unit - 8 .ipynb\n",
      "17-02-2023  16:06            26,698 Unit 3.ipynb\n",
      "17-02-2023  19:39            11,835 Unit 4.ipynb\n",
      "19-02-2023  18:23            17,517 Unit 5.ipynb\n",
      "01-03-2023  12:28            27,129 unit -9.ipynb\n",
      "              22 File(s)      1,686,290 bytes\n",
      "               3 Dir(s)  51,032,117,248 bytes free\n"
     ]
    }
   ],
   "source": [
    "ls"
   ]
  },
  {
   "cell_type": "code",
   "execution_count": 4,
   "id": "18b98bc6",
   "metadata": {},
   "outputs": [
    {
     "data": {
      "text/plain": [
       "31"
      ]
     },
     "execution_count": 4,
     "metadata": {},
     "output_type": "execute_result"
    }
   ],
   "source": [
    "f.write(\"this is the first file to write\")"
   ]
  },
  {
   "cell_type": "code",
   "execution_count": 6,
   "id": "5bae0125",
   "metadata": {},
   "outputs": [],
   "source": [
    "f.close()"
   ]
  },
  {
   "cell_type": "code",
   "execution_count": 7,
   "id": "bd1751d4",
   "metadata": {},
   "outputs": [],
   "source": [
    "f = open(\"test.txt\", \"w\")"
   ]
  },
  {
   "cell_type": "code",
   "execution_count": 8,
   "id": "3ad45dfb",
   "metadata": {},
   "outputs": [
    {
     "data": {
      "text/plain": [
       "12"
      ]
     },
     "execution_count": 8,
     "metadata": {},
     "output_type": "execute_result"
    }
   ],
   "source": [
    "f.write(\"this is file\")"
   ]
  },
  {
   "cell_type": "code",
   "execution_count": 9,
   "id": "f1bf18ac",
   "metadata": {},
   "outputs": [],
   "source": [
    "f.close()"
   ]
  },
  {
   "cell_type": "code",
   "execution_count": 8,
   "id": "e38e7605",
   "metadata": {},
   "outputs": [],
   "source": [
    "f = open(\"test.txt\", \"a\")"
   ]
  },
  {
   "cell_type": "code",
   "execution_count": 9,
   "id": "bff4cf03",
   "metadata": {},
   "outputs": [
    {
     "data": {
      "text/plain": [
       "618"
      ]
     },
     "execution_count": 9,
     "metadata": {},
     "output_type": "execute_result"
    }
   ],
   "source": [
    "f.write(\"The term data science has been traced back to 1974, when Peter Naur proposed it as an alternative name for computer science.[6] In 1996, the International Federation of Classification Societies became the first conference to specifically feature data science as a topic.[6] However, the definition was still in flux. After the 1985 lecture at the Chinese Academy of Sciences in Beijing, in 1997 C. F. Jeff Wu again suggested that statistics should be renamed data science. He reasoned that a new name would help statistics shed inaccurate stereotypes, such as being synonymous with accounting or limited to describing \")"
   ]
  },
  {
   "cell_type": "code",
   "execution_count": 10,
   "id": "cedeaf4d",
   "metadata": {},
   "outputs": [],
   "source": [
    "f.close()"
   ]
  },
  {
   "cell_type": "code",
   "execution_count": 15,
   "id": "9c90ee94",
   "metadata": {},
   "outputs": [],
   "source": [
    "f = open(\"test.txt\", \"r\")"
   ]
  },
  {
   "cell_type": "code",
   "execution_count": 16,
   "id": "4559d4b3",
   "metadata": {},
   "outputs": [
    {
     "data": {
      "text/plain": [
       "'this is fileThe term data science has been traced back to 1974, when Peter Naur proposed it as an alternative name for computer science.[6] In 1996, the International Federation of Classification Societies became the first conference to specifically feature data science as a topic.[6] However, the definition was still in flux. After the 1985 lecture at the Chinese Academy of Sciences in Beijing, in 1997 C. F. Jeff Wu again suggested that statistics should be renamed data science. He reasoned that a new name would help statistics shed inaccurate stereotypes, such as being synonymous with accounting or limited to describing '"
      ]
     },
     "execution_count": 16,
     "metadata": {},
     "output_type": "execute_result"
    }
   ],
   "source": [
    "f.read()"
   ]
  },
  {
   "cell_type": "code",
   "execution_count": 17,
   "id": "d31d4945",
   "metadata": {},
   "outputs": [
    {
     "data": {
      "text/plain": [
       "''"
      ]
     },
     "execution_count": 17,
     "metadata": {},
     "output_type": "execute_result"
    }
   ],
   "source": [
    "f.readline()"
   ]
  },
  {
   "cell_type": "code",
   "execution_count": 18,
   "id": "af6f97b2",
   "metadata": {},
   "outputs": [
    {
     "data": {
      "text/plain": [
       "0"
      ]
     },
     "execution_count": 18,
     "metadata": {},
     "output_type": "execute_result"
    }
   ],
   "source": [
    "f.seek(0)"
   ]
  },
  {
   "cell_type": "code",
   "execution_count": 19,
   "id": "17a852c8",
   "metadata": {},
   "outputs": [
    {
     "data": {
      "text/plain": [
       "'this is fileThe term data science has been traced back to 1974, when Peter Naur proposed it as an alternative name for computer science.[6] In 1996, the International Federation of Classification Societies became the first conference to specifically feature data science as a topic.[6] However, the definition was still in flux. After the 1985 lecture at the Chinese Academy of Sciences in Beijing, in 1997 C. F. Jeff Wu again suggested that statistics should be renamed data science. He reasoned that a new name would help statistics shed inaccurate stereotypes, such as being synonymous with accounting or limited to describing '"
      ]
     },
     "execution_count": 19,
     "metadata": {},
     "output_type": "execute_result"
    }
   ],
   "source": [
    "f.readline()"
   ]
  },
  {
   "cell_type": "code",
   "execution_count": 20,
   "id": "92d0a6f3",
   "metadata": {},
   "outputs": [
    {
     "data": {
      "text/plain": [
       "5"
      ]
     },
     "execution_count": 20,
     "metadata": {},
     "output_type": "execute_result"
    }
   ],
   "source": [
    "f.seek(5)"
   ]
  },
  {
   "cell_type": "code",
   "execution_count": 21,
   "id": "14d67d0b",
   "metadata": {},
   "outputs": [
    {
     "data": {
      "text/plain": [
       "'is fileThe term data science has been traced back to 1974, when Peter Naur proposed it as an alternative name for computer science.[6] In 1996, the International Federation of Classification Societies became the first conference to specifically feature data science as a topic.[6] However, the definition was still in flux. After the 1985 lecture at the Chinese Academy of Sciences in Beijing, in 1997 C. F. Jeff Wu again suggested that statistics should be renamed data science. He reasoned that a new name would help statistics shed inaccurate stereotypes, such as being synonymous with accounting or limited to describing '"
      ]
     },
     "execution_count": 21,
     "metadata": {},
     "output_type": "execute_result"
    }
   ],
   "source": [
    "f.readline()"
   ]
  },
  {
   "cell_type": "code",
   "execution_count": 2,
   "id": "0f62632f",
   "metadata": {},
   "outputs": [],
   "source": [
    "import os"
   ]
  },
  {
   "cell_type": "code",
   "execution_count": 3,
   "id": "092fd3f6",
   "metadata": {},
   "outputs": [
    {
     "data": {
      "text/plain": [
       "630"
      ]
     },
     "execution_count": 3,
     "metadata": {},
     "output_type": "execute_result"
    }
   ],
   "source": [
    "os.path.getsize(\"test.txt\")"
   ]
  },
  {
   "cell_type": "code",
   "execution_count": 4,
   "id": "2147f559",
   "metadata": {},
   "outputs": [],
   "source": [
    "os.remove(\"test.txt\")"
   ]
  },
  {
   "cell_type": "code",
   "execution_count": 5,
   "id": "3f6b1ce5",
   "metadata": {},
   "outputs": [],
   "source": [
    "f = open(\"test1.txt\", \"w\")"
   ]
  },
  {
   "cell_type": "code",
   "execution_count": 6,
   "id": "1732b658",
   "metadata": {},
   "outputs": [
    {
     "data": {
      "text/plain": [
       "67"
      ]
     },
     "execution_count": 6,
     "metadata": {},
     "output_type": "execute_result"
    }
   ],
   "source": [
    "f.write( \"this is the python lerning lecture and i am enjoying python classes\")"
   ]
  },
  {
   "cell_type": "code",
   "execution_count": 7,
   "id": "25762952",
   "metadata": {},
   "outputs": [],
   "source": [
    "f.close()"
   ]
  },
  {
   "cell_type": "code",
   "execution_count": 8,
   "id": "c1682c08",
   "metadata": {},
   "outputs": [],
   "source": [
    "os.rename(\"test1.txt\", \"new.txt\")"
   ]
  },
  {
   "cell_type": "code",
   "execution_count": 9,
   "id": "886eddf7",
   "metadata": {},
   "outputs": [],
   "source": [
    "import shutil"
   ]
  },
  {
   "cell_type": "code",
   "execution_count": 10,
   "id": "bf617430",
   "metadata": {},
   "outputs": [
    {
     "data": {
      "text/plain": [
       "'copy_nex.txt'"
      ]
     },
     "execution_count": 10,
     "metadata": {},
     "output_type": "execute_result"
    }
   ],
   "source": [
    "shutil.copy(\"new.txt\", \"copy_nex.txt\")"
   ]
  },
  {
   "cell_type": "markdown",
   "id": "244acd6c",
   "metadata": {},
   "source": [
    "# reading and writing files"
   ]
  },
  {
   "cell_type": "code",
   "execution_count": 1,
   "id": "b1a01acf",
   "metadata": {},
   "outputs": [],
   "source": [
    "data = { \"name\":\"priya\",\n",
    "        \"email_id\":\"priya@gmail.com\",\n",
    "       \"phone_number\": 2855244552552,\n",
    "       \"subject\":[\"english\", \"hindi\", \"science\"]\n",
    "       }"
   ]
  },
  {
   "cell_type": "code",
   "execution_count": 2,
   "id": "d26e9716",
   "metadata": {},
   "outputs": [],
   "source": [
    "import json"
   ]
  },
  {
   "cell_type": "code",
   "execution_count": 3,
   "id": "eb9cf730",
   "metadata": {},
   "outputs": [],
   "source": [
    "with open(\"data.json\", \"w\") as f:\n",
    "    json.dump(data,f)\n"
   ]
  },
  {
   "cell_type": "code",
   "execution_count": 4,
   "id": "b222e112",
   "metadata": {},
   "outputs": [],
   "source": [
    "with open(\"data.json\", \"r\") as f:\n",
    "    data1 = json.load(f)"
   ]
  },
  {
   "cell_type": "code",
   "execution_count": 10,
   "id": "d950f99c",
   "metadata": {},
   "outputs": [],
   "source": [
    "open?"
   ]
  },
  {
   "cell_type": "code",
   "execution_count": 5,
   "id": "78941269",
   "metadata": {},
   "outputs": [
    {
     "data": {
      "text/plain": [
       "{'name': 'priya',\n",
       " 'email_id': 'priya@gmail.com',\n",
       " 'phone_number': 2855244552552,\n",
       " 'subject': ['english', 'hindi', 'science']}"
      ]
     },
     "execution_count": 5,
     "metadata": {},
     "output_type": "execute_result"
    }
   ],
   "source": [
    "data1"
   ]
  },
  {
   "cell_type": "code",
   "execution_count": 8,
   "id": "644237e6",
   "metadata": {},
   "outputs": [
    {
     "data": {
      "text/plain": [
       "['english', 'hindi', 'science']"
      ]
     },
     "execution_count": 8,
     "metadata": {},
     "output_type": "execute_result"
    }
   ],
   "source": [
    "data1[\"subject\"]"
   ]
  },
  {
   "cell_type": "code",
   "execution_count": 7,
   "id": "091d6876",
   "metadata": {},
   "outputs": [
    {
     "ename": "TypeError",
     "evalue": "unhashable type: 'list'",
     "output_type": "error",
     "traceback": [
      "\u001b[1;31m---------------------------------------------------------------------------\u001b[0m",
      "\u001b[1;31mTypeError\u001b[0m                                 Traceback (most recent call last)",
      "Cell \u001b[1;32mIn[7], line 1\u001b[0m\n\u001b[1;32m----> 1\u001b[0m \u001b[43mdata1\u001b[49m\u001b[43m[\u001b[49m\u001b[43m[\u001b[49m\u001b[38;5;124;43m'\u001b[39;49m\u001b[38;5;124;43msubject\u001b[39;49m\u001b[38;5;124;43m'\u001b[39;49m\u001b[43m,\u001b[49m\u001b[38;5;124;43m'\u001b[39;49m\u001b[38;5;124;43mname\u001b[39;49m\u001b[38;5;124;43m'\u001b[39;49m\u001b[43m]\u001b[49m\u001b[43m]\u001b[49m\n",
      "\u001b[1;31mTypeError\u001b[0m: unhashable type: 'list'"
     ]
    }
   ],
   "source": [
    "data1[['subject','name']]"
   ]
  },
  {
   "cell_type": "code",
   "execution_count": 9,
   "id": "bb942b78",
   "metadata": {},
   "outputs": [
    {
     "data": {
      "text/plain": [
       "'priya'"
      ]
     },
     "execution_count": 9,
     "metadata": {},
     "output_type": "execute_result"
    }
   ],
   "source": [
    "data1['name']"
   ]
  },
  {
   "cell_type": "markdown",
   "id": "865a302a",
   "metadata": {},
   "source": [
    "# csv file format"
   ]
  },
  {
   "cell_type": "code",
   "execution_count": 22,
   "id": "4d66f4a5",
   "metadata": {},
   "outputs": [],
   "source": [
    "import csv"
   ]
  },
  {
   "cell_type": "code",
   "execution_count": 23,
   "id": "9660039a",
   "metadata": {},
   "outputs": [],
   "source": [
    "data = [ [\"name\", \"email_id\", \"phone_number\"],\n",
    "       [\"swati\", \"swati@gmail.com,\", 4774474111],\n",
    "        [\"navya\", \"navya@gmail.com\", 486525252522]\n",
    "       ]"
   ]
  },
  {
   "cell_type": "code",
   "execution_count": 24,
   "id": "75f879b0",
   "metadata": {},
   "outputs": [],
   "source": [
    "with open(\"data.csv\", \"w\") as f:\n",
    "    writer =  csv.writer(f)\n",
    "    for i in data:\n",
    "        writer.writerow(i)"
   ]
  },
  {
   "cell_type": "code",
   "execution_count": 25,
   "id": "e9b75683",
   "metadata": {},
   "outputs": [
    {
     "name": "stdout",
     "output_type": "stream",
     "text": [
      "['name', 'email_id', 'phone_number']\n",
      "[]\n",
      "['swati', 'swati@gmail.com,', '4774474111']\n",
      "[]\n",
      "['navya', 'navya@gmail.com', '486525252522']\n",
      "[]\n"
     ]
    }
   ],
   "source": [
    "with open(\"data.csv\", \"r\")as f:\n",
    "    read_data = csv.reader(f)\n",
    "    \n",
    "    for i in read_data:\n",
    "        print(i)"
   ]
  },
  {
   "cell_type": "code",
   "execution_count": 26,
   "id": "409fdbfb",
   "metadata": {},
   "outputs": [],
   "source": [
    "with open(\"test.bin\", \"wb\")as f:\n",
    "    f.write(b\"\\x01\\x02\\x03\")\n"
   ]
  },
  {
   "cell_type": "code",
   "execution_count": 27,
   "id": "95772017",
   "metadata": {},
   "outputs": [],
   "source": [
    "with open(\"test.bin\", \"wb\")as f:\n",
    "    f.write(b\"\\x01\\x02\\x03\\x47452255222\")"
   ]
  },
  {
   "cell_type": "code",
   "execution_count": 29,
   "id": "37174210",
   "metadata": {},
   "outputs": [
    {
     "name": "stdout",
     "output_type": "stream",
     "text": [
      "b'\\x01\\x02\\x03G452255222'\n"
     ]
    }
   ],
   "source": [
    "with open(\"test.bin\", \"rb\")as f:\n",
    "    print(f.read())"
   ]
  },
  {
   "cell_type": "markdown",
   "id": "dd04487f",
   "metadata": {},
   "source": [
    "# Buffered read and write other file methods"
   ]
  },
  {
   "cell_type": "code",
   "execution_count": 11,
   "id": "aa17d291",
   "metadata": {},
   "outputs": [],
   "source": [
    "import io"
   ]
  },
  {
   "cell_type": "code",
   "execution_count": 12,
   "id": "7a7cd52d",
   "metadata": {},
   "outputs": [],
   "source": [
    "with open(\"demo.txt\", \"wb\")as f:\n",
    "    file = io.BufferedWriter(f)\n",
    "    \n",
    "    file.write(b\"this is my first file\\n\")\n",
    "    file.write(b\"this is my second file\")\n",
    "    file.flush()"
   ]
  },
  {
   "cell_type": "code",
   "execution_count": 33,
   "id": "ded528f9",
   "metadata": {},
   "outputs": [],
   "source": [
    "with open(\"demo.txt\", \"wb\")as f:\n",
    "    file = io.BufferedWriter(f)\n",
    "    \n",
    "    file.write(b\"this is my first file\\n\")\n",
    "    file.write(b\"Many statisticians, including Nate Silver, have argued that data science is not a new field, but rather another name for statistics.[17] Others argue that data science is distinct from statistics because it focuses on problems and techniques unique to digital data.[18] Vasant Dhar writes that statistics emphasizes quantitative data and description. In contrast, data science deals with quantitative and qualitative data (e.g. from images, text, sensors, transactions or customer information, etc) and emphasizes prediction and action.[19] Andrew Gelman of Columbia University has described statistics as a nonessential part of data science\")\n",
    "    file.flush()"
   ]
  },
  {
   "cell_type": "code",
   "execution_count": 37,
   "id": "dafa39db",
   "metadata": {},
   "outputs": [
    {
     "name": "stdout",
     "output_type": "stream",
     "text": [
      "b'this is my first file\\nMany statisticians, including Nate Silver, have argued that data science is not a new field, but rather another name for statistics.[17] Others argue that data science is distinct from statistics because it focuses on problems and techniques unique to digital data.[18] Vasant Dhar writes that statistics emphasizes quantitative data and description. In contrast, data science deals with quantitative and qualitative data (e.g. from images, text, sensors, transactions or customer information, etc) and emphasizes prediction and action.[19] Andrew Gelman of Columbia University has described statistics as a nonessential part of data science'\n"
     ]
    }
   ],
   "source": [
    "with open(\"demo.txt\", \"rb\")as f:\n",
    "    file = io.BufferedReader(f)\n",
    "    data = file.read()\n",
    "    print(data)"
   ]
  },
  {
   "cell_type": "markdown",
   "id": "af7630d3",
   "metadata": {},
   "source": [
    "# Logging and debugger"
   ]
  },
  {
   "cell_type": "code",
   "execution_count": 41,
   "id": "027f31cd",
   "metadata": {},
   "outputs": [
    {
     "name": "stdout",
     "output_type": "stream",
     "text": [
      "this is my new batch\n"
     ]
    }
   ],
   "source": [
    "print(\"this is my new batch\")"
   ]
  },
  {
   "cell_type": "code",
   "execution_count": 40,
   "id": "972c75a1",
   "metadata": {},
   "outputs": [
    {
     "name": "stdout",
     "output_type": "stream",
     "text": [
      "i am swati\n"
     ]
    }
   ],
   "source": [
    "print(\"i am swati\")"
   ]
  },
  {
   "cell_type": "code",
   "execution_count": 1,
   "id": "0ea84919",
   "metadata": {},
   "outputs": [],
   "source": [
    "import logging"
   ]
  },
  {
   "cell_type": "code",
   "execution_count": 2,
   "id": "5cf02e60",
   "metadata": {},
   "outputs": [],
   "source": [
    "logging.basicConfig(filename = \"test.log\", level = logging.INFO)"
   ]
  },
  {
   "cell_type": "code",
   "execution_count": 3,
   "id": "f6510033",
   "metadata": {},
   "outputs": [],
   "source": [
    "logging.info(\"log this is the execution\")"
   ]
  },
  {
   "cell_type": "markdown",
   "id": "52bad661",
   "metadata": {},
   "source": [
    "1.NOTSET\n",
    "2.DEBUG\n",
    "3.INFO\n",
    "4.WARNING\n",
    "5.ERROR\n",
    "6.CRITICAL"
   ]
  },
  {
   "cell_type": "code",
   "execution_count": 4,
   "id": "033ec7d6",
   "metadata": {},
   "outputs": [],
   "source": [
    "logging.debug(\"this is python class\")"
   ]
  },
  {
   "cell_type": "code",
   "execution_count": 5,
   "id": "4bb022d6",
   "metadata": {},
   "outputs": [],
   "source": [
    "logging.warning(\"this is the warning message\")"
   ]
  },
  {
   "cell_type": "code",
   "execution_count": 6,
   "id": "0d891fb6",
   "metadata": {},
   "outputs": [],
   "source": [
    "logging.error(\"this is error message\")"
   ]
  },
  {
   "cell_type": "code",
   "execution_count": 7,
   "id": "98343312",
   "metadata": {},
   "outputs": [],
   "source": [
    "logging.critical(\"this is critical message\")"
   ]
  },
  {
   "cell_type": "code",
   "execution_count": 11,
   "id": "0f9a4407",
   "metadata": {},
   "outputs": [],
   "source": [
    "logging.shutdown()"
   ]
  },
  {
   "cell_type": "code",
   "execution_count": 12,
   "id": "9550c24e",
   "metadata": {},
   "outputs": [],
   "source": [
    "import logging"
   ]
  },
  {
   "cell_type": "code",
   "execution_count": 13,
   "id": "67e1eb02",
   "metadata": {},
   "outputs": [],
   "source": [
    "logging.basicConfig(filename=\"learn.log\", level=logging.DEBUG, format ='%(asctime)s %(name)s %(levelname)s %(message)s')"
   ]
  },
  {
   "cell_type": "code",
   "execution_count": 14,
   "id": "af8381df",
   "metadata": {},
   "outputs": [],
   "source": [
    "logging.info(\"this is logging\")\n",
    "logging.error(\"this is the error message\")\n",
    "logging.critical(\"this is soo critical\")"
   ]
  },
  {
   "cell_type": "code",
   "execution_count": 4,
   "id": "7efe2109",
   "metadata": {},
   "outputs": [
    {
     "name": "stdout",
     "output_type": "stream",
     "text": [
      "[45]\n",
      "[45, 86]\n",
      "[45, 86, 74]\n",
      "[45, 86, 74, 12]\n",
      "[-8]\n",
      "[-8, -9]\n",
      "[-8, -9, -56]\n",
      "[45, 86, 74, 12, 12]\n",
      "[45, 86, 74, 12, 12, 0]\n",
      "[45, 86, 74, 12, 12, 0, 3]\n",
      "[-8, -9, -56, -5]\n",
      "[-8, -9, -56, -5, -3]\n",
      "[-8, -9, -56, -5, -3, -78]\n",
      "[45, 86, 74, 12, 12, 0, 3, 122]\n"
     ]
    }
   ],
   "source": [
    "L= [45,86,74,12,-8,-9,-56,12,0,3,-5,-3,-78,122]\n",
    "logging.info(\"separate this list into two list of postive and negative numbers\")\n",
    "a = []\n",
    "b = []\n",
    "logging.debug(\"this is debugging\")\n",
    "for i in range(len(L)):\n",
    "    logging.info(\"making the list of positive numbers\")\n",
    "    if L[i]>=0:\n",
    "        a.append(L[i])\n",
    "        print(a)\n",
    "        logging.warning(\"this is warning in postive number\")\n",
    "    else:\n",
    "        b.append(L[i])\n",
    "        print(b)\n",
    "        logging.warning(\"this is the warning for negative number\")"
   ]
  },
  {
   "cell_type": "markdown",
   "id": "f1ab9381",
   "metadata": {},
   "source": [
    "# Unit 14"
   ]
  },
  {
   "cell_type": "code",
   "execution_count": 10,
   "id": "13104418",
   "metadata": {},
   "outputs": [
    {
     "name": "stdout",
     "output_type": "stream",
     "text": [
      "Exception block: division by zero\n",
      "Finally block ka ander a gaya bhai \n",
      "Outside the try-except blocks\n"
     ]
    }
   ],
   "source": [
    "try:\n",
    "    d=14/0\n",
    "    print(\"executed\")\n",
    "except Exception as e:\n",
    "    print(\"Exception block:\",e)\n",
    "else:\n",
    "    print(\"Han bhai run ho gaya\")\n",
    "finally:\n",
    "    print(\"Finally block ka ander a gaya bhai \")\n",
    "print(\"Outside the try-except blocks\")"
   ]
  },
  {
   "cell_type": "code",
   "execution_count": null,
   "id": "d1458d10",
   "metadata": {},
   "outputs": [],
   "source": []
  }
 ],
 "metadata": {
  "kernelspec": {
   "display_name": "Python 3 (ipykernel)",
   "language": "python",
   "name": "python3"
  },
  "language_info": {
   "codemirror_mode": {
    "name": "ipython",
    "version": 3
   },
   "file_extension": ".py",
   "mimetype": "text/x-python",
   "name": "python",
   "nbconvert_exporter": "python",
   "pygments_lexer": "ipython3",
   "version": "3.10.9"
  }
 },
 "nbformat": 4,
 "nbformat_minor": 5
}
