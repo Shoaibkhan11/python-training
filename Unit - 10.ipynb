{
 "cells": [
  {
   "cell_type": "markdown",
   "id": "9a1ef8a7",
   "metadata": {},
   "source": [
    "# unit - 10"
   ]
  },
  {
   "cell_type": "markdown",
   "id": "6f71d3d4",
   "metadata": {},
   "source": [
    "# sets in python"
   ]
  },
  {
   "cell_type": "code",
   "execution_count": 1,
   "id": "d25e3b82",
   "metadata": {},
   "outputs": [
    {
     "name": "stdout",
     "output_type": "stream",
     "text": [
      "{12, 13, 14, 15}\n",
      "<class 'set'>\n"
     ]
    }
   ],
   "source": [
    "S = {12,13,14,15}\n",
    "print(S)\n",
    "print(type(S))"
   ]
  },
  {
   "cell_type": "code",
   "execution_count": 1,
   "id": "d8e27b0e",
   "metadata": {},
   "outputs": [
    {
     "data": {
      "text/plain": [
       "dict"
      ]
     },
     "execution_count": 1,
     "metadata": {},
     "output_type": "execute_result"
    }
   ],
   "source": [
    "asd={}\n",
    "type(asd)"
   ]
  },
  {
   "cell_type": "code",
   "execution_count": 2,
   "id": "d25853b1",
   "metadata": {},
   "outputs": [
    {
     "name": "stdout",
     "output_type": "stream",
     "text": [
      "{12, 13, 14, 15}\n"
     ]
    }
   ],
   "source": [
    "S = {12,13,14,15}\n",
    "print(S)"
   ]
  },
  {
   "cell_type": "code",
   "execution_count": 3,
   "id": "bf80e9c6",
   "metadata": {},
   "outputs": [
    {
     "name": "stdout",
     "output_type": "stream",
     "text": [
      "{3.69, 4.2, 12, 14, 16, 'datascience', 'code', 'hello', -36, -2}\n",
      "<class 'set'>\n"
     ]
    }
   ],
   "source": [
    "S = {12,14,16,-36,-2,3.69,4.2,\"code\",\"hello\",\"datascience\"}\n",
    "print(S)\n",
    "print(type(S))"
   ]
  },
  {
   "cell_type": "markdown",
   "id": "186c062b",
   "metadata": {},
   "source": [
    "# unordered"
   ]
  },
  {
   "cell_type": "code",
   "execution_count": 2,
   "id": "e885ac7f",
   "metadata": {},
   "outputs": [
    {
     "ename": "TypeError",
     "evalue": "'set' object is not subscriptable",
     "output_type": "error",
     "traceback": [
      "\u001b[1;31m---------------------------------------------------------------------------\u001b[0m",
      "\u001b[1;31mTypeError\u001b[0m                                 Traceback (most recent call last)",
      "Cell \u001b[1;32mIn[2], line 2\u001b[0m\n\u001b[0;32m      1\u001b[0m S \u001b[38;5;241m=\u001b[39m {\u001b[38;5;241m25\u001b[39m,\u001b[38;5;241m24\u001b[39m,\u001b[38;5;241m12\u001b[39m,\u001b[38;5;241m-\u001b[39m\u001b[38;5;241m3\u001b[39m,\u001b[38;5;241m-\u001b[39m\u001b[38;5;241m9\u001b[39m,\u001b[38;5;241m2.36\u001b[39m,\u001b[38;5;124m\"\u001b[39m\u001b[38;5;124mcode\u001b[39m\u001b[38;5;124m\"\u001b[39m,\u001b[38;5;124m\"\u001b[39m\u001b[38;5;124mlearning\u001b[39m\u001b[38;5;124m\"\u001b[39m}\n\u001b[1;32m----> 2\u001b[0m \u001b[38;5;28mprint\u001b[39m(\u001b[43mS\u001b[49m\u001b[43m[\u001b[49m\u001b[38;5;241;43m0\u001b[39;49m\u001b[43m]\u001b[49m)\n",
      "\u001b[1;31mTypeError\u001b[0m: 'set' object is not subscriptable"
     ]
    }
   ],
   "source": [
    "S = {25,24,12,-3,-9,2.36,\"code\",\"learning\"}\n",
    "print(S[0])"
   ]
  },
  {
   "cell_type": "markdown",
   "id": "b3edec19",
   "metadata": {},
   "source": [
    "# duplicates not allowed"
   ]
  },
  {
   "cell_type": "code",
   "execution_count": 5,
   "id": "d648c327",
   "metadata": {
    "scrolled": true
   },
   "outputs": [
    {
     "name": "stdout",
     "output_type": "stream",
     "text": [
      "{23, 78, 12, 14, 15}\n"
     ]
    }
   ],
   "source": [
    "m = {12,14,78,23,14,15,14}\n",
    "print(m)"
   ]
  },
  {
   "cell_type": "code",
   "execution_count": 6,
   "id": "1b20bfaf",
   "metadata": {},
   "outputs": [
    {
     "name": "stdout",
     "output_type": "stream",
     "text": [
      "{2.36, 'apple', 5, 12, 78, 15, 14, 'boat', 23, 'hello'}\n"
     ]
    }
   ],
   "source": [
    "m = {12,14,78,23,14,15,14,2.36,5,2.36,\"hello\",\"boat\",\"hello\",\"apple\"}\n",
    "print(m)"
   ]
  },
  {
   "cell_type": "markdown",
   "id": "1e7ac55d",
   "metadata": {},
   "source": [
    "# get the length of a set"
   ]
  },
  {
   "cell_type": "code",
   "execution_count": 7,
   "id": "d51a6926",
   "metadata": {},
   "outputs": [
    {
     "name": "stdout",
     "output_type": "stream",
     "text": [
      "6\n"
     ]
    }
   ],
   "source": [
    "a = {12,14,15,17,32,65}\n",
    "print(len(a))"
   ]
  },
  {
   "cell_type": "code",
   "execution_count": 8,
   "id": "d445e86d",
   "metadata": {},
   "outputs": [
    {
     "name": "stdout",
     "output_type": "stream",
     "text": [
      "{False, True}\n"
     ]
    }
   ],
   "source": [
    "a = {True, False, True,True}\n",
    "print(a)"
   ]
  },
  {
   "cell_type": "code",
   "execution_count": 9,
   "id": "ec4af5b4",
   "metadata": {},
   "outputs": [
    {
     "name": "stdout",
     "output_type": "stream",
     "text": [
      "{64, 16, 98, 12, 14, 31}\n"
     ]
    }
   ],
   "source": [
    "a = {12,14,16,98,31,64}\n",
    "print(a)"
   ]
  },
  {
   "cell_type": "markdown",
   "id": "2ae1b765",
   "metadata": {},
   "source": [
    "# access items"
   ]
  },
  {
   "cell_type": "code",
   "execution_count": 10,
   "id": "5c954a26",
   "metadata": {},
   "outputs": [
    {
     "name": "stdout",
     "output_type": "stream",
     "text": [
      "apple\n",
      "7.15\n",
      "15.36\n",
      "orange\n",
      "23\n",
      "25\n",
      "27\n",
      "29\n"
     ]
    }
   ],
   "source": [
    "s = {23,25,27,29,15.36,7.15,\"apple\",\"orange\"}\n",
    "for i in s:\n",
    "    print(i)"
   ]
  },
  {
   "cell_type": "code",
   "execution_count": 11,
   "id": "6559c911",
   "metadata": {},
   "outputs": [
    {
     "name": "stdout",
     "output_type": "stream",
     "text": [
      "True\n"
     ]
    }
   ],
   "source": [
    "\"\"\" check if \"apple\" is in the set or not ?\"\"\"\n",
    "s = {23,25,27,29,15.36,7.15,\"apple\",\"orange\"}\n",
    "print(\"apple\" in s)"
   ]
  },
  {
   "cell_type": "code",
   "execution_count": 12,
   "id": "f322f1a4",
   "metadata": {},
   "outputs": [
    {
     "name": "stdout",
     "output_type": "stream",
     "text": [
      "True\n"
     ]
    }
   ],
   "source": [
    "\"\"\" check if \"apple\" is in the set or not ?\"\"\"\n",
    "s = {23,25,27,29,15.36,7.15,\"apple\",\"orange\"}\n",
    "print(23 in s)"
   ]
  },
  {
   "cell_type": "code",
   "execution_count": 13,
   "id": "6180bcda",
   "metadata": {},
   "outputs": [
    {
     "name": "stdout",
     "output_type": "stream",
     "text": [
      "False\n"
     ]
    }
   ],
   "source": [
    "\"\"\" check if \"apple\" is in the set or not ?\"\"\"\n",
    "s = {23,25,27,29,15.36,7.15,\"apple\",\"orange\"}\n",
    "print(\"bat\" in s)"
   ]
  },
  {
   "cell_type": "markdown",
   "id": "9e1fb2e0",
   "metadata": {},
   "source": [
    "# add items"
   ]
  },
  {
   "cell_type": "code",
   "execution_count": 14,
   "id": "4b4211bf",
   "metadata": {},
   "outputs": [
    {
     "name": "stdout",
     "output_type": "stream",
     "text": [
      "{17, 19, 'red', 23, 24, 'orange', 'blue', 'green'}\n"
     ]
    }
   ],
   "source": [
    "a = {23,24,17,19,\"red\",\"blue\",\"green\"}\n",
    "a.add(\"orange\")\n",
    "print(a)"
   ]
  },
  {
   "cell_type": "code",
   "execution_count": 15,
   "id": "0f0a918c",
   "metadata": {},
   "outputs": [
    {
     "name": "stdout",
     "output_type": "stream",
     "text": [
      "{17, 2.36, 19, 'red', 23, 24, 'blue', 'green'}\n"
     ]
    }
   ],
   "source": [
    "a = {23,24,17,19,\"red\",\"blue\",\"green\"}\n",
    "a.add(2.36)\n",
    "print(a)"
   ]
  },
  {
   "cell_type": "code",
   "execution_count": 6,
   "id": "5afd60a7",
   "metadata": {},
   "outputs": [
    {
     "ename": "TypeError",
     "evalue": "unhashable type: 'set'",
     "output_type": "error",
     "traceback": [
      "\u001b[1;31m---------------------------------------------------------------------------\u001b[0m",
      "\u001b[1;31mTypeError\u001b[0m                                 Traceback (most recent call last)",
      "Cell \u001b[1;32mIn[6], line 1\u001b[0m\n\u001b[1;32m----> 1\u001b[0m a \u001b[38;5;241m=\u001b[39m {\u001b[38;5;241m23\u001b[39m,\u001b[38;5;241m24\u001b[39m,\u001b[38;5;241m17\u001b[39m,\u001b[38;5;241m19\u001b[39m,\u001b[38;5;124m\"\u001b[39m\u001b[38;5;124mred\u001b[39m\u001b[38;5;124m\"\u001b[39m,\u001b[38;5;124m\"\u001b[39m\u001b[38;5;124mblue\u001b[39m\u001b[38;5;124m\"\u001b[39m,\u001b[38;5;124m\"\u001b[39m\u001b[38;5;124mgreen\u001b[39m\u001b[38;5;124m\"\u001b[39m,{\u001b[38;5;241m12\u001b[39m,\u001b[38;5;241m32\u001b[39m}}\n\u001b[0;32m      2\u001b[0m \u001b[38;5;28mprint\u001b[39m(a)\n\u001b[0;32m      3\u001b[0m b\u001b[38;5;241m=\u001b[39m{\u001b[38;5;241m21\u001b[39m,\u001b[38;5;241m13\u001b[39m}\n",
      "\u001b[1;31mTypeError\u001b[0m: unhashable type: 'set'"
     ]
    }
   ],
   "source": [
    "a = {23,24,17,19,\"red\",\"blue\",\"green\"}\n",
    "b={21,13}\n",
    "a.add(b)\n",
    "print(a)"
   ]
  },
  {
   "cell_type": "markdown",
   "id": "a058ea71",
   "metadata": {},
   "source": [
    "# update() method"
   ]
  },
  {
   "cell_type": "code",
   "execution_count": 17,
   "id": "8c334582",
   "metadata": {},
   "outputs": [
    {
     "name": "stdout",
     "output_type": "stream",
     "text": [
      "{'blue', 'pink', 'red', -9, -36, 12, 14, 15}\n"
     ]
    }
   ],
   "source": [
    "a = {12,14,15,-36,-9}\n",
    "b = {\"red\",\"blue\",\"pink\"}\n",
    "a.update(b)\n",
    "print(a)"
   ]
  },
  {
   "cell_type": "code",
   "execution_count": 20,
   "id": "b1b81740",
   "metadata": {},
   "outputs": [
    {
     "name": "stdout",
     "output_type": "stream",
     "text": [
      "{0.23, 2.36, -36, 12, 14, 15, 'red', -9, 'blue'}\n",
      "{-9, -36, 12, 14, 15}\n"
     ]
    }
   ],
   "source": [
    "a = {12,14,15,-36,-9}\n",
    "b = {\"red\",\"blue\", 2.36,0.23}\n",
    "b.update(a)\n",
    "print(b)\n",
    "print(a)"
   ]
  },
  {
   "cell_type": "markdown",
   "id": "a73315e3",
   "metadata": {},
   "source": [
    "# remove item\n"
   ]
  },
  {
   "cell_type": "code",
   "execution_count": 21,
   "id": "8722d02b",
   "metadata": {},
   "outputs": [
    {
     "name": "stdout",
     "output_type": "stream",
     "text": [
      "{34, 3, 9, 15, 23, -8, 28, -2}\n"
     ]
    }
   ],
   "source": [
    "a = {23,28,34,15,3,2.36,9,-8,-2}\n",
    "a.remove(2.36)\n",
    "print(a)"
   ]
  },
  {
   "cell_type": "code",
   "execution_count": 22,
   "id": "76268437",
   "metadata": {},
   "outputs": [
    {
     "name": "stdout",
     "output_type": "stream",
     "text": [
      "{34, 3, 2.36, 'west', -8, 9, 15, 'east', 23, 'north', 28, -2}\n"
     ]
    }
   ],
   "source": [
    "a = {23,28,34,15,3,2.36,9,-8,-2,\"north\",\"south\",\"east\",\"west\"}\n",
    "a.remove(\"south\")\n",
    "print(a)"
   ]
  },
  {
   "cell_type": "markdown",
   "id": "2d3fe3b5",
   "metadata": {},
   "source": [
    "# discard() method"
   ]
  },
  {
   "cell_type": "code",
   "execution_count": 23,
   "id": "9998e819",
   "metadata": {},
   "outputs": [
    {
     "name": "stdout",
     "output_type": "stream",
     "text": [
      "{34, 3, 2.36, 'west', 'north', 9, 15, 'east', 23, -8, 28, -2}\n"
     ]
    }
   ],
   "source": [
    "a = {23,28,34,15,3,2.36,9,-8,-2,\"north\",\"south\",\"east\",\"west\"}\n",
    "a.discard(\"south\")\n",
    "print(a)"
   ]
  },
  {
   "cell_type": "code",
   "execution_count": 24,
   "id": "850ca935",
   "metadata": {},
   "outputs": [
    {
     "name": "stdout",
     "output_type": "stream",
     "text": [
      "{'south', 34, 3, 'west', 'north', 9, 15, 'east', 23, -8, 28, -2}\n"
     ]
    }
   ],
   "source": [
    "a = {23,28,34,15,3,2.36,9,-8,-2,\"north\",\"south\",\"east\",\"west\"}\n",
    "a.discard(2.36)\n",
    "print(a)"
   ]
  },
  {
   "cell_type": "code",
   "execution_count": 25,
   "id": "677e6d84",
   "metadata": {},
   "outputs": [
    {
     "ename": "TypeError",
     "evalue": "set.discard() takes exactly one argument (2 given)",
     "output_type": "error",
     "traceback": [
      "\u001b[1;31m---------------------------------------------------------------------------\u001b[0m",
      "\u001b[1;31mTypeError\u001b[0m                                 Traceback (most recent call last)",
      "\u001b[1;32m~\\AppData\\Local\\Temp\\ipykernel_16004\\3487421547.py\u001b[0m in \u001b[0;36m<module>\u001b[1;34m\u001b[0m\n\u001b[0;32m      1\u001b[0m \u001b[0ma\u001b[0m \u001b[1;33m=\u001b[0m \u001b[1;33m{\u001b[0m\u001b[1;36m23\u001b[0m\u001b[1;33m,\u001b[0m\u001b[1;36m28\u001b[0m\u001b[1;33m,\u001b[0m\u001b[1;36m34\u001b[0m\u001b[1;33m,\u001b[0m\u001b[1;36m15\u001b[0m\u001b[1;33m,\u001b[0m\u001b[1;36m3\u001b[0m\u001b[1;33m,\u001b[0m\u001b[1;36m2.36\u001b[0m\u001b[1;33m,\u001b[0m\u001b[1;36m9\u001b[0m\u001b[1;33m,\u001b[0m\u001b[1;33m-\u001b[0m\u001b[1;36m8\u001b[0m\u001b[1;33m,\u001b[0m\u001b[1;33m-\u001b[0m\u001b[1;36m2\u001b[0m\u001b[1;33m,\u001b[0m\u001b[1;34m\"north\"\u001b[0m\u001b[1;33m,\u001b[0m\u001b[1;34m\"south\"\u001b[0m\u001b[1;33m,\u001b[0m\u001b[1;34m\"east\"\u001b[0m\u001b[1;33m,\u001b[0m\u001b[1;34m\"west\"\u001b[0m\u001b[1;33m}\u001b[0m\u001b[1;33m\u001b[0m\u001b[1;33m\u001b[0m\u001b[0m\n\u001b[1;32m----> 2\u001b[1;33m \u001b[0ma\u001b[0m\u001b[1;33m.\u001b[0m\u001b[0mdiscard\u001b[0m\u001b[1;33m(\u001b[0m\u001b[1;34m\"south\"\u001b[0m\u001b[1;33m,\u001b[0m \u001b[1;34m\"east\"\u001b[0m\u001b[1;33m)\u001b[0m\u001b[1;33m\u001b[0m\u001b[1;33m\u001b[0m\u001b[0m\n\u001b[0m\u001b[0;32m      3\u001b[0m \u001b[0mprint\u001b[0m\u001b[1;33m(\u001b[0m\u001b[0ma\u001b[0m\u001b[1;33m)\u001b[0m\u001b[1;33m\u001b[0m\u001b[1;33m\u001b[0m\u001b[0m\n",
      "\u001b[1;31mTypeError\u001b[0m: set.discard() takes exactly one argument (2 given)"
     ]
    }
   ],
   "source": [
    "a = {23,28,34,15,3,2.36,9,-8,-2,\"north\",\"south\",\"east\",\"west\"}\n",
    "a.discard(\"south\", \"east\")\n",
    "print(a)\n"
   ]
  },
  {
   "cell_type": "code",
   "execution_count": 26,
   "id": "96fe905d",
   "metadata": {},
   "outputs": [
    {
     "ename": "TypeError",
     "evalue": "set.remove() takes exactly one argument (2 given)",
     "output_type": "error",
     "traceback": [
      "\u001b[1;31m---------------------------------------------------------------------------\u001b[0m",
      "\u001b[1;31mTypeError\u001b[0m                                 Traceback (most recent call last)",
      "\u001b[1;32m~\\AppData\\Local\\Temp\\ipykernel_16004\\734654581.py\u001b[0m in \u001b[0;36m<module>\u001b[1;34m\u001b[0m\n\u001b[0;32m      1\u001b[0m \u001b[0ma\u001b[0m \u001b[1;33m=\u001b[0m \u001b[1;33m{\u001b[0m\u001b[1;36m23\u001b[0m\u001b[1;33m,\u001b[0m\u001b[1;36m28\u001b[0m\u001b[1;33m,\u001b[0m\u001b[1;36m34\u001b[0m\u001b[1;33m,\u001b[0m\u001b[1;36m15\u001b[0m\u001b[1;33m,\u001b[0m\u001b[1;36m3\u001b[0m\u001b[1;33m,\u001b[0m\u001b[1;36m2.36\u001b[0m\u001b[1;33m,\u001b[0m\u001b[1;36m9\u001b[0m\u001b[1;33m,\u001b[0m\u001b[1;33m-\u001b[0m\u001b[1;36m8\u001b[0m\u001b[1;33m,\u001b[0m\u001b[1;33m-\u001b[0m\u001b[1;36m2\u001b[0m\u001b[1;33m,\u001b[0m\u001b[1;34m\"north\"\u001b[0m\u001b[1;33m,\u001b[0m\u001b[1;34m\"south\"\u001b[0m\u001b[1;33m,\u001b[0m\u001b[1;34m\"east\"\u001b[0m\u001b[1;33m,\u001b[0m\u001b[1;34m\"west\"\u001b[0m\u001b[1;33m}\u001b[0m\u001b[1;33m\u001b[0m\u001b[1;33m\u001b[0m\u001b[0m\n\u001b[1;32m----> 2\u001b[1;33m \u001b[0ma\u001b[0m\u001b[1;33m.\u001b[0m\u001b[0mremove\u001b[0m\u001b[1;33m(\u001b[0m\u001b[1;34m\"south\"\u001b[0m\u001b[1;33m,\u001b[0m \u001b[1;34m\"east\"\u001b[0m\u001b[1;33m)\u001b[0m\u001b[1;33m\u001b[0m\u001b[1;33m\u001b[0m\u001b[0m\n\u001b[0m\u001b[0;32m      3\u001b[0m \u001b[0mprint\u001b[0m\u001b[1;33m(\u001b[0m\u001b[0ma\u001b[0m\u001b[1;33m)\u001b[0m\u001b[1;33m\u001b[0m\u001b[1;33m\u001b[0m\u001b[0m\n",
      "\u001b[1;31mTypeError\u001b[0m: set.remove() takes exactly one argument (2 given)"
     ]
    }
   ],
   "source": [
    "a = {23,28,34,15,3,2.36,9,-8,-2,\"north\",\"south\",\"east\",\"west\"}\n",
    "a.remove(\"south\", \"east\")\n",
    "print(a)\n"
   ]
  },
  {
   "cell_type": "markdown",
   "id": "9656d71e",
   "metadata": {},
   "source": [
    "# pop() method"
   ]
  },
  {
   "cell_type": "code",
   "execution_count": 29,
   "id": "409fd4eb",
   "metadata": {},
   "outputs": [
    {
     "name": "stdout",
     "output_type": "stream",
     "text": [
      "{2.36, 56, -8, 12, 78, 'hello', 'world', 90}\n"
     ]
    }
   ],
   "source": [
    "a = {12,34,56,78,90,2.36,-8,\"hello\",\"world\"}\n",
    "a.pop()\n",
    "print(a)"
   ]
  },
  {
   "cell_type": "code",
   "execution_count": 31,
   "id": "04e15c19",
   "metadata": {},
   "outputs": [
    {
     "name": "stdout",
     "output_type": "stream",
     "text": [
      "{2.36, 56, 5.69, 7.8, -8, 12, 78, 'red', 'hello', 'world', 90}\n"
     ]
    }
   ],
   "source": [
    "a = {12,34,56,78,90,2.36,-8,\"hello\",\"world\", \"red\", 5.69,7.8}\n",
    "a.pop()\n",
    "print(a)"
   ]
  },
  {
   "cell_type": "markdown",
   "id": "40b8873a",
   "metadata": {},
   "source": [
    "# clear() method"
   ]
  },
  {
   "cell_type": "code",
   "execution_count": 33,
   "id": "e46def8a",
   "metadata": {},
   "outputs": [
    {
     "name": "stdout",
     "output_type": "stream",
     "text": [
      "set()\n",
      "<class 'set'>\n"
     ]
    }
   ],
   "source": [
    "a = {23,14,15,0,-8,-2,\"red\",\"data\",\"ball\"}\n",
    "a.clear()\n",
    "print(a)\n",
    "print(type(a))"
   ]
  },
  {
   "cell_type": "markdown",
   "id": "429ecd24",
   "metadata": {},
   "source": [
    "# del() method"
   ]
  },
  {
   "cell_type": "code",
   "execution_count": 34,
   "id": "6b27709a",
   "metadata": {},
   "outputs": [
    {
     "ename": "NameError",
     "evalue": "name 'a' is not defined",
     "output_type": "error",
     "traceback": [
      "\u001b[1;31m---------------------------------------------------------------------------\u001b[0m",
      "\u001b[1;31mNameError\u001b[0m                                 Traceback (most recent call last)",
      "\u001b[1;32m~\\AppData\\Local\\Temp\\ipykernel_16004\\1662306370.py\u001b[0m in \u001b[0;36m<module>\u001b[1;34m\u001b[0m\n\u001b[0;32m      1\u001b[0m \u001b[0ma\u001b[0m \u001b[1;33m=\u001b[0m \u001b[1;33m{\u001b[0m\u001b[1;36m25\u001b[0m\u001b[1;33m,\u001b[0m\u001b[1;36m14\u001b[0m\u001b[1;33m,\u001b[0m\u001b[1;36m7\u001b[0m\u001b[1;33m,\u001b[0m\u001b[1;36m2\u001b[0m\u001b[1;33m,\u001b[0m\u001b[1;36m3\u001b[0m\u001b[1;33m}\u001b[0m\u001b[1;33m\u001b[0m\u001b[1;33m\u001b[0m\u001b[0m\n\u001b[0;32m      2\u001b[0m \u001b[1;32mdel\u001b[0m\u001b[1;33m(\u001b[0m\u001b[0ma\u001b[0m\u001b[1;33m)\u001b[0m\u001b[1;33m\u001b[0m\u001b[1;33m\u001b[0m\u001b[0m\n\u001b[1;32m----> 3\u001b[1;33m \u001b[0mprint\u001b[0m\u001b[1;33m(\u001b[0m\u001b[0ma\u001b[0m\u001b[1;33m)\u001b[0m\u001b[1;33m\u001b[0m\u001b[1;33m\u001b[0m\u001b[0m\n\u001b[0m",
      "\u001b[1;31mNameError\u001b[0m: name 'a' is not defined"
     ]
    }
   ],
   "source": [
    "a = {25,14,7,2,3}\n",
    "del(a)\n",
    "print(a)"
   ]
  },
  {
   "cell_type": "markdown",
   "id": "d830c5bb",
   "metadata": {},
   "source": [
    "# python - join sets"
   ]
  },
  {
   "cell_type": "code",
   "execution_count": 36,
   "id": "165fa1d4",
   "metadata": {},
   "outputs": [
    {
     "ename": "TypeError",
     "evalue": "unsupported operand type(s) for +: 'set' and 'set'",
     "output_type": "error",
     "traceback": [
      "\u001b[1;31m---------------------------------------------------------------------------\u001b[0m",
      "\u001b[1;31mTypeError\u001b[0m                                 Traceback (most recent call last)",
      "\u001b[1;32m~\\AppData\\Local\\Temp\\ipykernel_16004\\433315105.py\u001b[0m in \u001b[0;36m<module>\u001b[1;34m\u001b[0m\n\u001b[0;32m      1\u001b[0m \u001b[0ma\u001b[0m \u001b[1;33m=\u001b[0m \u001b[1;33m{\u001b[0m\u001b[1;36m12\u001b[0m\u001b[1;33m,\u001b[0m\u001b[1;36m14\u001b[0m\u001b[1;33m,\u001b[0m\u001b[1;36m16\u001b[0m\u001b[1;33m,\u001b[0m\u001b[1;36m18\u001b[0m\u001b[1;33m}\u001b[0m\u001b[1;33m\u001b[0m\u001b[1;33m\u001b[0m\u001b[0m\n\u001b[0;32m      2\u001b[0m \u001b[0mb\u001b[0m \u001b[1;33m=\u001b[0m \u001b[1;33m{\u001b[0m\u001b[1;36m5\u001b[0m\u001b[1;33m,\u001b[0m\u001b[1;36m6\u001b[0m\u001b[1;33m,\u001b[0m\u001b[1;36m7\u001b[0m\u001b[1;33m,\u001b[0m\u001b[1;36m8\u001b[0m\u001b[1;33m}\u001b[0m\u001b[1;33m\u001b[0m\u001b[1;33m\u001b[0m\u001b[0m\n\u001b[1;32m----> 3\u001b[1;33m \u001b[0mc\u001b[0m \u001b[1;33m=\u001b[0m \u001b[1;33m(\u001b[0m\u001b[0ma\u001b[0m\u001b[1;33m+\u001b[0m\u001b[0mb\u001b[0m\u001b[1;33m)\u001b[0m\u001b[1;33m\u001b[0m\u001b[1;33m\u001b[0m\u001b[0m\n\u001b[0m\u001b[0;32m      4\u001b[0m \u001b[0mprint\u001b[0m\u001b[1;33m(\u001b[0m\u001b[0mc\u001b[0m\u001b[1;33m)\u001b[0m\u001b[1;33m\u001b[0m\u001b[1;33m\u001b[0m\u001b[0m\n",
      "\u001b[1;31mTypeError\u001b[0m: unsupported operand type(s) for +: 'set' and 'set'"
     ]
    }
   ],
   "source": [
    "a = {12,14,16,18}\n",
    "b = {5,6,7,8}\n",
    "c = (a+b)\n",
    "print(c)"
   ]
  },
  {
   "cell_type": "markdown",
   "id": "72f64984",
   "metadata": {},
   "source": [
    "# union method"
   ]
  },
  {
   "cell_type": "code",
   "execution_count": 37,
   "id": "29630780",
   "metadata": {},
   "outputs": [
    {
     "name": "stdout",
     "output_type": "stream",
     "text": [
      "{16, 18, 12, 14}\n",
      "{8, 5, 6, 7}\n",
      "{5, 6, 7, 8, 12, 14, 16, 18}\n"
     ]
    }
   ],
   "source": [
    "a = {12,14,16,18}\n",
    "b = {5,6,7,8}\n",
    "c = a.union(b)\n",
    "print(a)\n",
    "print(b)\n",
    "print(c)"
   ]
  },
  {
   "cell_type": "code",
   "execution_count": 38,
   "id": "88286376",
   "metadata": {},
   "outputs": [
    {
     "name": "stdout",
     "output_type": "stream",
     "text": [
      "{16, 2.36, 18, 12, 14}\n",
      "{5, 6, 7, 8, 'hello', 'python'}\n",
      "{2.36, 5, 6, 7, 8, 12, 14, 16, 18, 'hello', 'python'}\n"
     ]
    }
   ],
   "source": [
    "a = {12,14,16,18,2.36}\n",
    "b = {5,6,7,8,\"hello\",\"python\"}\n",
    "c = a.union(b)\n",
    "print(a)\n",
    "print(b)\n",
    "print(c)"
   ]
  },
  {
   "cell_type": "markdown",
   "id": "83f90bdf",
   "metadata": {},
   "source": [
    "# difference between union and update method"
   ]
  },
  {
   "cell_type": "code",
   "execution_count": 39,
   "id": "24b9ba2d",
   "metadata": {},
   "outputs": [
    {
     "name": "stdout",
     "output_type": "stream",
     "text": [
      "{1, 2, 3, 4, 5, 6}\n"
     ]
    }
   ],
   "source": [
    "\"\"\" update method\"\"\"\n",
    "a = {1,2,3}\n",
    "b={4,5,6}\n",
    "a.update(b)\n",
    "print(a)"
   ]
  },
  {
   "cell_type": "code",
   "execution_count": 40,
   "id": "7ad3afda",
   "metadata": {},
   "outputs": [
    {
     "name": "stdout",
     "output_type": "stream",
     "text": [
      "None\n"
     ]
    }
   ],
   "source": [
    "a = {1,2,3}\n",
    "b={4,5,6}\n",
    "c = a.update(b)\n",
    "print(c)"
   ]
  },
  {
   "cell_type": "code",
   "execution_count": 7,
   "id": "35728317",
   "metadata": {},
   "outputs": [
    {
     "name": "stdout",
     "output_type": "stream",
     "text": [
      "{1, 2, 3, 4, 5, 6}\n"
     ]
    },
    {
     "data": {
      "text/plain": [
       "{1, 2, 3}"
      ]
     },
     "execution_count": 7,
     "metadata": {},
     "output_type": "execute_result"
    }
   ],
   "source": [
    "a = {1,2,3}\n",
    "b={4,5,6}\n",
    "c = a.union(b)\n",
    "print(c)\n",
    "a"
   ]
  },
  {
   "cell_type": "markdown",
   "id": "eceb9be2",
   "metadata": {},
   "source": [
    "# intersection_update() method"
   ]
  },
  {
   "cell_type": "code",
   "execution_count": 43,
   "id": "14d8e198",
   "metadata": {},
   "outputs": [
    {
     "name": "stdout",
     "output_type": "stream",
     "text": [
      "{24, 'cherry', 23}\n"
     ]
    }
   ],
   "source": [
    "a = {23,24,25,26,\"apple\",\"cherry\"}\n",
    "b = {18,24,23,\"cherry\"}\n",
    "a.intersection_update(b)\n",
    "print(a)"
   ]
  },
  {
   "cell_type": "code",
   "execution_count": 45,
   "id": "14ede80a",
   "metadata": {},
   "outputs": [
    {
     "name": "stdout",
     "output_type": "stream",
     "text": [
      "{24, 'cherry', 23}\n"
     ]
    }
   ],
   "source": [
    "a = {23,24,25,26,\"apple\",\"cherry\"}\n",
    "b = {18,24,23,\"cherry\"}\n",
    "b.intersection_update(a)\n",
    "print(b)"
   ]
  },
  {
   "cell_type": "code",
   "execution_count": 48,
   "id": "9e69b502",
   "metadata": {},
   "outputs": [
    {
     "name": "stdout",
     "output_type": "stream",
     "text": [
      "None\n"
     ]
    }
   ],
   "source": [
    "a = {23,24,25,26,\"apple\",\"cherry\"}\n",
    "b = {18,24,23,\"cherry\"}\n",
    "c = b.intersection_update(a)\n",
    "print(c)"
   ]
  },
  {
   "cell_type": "markdown",
   "id": "856faea3",
   "metadata": {},
   "source": [
    "# intersection() method"
   ]
  },
  {
   "cell_type": "code",
   "execution_count": 49,
   "id": "d79cef64",
   "metadata": {},
   "outputs": [
    {
     "name": "stdout",
     "output_type": "stream",
     "text": [
      "{24, 'cherry', 23}\n"
     ]
    }
   ],
   "source": [
    "a = {23,24,25,26,\"apple\",\"cherry\"}\n",
    "b = {18,24,23,\"cherry\"}\n",
    "c = b.intersection(a)\n",
    "print(c)"
   ]
  },
  {
   "cell_type": "code",
   "execution_count": 51,
   "id": "b4a8e6ba",
   "metadata": {},
   "outputs": [
    {
     "name": "stdout",
     "output_type": "stream",
     "text": [
      "{2.36, 5.6}\n"
     ]
    }
   ],
   "source": [
    "m = {2.36,2.3,4.5,5.6,6.9}\n",
    "n = {2.36,5.6,1.2}\n",
    "r = m.intersection(n)\n",
    "print(r)"
   ]
  },
  {
   "cell_type": "markdown",
   "id": "e28a4aca",
   "metadata": {},
   "source": [
    "# difference() method"
   ]
  },
  {
   "cell_type": "code",
   "execution_count": 52,
   "id": "5a4af58d",
   "metadata": {},
   "outputs": [
    {
     "name": "stdout",
     "output_type": "stream",
     "text": [
      "{13, 'bombay', 15, 16, 'chennai'}\n"
     ]
    }
   ],
   "source": [
    "\"\"\" return a set that contains the items that only exist in set x not in set y\"\"\"\n",
    "x = {12,13,14,15,16,\"delhi\", \"bombay\",\"chennai\"}\n",
    "y = {10,11,12,14,\"delhi\"}\n",
    "c = x.difference(y)\n",
    "print(c)"
   ]
  },
  {
   "cell_type": "code",
   "execution_count": 53,
   "id": "b377518f",
   "metadata": {},
   "outputs": [
    {
     "name": "stdout",
     "output_type": "stream",
     "text": [
      "{10, 11}\n"
     ]
    }
   ],
   "source": [
    "x = {12,13,14,15,16,\"delhi\", \"bombay\",\"chennai\"}\n",
    "y = {10,11,12,14,\"delhi\"}\n",
    "c = y.difference(x)\n",
    "print(c)"
   ]
  },
  {
   "cell_type": "markdown",
   "id": "5f5f15df",
   "metadata": {},
   "source": [
    "# difference_update() method"
   ]
  },
  {
   "cell_type": "code",
   "execution_count": 54,
   "id": "5740e763",
   "metadata": {},
   "outputs": [
    {
     "name": "stdout",
     "output_type": "stream",
     "text": [
      "{18, 19, 20, 'hello', 'class'}\n"
     ]
    }
   ],
   "source": [
    "\"\"\" remove the items that exist in both sets\"\"\"\n",
    "a = {17,18,19,20,\"hello\",\"coding\",\"class\"}\n",
    "b = {17,\"coding\"}\n",
    "a.difference_update(b)\n",
    "print(a)"
   ]
  },
  {
   "cell_type": "code",
   "execution_count": 55,
   "id": "3ddcbee9",
   "metadata": {},
   "outputs": [
    {
     "name": "stdout",
     "output_type": "stream",
     "text": [
      "{17, 18, 19, 20, 'hello', 'coding', 'class'}\n"
     ]
    }
   ],
   "source": [
    "a = {17,18,19,20,\"hello\",\"coding\",\"class\"}\n",
    "b = {17,\"coding\"}\n",
    "b.difference_update(a)\n",
    "print(a)"
   ]
  },
  {
   "cell_type": "markdown",
   "id": "cc3ff258",
   "metadata": {},
   "source": [
    "# symmetric_difference_update() method\n",
    "The symmetric_difference_update() method will keep only the elements that are NOT present in both sets."
   ]
  },
  {
   "cell_type": "code",
   "execution_count": 56,
   "id": "06adb3e8",
   "metadata": {},
   "outputs": [
    {
     "name": "stdout",
     "output_type": "stream",
     "text": [
      "{'apple', 18, 19, 24, 25, 26, 93}\n"
     ]
    }
   ],
   "source": [
    "a = {23,24,25,26,\"apple\",\"cherry\"}\n",
    "b = {18,19,23,93,\"cherry\"}\n",
    "a.symmetric_difference_update(b)\n",
    "print(a)"
   ]
  },
  {
   "cell_type": "code",
   "execution_count": 57,
   "id": "35d7c801",
   "metadata": {},
   "outputs": [
    {
     "name": "stdout",
     "output_type": "stream",
     "text": [
      "{'apple', 18, 19, 24, 25, 26, 93}\n"
     ]
    }
   ],
   "source": [
    "a = {23,24,25,26,\"apple\",\"cherry\"}\n",
    "b = {18,19,23,93,\"cherry\"}\n",
    "b.symmetric_difference_update(a)\n",
    "print(b)"
   ]
  },
  {
   "cell_type": "markdown",
   "id": "ca35cfaa",
   "metadata": {},
   "source": [
    "# symmetric_difference() method\n",
    "\"\"\" The symmetric_difference() method will return a new set, that contains only the elements that are NOT present in both sets. \"\"\""
   ]
  },
  {
   "cell_type": "code",
   "execution_count": 58,
   "id": "49914ec9",
   "metadata": {},
   "outputs": [
    {
     "name": "stdout",
     "output_type": "stream",
     "text": [
      "{'apple', 18, 19, 24, 25, 26, 93}\n"
     ]
    }
   ],
   "source": [
    "a = {23,24,25,26,\"apple\",\"cherry\"}\n",
    "b = {18,19,23,93,\"cherry\"}\n",
    "c = a.symmetric_difference(b)\n",
    "print(c)"
   ]
  },
  {
   "cell_type": "code",
   "execution_count": 59,
   "id": "f54c040c",
   "metadata": {},
   "outputs": [
    {
     "name": "stdout",
     "output_type": "stream",
     "text": [
      "{'apple', 18, 19, 24, 25, 26, 93}\n"
     ]
    }
   ],
   "source": [
    "a = {23,24,25,26,\"apple\",\"cherry\"}\n",
    "b = {18,19,23,93,\"cherry\"}\n",
    "c = b.symmetric_difference(a)\n",
    "print(c)"
   ]
  },
  {
   "cell_type": "markdown",
   "id": "70925417",
   "metadata": {},
   "source": [
    "# isdisjoint method\n",
    "return True if no item in set x is present in set y"
   ]
  },
  {
   "cell_type": "code",
   "execution_count": 1,
   "id": "3eb057b5",
   "metadata": {},
   "outputs": [
    {
     "name": "stdout",
     "output_type": "stream",
     "text": [
      "True\n"
     ]
    }
   ],
   "source": [
    "x = {12,14,1,6,18,\"hello\",\"class\"}\n",
    "y = {10,23,25,27}\n",
    "z = x.isdisjoint(y)\n",
    "print(z)"
   ]
  },
  {
   "cell_type": "code",
   "execution_count": 2,
   "id": "6748414a",
   "metadata": {},
   "outputs": [
    {
     "name": "stdout",
     "output_type": "stream",
     "text": [
      "True\n"
     ]
    }
   ],
   "source": [
    "x = {12,14,1,6,18,\"hello\",\"class\"}\n",
    "y = {10,23,25,27}\n",
    "z = y.isdisjoint(x)\n",
    "print(z)"
   ]
  },
  {
   "cell_type": "code",
   "execution_count": 3,
   "id": "871c294a",
   "metadata": {},
   "outputs": [
    {
     "name": "stdout",
     "output_type": "stream",
     "text": [
      "False\n"
     ]
    }
   ],
   "source": [
    "x = {12,14,1,6,18,\"hello\",\"class\"}\n",
    "y = {10,23,25,12}\n",
    "z = y.isdisjoint(x)\n",
    "print(z)"
   ]
  },
  {
   "cell_type": "markdown",
   "id": "911e12ae",
   "metadata": {},
   "source": [
    "# issubset() method\n",
    "\tReturns whether another set contains this set or not"
   ]
  },
  {
   "cell_type": "code",
   "execution_count": 4,
   "id": "e5ca2251",
   "metadata": {},
   "outputs": [
    {
     "name": "stdout",
     "output_type": "stream",
     "text": [
      "True\n"
     ]
    }
   ],
   "source": [
    "x = {1,2,3,4,5,6}\n",
    "y = {10,12,13,14,1,2,3,4,5,6}\n",
    "c = x.issubset(y)\n",
    "print(c)"
   ]
  },
  {
   "cell_type": "code",
   "execution_count": 5,
   "id": "2782b192",
   "metadata": {},
   "outputs": [
    {
     "name": "stdout",
     "output_type": "stream",
     "text": [
      "False\n"
     ]
    }
   ],
   "source": [
    "x = {1,2,3,4,5,6}\n",
    "y = {10,12,13,14,1,2,3,4,5,6}\n",
    "c = y.issubset(x)\n",
    "print(c)"
   ]
  },
  {
   "cell_type": "code",
   "execution_count": 6,
   "id": "157b701c",
   "metadata": {},
   "outputs": [
    {
     "name": "stdout",
     "output_type": "stream",
     "text": [
      "True\n"
     ]
    }
   ],
   "source": [
    "x = {1,2,3,4,5,6}\n",
    "y = {1,2,3,4,5,6}\n",
    "c = y.issubset(x)\n",
    "print(c)"
   ]
  },
  {
   "cell_type": "code",
   "execution_count": 7,
   "id": "9cc07eb0",
   "metadata": {},
   "outputs": [
    {
     "name": "stdout",
     "output_type": "stream",
     "text": [
      "True\n"
     ]
    }
   ],
   "source": [
    "x = {1,2,3,4,5,6}\n",
    "y = {1,2,3,4,5,6}\n",
    "c = x.issubset(y)\n",
    "print(c)"
   ]
  },
  {
   "cell_type": "markdown",
   "id": "69a68dfa",
   "metadata": {},
   "source": [
    "# issuperset() method\n",
    "Return True if all items set y are present in set x:"
   ]
  },
  {
   "cell_type": "code",
   "execution_count": 11,
   "id": "599979f8",
   "metadata": {},
   "outputs": [
    {
     "name": "stdout",
     "output_type": "stream",
     "text": [
      "True\n"
     ]
    }
   ],
   "source": [
    "x = {\"apple\", \"cherry\",\"north\",\"south\",\"python\",1,2,3}\n",
    "y = {\"apple\",1,2,3,\"north\"}\n",
    "z = x.issuperset(y)\n",
    "print(z)"
   ]
  },
  {
   "cell_type": "code",
   "execution_count": 12,
   "id": "9acd7b82",
   "metadata": {},
   "outputs": [
    {
     "name": "stdout",
     "output_type": "stream",
     "text": [
      "False\n"
     ]
    }
   ],
   "source": [
    "x = {\"apple\", \"cherry\",\"north\",\"south\",\"python\",1,2,3}\n",
    "y = {\"apple\",1,2,3,\"north\"}\n",
    "z = y.issuperset(x)\n",
    "print(z)"
   ]
  },
  {
   "cell_type": "code",
   "execution_count": 13,
   "id": "e5659112",
   "metadata": {},
   "outputs": [
    {
     "name": "stdout",
     "output_type": "stream",
     "text": [
      "True\n"
     ]
    }
   ],
   "source": [
    "p = {1,2,3}\n",
    "q ={1,2,3}\n",
    "c = p.issuperset(q)\n",
    "print(c)"
   ]
  },
  {
   "cell_type": "code",
   "execution_count": 14,
   "id": "79961eb0",
   "metadata": {},
   "outputs": [
    {
     "name": "stdout",
     "output_type": "stream",
     "text": [
      "True\n"
     ]
    }
   ],
   "source": [
    "p = {1,2,3}\n",
    "q ={1,2,3}\n",
    "c = q.issuperset(p)\n",
    "print(c)"
   ]
  },
  {
   "cell_type": "code",
   "execution_count": 17,
   "id": "38781ce5",
   "metadata": {},
   "outputs": [
    {
     "name": "stdout",
     "output_type": "stream",
     "text": [
      "{3}\n",
      "<class 'set'>\n"
     ]
    }
   ],
   "source": [
    "s = {3}\n",
    "print(s)\n",
    "print(type(s))"
   ]
  },
  {
   "cell_type": "code",
   "execution_count": 18,
   "id": "e777a842",
   "metadata": {},
   "outputs": [
    {
     "name": "stdout",
     "output_type": "stream",
     "text": [
      "{}\n",
      "<class 'dict'>\n"
     ]
    }
   ],
   "source": [
    "a = {}\n",
    "print(a)\n",
    "print(type(a))"
   ]
  },
  {
   "cell_type": "code",
   "execution_count": 19,
   "id": "2cc74134",
   "metadata": {},
   "outputs": [
    {
     "name": "stdout",
     "output_type": "stream",
     "text": [
      "set()\n",
      "<class 'set'>\n"
     ]
    }
   ],
   "source": [
    "a = set()\n",
    "print(a)\n",
    "print(type(a))"
   ]
  },
  {
   "cell_type": "markdown",
   "id": "748c8eb6",
   "metadata": {},
   "source": [
    "# set() function"
   ]
  },
  {
   "cell_type": "code",
   "execution_count": 20,
   "id": "e8d071de",
   "metadata": {},
   "outputs": [
    {
     "name": "stdout",
     "output_type": "stream",
     "text": [
      "[12, 14, 16, 18]\n",
      "<class 'list'>\n",
      "{16, 18, 12, 14}\n",
      "<class 'set'>\n"
     ]
    }
   ],
   "source": [
    "L = [12,14,16,18]\n",
    "S = set(L)\n",
    "print(L)\n",
    "print(type(L))\n",
    "print(S)\n",
    "print(type(S))"
   ]
  },
  {
   "cell_type": "code",
   "execution_count": 21,
   "id": "ec533087",
   "metadata": {},
   "outputs": [
    {
     "name": "stdout",
     "output_type": "stream",
     "text": [
      "{16, 18, 12, 45}\n",
      "<class 'set'>\n",
      "[16, 18, 12, 45]\n",
      "<class 'list'>\n"
     ]
    }
   ],
   "source": [
    "s= {12,18,16,45}\n",
    "l = list(s)\n",
    "print(s)\n",
    "print(type(s))\n",
    "print(l)\n",
    "print(type(l))"
   ]
  },
  {
   "cell_type": "code",
   "execution_count": 22,
   "id": "dcb93568",
   "metadata": {},
   "outputs": [
    {
     "name": "stdout",
     "output_type": "stream",
     "text": [
      "(10, 12, 15, 17)\n",
      "<class 'tuple'>\n",
      "{17, 10, 12, 15}\n",
      "<class 'set'>\n"
     ]
    }
   ],
   "source": [
    "t = (10,12,15,17)\n",
    "s = set(t)\n",
    "print(t)\n",
    "print(type(t))\n",
    "print(s)\n",
    "print(type(s))"
   ]
  },
  {
   "cell_type": "code",
   "execution_count": 23,
   "id": "4677753e",
   "metadata": {},
   "outputs": [
    {
     "name": "stdout",
     "output_type": "stream",
     "text": [
      "{17, 19, 12, 14}\n",
      "<class 'set'>\n",
      "(17, 19, 12, 14)\n",
      "<class 'tuple'>\n"
     ]
    }
   ],
   "source": [
    "s = {12,14,17,19}\n",
    "t = tuple(s)\n",
    "print(s)\n",
    "print(type(s))\n",
    "print(t)\n",
    "print(type(t))"
   ]
  },
  {
   "cell_type": "markdown",
   "id": "43674f9c",
   "metadata": {},
   "source": [
    "# min in set "
   ]
  },
  {
   "cell_type": "code",
   "execution_count": 24,
   "id": "17818763",
   "metadata": {},
   "outputs": [
    {
     "name": "stdout",
     "output_type": "stream",
     "text": [
      "12\n"
     ]
    }
   ],
   "source": [
    "p = {12,18,24,27}\n",
    "print(min(p))"
   ]
  },
  {
   "cell_type": "code",
   "execution_count": 25,
   "id": "eb2d336f",
   "metadata": {},
   "outputs": [
    {
     "name": "stdout",
     "output_type": "stream",
     "text": [
      "boy\n"
     ]
    }
   ],
   "source": [
    "p = {\"boy\",\"cat\",\"fan\",\"python\"}\n",
    "print(min(p))"
   ]
  },
  {
   "cell_type": "markdown",
   "id": "a7734330",
   "metadata": {},
   "source": [
    "# max in set"
   ]
  },
  {
   "cell_type": "code",
   "execution_count": 26,
   "id": "0b0ac62a",
   "metadata": {},
   "outputs": [
    {
     "name": "stdout",
     "output_type": "stream",
     "text": [
      "27\n"
     ]
    }
   ],
   "source": [
    "p = {12,18,24,27}\n",
    "print(max(p))"
   ]
  },
  {
   "cell_type": "code",
   "execution_count": 27,
   "id": "c15cdae9",
   "metadata": {},
   "outputs": [
    {
     "name": "stdout",
     "output_type": "stream",
     "text": [
      "python\n"
     ]
    }
   ],
   "source": [
    "p = {\"boy\",\"cat\",\"fan\",\"python\"}\n",
    "print(max(p))"
   ]
  },
  {
   "cell_type": "markdown",
   "id": "896a095a",
   "metadata": {},
   "source": [
    "# copy method"
   ]
  },
  {
   "cell_type": "markdown",
   "id": "bf233335",
   "metadata": {},
   "source": [
    "# why you need copy method ?"
   ]
  },
  {
   "cell_type": "code",
   "execution_count": 28,
   "id": "ced506fc",
   "metadata": {},
   "outputs": [
    {
     "name": "stdout",
     "output_type": "stream",
     "text": [
      "{21, 53, 7, 8, 10, 12, 60}\n",
      "{21, 53, 7, 8, 10, 12, 60}\n"
     ]
    }
   ],
   "source": [
    "a = {12,7,8,60,53,21}\n",
    "b = a\n",
    "a.add(10)\n",
    "print(a)\n",
    "print(b)"
   ]
  },
  {
   "cell_type": "code",
   "execution_count": 29,
   "id": "d3d4c525",
   "metadata": {},
   "outputs": [
    {
     "name": "stdout",
     "output_type": "stream",
     "text": [
      "{21, 53, 7, 8, 10, 12, 60}\n",
      "{21, 53, 7, 8, 12, 60}\n"
     ]
    }
   ],
   "source": [
    "a = {12,7,8,60,53,21}\n",
    "b = a.copy()\n",
    "a.add(10)\n",
    "print(a)\n",
    "print(b)"
   ]
  },
  {
   "cell_type": "code",
   "execution_count": 31,
   "id": "1c6e5bbd",
   "metadata": {},
   "outputs": [
    {
     "name": "stdout",
     "output_type": "stream",
     "text": [
      "{3, 4, 5, 7, 8, 9}\n",
      "{1, 2, 3, 4, 5}\n",
      "{3, 4, 5}\n",
      "[3, 4, 5]\n"
     ]
    }
   ],
   "source": [
    "\"\"\" intersection of 2 lists \"\"\"\n",
    "a = [3,4,5,7,8,9]\n",
    "b = [1,2,3,4,5]\n",
    "a1 = set(a)\n",
    "b1= set(b)\n",
    "print(a1)\n",
    "print(b1)\n",
    "c = a1.intersection(b1)\n",
    "print(c)\n",
    "c = list(c)\n",
    "print(c)"
   ]
  },
  {
   "cell_type": "code",
   "execution_count": 32,
   "id": "37560285",
   "metadata": {},
   "outputs": [
    {
     "name": "stdout",
     "output_type": "stream",
     "text": [
      "enter the number of items you want in set5\n",
      "enter elements :40\n",
      "enter elements :45\n",
      "enter elements :50\n",
      "enter elements :55\n",
      "enter elements :60\n",
      "{'55', '45', '40', '60', '50'}\n"
     ]
    }
   ],
   "source": [
    "\"\"\" taking input in set from user\"\"\"\n",
    "a = set()\n",
    "n = int(input(\"enter the number of items you want in set\"))\n",
    "for i in range(n):\n",
    "    b = input(\"enter elements :\")\n",
    "    a.add(b)\n",
    "print(a)"
   ]
  },
  {
   "cell_type": "code",
   "execution_count": 33,
   "id": "db1f0250",
   "metadata": {},
   "outputs": [
    {
     "name": "stdout",
     "output_type": "stream",
     "text": [
      "enter the number of items you want in set10\n",
      "enter elements :12\n",
      "enter elements :13\n",
      "enter elements :14\n",
      "enter elements :15\n",
      "enter elements :16\n",
      "enter elements :17\n",
      "enter elements :18\n",
      "enter elements :19\n",
      "enter elements :20\n",
      "enter elements :21\n",
      "{'20', '18', '13', '15', '17', '16', '19', '14', '12', '21'}\n"
     ]
    }
   ],
   "source": [
    "\"\"\" taking input in set from user\"\"\"\n",
    "a = set()\n",
    "n = int(input(\"enter the number of items you want in set\"))\n",
    "for i in range(n):\n",
    "    b = input(\"enter elements :\")\n",
    "    a.add(b)\n",
    "print(a)"
   ]
  },
  {
   "cell_type": "code",
   "execution_count": 39,
   "id": "b28022e8",
   "metadata": {},
   "outputs": [
    {
     "name": "stdout",
     "output_type": "stream",
     "text": [
      "{1, 5, 40, 10, 80, 20}\n",
      "{100, 6, 7, 80, 20}\n",
      "{3, 4, 70, 15, 80, 20, 120, 30}\n",
      "{80, 20}\n",
      "{80, 20}\n",
      "[80, 20]\n"
     ]
    }
   ],
   "source": [
    "\"\"\"python program to find the common items in 3 list using sets  \"\"\"\n",
    "\n",
    "ar1 = [1,5,10,20,40,80]\n",
    "ar2 = [6,7,20,80,100]\n",
    "ar3 = [3,4,15,20,30,70,80,120]\n",
    "ar1 = set(ar1)\n",
    "ar2 = set(ar2)\n",
    "ar3 = set(ar3)\n",
    "print(ar1)\n",
    "print(ar2)\n",
    "print(ar3)\n",
    "n = ar1.intersection(ar2)\n",
    "print(n)\n",
    "m = n.intersection(ar3)\n",
    "print(m)\n",
    "print(list(m))"
   ]
  },
  {
   "cell_type": "code",
   "execution_count": null,
   "id": "41785f46",
   "metadata": {},
   "outputs": [],
   "source": []
  }
 ],
 "metadata": {
  "kernelspec": {
   "display_name": "Python 3 (ipykernel)",
   "language": "python",
   "name": "python3"
  },
  "language_info": {
   "codemirror_mode": {
    "name": "ipython",
    "version": 3
   },
   "file_extension": ".py",
   "mimetype": "text/x-python",
   "name": "python",
   "nbconvert_exporter": "python",
   "pygments_lexer": "ipython3",
   "version": "3.10.9"
  }
 },
 "nbformat": 4,
 "nbformat_minor": 5
}
