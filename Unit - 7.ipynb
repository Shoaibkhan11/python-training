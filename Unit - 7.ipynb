{
 "cells": [
  {
   "cell_type": "markdown",
   "id": "17c29d46",
   "metadata": {},
   "source": [
    "# Unit - 7"
   ]
  },
  {
   "cell_type": "markdown",
   "id": "11abc220",
   "metadata": {},
   "source": [
    "# Strings in Python"
   ]
  },
  {
   "cell_type": "code",
   "execution_count": 7,
   "id": "78e9861b",
   "metadata": {},
   "outputs": [
    {
     "name": "stdout",
     "output_type": "stream",
     "text": [
      "In data science python is very important to learn and python is very easy to learn\n"
     ]
    }
   ],
   "source": [
    "s = \"In data science python is very important to learn\"\n",
    "t = \" and python is very easy to learn\"\n",
    "print(s+t)"
   ]
  },
  {
   "cell_type": "code",
   "execution_count": 2,
   "id": "5f831038",
   "metadata": {},
   "outputs": [
    {
     "name": "stdout",
     "output_type": "stream",
     "text": [
      "hellohellohellohellohello\n"
     ]
    }
   ],
   "source": [
    "x = \"hello\"\n",
    "print(x*5)"
   ]
  },
  {
   "cell_type": "code",
   "execution_count": 1,
   "id": "6c580086",
   "metadata": {},
   "outputs": [
    {
     "name": "stdout",
     "output_type": "stream",
     "text": [
      "dogdogdogdogdog\n"
     ]
    }
   ],
   "source": [
    "a =\"dog\"\n",
    "print(a * 5)"
   ]
  },
  {
   "cell_type": "code",
   "execution_count": 10,
   "id": "c8c6d09e",
   "metadata": {},
   "outputs": [
    {
     "name": "stdout",
     "output_type": "stream",
     "text": [
      "<class 'int'>\n"
     ]
    }
   ],
   "source": [
    "x = 45\n",
    "print(type(x))"
   ]
  },
  {
   "cell_type": "code",
   "execution_count": 11,
   "id": "3fe64b41",
   "metadata": {},
   "outputs": [
    {
     "name": "stdout",
     "output_type": "stream",
     "text": [
      "45\n",
      "<class 'str'>\n"
     ]
    }
   ],
   "source": [
    "x = str(x)\n",
    "print(x)\n",
    "print(type(x))"
   ]
  },
  {
   "cell_type": "code",
   "execution_count": 1,
   "id": "aeccb921",
   "metadata": {},
   "outputs": [
    {
     "name": "stdout",
     "output_type": "stream",
     "text": [
      "the price of the book   is  12\n"
     ]
    }
   ],
   "source": [
    "price = 12\n",
    "m = \"the price of the book \"\n",
    "print(m, \" is \", price)"
   ]
  },
  {
   "cell_type": "markdown",
   "id": "2430df80",
   "metadata": {},
   "source": [
    "# multiline string|"
   ]
  },
  {
   "cell_type": "code",
   "execution_count": 13,
   "id": "1dd9d889",
   "metadata": {},
   "outputs": [],
   "source": [
    "m = \" hello howw are you \""
   ]
  },
  {
   "cell_type": "code",
   "execution_count": 14,
   "id": "dcd4bd46",
   "metadata": {},
   "outputs": [
    {
     "name": "stdout",
     "output_type": "stream",
     "text": [
      " This is python class\n",
      "we are learning the basics to advanced python\n",
      "python is a high level programming language \n"
     ]
    }
   ],
   "source": [
    "a = \"\"\" This is python class\n",
    "we are learning the basics to advanced python\n",
    "python is a high level programming language \"\"\"\n",
    "print(a)"
   ]
  },
  {
   "cell_type": "code",
   "execution_count": 15,
   "id": "5c62931b",
   "metadata": {},
   "outputs": [
    {
     "name": "stdout",
     "output_type": "stream",
     "text": [
      "This is all about the strings\n",
      "        a: does nothing\n",
      "        b: does something\n",
      "        c:does everything \n"
     ]
    }
   ],
   "source": [
    "print(\"\"\"This is all about the strings\n",
    "        a: does nothing\n",
    "        b: does something\n",
    "        c:does everything \"\"\")"
   ]
  },
  {
   "cell_type": "code",
   "execution_count": 20,
   "id": "291dd184",
   "metadata": {},
   "outputs": [
    {
     "ename": "TypeError",
     "evalue": "'str' object does not support item assignment",
     "output_type": "error",
     "traceback": [
      "\u001b[1;31m---------------------------------------------------------------------------\u001b[0m",
      "\u001b[1;31mTypeError\u001b[0m                                 Traceback (most recent call last)",
      "\u001b[1;32m~\\AppData\\Local\\Temp\\ipykernel_6836\\1180367343.py\u001b[0m in \u001b[0;36m<module>\u001b[1;34m\u001b[0m\n\u001b[0;32m      1\u001b[0m \u001b[0ma\u001b[0m \u001b[1;33m=\u001b[0m \u001b[1;34m\"Delhi is an amazing place\"\u001b[0m\u001b[1;33m\u001b[0m\u001b[1;33m\u001b[0m\u001b[0m\n\u001b[1;32m----> 2\u001b[1;33m \u001b[0ma\u001b[0m\u001b[1;33m[\u001b[0m\u001b[1;36m0\u001b[0m\u001b[1;33m]\u001b[0m \u001b[1;33m=\u001b[0m \u001b[1;34m\"M\"\u001b[0m\u001b[1;33m\u001b[0m\u001b[1;33m\u001b[0m\u001b[0m\n\u001b[0m\u001b[0;32m      3\u001b[0m \u001b[0mprint\u001b[0m\u001b[1;33m(\u001b[0m\u001b[0ma\u001b[0m\u001b[1;33m)\u001b[0m\u001b[1;33m\u001b[0m\u001b[1;33m\u001b[0m\u001b[0m\n",
      "\u001b[1;31mTypeError\u001b[0m: 'str' object does not support item assignment"
     ]
    }
   ],
   "source": [
    "a = \"Delhi is an amazing place\"\n",
    "a[0] = \"M\"\n",
    "print(a)"
   ]
  },
  {
   "cell_type": "markdown",
   "id": "f5fe149c",
   "metadata": {},
   "source": [
    "# Indexing and Slicing on strings"
   ]
  },
  {
   "cell_type": "code",
   "execution_count": 3,
   "id": "285a45a4",
   "metadata": {},
   "outputs": [
    {
     "name": "stdout",
     "output_type": "stream",
     "text": [
      "s\n"
     ]
    }
   ],
   "source": [
    "s = \"why are you so worried about your exams ?\"\n",
    "print(s[12])\n"
   ]
  },
  {
   "cell_type": "code",
   "execution_count": 2,
   "id": "c865d108",
   "metadata": {},
   "outputs": [
    {
     "name": "stdout",
     "output_type": "stream",
     "text": [
      "i am swat\n"
     ]
    }
   ],
   "source": [
    "a = \"hello i am swati and i am going to teach you python\"\n",
    "print(a[6:15])"
   ]
  },
  {
   "cell_type": "code",
   "execution_count": 4,
   "id": "9bb60521",
   "metadata": {},
   "outputs": [
    {
     "name": "stdout",
     "output_type": "stream",
     "text": [
      "hlocas\n"
     ]
    }
   ],
   "source": [
    "a = \"hello class\"\n",
    "print(a[::2])"
   ]
  },
  {
   "cell_type": "code",
   "execution_count": null,
   "id": "fe1aa556",
   "metadata": {},
   "outputs": [],
   "source": [
    "aa"
   ]
  },
  {
   "cell_type": "code",
   "execution_count": 1,
   "id": "707f5227",
   "metadata": {},
   "outputs": [
    {
     "name": "stdout",
     "output_type": "stream",
     "text": [
      "ell\n"
     ]
    }
   ],
   "source": [
    "s = \"hello students\"\n",
    "print(s[1:4])"
   ]
  },
  {
   "cell_type": "code",
   "execution_count": 9,
   "id": "efebb4aa",
   "metadata": {},
   "outputs": [
    {
     "name": "stdout",
     "output_type": "stream",
     "text": [
      "u\n"
     ]
    }
   ],
   "source": [
    "s = \"why are you so worried about your exams ?\"\n",
    "print(s[10])\n"
   ]
  },
  {
   "cell_type": "code",
   "execution_count": 10,
   "id": "1082a64b",
   "metadata": {},
   "outputs": [
    {
     "name": "stdout",
     "output_type": "stream",
     "text": [
      "41\n"
     ]
    }
   ],
   "source": [
    "s = \"why are you so worried about your exams ?\"\n",
    "print(len(s))\n"
   ]
  },
  {
   "cell_type": "code",
   "execution_count": 11,
   "id": "cf75d326",
   "metadata": {},
   "outputs": [
    {
     "name": "stdout",
     "output_type": "stream",
     "text": [
      "?\n"
     ]
    }
   ],
   "source": [
    "print(s[40])"
   ]
  },
  {
   "cell_type": "code",
   "execution_count": 12,
   "id": "5c798a19",
   "metadata": {},
   "outputs": [
    {
     "name": "stdout",
     "output_type": "stream",
     "text": [
      "why\n"
     ]
    }
   ],
   "source": [
    "s = \"why are you so worried about your exams ?\"\n",
    "print(s[0:3])"
   ]
  },
  {
   "cell_type": "code",
   "execution_count": 4,
   "id": "5a484e50",
   "metadata": {},
   "outputs": [
    {
     "name": "stdout",
     "output_type": "stream",
     "text": [
      "why are\n"
     ]
    }
   ],
   "source": [
    "s = \"why are you so worried about your exams ?\"\n",
    "print(s[0:7])"
   ]
  },
  {
   "cell_type": "code",
   "execution_count": 15,
   "id": "7ac26faf",
   "metadata": {},
   "outputs": [
    {
     "name": "stdout",
     "output_type": "stream",
     "text": [
      "y are you so wo\n"
     ]
    }
   ],
   "source": [
    "s = \"why are you so worried about your exams ?\"\n",
    "print(s[2:17])"
   ]
  },
  {
   "cell_type": "code",
   "execution_count": 16,
   "id": "fa3aa43f",
   "metadata": {},
   "outputs": [
    {
     "name": "stdout",
     "output_type": "stream",
     "text": [
      "?\n"
     ]
    }
   ],
   "source": [
    "s = \"why are you so worried about your exams ?\"\n",
    "print(s[-1])"
   ]
  },
  {
   "cell_type": "code",
   "execution_count": 17,
   "id": "22196dbb",
   "metadata": {},
   "outputs": [
    {
     "name": "stdout",
     "output_type": "stream",
     "text": [
      "m\n"
     ]
    }
   ],
   "source": [
    "s = \"why are you so worried about your exams ?\"\n",
    "print(s[-4])"
   ]
  },
  {
   "cell_type": "code",
   "execution_count": 19,
   "id": "a8b3deb1",
   "metadata": {},
   "outputs": [
    {
     "name": "stdout",
     "output_type": "stream",
     "text": [
      "o\n"
     ]
    }
   ],
   "source": [
    "print(s[-11])"
   ]
  },
  {
   "cell_type": "code",
   "execution_count": 20,
   "id": "3fbb07b4",
   "metadata": {},
   "outputs": [
    {
     "data": {
      "text/plain": [
       "'why are you so worried about your exams ?'"
      ]
     },
     "execution_count": 20,
     "metadata": {},
     "output_type": "execute_result"
    }
   ],
   "source": [
    "s"
   ]
  },
  {
   "cell_type": "code",
   "execution_count": 21,
   "id": "8a4c1024",
   "metadata": {},
   "outputs": [
    {
     "data": {
      "text/plain": [
       "'e you so worried about your exam'"
      ]
     },
     "execution_count": 21,
     "metadata": {},
     "output_type": "execute_result"
    }
   ],
   "source": [
    "s[-35:-3]"
   ]
  },
  {
   "cell_type": "code",
   "execution_count": 22,
   "id": "0ba7eea4",
   "metadata": {},
   "outputs": [
    {
     "data": {
      "text/plain": [
       "' so worried about your exams '"
      ]
     },
     "execution_count": 22,
     "metadata": {},
     "output_type": "execute_result"
    }
   ],
   "source": [
    "s[-30:-1]"
   ]
  },
  {
   "cell_type": "code",
   "execution_count": 23,
   "id": "762742a6",
   "metadata": {},
   "outputs": [
    {
     "data": {
      "text/plain": [
       "'why are you so worried about your exams ?'"
      ]
     },
     "execution_count": 23,
     "metadata": {},
     "output_type": "execute_result"
    }
   ],
   "source": [
    "s"
   ]
  },
  {
   "cell_type": "code",
   "execution_count": 24,
   "id": "7aa40c32",
   "metadata": {},
   "outputs": [
    {
     "data": {
      "text/plain": [
       "'wyaeyus '"
      ]
     },
     "execution_count": 24,
     "metadata": {},
     "output_type": "execute_result"
    }
   ],
   "source": [
    "s[0:15:2]"
   ]
  },
  {
   "cell_type": "code",
   "execution_count": 25,
   "id": "69f25be9",
   "metadata": {},
   "outputs": [
    {
     "data": {
      "text/plain": [
       "'yry  r'"
      ]
     },
     "execution_count": 25,
     "metadata": {},
     "output_type": "execute_result"
    }
   ],
   "source": [
    "s[2:20:3]"
   ]
  },
  {
   "cell_type": "code",
   "execution_count": 26,
   "id": "a69410bc",
   "metadata": {},
   "outputs": [
    {
     "data": {
      "text/plain": [
       "'why are you so worried about your exams ?'"
      ]
     },
     "execution_count": 26,
     "metadata": {},
     "output_type": "execute_result"
    }
   ],
   "source": [
    "s"
   ]
  },
  {
   "cell_type": "code",
   "execution_count": 28,
   "id": "24d715ca",
   "metadata": {},
   "outputs": [
    {
     "data": {
      "text/plain": [
       "' eoswrdb'"
      ]
     },
     "execution_count": 28,
     "metadata": {},
     "output_type": "execute_result"
    }
   ],
   "source": [
    "s[3:26:3]"
   ]
  },
  {
   "cell_type": "code",
   "execution_count": 29,
   "id": "09a8ec3c",
   "metadata": {},
   "outputs": [
    {
     "data": {
      "text/plain": [
       "'why are you so worried about your exams ?'"
      ]
     },
     "execution_count": 29,
     "metadata": {},
     "output_type": "execute_result"
    }
   ],
   "source": [
    "s"
   ]
  },
  {
   "cell_type": "code",
   "execution_count": 30,
   "id": "28008db5",
   "metadata": {},
   "outputs": [
    {
     "data": {
      "text/plain": [
       "'why are you '"
      ]
     },
     "execution_count": 30,
     "metadata": {},
     "output_type": "execute_result"
    }
   ],
   "source": [
    "s[:12]"
   ]
  },
  {
   "cell_type": "code",
   "execution_count": 31,
   "id": "b28b647b",
   "metadata": {},
   "outputs": [
    {
     "data": {
      "text/plain": [
       "' are you so worried about your exams ?'"
      ]
     },
     "execution_count": 31,
     "metadata": {},
     "output_type": "execute_result"
    }
   ],
   "source": [
    "s[3:]"
   ]
  },
  {
   "cell_type": "code",
   "execution_count": 32,
   "id": "4f5a57aa",
   "metadata": {},
   "outputs": [
    {
     "data": {
      "text/plain": [
       "'why are you so worried about your exams ?'"
      ]
     },
     "execution_count": 32,
     "metadata": {},
     "output_type": "execute_result"
    }
   ],
   "source": [
    "s"
   ]
  },
  {
   "cell_type": "code",
   "execution_count": 33,
   "id": "e67579fb",
   "metadata": {},
   "outputs": [
    {
     "data": {
      "text/plain": [
       "'? smaxe ruoy tuoba deirrow os uoy era yhw'"
      ]
     },
     "execution_count": 33,
     "metadata": {},
     "output_type": "execute_result"
    }
   ],
   "source": [
    "s[::-1]"
   ]
  },
  {
   "cell_type": "code",
   "execution_count": 34,
   "id": "919d58f0",
   "metadata": {},
   "outputs": [
    {
     "name": "stdout",
     "output_type": "stream",
     "text": [
      "24\n",
      "35\n",
      "35\n",
      "16\n"
     ]
    }
   ],
   "source": [
    "\"\"\" by usinng a,b,c,and d form a string apples ornages mangoes are fruits\"\"\"\n",
    "\n",
    "a = \"Apples are red in colour\"\n",
    "b = \"Oranges are sweet and sour in taste\"\n",
    "c =\"Mangoes are rich source of Vitamins\"\n",
    "d =\"These are fruits\"\n",
    "\n",
    "print(len(a))\n",
    "print(len(b))\n",
    "print(len(c))\n",
    "print(len(d))"
   ]
  },
  {
   "cell_type": "code",
   "execution_count": 39,
   "id": "4cbe1ff5",
   "metadata": {},
   "outputs": [
    {
     "name": "stdout",
     "output_type": "stream",
     "text": [
      "24\n",
      "35\n",
      "35\n",
      "16\n",
      "Apples\n",
      "Oranges\n",
      "Mangoes\n",
      "are fruits\n",
      "Apples Oranges Mangoes are fruits\n"
     ]
    }
   ],
   "source": [
    "\"\"\" by usinng a,b,c,and d form a string apples ornages mangoes are fruits\"\"\"\n",
    "\n",
    "a = \"Apples are red in colour\"\n",
    "b = \"Oranges are sweet and sour in taste\"\n",
    "c =\"Mangoes are rich source of Vitamins\"\n",
    "d =\"These are fruits\"\n",
    "\n",
    "print(len(a))\n",
    "print(len(b))\n",
    "print(len(c))\n",
    "print(len(d))\n",
    "print(a[:6])\n",
    "print(b[:7])\n",
    "print(c[:7])\n",
    "print(d[-10:])\n",
    "x = print(a[:6], b[:7], c[:7], d[-10:])"
   ]
  },
  {
   "cell_type": "code",
   "execution_count": 40,
   "id": "b0dd0b3f",
   "metadata": {},
   "outputs": [
    {
     "name": "stdout",
     "output_type": "stream",
     "text": [
      "None\n"
     ]
    }
   ],
   "source": [
    "print(x)"
   ]
  },
  {
   "cell_type": "code",
   "execution_count": 43,
   "id": "9e42ce05",
   "metadata": {},
   "outputs": [
    {
     "name": "stdout",
     "output_type": "stream",
     "text": [
      "hello how are you\n"
     ]
    }
   ],
   "source": [
    "x = \"hello how are you\"\n",
    "print(x)"
   ]
  },
  {
   "cell_type": "code",
   "execution_count": 45,
   "id": "fe3e93bb",
   "metadata": {},
   "outputs": [
    {
     "name": "stdout",
     "output_type": "stream",
     "text": [
      "uoy era woh olleh\n"
     ]
    }
   ],
   "source": [
    "print(x[::-1])"
   ]
  },
  {
   "cell_type": "markdown",
   "id": "ba057325",
   "metadata": {},
   "source": [
    "# strip() method"
   ]
  },
  {
   "cell_type": "code",
   "execution_count": 1,
   "id": "74346a52",
   "metadata": {},
   "outputs": [
    {
     "name": "stdout",
     "output_type": "stream",
     "text": [
      "time is precious\n"
     ]
    }
   ],
   "source": [
    "a = \"      time is precious     \"\n",
    "b = a.strip()\n",
    "print(b)\n"
   ]
  },
  {
   "cell_type": "code",
   "execution_count": 2,
   "id": "b53144f9",
   "metadata": {},
   "outputs": [
    {
     "name": "stdout",
     "output_type": "stream",
     "text": [
      "      time is precious     \n"
     ]
    }
   ],
   "source": [
    "print(a)"
   ]
  },
  {
   "cell_type": "code",
   "execution_count": 3,
   "id": "f733b551",
   "metadata": {},
   "outputs": [
    {
     "name": "stdout",
     "output_type": "stream",
     "text": [
      "time is precious       don't waste it\n"
     ]
    }
   ],
   "source": [
    "a= \"     time is precious       don't waste it           \"\n",
    "b = a.strip()\n",
    "print(b)"
   ]
  },
  {
   "cell_type": "markdown",
   "id": "3276ce62",
   "metadata": {},
   "source": [
    "# Lower() method"
   ]
  },
  {
   "cell_type": "code",
   "execution_count": 7,
   "id": "3659edb9",
   "metadata": {},
   "outputs": [
    {
     "name": "stdout",
     "output_type": "stream",
     "text": [
      " how are you doing ?\n",
      " HoW ARe YoU DOInG ?\n"
     ]
    }
   ],
   "source": [
    "a = \" HoW ARe YoU DOInG ?\"\n",
    "b = a.lower()\n",
    "print(b)\n",
    "print(a)"
   ]
  },
  {
   "cell_type": "code",
   "execution_count": 8,
   "id": "d18f3001",
   "metadata": {},
   "outputs": [
    {
     "name": "stdout",
     "output_type": "stream",
     "text": [
      "how are you doing?\n"
     ]
    }
   ],
   "source": [
    "a = \"how are you doing? \"\n",
    "print(a.strip())"
   ]
  },
  {
   "cell_type": "code",
   "execution_count": 13,
   "id": "9acaa116",
   "metadata": {},
   "outputs": [
    {
     "name": "stdout",
     "output_type": "stream",
     "text": [
      "hello hope you are wellwhats your plan for sunday?\n"
     ]
    }
   ],
   "source": [
    "a = \"HeLLO Hope YOu aRE WeLL\"\n",
    "b =\"wHATS Your PLAN For SunDAY?\"\n",
    "print(a.lower() + b.lower())\n"
   ]
  },
  {
   "cell_type": "markdown",
   "id": "2f0ab56f",
   "metadata": {},
   "source": [
    "# Upper() method"
   ]
  },
  {
   "cell_type": "code",
   "execution_count": 14,
   "id": "5462abbb",
   "metadata": {},
   "outputs": [
    {
     "name": "stdout",
     "output_type": "stream",
     "text": [
      " PRACTICE MAKES MAN PERFECT\n"
     ]
    }
   ],
   "source": [
    "p = \" PracTICE MAkes MAN Perfect\"\n",
    "print(p.upper())"
   ]
  },
  {
   "cell_type": "code",
   "execution_count": 15,
   "id": "1f66fc2f",
   "metadata": {},
   "outputs": [
    {
     "name": "stdout",
     "output_type": "stream",
     "text": [
      " PRACTICE MAKES MAN PERFECT SO LETS PRACTICE SOME QUESTIONS OF PYTHON \n"
     ]
    }
   ],
   "source": [
    "p = \" PracTICE MAkes MAN Perfect\" \n",
    "q = \"so lets practice some questions of python \"\n",
    "print(p.upper() + \" \" + q.upper())"
   ]
  },
  {
   "cell_type": "code",
   "execution_count": 3,
   "id": "f4c93a46",
   "metadata": {},
   "outputs": [
    {
     "name": "stdout",
     "output_type": "stream",
     "text": [
      "Honesty is the best Policy\n",
      "HONEST MAN IS ALWAYS GOOD\n",
      "We APPREciate HONesty\n",
      "honesty is the best policy honest man is always good we appreciate honesty\n"
     ]
    }
   ],
   "source": [
    "x = \"           Honesty is the best Policy          \"\n",
    "y = \"                           HONEST MAN IS ALWAYS GOOD\"\n",
    "z = \" We APPREciate HONesty           \"\n",
    "m = x.strip()\n",
    "n = y.strip()\n",
    "o = z.strip()\n",
    "print(m)\n",
    "print(n)\n",
    "print(o)\n",
    "print(m.lower() + \" \" + n.lower() + \" \" + o.lower())\n"
   ]
  },
  {
   "cell_type": "markdown",
   "id": "f5c4d317",
   "metadata": {},
   "source": [
    "# replace() method"
   ]
  },
  {
   "cell_type": "code",
   "execution_count": 3,
   "id": "8b21bf01",
   "metadata": {},
   "outputs": [
    {
     "name": "stdout",
     "output_type": "stream",
     "text": [
      " hey how are you?\n",
      " hello how are you?\n"
     ]
    }
   ],
   "source": [
    "a = \" hello how are you?\"\n",
    "print(a.replace(\"hello\", \"hey\"))\n",
    "print(a)"
   ]
  },
  {
   "cell_type": "code",
   "execution_count": 9,
   "id": "aa49e289",
   "metadata": {},
   "outputs": [
    {
     "name": "stdout",
     "output_type": "stream",
     "text": [
      " maths  - 28 /  30\n",
      "science - 27 /  30\n",
      "social - 23 /  30\n",
      "science - 25 /  30 \n",
      "english - 24 /  30\n"
     ]
    }
   ],
   "source": [
    "a = \"\"\" maths  - 28 out of 30\n",
    "science - 27 out of 30\n",
    "social - 23 out of 30\n",
    "science - 25 out of 30 \n",
    "english - 24 out of 30\"\"\"\n",
    "print(a.replace(\"out of\", \"/ \"))"
   ]
  },
  {
   "cell_type": "code",
   "execution_count": 10,
   "id": "88c8781a",
   "metadata": {},
   "outputs": [
    {
     "name": "stdout",
     "output_type": "stream",
     "text": [
      " skills  are rerquired for getting the job  that's why  i am learning   python\n"
     ]
    }
   ],
   "source": [
    "p = \" skills, are rerquired for getting the job, that's why, i am learning , python\"\n",
    "print(p.replace(\",\", \" \"))"
   ]
  },
  {
   "cell_type": "code",
   "execution_count": 16,
   "id": "b08ffbc2",
   "metadata": {},
   "outputs": [
    {
     "name": "stdout",
     "output_type": "stream",
     "text": [
      " Do you have any extra pencil? If you have, please give me three \n"
     ]
    }
   ],
   "source": [
    "m = \" Do you have any extra pen?\"\n",
    "n = \" If you have, please give me two \"\n",
    "print(m.replace(\"pen\",\"pencil\") + n.replace(\"two\",\"three\"))\n"
   ]
  },
  {
   "cell_type": "markdown",
   "id": "9c69e324",
   "metadata": {},
   "source": [
    "# split() method"
   ]
  },
  {
   "cell_type": "code",
   "execution_count": 35,
   "id": "feb6ee09",
   "metadata": {},
   "outputs": [
    {
     "name": "stdout",
     "output_type": "stream",
     "text": [
      "<class 'str'>\n"
     ]
    }
   ],
   "source": [
    "a = \"this is - the class of - python basics - to advanced - 123\"\n",
    "print(type(a))"
   ]
  },
  {
   "cell_type": "code",
   "execution_count": 37,
   "id": "17f8ca79",
   "metadata": {},
   "outputs": [
    {
     "name": "stdout",
     "output_type": "stream",
     "text": [
      "['this is ', ' the class of ', ' python basics ', ' to advanced ', ' 123']\n",
      "[' 123', ' python basics ', ' the class of ', ' to advanced ', 'this is ']\n"
     ]
    }
   ],
   "source": [
    "a = \"this is . the class of . python basics . to advanced . 123\"\n",
    "b = a.split(\".\")\n",
    "print(b)\n",
    "b.sort()\n",
    "print(b)"
   ]
  },
  {
   "cell_type": "code",
   "execution_count": 38,
   "id": "caaf11b8",
   "metadata": {},
   "outputs": [
    {
     "name": "stdout",
     "output_type": "stream",
     "text": [
      "<class 'list'>\n"
     ]
    }
   ],
   "source": [
    "print(type(b))"
   ]
  },
  {
   "cell_type": "code",
   "execution_count": 27,
   "id": "7093516a",
   "metadata": {},
   "outputs": [
    {
     "name": "stdout",
     "output_type": "stream",
     "text": [
      "[' red', ' blue', 'green ', ' pink', ' are the colours off the ball']\n",
      "<class 'str'>\n",
      "<class 'list'>\n"
     ]
    }
   ],
   "source": [
    "a = \" red, blue,green , pink, are the colours off the ball\"\n",
    "b = a.split(\",\")\n",
    "print(b)\n",
    "print(type(a))\n",
    "print(type(b))"
   ]
  },
  {
   "cell_type": "code",
   "execution_count": 28,
   "id": "ef43b7f7",
   "metadata": {},
   "outputs": [
    {
     "name": "stdout",
     "output_type": "stream",
     "text": [
      " red\n"
     ]
    }
   ],
   "source": [
    "print(b[0])"
   ]
  },
  {
   "cell_type": "code",
   "execution_count": 29,
   "id": "3a9b150b",
   "metadata": {},
   "outputs": [
    {
     "name": "stdout",
     "output_type": "stream",
     "text": [
      " pink\n"
     ]
    }
   ],
   "source": [
    "print(b[3])"
   ]
  },
  {
   "cell_type": "code",
   "execution_count": 30,
   "id": "412cf23a",
   "metadata": {},
   "outputs": [
    {
     "name": "stdout",
     "output_type": "stream",
     "text": [
      " are the colours off the ball\n"
     ]
    }
   ],
   "source": [
    "print(b[4])"
   ]
  },
  {
   "cell_type": "code",
   "execution_count": 33,
   "id": "7c01902a",
   "metadata": {},
   "outputs": [
    {
     "name": "stdout",
     "output_type": "stream",
     "text": [
      "[' red ', ' blue ', ' green ', ' pin ', '  are the colours ', 'f the ball']\n",
      "<class 'str'>\n",
      "<class 'list'>\n"
     ]
    }
   ],
   "source": [
    "a = \" red of blue of green of pin of  are the colours off the ball\"\n",
    "b = a.split(\"of\")\n",
    "print(b)\n",
    "print(type(a))\n",
    "print(type(b))"
   ]
  },
  {
   "cell_type": "markdown",
   "id": "a3214044",
   "metadata": {},
   "source": [
    "# capitalize() method"
   ]
  },
  {
   "cell_type": "code",
   "execution_count": 4,
   "id": "b556f0cc",
   "metadata": {},
   "outputs": [
    {
     "name": "stdout",
     "output_type": "stream",
     "text": [
      "Earth revolves around the sun\n"
     ]
    }
   ],
   "source": [
    "a = \"earth Revolves around the sun\"\n",
    "print(a.capitalize())"
   ]
  },
  {
   "cell_type": "code",
   "execution_count": 37,
   "id": "7c224104",
   "metadata": {},
   "outputs": [
    {
     "name": "stdout",
     "output_type": "stream",
     "text": [
      "Earth revolves around the sun Moon is so beautiful\n"
     ]
    }
   ],
   "source": [
    "a = \"earth revolves around the sun\"\n",
    "b =\"moon is so beautiful\"\n",
    "print(a.capitalize() + \" \"+b.capitalize())"
   ]
  },
  {
   "cell_type": "markdown",
   "id": "a271a8e8",
   "metadata": {},
   "source": [
    "# title() method"
   ]
  },
  {
   "cell_type": "code",
   "execution_count": 26,
   "id": "efd7777c",
   "metadata": {},
   "outputs": [
    {
     "name": "stdout",
     "output_type": "stream",
     "text": [
      "India Is A Beautiful Conutry\n"
     ]
    }
   ],
   "source": [
    "a = \"india is a beautiful conutry\"\n",
    "print(a.title())"
   ]
  },
  {
   "cell_type": "code",
   "execution_count": 27,
   "id": "30ed4b5f",
   "metadata": {},
   "outputs": [
    {
     "name": "stdout",
     "output_type": "stream",
     "text": [
      "Earth Revolves Around The Sun\n"
     ]
    }
   ],
   "source": [
    "b = \"earth RevolveS arounD The sun\"\n",
    "print(b.title())"
   ]
  },
  {
   "cell_type": "code",
   "execution_count": 28,
   "id": "d2904b6d",
   "metadata": {},
   "outputs": [
    {
     "name": "stdout",
     "output_type": "stream",
     "text": [
      "earth RevolveS arounD a sun\n",
      "Earth Revolves Around A Sun\n"
     ]
    }
   ],
   "source": [
    "b = \"earth RevolveS arounD The sun\"\n",
    "c = b.replace(\"The\",\"a\")\n",
    "print(c)\n",
    "print(c.title())"
   ]
  },
  {
   "cell_type": "markdown",
   "id": "bb240644",
   "metadata": {},
   "source": [
    "# swapcase() method"
   ]
  },
  {
   "cell_type": "code",
   "execution_count": 29,
   "id": "efa2cbe2",
   "metadata": {},
   "outputs": [
    {
     "name": "stdout",
     "output_type": "stream",
     "text": [
      " NEW DELHI IS THE CAPITAL OF INDIA\n"
     ]
    }
   ],
   "source": [
    "a = \" new delhi is the capital of india\"\n",
    "print(a.swapcase())"
   ]
  },
  {
   "cell_type": "code",
   "execution_count": 30,
   "id": "a7f5fa19",
   "metadata": {},
   "outputs": [
    {
     "name": "stdout",
     "output_type": "stream",
     "text": [
      "delhi is a beautiful city\n"
     ]
    }
   ],
   "source": [
    "b = \"DELHI IS A BEAUTIFUL CITY\"\n",
    "print(b.swapcase())"
   ]
  },
  {
   "cell_type": "code",
   "execution_count": 31,
   "id": "01586735",
   "metadata": {},
   "outputs": [
    {
     "name": "stdout",
     "output_type": "stream",
     "text": [
      " NEW DELHI IS THE CAPITAL OF INDIA delhi is a beautiful city\n"
     ]
    }
   ],
   "source": [
    "a = \" new delhi is the capital of india\"\n",
    "b = \"DELHI IS A BEAUTIFUL CITY\"\n",
    "print( a.swapcase() + \" \" + b.swapcase())"
   ]
  },
  {
   "cell_type": "markdown",
   "id": "c3b6995e",
   "metadata": {},
   "source": [
    "# find() method"
   ]
  },
  {
   "cell_type": "code",
   "execution_count": 7,
   "id": "04968059",
   "metadata": {},
   "outputs": [
    {
     "name": "stdout",
     "output_type": "stream",
     "text": [
      "15\n",
      "10\n"
     ]
    }
   ],
   "source": [
    "a = \"python is great\"\n",
    "b = a.find(\"g\")\n",
    "print(len(a))\n",
    "print(b)"
   ]
  },
  {
   "cell_type": "code",
   "execution_count": 20,
   "id": "f7a30d1c",
   "metadata": {},
   "outputs": [
    {
     "name": "stdout",
     "output_type": "stream",
     "text": [
      "1\n"
     ]
    }
   ],
   "source": [
    "txt = \"Hello, welcome to my world.\"\n",
    "\n",
    "x = txt.find(\"e\")\n",
    "\n",
    "print(x)"
   ]
  },
  {
   "cell_type": "code",
   "execution_count": 8,
   "id": "49752b5d",
   "metadata": {},
   "outputs": [
    {
     "name": "stdout",
     "output_type": "stream",
     "text": [
      "15\n",
      "2\n"
     ]
    }
   ],
   "source": [
    "a = \"python is great\"\n",
    "b = a.find(\"t\")\n",
    "print(len(a))\n",
    "print(b)"
   ]
  },
  {
   "cell_type": "code",
   "execution_count": 42,
   "id": "e478dcdf",
   "metadata": {},
   "outputs": [
    {
     "name": "stdout",
     "output_type": "stream",
     "text": [
      "15\n",
      "-1\n"
     ]
    }
   ],
   "source": [
    "a = \"python is great\"\n",
    "b = a.find(\"world\")\n",
    "print(len(a))\n",
    "print(b)"
   ]
  },
  {
   "cell_type": "code",
   "execution_count": 40,
   "id": "dce38a7e",
   "metadata": {},
   "outputs": [
    {
     "name": "stdout",
     "output_type": "stream",
     "text": [
      "65\n"
     ]
    }
   ],
   "source": [
    "x = \"It contains text processing libraries for tokenization, parsing, classification, stemming, tagging and semantic reasoning. It also includes graphical demonstrations and sample data sets as well as accompanied by a cook book and a book which explains the principles behind the underlying language processing tasks that NLTK supports.\"\n",
    "b =x.find(\"classification\")\n",
    "print(b)"
   ]
  },
  {
   "cell_type": "markdown",
   "id": "d6ea2c5e",
   "metadata": {},
   "source": [
    "# Index() method"
   ]
  },
  {
   "cell_type": "code",
   "execution_count": 44,
   "id": "398a0e05",
   "metadata": {},
   "outputs": [
    {
     "name": "stdout",
     "output_type": "stream",
     "text": [
      "5\n"
     ]
    }
   ],
   "source": [
    "a = [10,20,30,40,50,\"Python\"]\n",
    "p =a.index(\"Python\")\n",
    "print(p)"
   ]
  },
  {
   "cell_type": "code",
   "execution_count": 45,
   "id": "8dbf427f",
   "metadata": {},
   "outputs": [
    {
     "name": "stdout",
     "output_type": "stream",
     "text": [
      "2\n"
     ]
    }
   ],
   "source": [
    "b = [\"apple\", \"banana\", \"orange\", \"mangoes\", \"grapes\"]\n",
    "c = b.index(\"orange\")\n",
    "print(c)"
   ]
  },
  {
   "cell_type": "markdown",
   "id": "1ccfee1b",
   "metadata": {},
   "source": [
    "# isalnum() method"
   ]
  },
  {
   "cell_type": "code",
   "execution_count": 46,
   "id": "d9802753",
   "metadata": {},
   "outputs": [
    {
     "name": "stdout",
     "output_type": "stream",
     "text": [
      "True\n"
     ]
    }
   ],
   "source": [
    "a = \"students\"\n",
    "print(a.isalnum())"
   ]
  },
  {
   "cell_type": "code",
   "execution_count": 47,
   "id": "974a4ad3",
   "metadata": {},
   "outputs": [
    {
     "name": "stdout",
     "output_type": "stream",
     "text": [
      "True\n"
     ]
    }
   ],
   "source": [
    "a = \"students1\"\n",
    "print(a.isalnum())"
   ]
  },
  {
   "cell_type": "code",
   "execution_count": 48,
   "id": "a8bb4785",
   "metadata": {},
   "outputs": [
    {
     "name": "stdout",
     "output_type": "stream",
     "text": [
      "True\n"
     ]
    }
   ],
   "source": [
    "a = \"students1256364hello\"\n",
    "print(a.isalnum())"
   ]
  },
  {
   "cell_type": "code",
   "execution_count": 41,
   "id": "c6ff5359",
   "metadata": {},
   "outputs": [
    {
     "name": "stdout",
     "output_type": "stream",
     "text": [
      "False\n"
     ]
    }
   ],
   "source": [
    "a = \"students1@$\"\n",
    "print(a.isalnum())"
   ]
  },
  {
   "cell_type": "code",
   "execution_count": 50,
   "id": "21bd68f3",
   "metadata": {},
   "outputs": [
    {
     "name": "stdout",
     "output_type": "stream",
     "text": [
      "False\n"
     ]
    }
   ],
   "source": [
    "a = \"student,1\"\n",
    "print(a.isalnum())"
   ]
  },
  {
   "cell_type": "code",
   "execution_count": 51,
   "id": "d7b3bc5d",
   "metadata": {},
   "outputs": [
    {
     "name": "stdout",
     "output_type": "stream",
     "text": [
      "True\n"
     ]
    }
   ],
   "source": [
    "a =\"HEKSKLLvhjklll15851ghjjkkTYYYYYMKKK\"\n",
    "print(a.isalnum())"
   ]
  },
  {
   "cell_type": "markdown",
   "id": "93206e5b",
   "metadata": {},
   "source": [
    "# isalpha() method"
   ]
  },
  {
   "cell_type": "code",
   "execution_count": 52,
   "id": "0130fdc8",
   "metadata": {},
   "outputs": [
    {
     "name": "stdout",
     "output_type": "stream",
     "text": [
      "True\n"
     ]
    }
   ],
   "source": [
    "a = \"teacher\"\n",
    "print(a.isalpha())"
   ]
  },
  {
   "cell_type": "code",
   "execution_count": 53,
   "id": "35fa54a1",
   "metadata": {},
   "outputs": [
    {
     "name": "stdout",
     "output_type": "stream",
     "text": [
      "True\n"
     ]
    }
   ],
   "source": [
    "a = \"TEAcher\"\n",
    "print(a.isalpha())"
   ]
  },
  {
   "cell_type": "code",
   "execution_count": 54,
   "id": "3ec56f2e",
   "metadata": {},
   "outputs": [
    {
     "name": "stdout",
     "output_type": "stream",
     "text": [
      "True\n"
     ]
    }
   ],
   "source": [
    "a =\"TEACHER\"\n",
    "print(a.isalpha())"
   ]
  },
  {
   "cell_type": "code",
   "execution_count": 56,
   "id": "2129577a",
   "metadata": {},
   "outputs": [
    {
     "name": "stdout",
     "output_type": "stream",
     "text": [
      "False\n"
     ]
    }
   ],
   "source": [
    "a =\"tecaher123\"\n",
    "print(a.isalpha())"
   ]
  },
  {
   "cell_type": "code",
   "execution_count": 52,
   "id": "3e97c0d0",
   "metadata": {},
   "outputs": [
    {
     "name": "stdout",
     "output_type": "stream",
     "text": [
      "False\n"
     ]
    }
   ],
   "source": [
    "x = \" niranjan is a, student\"\n",
    "print(x.isalpha())"
   ]
  },
  {
   "cell_type": "code",
   "execution_count": 49,
   "id": "91dfd56b",
   "metadata": {},
   "outputs": [
    {
     "name": "stdout",
     "output_type": "stream",
     "text": [
      "False\n"
     ]
    }
   ],
   "source": [
    "a = \"python is so easy to, learn do you agree\"\n",
    "print(a.isalpha())"
   ]
  },
  {
   "cell_type": "markdown",
   "id": "602ee07d",
   "metadata": {},
   "source": [
    "# isdigit() method"
   ]
  },
  {
   "cell_type": "code",
   "execution_count": 58,
   "id": "1b823775",
   "metadata": {},
   "outputs": [
    {
     "name": "stdout",
     "output_type": "stream",
     "text": [
      "True\n"
     ]
    }
   ],
   "source": [
    "a = \"7821156256632\"\n",
    "print(a.isdigit())"
   ]
  },
  {
   "cell_type": "code",
   "execution_count": 59,
   "id": "c5f6c2a1",
   "metadata": {},
   "outputs": [
    {
     "name": "stdout",
     "output_type": "stream",
     "text": [
      "False\n"
     ]
    }
   ],
   "source": [
    "a = \"789215562    8521111\"\n",
    "print(a.isdigit())"
   ]
  },
  {
   "cell_type": "code",
   "execution_count": 60,
   "id": "de95b6f5",
   "metadata": {},
   "outputs": [
    {
     "name": "stdout",
     "output_type": "stream",
     "text": [
      "False\n"
     ]
    }
   ],
   "source": [
    "a = \"16738399pjnshgsjdnsnd\"\n",
    "print(a.isdigit())"
   ]
  },
  {
   "cell_type": "code",
   "execution_count": 61,
   "id": "84f0242b",
   "metadata": {},
   "outputs": [
    {
     "name": "stdout",
     "output_type": "stream",
     "text": [
      "False\n"
     ]
    }
   ],
   "source": [
    "a = \"495341656#$%\"\n",
    "print(a.isdigit())"
   ]
  },
  {
   "cell_type": "code",
   "execution_count": 63,
   "id": "5888bae3",
   "metadata": {},
   "outputs": [
    {
     "name": "stdout",
     "output_type": "stream",
     "text": [
      "enter your mobile number:9893256855\n",
      "mobile number is valid\n"
     ]
    }
   ],
   "source": [
    "\"\"\" write a mobile number and take this as an input from the user and check mobile number is valid or not\"\"\"\n",
    "a = input(\"enter your mobile number:\")\n",
    "if a.isdigit()==True:\n",
    "    print(\"mobile number is valid\")\n",
    "else:\n",
    "    print(\"mobile number is not valid\")"
   ]
  },
  {
   "cell_type": "code",
   "execution_count": 64,
   "id": "a0c9e953",
   "metadata": {},
   "outputs": [
    {
     "name": "stdout",
     "output_type": "stream",
     "text": [
      "enter your mobile number:75145522RGBJK,\n",
      "mobile number is not valid\n"
     ]
    }
   ],
   "source": [
    "\"\"\" write a mobile number and take this as an input from the user and check mobile number is valid or not\"\"\"\n",
    "a = input(\"enter your mobile number:\")\n",
    "if a.isdigit()==True:\n",
    "    print(\"mobile number is valid\")\n",
    "else:\n",
    "    print(\"mobile number is not valid\")"
   ]
  },
  {
   "cell_type": "markdown",
   "id": "53fc60a9",
   "metadata": {},
   "source": [
    "# isupper() method"
   ]
  },
  {
   "cell_type": "code",
   "execution_count": 65,
   "id": "c37e5dd0",
   "metadata": {},
   "outputs": [
    {
     "name": "stdout",
     "output_type": "stream",
     "text": [
      "True\n"
     ]
    }
   ],
   "source": [
    "str = \"WELCOME TO THE PYTHON CLASS\"\n",
    "print(str.isupper())"
   ]
  },
  {
   "cell_type": "code",
   "execution_count": 66,
   "id": "4779f5f6",
   "metadata": {},
   "outputs": [
    {
     "name": "stdout",
     "output_type": "stream",
     "text": [
      "False\n"
     ]
    }
   ],
   "source": [
    "str = \"welcome to the python class\"\n",
    "print(str.isupper())"
   ]
  },
  {
   "cell_type": "code",
   "execution_count": 67,
   "id": "66424dd1",
   "metadata": {},
   "outputs": [
    {
     "name": "stdout",
     "output_type": "stream",
     "text": [
      "False\n"
     ]
    }
   ],
   "source": [
    "str = \"WELcome to THE PYthon Class\"\n",
    "print(str.isupper())"
   ]
  },
  {
   "cell_type": "code",
   "execution_count": 68,
   "id": "1de8a89e",
   "metadata": {},
   "outputs": [
    {
     "name": "stdout",
     "output_type": "stream",
     "text": [
      "True\n"
     ]
    }
   ],
   "source": [
    "str = \"WELCOME TO THE 3 CLASS OF PYTHON AND THE SCORE IS 85156\"\n",
    "print(str.isupper())"
   ]
  },
  {
   "cell_type": "markdown",
   "id": "74e5cb21",
   "metadata": {},
   "source": [
    "# islower() method"
   ]
  },
  {
   "cell_type": "code",
   "execution_count": 69,
   "id": "c915caa9",
   "metadata": {},
   "outputs": [
    {
     "name": "stdout",
     "output_type": "stream",
     "text": [
      "True\n"
     ]
    }
   ],
   "source": [
    "p =\" how are you ?\"\n",
    "print(p.islower())"
   ]
  },
  {
   "cell_type": "code",
   "execution_count": 70,
   "id": "68434d49",
   "metadata": {},
   "outputs": [
    {
     "name": "stdout",
     "output_type": "stream",
     "text": [
      "False\n"
     ]
    }
   ],
   "source": [
    "p =\"hOw Are YOU\"\n",
    "print(p.islower())"
   ]
  },
  {
   "cell_type": "code",
   "execution_count": 71,
   "id": "236b80ec",
   "metadata": {},
   "outputs": [
    {
     "name": "stdout",
     "output_type": "stream",
     "text": [
      "False\n"
     ]
    }
   ],
   "source": [
    "p =\"HOW ARE YOU ?\"\n",
    "print(p.islower())"
   ]
  },
  {
   "cell_type": "code",
   "execution_count": 72,
   "id": "1df14750",
   "metadata": {},
   "outputs": [
    {
     "name": "stdout",
     "output_type": "stream",
     "text": [
      "True\n"
     ]
    }
   ],
   "source": [
    "p =\" how are you 482558552?\"\n",
    "print(p.islower())"
   ]
  },
  {
   "cell_type": "code",
   "execution_count": 73,
   "id": "c2b3eb68",
   "metadata": {},
   "outputs": [
    {
     "name": "stdout",
     "output_type": "stream",
     "text": [
      "True\n"
     ]
    }
   ],
   "source": [
    "a = \"gyyahadijdosjo18546541@#$%^&*\"\n",
    "print(a.islower())"
   ]
  },
  {
   "cell_type": "markdown",
   "id": "8bbd4c4a",
   "metadata": {},
   "source": [
    "# istitle() method"
   ]
  },
  {
   "cell_type": "code",
   "execution_count": 74,
   "id": "ba467ee6",
   "metadata": {},
   "outputs": [
    {
     "name": "stdout",
     "output_type": "stream",
     "text": [
      "True\n"
     ]
    }
   ],
   "source": [
    "p =\"Python Is Easy\"\n",
    "print(p.istitle())"
   ]
  },
  {
   "cell_type": "code",
   "execution_count": 75,
   "id": "2efee378",
   "metadata": {},
   "outputs": [
    {
     "name": "stdout",
     "output_type": "stream",
     "text": [
      "False\n"
     ]
    }
   ],
   "source": [
    "p =\"python is easy\"\n",
    "print(p.istitle())"
   ]
  },
  {
   "cell_type": "code",
   "execution_count": 76,
   "id": "f90b67d9",
   "metadata": {},
   "outputs": [
    {
     "name": "stdout",
     "output_type": "stream",
     "text": [
      "False\n"
     ]
    }
   ],
   "source": [
    "p =\"Python is Easy\"\n",
    "print(p.istitle())"
   ]
  },
  {
   "cell_type": "code",
   "execution_count": 77,
   "id": "7ef9b32d",
   "metadata": {},
   "outputs": [
    {
     "name": "stdout",
     "output_type": "stream",
     "text": [
      "True\n"
     ]
    }
   ],
   "source": [
    "p = \"Python Is Easy 1234523\"\n",
    "print(p.istitle())"
   ]
  },
  {
   "cell_type": "code",
   "execution_count": 78,
   "id": "64633a7e",
   "metadata": {},
   "outputs": [
    {
     "name": "stdout",
     "output_type": "stream",
     "text": [
      "False\n"
     ]
    }
   ],
   "source": [
    "p = \"PYTHON IS EASY 15222\"\n",
    "print(p.istitle())"
   ]
  },
  {
   "cell_type": "markdown",
   "id": "74f53147",
   "metadata": {},
   "source": [
    "# startswith() method"
   ]
  },
  {
   "cell_type": "code",
   "execution_count": 79,
   "id": "52d5643d",
   "metadata": {},
   "outputs": [
    {
     "name": "stdout",
     "output_type": "stream",
     "text": [
      "True\n"
     ]
    }
   ],
   "source": [
    "a =\"python is easy\"\n",
    "print(a.startswith(\"python\"))"
   ]
  },
  {
   "cell_type": "code",
   "execution_count": 80,
   "id": "0cce1531",
   "metadata": {},
   "outputs": [
    {
     "name": "stdout",
     "output_type": "stream",
     "text": [
      "False\n"
     ]
    }
   ],
   "source": [
    "a =\"Python is easy\"\n",
    "print(a.startswith(\"python\"))"
   ]
  },
  {
   "cell_type": "code",
   "execution_count": 81,
   "id": "dc884c9b",
   "metadata": {},
   "outputs": [
    {
     "name": "stdout",
     "output_type": "stream",
     "text": [
      "False\n"
     ]
    }
   ],
   "source": [
    "a = \"hello how are you \"\n",
    "print(a.startswith(\"hey\"))"
   ]
  },
  {
   "cell_type": "code",
   "execution_count": 82,
   "id": "15b65725",
   "metadata": {},
   "outputs": [
    {
     "name": "stdout",
     "output_type": "stream",
     "text": [
      "True\n"
     ]
    }
   ],
   "source": [
    "a = \"hello how are you \"\n",
    "print(a.startswith(\"hello\"))"
   ]
  },
  {
   "cell_type": "markdown",
   "id": "5358229f",
   "metadata": {},
   "source": [
    "# endswith() method"
   ]
  },
  {
   "cell_type": "code",
   "execution_count": 83,
   "id": "f775c76c",
   "metadata": {},
   "outputs": [
    {
     "name": "stdout",
     "output_type": "stream",
     "text": [
      "True\n"
     ]
    }
   ],
   "source": [
    "a = \"what a wonderful day\"\n",
    "print(a.endswith(\"day\"))"
   ]
  },
  {
   "cell_type": "code",
   "execution_count": 84,
   "id": "62daaaf5",
   "metadata": {},
   "outputs": [
    {
     "name": "stdout",
     "output_type": "stream",
     "text": [
      "False\n"
     ]
    }
   ],
   "source": [
    "a = \"what a wonderful Day\"\n",
    "print(a.endswith(\"day\"))"
   ]
  },
  {
   "cell_type": "code",
   "execution_count": 85,
   "id": "1eecffea",
   "metadata": {},
   "outputs": [
    {
     "name": "stdout",
     "output_type": "stream",
     "text": [
      "True\n"
     ]
    }
   ],
   "source": [
    "a = \"what a wonderful Day 123555\"\n",
    "print(a.endswith(\"123555\"))"
   ]
  },
  {
   "cell_type": "code",
   "execution_count": 86,
   "id": "8ccefce7",
   "metadata": {},
   "outputs": [
    {
     "name": "stdout",
     "output_type": "stream",
     "text": [
      "True\n"
     ]
    }
   ],
   "source": [
    "a = \"what a wonderful Day 123555  @#$\"\n",
    "print(a.endswith(\"@#$\"))"
   ]
  },
  {
   "cell_type": "markdown",
   "id": "beda9d42",
   "metadata": {},
   "source": [
    "# HOW TO CHECK A PARTICULAR SUBSTRING IS PART OF A STRING OR NOT?"
   ]
  },
  {
   "cell_type": "code",
   "execution_count": 5,
   "id": "b57d8184",
   "metadata": {},
   "outputs": [
    {
     "name": "stdout",
     "output_type": "stream",
     "text": [
      "True\n"
     ]
    }
   ],
   "source": [
    "a = \" I am learning python in 1 day \"\n",
    "print(\"1\" in a)"
   ]
  },
  {
   "cell_type": "code",
   "execution_count": 59,
   "id": "3a5a1cae",
   "metadata": {},
   "outputs": [
    {
     "name": "stdout",
     "output_type": "stream",
     "text": [
      "True\n"
     ]
    }
   ],
   "source": [
    "a = \"I am learning python\"\n",
    "print(\"hello\" not in a)"
   ]
  },
  {
   "cell_type": "code",
   "execution_count": 89,
   "id": "a07cfa24",
   "metadata": {},
   "outputs": [
    {
     "name": "stdout",
     "output_type": "stream",
     "text": [
      "True\n"
     ]
    }
   ],
   "source": [
    "a = \"I am learning python\"\n",
    "print(\"hello\" not in a)"
   ]
  },
  {
   "cell_type": "markdown",
   "id": "86791203",
   "metadata": {},
   "source": [
    "# Regular expression"
   ]
  },
  {
   "cell_type": "code",
   "execution_count": 4,
   "id": "ef422ce6",
   "metadata": {},
   "outputs": [],
   "source": [
    "import re \n"
   ]
  },
  {
   "cell_type": "markdown",
   "id": "1565378a",
   "metadata": {},
   "source": [
    "text = \"Chennai is a beautiful city. It’s the capital of the state of Tamil Nadu. \n",
    "Chennai has an area close to 430 kilometer squares. \n",
    "Well chennai is not as large as mumbai which has an area of 603.4 kilometer squares.\n",
    "By road, Chennai is about 1500 kilometers away from Mumbai. Whereas, it is about 2200\n",
    "kilometers away from Delhi, the capital of India.\""
   ]
  },
  {
   "cell_type": "code",
   "execution_count": 5,
   "id": "0b400020",
   "metadata": {},
   "outputs": [],
   "source": [
    "text = \"Chennai is a beautiful city. It’s the capital of the state of Tamil Nadu.Chennai has an area close to 430 kilometer squares. Well chennai is not as large as mumbai which has an area of 603.4 kilometer squares.By road, Chennai is about 1500 kilometers away from Mumbai. Whereas, it is about 2200kilometers away from Delhi, the capital of India.\""
   ]
  },
  {
   "cell_type": "code",
   "execution_count": 6,
   "id": "4ff5648d",
   "metadata": {},
   "outputs": [
    {
     "data": {
      "text/plain": [
       "['Chennai', 'Chennai', 'Chennai']"
      ]
     },
     "execution_count": 6,
     "metadata": {},
     "output_type": "execute_result"
    }
   ],
   "source": [
    "cities_record = 'Chennai'\n",
    "re.findall(cities_record, text)"
   ]
  },
  {
   "cell_type": "code",
   "execution_count": 7,
   "id": "98cce74d",
   "metadata": {},
   "outputs": [
    {
     "data": {
      "text/plain": [
       "['Chennai', 'Chennai', 'chennai', 'Chennai']"
      ]
     },
     "execution_count": 7,
     "metadata": {},
     "output_type": "execute_result"
    }
   ],
   "source": [
    "cities_record = 'Chennai'\n",
    "re.findall(cities_record, text, flags=re.IGNORECASE)"
   ]
  },
  {
   "cell_type": "code",
   "execution_count": 8,
   "id": "bbde5150",
   "metadata": {},
   "outputs": [
    {
     "data": {
      "text/plain": [
       "['Chennai', 'Chennai', 'chennai', 'mumbai', 'Chennai', 'Mumbai']"
      ]
     },
     "execution_count": 8,
     "metadata": {},
     "output_type": "execute_result"
    }
   ],
   "source": [
    "cities_record = 'Chennai|Mumbai'\n",
    "re.findall(cities_record, text, flags=re.IGNORECASE)"
   ]
  },
  {
   "cell_type": "code",
   "execution_count": 17,
   "id": "56c009f8",
   "metadata": {},
   "outputs": [
    {
     "name": "stderr",
     "output_type": "stream",
     "text": [
      "[nltk_data] Downloading package punkt to\n",
      "[nltk_data]     C:\\Users\\lenovo\\AppData\\Roaming\\nltk_data...\n",
      "[nltk_data]   Unzipping tokenizers\\punkt.zip.\n"
     ]
    },
    {
     "data": {
      "text/plain": [
       "True"
      ]
     },
     "execution_count": 17,
     "metadata": {},
     "output_type": "execute_result"
    }
   ],
   "source": [
    "nltk.download('punkt')"
   ]
  },
  {
   "cell_type": "code",
   "execution_count": 25,
   "id": "c5be2fde",
   "metadata": {},
   "outputs": [
    {
     "name": "stdout",
     "output_type": "stream",
     "text": [
      "Either the well was very deep, or she fell very slowly, for she had\n",
      "plenty of time as she went down to look about her and to wonder what was going\n",
      "to happen next. \n",
      "\n",
      "First, she tried to look down and make out what she was coming to,\n",
      "but it was too dark to see anything; then she looked at the sides of the well, and\n",
      "noticed that they were filled with cupboards and book-shelves; here and there she\n",
      "saw maps and pictures hung upon pegs. \n",
      "\n",
      "She took down a jar from one of the shelves\n",
      "as she passed; it was labelled 'ORANGE MARMALADE', but to her great disappointment it\n",
      "was empty: she did not like to drop the jar for fear of killing somebody, so managed\n",
      "to put it into one of the cupboards as she fell past it. \n",
      "\n"
     ]
    },
    {
     "name": "stderr",
     "output_type": "stream",
     "text": [
      "[nltk_data] Downloading package punkt to\n",
      "[nltk_data]     C:\\Users\\lenovo\\AppData\\Roaming\\nltk_data...\n",
      "[nltk_data]   Package punkt is already up-to-date!\n"
     ]
    }
   ],
   "source": [
    "import nltk\n",
    "\n",
    "nltk.download('punkt')\n",
    "\n",
    "para = '''Either the well was very deep, or she fell very slowly, for she had\n",
    "plenty of time as she went down to look about her and to wonder what was going\n",
    "to happen next. First, she tried to look down and make out what she was coming to,\n",
    "but it was too dark to see anything; then she looked at the sides of the well, and\n",
    "noticed that they were filled with cupboards and book-shelves; here and there she\n",
    "saw maps and pictures hung upon pegs. She took down a jar from one of the shelves\n",
    "as she passed; it was labelled 'ORANGE MARMALADE', but to her great disappointment it\n",
    "was empty: she did not like to drop the jar for fear of killing somebody, so managed\n",
    "to put it into one of the cupboards as she fell past it.'''\n",
    "\n",
    "tokens = nltk.sent_tokenize(para)\n",
    "for t in tokens:\n",
    "    print(t, \"\\n\")"
   ]
  },
  {
   "cell_type": "code",
   "execution_count": null,
   "id": "f33897ae",
   "metadata": {},
   "outputs": [],
   "source": []
  },
  {
   "cell_type": "code",
   "execution_count": null,
   "id": "91447961",
   "metadata": {},
   "outputs": [],
   "source": []
  }
 ],
 "metadata": {
  "kernelspec": {
   "display_name": "Python 3 (ipykernel)",
   "language": "python",
   "name": "python3"
  },
  "language_info": {
   "codemirror_mode": {
    "name": "ipython",
    "version": 3
   },
   "file_extension": ".py",
   "mimetype": "text/x-python",
   "name": "python",
   "nbconvert_exporter": "python",
   "pygments_lexer": "ipython3",
   "version": "3.10.9"
  }
 },
 "nbformat": 4,
 "nbformat_minor": 5
}
